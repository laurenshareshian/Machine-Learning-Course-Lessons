{
 "cells": [
  {
   "cell_type": "code",
   "execution_count": 122,
   "metadata": {},
   "outputs": [],
   "source": [
    "import pandas as pd\n",
    "import numpy as np\n",
    "from sklearn.linear_model import LinearRegression\n",
    "import seaborn as sns\n",
    "import matplotlib.pyplot as plt\n",
    "%matplotlib inline"
   ]
  },
  {
   "cell_type": "markdown",
   "metadata": {},
   "source": [
    "1.Read in the data from data/cars.csv and call it \"df\". This is a slightly smaller, cleaned dataset from this original dataset:\n",
    "\n",
    "https://archive.ics.uci.edu/ml/datasets/automobile"
   ]
  },
  {
   "cell_type": "code",
   "execution_count": 1,
   "metadata": {},
   "outputs": [],
   "source": [
    "#insert 1"
   ]
  },
  {
   "cell_type": "markdown",
   "metadata": {},
   "source": [
    "2.Create a frequency chart for \"make\" in descending order of frequency. Hint: use value_counts."
   ]
  },
  {
   "cell_type": "code",
   "execution_count": 2,
   "metadata": {},
   "outputs": [],
   "source": [
    "#insert 2"
   ]
  },
  {
   "cell_type": "markdown",
   "metadata": {},
   "source": [
    "3.Drop the \"make\" column from the dataframe, replacing it with one-hot columns corresponding to each make. This updated dataframe should be called \"new_df\" and it should contain 35 columns."
   ]
  },
  {
   "cell_type": "code",
   "execution_count": 3,
   "metadata": {},
   "outputs": [],
   "source": [
    "#insert 3"
   ]
  },
  {
   "cell_type": "markdown",
   "metadata": {},
   "source": [
    "4.Let's do something wrong and see what happens. Let X correspond to all of the input data in new_df (including price) and let y correspond to the target variable (price). Run a linear regression on the entire dataset and print both R^2 and the adjusted R^2. Why do you get what you get?"
   ]
  },
  {
   "cell_type": "code",
   "execution_count": 4,
   "metadata": {},
   "outputs": [],
   "source": [
    "#insert 4"
   ]
  },
  {
   "cell_type": "markdown",
   "metadata": {},
   "source": [
    "5.In the cell below, correct your mistake above in order and run a linear regression again. Print both R^2 and the adjusted R^2."
   ]
  },
  {
   "cell_type": "code",
   "execution_count": 5,
   "metadata": {},
   "outputs": [],
   "source": [
    "#insert 5"
   ]
  },
  {
   "cell_type": "markdown",
   "metadata": {},
   "source": [
    "6.Sort the correlations of each variable with respect to price in decending order to view which variables are most and least influential. Are there any surprises?"
   ]
  },
  {
   "cell_type": "code",
   "execution_count": 6,
   "metadata": {},
   "outputs": [],
   "source": [
    "#insert 6"
   ]
  },
  {
   "cell_type": "markdown",
   "metadata": {},
   "source": [
    "7.Read the \"Filter Method\" section of the article located here:\n",
    "    \n",
    "https://towardsdatascience.com/feature-selection-with-pandas-e3690ad8504b\n",
    "    \n",
    "Use it to create a list of columns called \"relevant_features\" that contains only the variables whose correlations with price had an absolute value greater than 0.1. "
   ]
  },
  {
   "cell_type": "code",
   "execution_count": 7,
   "metadata": {},
   "outputs": [],
   "source": [
    "#insert 7"
   ]
  },
  {
   "cell_type": "markdown",
   "metadata": {},
   "source": [
    "8.Run a linear regression again but now only with input corresponding to the relevant features. \n",
    "\n",
    "Hint: \"X = new_df[relevant_features.index]\" is a line that may be helpful.\n",
    "\n",
    "How does your adjusted R^2 here compare to the adjusted R^2 obtained you obtained above by using all columns except for price as your input?"
   ]
  },
  {
   "cell_type": "code",
   "execution_count": 8,
   "metadata": {},
   "outputs": [],
   "source": [
    "#insert 8"
   ]
  },
  {
   "cell_type": "markdown",
   "metadata": {},
   "source": [
    "9.For the sake of simplicity, reduce our dataset even further to contain only columns whose correlations with price are greater than 0.7 and print the head of the dataset:"
   ]
  },
  {
   "cell_type": "code",
   "execution_count": 9,
   "metadata": {},
   "outputs": [],
   "source": [
    "#insert 9"
   ]
  },
  {
   "cell_type": "markdown",
   "metadata": {},
   "source": [
    "10.Run a linear regression model using this reduced input:"
   ]
  },
  {
   "cell_type": "code",
   "execution_count": 10,
   "metadata": {},
   "outputs": [],
   "source": [
    "#insert 10"
   ]
  },
  {
   "cell_type": "markdown",
   "metadata": {},
   "source": [
    "11.Write the equation of the linear regression model. You can do this in markdown or using hashtags."
   ]
  },
  {
   "cell_type": "code",
   "execution_count": 11,
   "metadata": {},
   "outputs": [],
   "source": [
    "#insert 11"
   ]
  },
  {
   "cell_type": "markdown",
   "metadata": {},
   "source": [
    "12.The stats on a school bus are width = 102 inches, curb-weight = 30000 pounds, engine-size = 550, horsepower = 250, city-mpg = 4, highway-mpg = 6. Use model.predict to predict the price of the school bus. Why might you have reservations in using this model to do this?"
   ]
  },
  {
   "cell_type": "code",
   "execution_count": 12,
   "metadata": {},
   "outputs": [],
   "source": [
    "#insert 12"
   ]
  },
  {
   "cell_type": "markdown",
   "metadata": {},
   "source": [
    "13.Do a sns pair-wise plot of the 6 predictor variables and price."
   ]
  },
  {
   "cell_type": "code",
   "execution_count": 13,
   "metadata": {},
   "outputs": [],
   "source": [
    "#insert 13"
   ]
  },
  {
   "cell_type": "markdown",
   "metadata": {},
   "source": [
    "14.We have been sweeping something under the rug...the histograms should appear somewhat normally distributed if we want to use linear regression. The price, engine-size, and horse-power histograms look especially skewed. Create a new dataframe that contains **seven** variables: the original width, curb-weight, city-mpg, and highway-mpg, and the logs of the price, engine-size, and horsepower columns.\n",
    "\n",
    "Hint: X['log_price'] = np.log(X['price']) is a quick way to make a new column."
   ]
  },
  {
   "cell_type": "code",
   "execution_count": 14,
   "metadata": {},
   "outputs": [],
   "source": [
    "#insert 14"
   ]
  },
  {
   "cell_type": "markdown",
   "metadata": {},
   "source": [
    "15.Create a new sns-pairplot of this data to verify that the histograms look a bit more normally distributed:"
   ]
  },
  {
   "cell_type": "code",
   "execution_count": 15,
   "metadata": {},
   "outputs": [],
   "source": [
    "#insert 15"
   ]
  },
  {
   "cell_type": "markdown",
   "metadata": {},
   "source": [
    "16.Run a linear regression on this transformed dataset, using log_price as your target variable, Did your R^2 improve by transforming the data?"
   ]
  },
  {
   "cell_type": "code",
   "execution_count": 16,
   "metadata": {},
   "outputs": [],
   "source": [
    "#insert 16"
   ]
  }
 ],
 "metadata": {
  "kernelspec": {
   "display_name": "Python 3",
   "language": "python",
   "name": "python3"
  },
  "language_info": {
   "codemirror_mode": {
    "name": "ipython",
    "version": 3
   },
   "file_extension": ".py",
   "mimetype": "text/x-python",
   "name": "python",
   "nbconvert_exporter": "python",
   "pygments_lexer": "ipython3",
   "version": "3.7.3"
  }
 },
 "nbformat": 4,
 "nbformat_minor": 2
}
