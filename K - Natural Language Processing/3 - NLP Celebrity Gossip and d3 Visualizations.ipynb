{
 "cells": [
  {
   "cell_type": "markdown",
   "metadata": {},
   "source": [
    "Note: You will need to download this entire folder to your local computer and open it using Anaconda instead of CoCalc.\n",
    "\n",
    "Import the required packages below (there are a lot):"
   ]
  },
  {
   "cell_type": "code",
   "execution_count": 1,
   "metadata": {},
   "outputs": [],
   "source": [
    "import numpy as np\n",
    "import pandas as pd\n",
    "import matplotlib.pyplot as plt\n",
    "%matplotlib inline\n",
    "\n",
    "import re\n",
    "import string\n",
    "\n",
    "from collections import Counter\n",
    "\n",
    "from nltk.sentiment.util import *\n",
    "from nltk.sentiment.vader import SentimentIntensityAnalyzer\n",
    "\n",
    "from sklearn.feature_extraction.text import CountVectorizer\n",
    "from sklearn.feature_extraction.text import TfidfVectorizer\n",
    "\n",
    "\n",
    "from sklearn.decomposition import TruncatedSVD\n",
    "from sklearn.pipeline import Pipeline\n",
    "\n",
    "from sklearn.preprocessing import Normalizer, StandardScaler\n",
    "\n",
    "from sklearn.cluster import KMeans\n",
    "\n",
    "from sklearn import manifold"
   ]
  },
  {
   "cell_type": "markdown",
   "metadata": {},
   "source": [
    "Let's read in 1507 TMZ celebrity gossip articles collected between 6/9/17 and 8/9/17 and print the first and last one in the list:"
   ]
  },
  {
   "cell_type": "code",
   "execution_count": 2,
   "metadata": {},
   "outputs": [
    {
     "name": "stdout",
     "output_type": "stream",
     "text": [
      "DMX went to visit his family ... and he could go to jail as a result.The rapper is out on bail in his tax evasion case, and one of the conditions was that he must give the judge a heads-up if he blows out of town. He left New York to see family in St. Louis, without telling hizzoner ... and that could be a deal breaker.DMX's attorney, Murray Richman, tells TMZ ... it seems like X just forgot, because he was preoccupied with the trip.Richman says X usually notifies his probation officer if he's leaving New York to perform, so this is unlike him. He's guessing the judge will show a little mercy and just up the restrictions -- like requiring an ankle bracelet -- but Richman vows to fight it.Nicholas Biase, a spokesman for the  US attorney for the southern district of NY, tells us X is set to appear in court later this week.\n",
      "\n",
      "Bill Cosby brought MORE celeb pals to court for day 4 of his sexual assault trial.Cosby walked in with comedian Joe Torry and actor Lewis Dix Jr. Thursday, and the pals seemed very relaxed, even jovial -- despite serious allegations against Cosby.Earlier this week, Cosby arrived at court locked arm-in-arm with Keshia Knight Pulliam ... and on Wednesday with another former co-star, Sheila Frazier.\n"
     ]
    }
   ],
   "source": [
    "article_list = []\n",
    "with open('data/all_celeb_gossip.txt', 'r') as infile:\n",
    "    for article in infile:\n",
    "        article_list.append(article.strip())\n",
    "        \n",
    "print(article_list[0])\n",
    "print()\n",
    "print(article_list[-1])\n"
   ]
  },
  {
   "cell_type": "markdown",
   "metadata": {},
   "source": [
    "### Topic Clustering"
   ]
  },
  {
   "cell_type": "markdown",
   "metadata": {},
   "source": [
    "We'll create a pipeline that creates the TF-IDF matrix, calculates the Truncated SVD using the first 50 components, and normalizes it so that all of the components have unit length:"
   ]
  },
  {
   "cell_type": "code",
   "execution_count": 3,
   "metadata": {},
   "outputs": [
    {
     "data": {
      "text/plain": [
       "Pipeline(memory=None,\n",
       "     steps=[('tfidf', TfidfVectorizer(analyzer='word', binary=False, decode_error='strict',\n",
       "        dtype=<class 'numpy.float64'>, encoding='utf-8', input='content',\n",
       "        lowercase=True, max_df=1.0, max_features=None, min_df=10,\n",
       "        ngram_range=(1, 1), norm='l2', preprocessor=None, smooth_idf=True...s=50, n_iter=5,\n",
       "       random_state=99, tol=0.0)), ('normalizer', Normalizer(copy=True, norm='l2'))])"
      ]
     },
     "execution_count": 3,
     "metadata": {},
     "output_type": "execute_result"
    }
   ],
   "source": [
    "pipe = [('tfidf', TfidfVectorizer(stop_words='english', \n",
    "                        token_pattern=\"\\\\b[a-zA-Z][a-zA-Z]+\\\\b\", \n",
    "                        min_df=10)),\n",
    "        ('lsa', TruncatedSVD(n_components=50, random_state=99)),\n",
    "        ('normalizer', Normalizer())]\n",
    "\n",
    "pipeline = Pipeline(pipe)\n",
    "pipeline.fit(article_list)"
   ]
  },
  {
   "cell_type": "markdown",
   "metadata": {},
   "source": [
    "Now, we can get the most important words from each topic:"
   ]
  },
  {
   "cell_type": "code",
   "execution_count": 4,
   "metadata": {},
   "outputs": [
    {
     "name": "stdout",
     "output_type": "stream",
     "text": [
      "                                    Topic 1:                                    \n",
      "chyna rob blac ferrari kardashian\n",
      "--------------------------------------------------------------------------------\n",
      "                                    Topic 2:                                    \n",
      "corinne demario bachelor paradise pool\n",
      "--------------------------------------------------------------------------------\n",
      "                                    Topic 3:                                    \n",
      "trump president donald white prez\n",
      "--------------------------------------------------------------------------------\n",
      "                                    Topic 4:                                    \n",
      "justin bieber tour church purpose\n",
      "--------------------------------------------------------------------------------\n",
      "                                    Topic 5:                                    \n",
      "cops trump chester arrested police\n",
      "--------------------------------------------------------------------------------\n",
      "                                    Topic 6:                                    \n",
      "chester chris bennington park family\n",
      "--------------------------------------------------------------------------------\n",
      "                                    Topic 7:                                    \n",
      "floyd conor fight mcgregor mayweather\n",
      "--------------------------------------------------------------------------------\n",
      "                                    Topic 8:                                    \n",
      "says chester chris justin conor\n",
      "--------------------------------------------------------------------------------\n",
      "                                    Topic 9:                                    \n",
      "kim kanye kelly jay sources\n",
      "--------------------------------------------------------------------------------\n"
     ]
    }
   ],
   "source": [
    "def print_topic_top_words(pipe, n_topics=10, n_words=5):\n",
    "    cv = pipe.steps[0][1]\n",
    "    model = pipe.steps[1][1]\n",
    "    feature_names = cv.get_feature_names()\n",
    "    \n",
    "    for topic_num in range(1,n_topics):\n",
    "        topic_mat = model.components_[topic_num]\n",
    "        \n",
    "        print('Topic {}:'.format(topic_num).center(80))\n",
    "        \n",
    "        topic_values = sorted(zip(topic_mat, feature_names), \n",
    "                              reverse=True)[:n_words]\n",
    "        print(' '.join([y for x,y in topic_values]))\n",
    "        print('-'*80)\n",
    "        \n",
    "print_topic_top_words(pipeline)"
   ]
  },
  {
   "cell_type": "markdown",
   "metadata": {},
   "source": [
    "Note that the results above make a lot of sense. That summer, Blac Chyna and Rob Kardashian were going through a messy breakup, there was a Bachelor in Paradise sexual assault scandal, President Trump was recently elected, and Justin Bieber was in and out of rehab and trying to find God and on his Purpose World Tour.\n",
    "\n",
    "We can also try clustering the original data using KMeans unsupervised learning. First, we'll fit our model:"
   ]
  },
  {
   "cell_type": "code",
   "execution_count": 5,
   "metadata": {},
   "outputs": [
    {
     "data": {
      "text/plain": [
       "KMeans(algorithm='auto', copy_x=True, init='k-means++', max_iter=300,\n",
       "    n_clusters=10, n_init=10, n_jobs=None, precompute_distances='auto',\n",
       "    random_state=99, tol=0.0001, verbose=0)"
      ]
     },
     "execution_count": 5,
     "metadata": {},
     "output_type": "execute_result"
    }
   ],
   "source": [
    "pipeline = Pipeline(pipe)\n",
    "X = pipeline.fit_transform(article_list)\n",
    "km = KMeans(n_clusters=10, random_state=99)\n",
    "km.fit(X)"
   ]
  },
  {
   "cell_type": "markdown",
   "metadata": {},
   "source": [
    "For example, what cluster got labeled as 6? It looks like the Bachelor in Paradise sexual assault related articles:"
   ]
  },
  {
   "cell_type": "code",
   "execution_count": 6,
   "metadata": {},
   "outputs": [
    {
     "name": "stdout",
     "output_type": "stream",
     "text": [
      "Corinne Olympios looked more than willing and fully conscious when she led DeMario Jackson into a pool as they started to hookup while shooting \"Bachelor in Paradise.\"A scene that appears to be part of the controversial incident -- where Corinne essentially claimed sexual assault because she says she was not conscious -- was teased Monday night during the 'Bachelorette' finale. It shows Corinne leading DeMario into the pool in the daylight, with some of her fellow cast members close by ... and cameras rolling.It seems Corinne's speaking coherently and looks very with it ... much like we reported. It's unclear, though, how much time passed between this pool scene and the alleged sexual misconduct. Her legal team says the footage that alarmed a 'BiP' producer -- which eventually shut down production -- took place in a hot tub, not the pool.We've confirmed that's accurate, and Warner Bros. says that hot tub footage will not be aired.\n",
      "\n",
      "Corinne Olympios was popping pills and mixing booze during \"Bachelor in Paradise\" filming before the infamous swimming pool hookup with DeMario Jackson ... TMZ has learned.Sources close to production tell TMZ ... Corinne made the admission during Saturday's taping of the 'BiP' reunion. We're told she didn't elaborate on what kind of Rx, but she's adamant -- ingesting the pills that day and mixing it with booze intensified her drunkenness, which she says led to her blacking out.TMZ broke the story ... production shut down following allegations of sexual misconduct in a pool. A producer felt Corinne was incapable of giving consent, but the video and interviews with various members of cast and crew led Warner Bros. honchos to conclude ... she knew what she was doing.It's interesting ... when 'BiP' filming resumed, new policies were implemented, such as checking bags for prescription drugs, legal or otherwise. Now it makes sense.\n",
      "\n",
      "\"Bachelor In Paradise\" is hyping a one-on-one showdown between Corinne Olympios and DeMario Jackson, but it will actually be more like Michael Phelps' race against a great white shark.Sources close to production tell us Corinne and DeMario did NOT come face-to-face when the reunion show taped Saturday. While promoting the show, host Chris Harrison has said he'll be talking with both of them together ... insinuating he'd be mediating/refereeing.While fans would eat that up ... it ain't gonna happen. We're told DeMario came out for a solo sit-down with Harrison, but left before Corinne did her one-on-one. We're told neither were briefed on plans to be onstage at the same time.Our DeMario sources tell us he's no longer interested in seeing Corinne face-to-face to hash out the aftermath from their pool sex encounter -- mostly because he doesn't think she would be genuine.\n",
      "\n",
      "Turns out controversial \"Bachelor In Paradise\" star DeMario Jackson may not be done with reality TV -- TMZ has learned producers are seriously considering him for a \"Dancing With the Stars\" slot.Sources close to production tell us the show reached out to DeMario's publicist weeks ago, which explains why he was already fully campaigning to be in the ballroom when we asked about it last week.We're told nothing's signed ... they're still negotiating, but hard to imagine a scenario where DeMario doesn't take this opportunity.DeMario didn't return to the 'BiP' set in Mexico following the oral sex controversy with Corinne Olympios that shut down production, but he will be on the reunion episode.\n",
      "\n",
      "Robby Hayes and Amanda Stanton are now a thing, thanks to \"Bachelor in Paradise.\" Oh, and ... spoiler alert.Amanda and Robby were hand-in-hand for a weekend stroll in WeHo. We're not judging, but seems like they're already coordinating their wardrobes (Ok, we're judging).They were both down in Mexico shooting the upcoming 'BiP' season ... and maybe the third time will be the charm for Amanda. She finished fourth on Ben Higgins' 'Bachelor' season, and was briefly engaged to Josh Murray before calling it off in December 2016.Robby was the runner-up on JoJo Fletcher's season.If at first you don't succeed ... get recast!\n",
      "\n",
      "Corinne Olympios could come face-to-face with DeMario Jackson on the \"Bachelor in Paradise\" reunion show, 'cause she'll be there ... according to Corinne herself.Corinne put out a statement Wednesday, saying, \"I am very happy to be appearing on the Bachelor In Paradise Special\" which her rep confirmed was, in fact, the reunion show that'll take place in the near future ... seeing how filming has wrapped.We broke the story ... DeMario -- who was at the center of the sex scandal on the show with Corinne -- will also be at the 'BiP' renuion show ... and he wants to settle things with Corinne once and for all.\n",
      "\n",
      "\"Bachelor in Paradise\" has a new way of reeling in viewers ... tapping into the sex scandal that temporarily shipwrecked the show.Production sources tell TMZ, host Chris Harrison held a powwow with the cast on the first day back to film the show after the Warner Bros. probe concluded there was no sexual assault ... and the cameras were rolling as he took people back to the Corinne Olympios/DeMario Jackson sexual escapade in the pool.We're told Harrison dramatically recounted how a producer expressed concerns and it turned into a full blown scandal. After taking everyone through the investigation, he paused, then asked the cast if they were comfortable continuing, and gave them a chance to pack up and leave.To absolutely no one's surprise, everyone stayed, drank and even banged in the boom boom room.Lemonade ... it comes from lemons.\n",
      "\n",
      "DeMario Jackson is not only willing ... he's eager to appear on a \"Bachelor in Paradise\" reunion show so he can hug all his former castmates who privately supported him over Corinne Olympios' sexual assault allegations.DeMario was at Toast in L.A. Saturday and he clearly holds no grudges.  Listen to him describe his feelings for Corinne ... this after she came on strong that she did not have the capacity to consent to a sexual escapade with DeMario in a swimming pool.\n",
      "\n",
      "Lexi Thexton﻿'s message to DeMario Jackson ﻿for ditching her to go on \"The Bachelorette?\" -- the pose says it all ... ya assed out on getting this!!!Lexi showed off her buns in a pink bikini in Santa Monica ... and she's as hot as the sand.You'll recall Rachel Lindsay infamously booted DeMario when Lexi made a surprise 'Bachelorette' appearance to confront him for going on the show even though, according to her, they were still an item.\n",
      "\n",
      "DeMario Jackson doesn't care that some people think he committed sexual assault on \"Bachelor in Paradise\" -- despite being cleared -- and he seems to target the haters as racists from Oklahoma.DeMario was at a WeHo spa this week, when he told our photog he has no regrets over doing the show. He says he met some great people, although we're guessing one of them is not Corinne Olympios.It's unclear why he's got such a thing against Oklahoma. Hated the musical?\n",
      "\n",
      "\"Bachelor in Paradise\" star Amanda Stanton just finished shooting the show, and she says the new rules didn't really get in the way when it came to hooking up.Amanda flew into John Wayne Airport from Mexico Wednesday and told our photog she followed the new rules in the wake of the Corinne/DeMario fiasco ... namely, making it clear sex is consensual.She also adhered to the 2 drink per hour rule, although it sounds like Amanda believes 2 drinks were required!\n",
      "\n",
      "Corinne Olympios is satisfied with her legal team's investigation into the \"Bachelor in Paradise\" pool incident with DeMario Jackson.Corinne says, \"I felt victimized by the fact that others were judging me through conflicting and unsubstantiated reports, while I myself had no recollection of the events that transpired. My team’s investigation into this matter has now been completed to my satisfaction.\"As we reported, Corinne hired Marty Singer to represent her. After Warner Bros. announced its investigation revealed no wrongdoing on DeMario's part, Singer said he would continue looking into what happened when Corinne and DeMario had a drunken hookup in the pool.Corinne adds, \"My intent over the past few weeks has been to learn and understand what happened on June 4. While I never filed complaints or accusations against anyone associated with Bachelor in Paradise, my team and I felt it was very important to be thorough in getting to the bottom of what had occurred.\"\n",
      "\n",
      "The cast of \"Bachelor in Paradise\" now has a VERY close relationship with the crew under the show's new rules. The question is, business as usual, or the new normal?Contestants were hanging poolside at the Mexican resort where 'BiP' resumed filming after the DeMario Jackson/Corinne Olympios sex scandal. It's plain as day .. cameramen and producers are hovering like flies over their stars.We broke the stories ... 'BiP' showrunners have implemented strict new rules for the cast, including a 2 drink maximum per hour, a sweep for illegal drugs ... and having to get permission from producers before hooking up.\n",
      "\n",
      "DeMario Jackson doesn't need the 'Bachelor' franchise to help him wrangle hot chicks ... dude's leaving the club with car loads of them post his and Corinne's \"Bachelor in Paradise\" mess.Corinne didn't get an invite back to the show, which is back in production, but DeMario has said he's done with it forever.\n",
      "\n",
      "\"Bachelor in Paradise\" contestants who want to have sex must wait a beat and get permission from producers ... TMZ has learned.Sources at the Mexican resort where the show is being filmed tell TMZ there are new rules in place regarding sex ... especially in \"The Boom Boom Room\" -- where most indoor sex goes down.We're told before anyone can get it on, both parties must go to a producer and state that they consent. If the producer feels either party is incapable of giving consent, the producer can pull the plug.We're told when contestants arrived over the weekend, they sat through a 2-hour meeting with lawyers and others who ran through all the rules.And get this ... if contestants violate the rule and go right into \"The Boom Boom Room,\" producers can barge in and stop things mid-coitus.TMZ broke the story ... Warner Bros. implemented new rules as part of the show's reboot, including handing over all drugs -- legal or not -- and a 2-drink maximum per hour.\n",
      "\n",
      "\"Bachelor in Paradise\" producers aren't taking any chances of drunken, nonconsensual sex ... because they've imposed new drinking rules on the cast.Production sources tell us there is now a 2 drink max per hour. We're told the crew is monitoring drinking levels among the cast and the bartenders are also responsible for keeping tabs.Producers have also made a point of providing food at all times during the shoots ... presumably to absorb the alcohol.We're told the cast got a talkin' to over the whole Corinne/DeMario situation, both on and off camera, and drinking was a big talking point.\n",
      "\n",
      "DeMario Jackson is looking for answers, and thinks a 1-on-1 with Corinne Olympios could help him finally get some peace of mind ... but she's gotta make the first move.Sources close to the \"Bachelor in Paradise\" outcast tell TMZ ... he wants to chat with Corinne about her sexual assault claim. DeMario's telling friends he doesn't hold a grudge -- after being cleared by Warner Bros. -- especially since he's bound to see Corinne again with other 'Bachelor' alums.We're told DeMario was \"blindsided and confused\" when he heard she claimed to be a victim, because when they got sent home producers told him it was because a third party had a problem with their pool sexcapade -- not Corinne.DeMario assumed he and Corinne would move on and be friends since they got along so well the first day filming -- laughing, chatting and hooking up -- so he doesn't understand what changed.There's a catch -- we're also told DeMario's not going to reach out to Corinne. He feels the ball's in her court since she played the victim card ... but he'll drop everything to meet with her if she calls.\n",
      "\n",
      "DeMario Jackson's livin' easy now that Warner Bros. cleared him of sexual assault on \"Bachelor in Paradise\" ... and the handful of hot women with him probably helps too.DeMario hit up Avenue in L.A. for a night out with several ladies Friday night. He didn't answer any questions ... but his smile said a lot. Questionable t-shirt choice though.We broke the story ... Warner Bros. concluded their investigation of Jackson's 'BiP' scandal with Corinne Olympios and found no sexual assault occurred. Still, DeMario says he won't return to the show.\n",
      "\n",
      "\"Bachelor in Paradise\" contestants will have to ante up all drugs -- both legal and not -- when they land in Mexico for the relaunched version this weekend.TMZ has obtained an email sent by producers to contestants, which informs them of some of the \"new procedures\" that have been initiated in the wake of the Corinne Olympios/DeMario Jackson scandal.The email reads in part, \"Upon your arrival, your bags will be inventoried specifically for any over the counter and prescription drugs that are not prescribed to you.\" Any prescription/illegal drugs will be confiscated.\"The email goes on ... \"All drugs, over the counter and prescribed, must be submitted to the Nurse to keep and dispense accordingly for your stay in Mexico.\"Our production sources say the drug policy is NOT related to Corinne's claim she blacked out during a sexual encounter with DeMario in a swimming pool. We broke the story, Warner Bros. investigated and after reviewing the video concluded she was alert and fully engaged throughout. There is no evidence she was on drugs.\n",
      "\n",
      "Former \"Bachelor\" contestant AshLee Frazier thinks nothing untoward happened between Corinne and DeMario on \"Bachelor in Paradise\" and strongly believes they should come back and hook up.We got the Season 17 alum at LAX Friday, and she thinks the whole sexual assault thing was made up by a disgruntled producer. TMZ broke the story ... Warner Bros. conducted an investigation and determined Corinne was alert and fully engaged when she engaged in oral sex with DeMario in a pool.\n",
      "\n",
      "DeMario Jackson -- the guy who had oral sex with Corinne Olympios during filming of \"Bachelor in Paradise\" -- is done with the show.Sources close to DeMario tell TMZ he's suffered from anxiety over the scandal after living under a cloud of suspicion for a week. He's even started seeing a therapist. And, he's upset because his name will now forever be linked to a sex scandal, even though Warner Bros. essentially concluded he did nothing wrong.We're told DeMario claims producers spoke to his lawyer and invited him back on the show, but he's done. Other sources dispute that he was invited back and say no decision has been made.We're told DeMario now wants to ditch reality TV for a career as an on-air personality.\n",
      "\n",
      "Corinne Olympios' boyfriend does not believe she cheated on him, does not believe the Warner Bros. investigation was kosher, and will not dump her.Jordan Gielchinsky has made it clear to friends ... he still believes Corinne that she was in a blackout state when she had oral sex with DeMario Jackson in a swimming pool during the first day of 'BIP' filming.Jordan claims he has spoken to several cast members who back up her story, and he thinks the Warner Bros. investigation was a whitewash so the show could resume filming.As we reported, multiple people who have seen the video say Corinne seemed fully engaged in the pool and at no time does she seem out of it.We're told Corinne made a deal with Jordan ... she wouldn't have sex with anyone on the show. He thinks the swimming pool incident doesn't count because she was drunk out of her mind.Jordan's also suspicious because he says Corinne's lawyer has not been able to see the tape but it was shown to DeMario's attorney. Our sources say Warner Bros. isn't sharing the video with Corinne's legal team because she's threatened legal action.The question, is Jordan right ... or is he love blind?\n",
      "\n",
      "Corinne Olympios isn't ready to accept Warner Bros.' word about what went down between her and DeMario Jackson on the \"Bachelor in Paradise\" set, and she's continuing her own investigation.Corinne's high-powered attorney, Marty Singer, says, \"It comes as no surprise that Warner Bros., as a result of its own internal investigation, would state that no wrong doing had occurred. Our own investigation will continue based on multiple new witnesses coming forward revealing what they saw and heard.”Singer also points out ... it was one of the show's own producers who thought something was improper on set -- “It needs to be made crystal clear that production of 'Bachelor in Paradise' was shut down because of multiple complaints received from 'BIP' producers and crew members on the set. It was not shut down due to any complaint filed by Corinne against anyone.\"Corinne has yet to say IF she's suing, and if so ... who she'd sue. She was tight-lipped in Hollywood after the Warner Bros. announcement.\n",
      "\n",
      "The investigation into alleged sexual assault on \"Bachelor in Paradise\" is over ... and the conclusion -- no sexual assault, TMZ has learned, and the show will go on.TMZ broke the story ... the show was put on ice after a producer claimed Corinne Olympios was so drunk she was not capable of consenting to oral sex in a swimming pool with DeMario Jackson.Warner Bros. put the show on hold during the investigation. As we reported, multiple people who saw the video claim Corinne was \"fully engaged\" and lucid throughout the sexual encounter.We're told the investigation is now complete and the finding was there was no sexual assault.We're told DeMario's lawyer met with Warner Bros. lawyers Monday, reviewed the tapes and assured him he was in the clear.Our sources say filming will resume in the same location in Mexico. The show will air this summer.As for the swimming pool incident, Warner Bros. says it will not be released.As for Corinne and DeMario ... we're told no decisions have been made on whether they'll be on the show.\n",
      "\n",
      "DeMario Jackson says he wouldn't have hooked up with Corinne Olympios if he knew she had a BF ... this from the guy who got kicked off \"The Bachelorette\" for having a GF.DeMario was out Sunday in L.A. when a pap asked if he would have done what he did in the pool with Corinne if he'd known? DeMario says absolutely not.It's interesting though -- DeMario was booted from Rachel Lindsay's 'Bachelorette' season and got made into a villain after he was caught lying about his then-girlfriend ... who isn't a big fan of his to this day.\n",
      "\n",
      "\"Bachelor in Paradise\" has a happy ending ... at least for last season, because two of its stars just tied the knot.Evan Bass and Carly Waddell from 'BIP' season 3 said their \"I do's\" during a beach wedding near Puerto Vallarta, Mexico.ABC will air the wedding despite controversy over 'BIP' and sexual assault allegations made by Corinne Olympios against DeMario Jackson and producers. Warner Bros is investigating.\n",
      "\n",
      "Corinne Olympios and her BF are putting up a united front during her \"Bachelor in Paradise\" sex scandal with DeMario Jackson ... even if they're not talking about it.Corinne grabbed some lunch Saturday in L.A. with Jordan Gielchinsky, carrying on like your average couple ... even though their situation is anything but. Both were mum on Corinne's next move.We broke the story ... Jordan is standing by Corinne in the midst of the investigation over her sexual encounter with fellow \"BiP\" contestant DeMario -- despite agreeing she wouldn't hook up on the show. Corinne says she was out of it and it wasn't consensual.Classic move by a good beau.\n",
      "\n",
      "'Bachelor in Paradise' star DeMario Jackson resurfaced Saturday night after his co-star Corinne Olympios accused him of sexual assault.Jackson chowed down at Sista Mary's in Glendale.  TMZ broke the story, DeMario insists Corinne was not only lucid when they engaged in oral sex in a swimming pool the first day of taping ... he says she was the instigator.  As we reported, people who have seen the video also say she was lucid.As for Corinne, who has lawyered up with legal pit bull Marty Singer, she was out Saturday walking the dog.  She says she has no recollection of the events in the pool and that she was literally falling down drunk in a blackout state and believes producers should have protected her.The show was put on ice while Warner Bros. investigates.\n",
      "\n",
      "Corinne Olympios' boyfriend knew exactly what he was signing up for when she decided to go on \"Bachelor in Paradise\" ... with one HUGE caveat.Sources close to the couple tell TMZ ... Corinne and her BF, Jordan Gielchinsky, agreed she would NOT hook up with other cast members, and was only going to do the show to get pub for her new clothing line. Her plan was to be on for a couple episodes, and then bow out.Of course, that plan went to crap on the first day of taping when DeMario Jackson and Corinne ended up \"rubbing, touching and fingering\" in the pool. We broke the story ... Warner Bros. shut down production, launched an investigation and sent the cast home.We're told Jordan was initially upset when he heard what went down, but once he got the full context of the event -- meaning the heavy drinking -- he backed Corinne. He agrees she was way too drunk to give consent, and strongly believes producers and medical staffers should have intervened.The couple's been inseparable in L.A. since she returned from Mexico.\n",
      "\n",
      "Corinne Olympios was so drunk when she got sexual with fellow \"Bachelor in Paradise\" castmate, DeMario Jackson, she did a face-plant in the Jacuzzi and after she was dragged and laying on the ground the sexual contact continued, but sources who have seen the video say it just didn't happen.Sources involved in Corinne's representation tell TMZ ... she had a half a bottle of champagne in a vehicle before arriving at the bar, where she had some mixed drinks with hard liquor as well as one or 2 shots.The sources say she did not object to the sexual contact and may have indeed consented, but they say she was not capable of consent, point to the \"Jacuzzi face-plant\" and being laid out on the ground.They also claim a cast member told producers after the face-plant to stop, but they responded that she was \"fine.\"But our sources who have seen the video say Corinne's version is \"absolutely not true\" ... no face-plant, no being laid out on the ground ... nothing like that. The sources who have seen the tape say she was clearly with it the entire time in the pool, and there's no ambiguity after seeing the video.\n",
      "\n",
      "\"Mob Wives\" star Renee Graziano just can't believe it ... drama in paradise?!Renee was leaving Craig's Thursday night in WeHo when we asked her about the \"Bachelor in Paradise\" controversy over alleged sexual misconduct between Corinne Olympios and DeMario Jackson in the pool.  As we reported, \"B.I.P\" has been put on ice while Warner Bros. investigates.\n",
      "\n",
      "DeMario Jackson's ex-gf -- the woman who exposed him as a villain on national TV -- is actually coming to his defense in the Corinne Olympios scandal ... but she has a strange way of doing it.Lexi Thexton claims DeMario is nothing more than a \"30-year-old man child\" who parties way too much -- but also says there's no way the \"Bachelor in Paradise\" star would knowingly take advantage of a drunk woman ... as Corinne insinuated when she declared she's a victim.For Lexi to say anything supportive about her ex is a big deal. Mind you, she also called him a \"sh***y guy\" who's completely self-absorbed ... among a list of other insults. She did offer a theory about what really happened with Corinne -- and strongly believes it's more about 2 people getting too drunk.For non-'Bachelorette' viewers ... Lexi made a surprise appearance on the show, calling out DeMario for trying to woo Rachel Lindsay﻿ while still dating her. He got booted off the show that very same episode.\n",
      "\n",
      "Now that Corinne Olympios appears headed for a legal showdown with producers of \"Bachelor in Paradise\" ... the contract she signed becomes extrememly relevant, and problematic.The contract contestants sign, obtained by TMZ, says in part all contestants waive their right to sue producers over claims of \"negligence, personal injury (including without limitation, any injuries arising out of the transmission of a sexually transmitted disease or unwelcome/unlawful contact or other interaction among participants).\"The short of it ... even if she was in a blackout state when she was engaged in sexual activity with DeMario Jackson, the producers would not be responsible. There's a catch ... courts have made it clear in situations involving similar contracts, if the producers were reckless that clause would not be enforceable. And it would seem watching someone incapable of giving consent to sexual activity and allowing it to happen ... is reckless.And still another catch ... as we reported, people who have seen the video tell us Corinne seems lucid and engaged during the entire swimming pool episode.\n",
      "\n",
      "DeMario Jackson doesn't want anyone hating on Corinne Olympios for what went down in the pool between them ... leading to \"Bachelor in Paradise\" production shutting down﻿.Jackson was leaving a gym in L.A. when he was asked if he was any closer to obtaining the pool footage he believes will clear him of wrongdoing. He's tight-lipped about that ... but opens up about Corinne and any backlash from their sexual encounter.\n",
      "\n",
      "Corinne Olympios was topless in the pool with DeMario Jackson and so aware of her surroundings, she greeted a cast member walking by, showing no signs of distress -- but Corinne's attorney isn't buying it.Sources close to the \"Bachelor in Paradise\" cast tell TMZ ... one female cast member walked right by the pool when Corinne and DeMario were hooking up, and saw her with her top off and her legs wrapped around him. We're told Corinne yelled out to the passerby by name and seemed \"very with it\" ... coherent.The cast member told others she would have done something to break up the pool tryst if she felt Corinne was too drunk. Further, the cast member says cameras followed her when she walked by ... so the whole encounter should be on tape.Corinne's attorney, Marty Singer, tells TMZ ... \"If nothing inappropriate happened, why did production get shut down? Something serious clearly happened.\"The female cast member says Corinne talked about the DeMario hookup the next day because she was upset her boyfriend, back home, would find out -- but she never heard Corinne say anything about it being non-consensual.\n",
      "\n",
      "Corinne Olympios has hired a team to \"seek justice\" for the \"Bachelor in Paradise\" swimming pool incident ... TMZ has learned.Corinne tells TMZ ... \"I am a victim and have spent the last week trying to make sense of what happened on June 4. Although I have little memory of that night, something bad obviously took place, which I understand is why production on the show has now been suspended and a producer on the show has filed a complaint against the production.\"Corinne goes on ... \"As a woman, this is my worst nightmare and it has now become my reality. As I pursue the details and facts surrounding that night and the immediate days after, I have retained a group of professionals to ensure that what happened on June 4 comes to light and I can continue my life, including hiring an attorney to obtain justice and seeking therapy to begin dealing with the physical and emotional trauma stemming from that evening.\"TMZ has learned Corinne hired Marty Singer, and that makes it feel like a lawsuit is brewing.TMZ broke the story ... Corinne and fellow 'BIP' castmate DeMario Jackson got extremely sexual in a swimming pool the first day of filming. DeMario says Corinne was the instigator and was lucid the entire time. Sources who have seen the tape also say Corinne appeared lucid. We're told both were drunk ... the central issue becomes, just how drunk?\n",
      "\n",
      "\"Bachelor in Paradise\" star DeMario Jackson certainly doesn't look like a man in the middle of a serious reality TV controversy.DeMario was out with a bunch of his friends Tuesday night as the group hit up Saint & Second in Long Beach. He appeared pretty loose ... never mind the controversy surrounding him and co-star Corinne Olympios.As we reported ... DeMario wants the pool sex video released because he feels he did nothing wrong.\n",
      "\n",
      "\"Bachelor in Paradise\" star DeMario Jackson desperately wants the tape of his sexual encounter with Corinne Olympios to be released so he can clear his name.Sources close to DeMario tell TMZ ... he's hell-bent on getting a copy of the footage of himself and Corinne \"rubbing, touching and fingering\" in the pool. We're told he already had a lawyer contact Warner Bros requesting the tape.DeMario believes the video will prove what he's said all along -- Corinne was lucid and he did nothing wrong. If he can't get a copy, we're told he wants WB to release it on its own. DeMario also wants them to release a statement clarifying HE isn't under investigation.Multiple people who've seen the footage tell us ... the encounter appears completely consensual and DeMario is in no way the aggressor. In fact, we're told he and Corinne seemed kind and considerate to each other.Our sources say DeMario's looking to lawyer up because although Corinne hasn't blamed him yet, he's not taking any chances. When we saw him in WeHo Tuesday, he seemed to bear no grudge toward her.\n",
      "\n",
      "DeMario Jackson came out of hiding and while he was mostly tight-lipped about the sexual encounter with Corinne Olympios that shut down \"Bachelor in Paradise\" ... he did answer one key question.The 'BIP' star was leaving Caffe Primo in West Hollywood Tuesday when paps peppered him with questions. We asked what he thought about Corinne saying she was too wasted to consent ... and if he was pissed.DeMario's clearly playing this close to the vest, but he at least wants everyone to know where he stands with Corinne.\n",
      "\n",
      "Corinne Olympios was so wasted several hours after she and DeMario Jackson hooked up, she could hardly stand.Witnesses at the Mexican resort tell us 2 hours after her sexual encounter with DeMario ... she was stumbling drunk, eyes closed, slurring badly and wearing her clothes inside out.  As one source put it, \"she was on a whole other level.\"TMZ broke the story, a week ago Sunday Corinne and DeMario were naked in the pool, \"rubbing, touching and fingering\" and engaging in oral sex.As we reported, Corinne insists she was so wasted she was incapable of giving consent, and blames producers for not calling a halt to the escapade. She says she has no recollection of events in the pool.People who have seen footage of the encounter tell TMZ it's apparent she was lucid the entire time.We know DeMario says when they went to the pool, Corinne was drunk but still lucid.Connecting the dots ... it's possible Corinne was drunk but still with it at the pool, but as she continued drinking entered a blackout stage and forgot most of what happened from the time she began drinking.\n",
      "\n",
      "Corinne Olympios claims she was in a blackout state when she got sexual with fellow \"Bachelor in Paradise\" star DeMario Jackson ... and she blames producers for not pulling the plug and protecting her, although our sources say people who have seen the tape claim she was lucid and fully engaged.Sources close to Corinne tell TMZ she was drunk the entire day of filming when she ended up naked in the swimming pool with DeMario. Although DeMario remembers everything -- from \"rubbing, touching and fingering\" to licking her genitals -- she says she remembers nothing.We're told the day after the swimming pool incident she claims fellow cast members began telling her stories of what went down with DeMario. She says several cast members told her they had voiced concern to people on the production crew that she was in no position to consent to sexual activity, but the crew did not heed their warnings.Production sources insist other cast members did not complain to anyone that Corinne was too drunk to form an intent to have sexual contact with DeMario.Corinne has told her friends she has a boyfriend and wouldn't have done what she did -- especially with cameras rolling -- to jeopardize that relationship.As we reported, sources familiar with the footage say she appeared \"fully engaged.\" Corrine doesn't fully blame DeMario because he too was drunk. She blames producers and has lawyered up.\"Bachelor in Paradise\" has been shut down as Warner Bros investigates.\n",
      "\n",
      "\"Bachelor in Paradise\" was shut down because a field producer filed a complaint that Corinne Olympios seemed so drunk the first day of filming she had no ability to consent to DeMario Jackson's sexual moves in a swimming pool, and producers nonetheless let it play out on film.The producer in question believes Corinne may have been sexually assaulted, although we know DeMario claims the encounter was not only consensual ... she was the instigator.TMZ broke the story of DeMario's version of events ... that he and Corinne were drinking heavily and making out at the bar. She suggested they take it to the swimming pool, where they took their clothes off and began \"rubbing, touching and fingering.\" He also claims she put her genitals in his face and he began licking. He says he was unable to consummate things because he was so drunk.Our sources say the field producer in question was assigned to shadow Corinne, and began hearing stories from people on the set that Corinne was so drunk she had no idea what was going on in the pool. It's unclear if the producer watched the incident, but we know she has NOT seen the footage.People familiar with the footage tell TMZ Corinne appears \"fully engaged.\" As we reported, after the complaint was filed Warner Bros immediately dismissed both DeMario and Corinne and launched an investigation into \"misconduct.\"\n",
      "\n",
      "\"Bachelor in Paradise\" stars Corinne Olympios and DeMario Jackson pushed the envelope too far, and \"the truth came to light\" ... so says 'Bachlorette' star Eric Bigger.Eric was leaving Nightingale Sunday night and chimed in on the 'BiP' controversy that shut down production. He believes Corrine and DeMario probably were having fun, until things got out of hand.TMZ broke the story ... a producer complained about the contestants getting extremely sexual in a swimming pool. Warner Bros halted production and launched an investigation.\n",
      "\n",
      "\"Bachelor in Paradise\" was shut down after a producer complained about 2 contestants getting extremely sexual in a swimming pool ... this according to sources connected to contestant DeMario Jackson, but there are different versions and Warner Bros. has launched a full investigation.Here's DeMario's version of events, as told by people with whom he spoke:Last Sunday -- the first day of production at a Mexican resort -- DeMario Jackson and Corinne Olympios were told by producers one of the story lines would be the 2 of them hooking up ... especially entertaining because both are considered villains from previous shows.We're told the 2 met at the bar and the alcohol was flowing. DeMario says Corinne jumped in his lap and started making out with him. We're told there was lots of \"intense rubbing.\"DeMario says Corinne then suggested they retreat to the pool, with the cameras rolling. They took off their clothes, started making out and \"rubbing, touching and fingering.\" He says she put her genitals in his face and he began licking, but we're told this allegation is a big point of contention and others disagree with his account. He says he was not able to engage in intercourse because of the alcohol.DeMario says the next day everything was fine and he and Corrine were actually getting along well, but on Tuesday they were called in by the Executive Producer and told one of the show producers had seen the film and was \"uncomfortable\" with what was shot.The producer has filed a formal complaint with Warner Bros. Warner brass immediately suspended production, launched an investigation and released DeMario and Corrine. Two days later Warner Bros. released the entire cast while they investigated alleged \"misconduct.\"\n",
      "\n",
      "Production for 'Bachelor in Paradise' has been suspended after allegations of misconduct were reported ... which puts a halt to filming for the upcoming season indefinitely.Warner Bros. execs for the show said Sunday that they had been alerted to some sort of misconduct on the set of 'BiP', which is currently shooting in Mexico.As a result of the allegations -- which at this point have not been made public -- WB has put a temporary halt to the show and is now investigating. They've said they will also take appropriate action upon completing the investigation.This season of 'BiP' is highly anticipated, especially after Nick Viall's recent stint on 'The Bachelor.' Some of his axed ladies like Raven Gates, Corinne Olympios and Taylor Nolan were cast, as was Amanda Stanton from Ben Higgins' season. Some of the guys cast were Derek Peth, Nick Benvenutti, Ben Zorn and DeMario Jackson.\n",
      "\n"
     ]
    }
   ],
   "source": [
    "for i in range(len(km.labels_)):\n",
    "    if km.labels_[i] == 6:\n",
    "        print(article_list[i])\n",
    "        print()"
   ]
  },
  {
   "cell_type": "markdown",
   "metadata": {},
   "source": [
    "What got labeled as 7? The Rob Kardashian Blac Chyna breakup:"
   ]
  },
  {
   "cell_type": "code",
   "execution_count": 7,
   "metadata": {},
   "outputs": [
    {
     "name": "stdout",
     "output_type": "stream",
     "text": [
      "Blac Chyna had the cops called on her after Rob's baby mama went ham over a roofer.It happened Tuesday morning at Chyna's L.A. home. She pitched a fit when a guy next door started pitching a roof at 9 AM. We're told Chyna confronted the homeowner, saying it was too damn early to start construction. She said the noise woke up little Dream, and that pissed her off.The neighbor claims Chyna went so ballistic she got scared and called the cops.We're told cops showed up and gave Chyna a free lesson about the law. In L.A., construction can fire up at 7 AM, so the roofer was well within his rights.Chyna calmed down, and cops beat it.\n",
      "\n",
      "Blac Chyna went from wheels down to wheelchair up at LAX Saturday, and it's unclear why she needed an assist.She can clearly walk, because she got out of the chair at some point and hoofed it to the car.  Our photog didn't ask why she was in the chair, but she probably wouldn't have answered.She was sure mum on a report Rob Kardashian threw shade on her newly-minted rapping career, but gotta say ... why throw shade on Kevin Federline ... \"Popozao\" is awesome.\n",
      "\n",
      "Blac Chyna doesn't just want to be in music videos with Nicki Minaj, she wants to BE the new Nicki Minaj, and several record labels are jumping at the chance to make it happen.Several sources close to Blac Chyna tell us she's entering the music game and is already recording in the studio. As for what type of music ... rap, \"poetry music\" and traditional singing.The catalyst was the Yo Gotti music video shoot down in Miami a couple weeks back with Nicki, who Chyna sees as a mentor. The next step is to get signed.We're told Chyna's lined up several meetings with record labels in L.A., and already met bigwigs at Capital Records.The good news for Rob ... Chyna's not into diss tracks.😋\n",
      "\n",
      "Blac Chyna and Rob Kardashian are close to wrapping negotiations on a custody agreement for their daughter, Dream, and the big revelation from the talks so far -- Chyna's killing it financially.Sources close to the situation tell TMZ ... neither Rob nor BC has requested child support from the other ... yet. If that changes though, Rob would likely be the one asking for a couple of reasons.First, Rob has Dream more often than Chyna -- we're told that's always been the case. Second, she makes way more money than he does. We're told Rob banks very little on his own outside of the family reality show. Chyna, on the other hand, makes huge chunks of change on appearances and hosting gigs.So, even if custody ends up being a 50/50 split ... there's at least the possibility Rob could eventually go after her for support. But right now, that's not on the table, and we're told they're close to reaching a settlement.\n",
      "\n",
      "Blac Chyna doesn't play when it comes to her money, and she made sure to get a giant wad of cash before her latest gig.Chyna pulled up outside Project Club LA Saturday night -- she was hosting, but before the party could get started ... the money man had to come through. Our club sources say BC got $15k for the appearance, and we spotted a promoter getting into her ride with the goods.Rocking new red hair, Chyna and bf Mechie finally strolled into the club after the transaction -- a great one for her. She only stayed about an hour.Good money if ya can get it! Think she counted it?\n",
      "\n",
      "Life after the Kardashians -- it does exist -- looked pretty smooth for Blac Chyna and Lamar Odom Wednesday night in Bev Hills.Rob and Khloe's exes were hanging together at the iGo.Live app launch event. Tyga was there too, but opted out of the reunion pic.Chyna started dating Rob shortly after Lamar's near-fatal overdose. Lamar and Khloe had called it quits long before that so it's unclear how often BC and LO have crossed paths before.Rob and Lamar were once BFFs. We're guessing Chyna couldn't pass on the shot at her ex photo op.\n",
      "\n",
      "Blac Chyna looks like a deuce without her old boo ... at least according to said old boo, Pilot Jones, who's using a new song for revenge.Pilot's new single, \"Flossin\" features the not-at-all-subtle jabs and, naturally, the music video co-stars a Blac Chyna-esque character, played by model AzMarie Livingston.In the lyrics, Pilot says he's better off without BC ... with way more colorful language. It's interesting he's attacking her this way, after accusing Chyna of bullying him to point he nearly killed himself.Pilot's clearly trying to capitalize on his Chyna drama. If there's any doubt ... check out his music vid wardrobe.\n",
      "\n",
      "Blac Chyna is sending a message to Rob Kardashian -- and even her old side piece, Ferrari -- she doesn't need either of them to get around fast.Chyna just purchased a 2017 Ferrari 488 Spider. The whip's starting price is around $334k, but Chyna's is custom with Forgiato wheels so it'll cost way more.Chyna got the new wheels Monday, a few weeks after Rob took back both the Ferrari and Lamborghini he bought her after the revenge porn fiasco, and ultimate breakup.It's interesting Chyna rushed to pick up the new luxury ride. She just appeared in Yo Gotti's \"Rake It Up\" video alongside Nicki Minaj, who has a line on the track where she raps: \"Brought out the pink Lamborghini just to race with Chyna.\"It appears Chyna fell victim to the hype.\n",
      "\n",
      "Blac Chyna's new tattoo paints a very clear picture of who comes first in her life, and it's not her new aspiring singer boyfriend.As we previously reported ... Chyna's new boo, Mechie, got her initials tatted on his neck last week. Naturally, you'd think BC would reciprocate by getting his initials on her own skin. Not exactly.Chyna might've taken the matching tattoo thing too literally but at least she's laying it all down from start of the relationship.Looks like she learned a lesson from that Future situation.\n",
      "\n",
      "Blac Chyna is on the road and giving lap dances again, but not for dollar bills ... just for her new bf.Chyna did a paid appearance at Miami's Mynt Lounge Friday night, and brought her boo, Mechie, along to keep her company. The singer was well compensated though ... with Chyna's boobs and ass in his face.Maybe it was worth it getting her initials tatted on him -- but probably not.Meanwhile, her ex ... Rob Kardashian was back on social media, and obeying the restraining order. No revenge porn, just an adorable pic of their daughter Dream in a ball pit. Well played, Dad.\n",
      "\n",
      "Blac Chyna's new man is all-in on her brand ... and they're both making sure Rob Kardashian's aware.Chyna and singer Mechie -- who she's been hooking up with for a couple weeks -- shot a video showing off a very fresh looking 'BC' tattoo behind his ear. If it wasn't clear already ... she's definitely moved on from Rob.She has a bad history with tattoos and dudes (*cough, Future*) ... so, interesting that HE got the ink this time around.This isnt the first time Chyna's rubbed her relationship with Mechie in Rob's face either. When Rob went on his social media tirade against her ... he posted a video Chyna allegedly sent him of her and Mechie kissing in bed ... as well as the photo with the other guy, Ferrari.As we reported ... Chyna got a restraining order against Rob and he vowed to stop slut-shaming her online. This should test Rob's will power.\n",
      "\n",
      "Blac Chyna might not be on Nicki Minaj's level, but she came close Wednesday night on the set of a new music video.They were both in Miami to shoot cameos in Yo Gotti's \"Rake It Up\" vid, and they looked like they were cut from the same cloth -- and by cloth, we mean latex.If ya don't know ... Chyna got her start in Hollywood stepping in as Nicki's body double on Kanye West's \"Monster\" video -- so this was kind of a reunion, but now she's getting face time too ... and she got a shout-out in Gotti's lyrics.The times, they are a changin' ...\n",
      "\n",
      "Tyga knew the deal and even threw up smoke signals for Rob Kardashian about hooking up with Blac Chyna ... but thinks Rob was ultimately blinded by love.Tyga went on \"The Breakfast Club\" Thursday morning and talked about his breakup with Kylie Jenner, and her brother's relationship with Chyna ... Tyga's baby mama. He says the overlapping relationships did NOT create an awkward situation, but he also knew Rob couldn't handle Chyna -- for a bunch of reasons.On the biz side ... the rapper says he had to pay a million dollars to end his contract with Cash Money -- but also claims his old label still owes him $12 mil.\n",
      "\n",
      "The world hasn't seen the last of Ferrari, the guy that came between Blac Chyna and Rob Kardashian, because he's negotiating with \"Love & Hip Hop: Atlanta\" to join the cast ... if the price is right.We're told Ferrari is \"far along\" in hashing out the details. Contracts have been circulated but not signed, and the unresolved issue is money. We're told he feels the show is lowballing him.Production sources say producers are into Ferrari's brashness ... specifically that he is unashamed and will go toe-to-toe with anybody. The fact that he owned the naked pics of him and Chyna are a plus ... at least the way the show sees it.\n",
      "\n",
      "Blac Chyna's back to familiar surroundings ... with money flying all over the place and asses all up in her grill.BC hit up Ace of Diamonds in WeHo Monday night for her hosting gig ... y'know, the one she lobbied for in the aftermath of her social media war with baby daddy Rob Kardashian.Blac Chyna scored $10k for the job and wasn't stingy with it. She spread some of the cash -- looks like Washingtons, not Benjamins -- while taking in a few lap dances. Mally Mall was also there admiring the views.Outside the club ... it was total chaos when Chyna arrived, and cops even had to help with crowd control. We captured the scene in 360. Enjoy!\n",
      "\n",
      "Rob Lowe got a head start on shark week ... paddleboarding with not one but TWO great white sharks, and TMZ has the awesome video!!!Rob showed no fear among these magnificent beasts last weekend off the coast of Santa Barbara. Rob -- who famously grew up in Malibu -- says it's the first time he's ever laid eyes on great whites.Check it out ... Rob's trademark cool, calm and collected demeanor is on full display as the sharks swim below him. He's not just a pretty face -- he's clearly a wildlife nerd, too!\n",
      "\n",
      "Blac Chyna's beefing up her personal security and got her former side piece banned from her upcoming club appearance ... because his recent actions are scaring her.Sources close to Chyna tell TMZ ... Ferrari won't be allowed in at the Medusa Restaurant & Lounge in Atlanta Saturday night, where Blac is scheduled to host a party. We're told  Chyna's hired 4 extra bodyguards for the night in case the rapper -- who hails from ATL -- shows up.Chyna's camp claims Ferrari's been calling and texting her the past week, and demands for him to stop the harassment having been blown off. We're told Chyna believes he's released revenge porn despite a letter warning him not to, and she also fears for her safety because he's acting obsessive and delusional. His interview with TMZ particularly scared her.The owner of Medusa, Lil Henny, tells us he will honor Chyna's ban request and make sure Ferrari is not allowed on the premises while she's working the joint.\n",
      "\n",
      "Blac Chyna's back to her old hustle now that she's been cut off by Rob Kardashian -- she's making strip club appearances again.BC just announced a gig for next Monday at the Ace of Diamonds in West Hollywood and we're told she'll be pocketing $10k for hosting the night. The club's also throwing in 3 bottles of rose.The timing is no coincidence ... we're told Chyna's the one who pitched the idea to AOD and they were all for it.If you recall, that's how she made a huge chunk of her change back in the day, so looks like she's back to her old party tricks and sending a message she doesn't need Rob ... although she might need him to watch Dream that night.\n",
      "\n",
      "Rob Kardashian may be guilty of revenge porn, but he says Blac Chyna is trying to get her own revenge ... in the jewelry department, so claim sources connected to Rob.Our Kardashian sources say a few days before Rob went off Friday by slut shaming Chyna, he was courting her with bling. They say a jeweler came to Chyna's house with 7 pieces of jewelry, worth a total of $250k. Rob wanted Chyna to pick one as a gift from him.The jeweler decided to leave all 7 so Chyna could mull it over. Then Rob went crazy, and our Kardashian sources say she only returned 3 pieces, keeping a ring and 3 tennis bracelets ... worth around $125k. We're told Chyna tried charging a significant amount on Rob's card for some of the jewelry, but it was flagged and denied by Rob's business manager.We're told the jeweler has contacted Chyna several times, telling her the gift was off the table and asking her to return all of the items, but it's fallen on deaf ears.To add insult to injury, Chyna wore the 3 tennis bracelets to court Monday when she got a restraining order against Rob.Chyna begs to differ. Celebrity lawyer Lisa Bloom, who reps Chyna, tells us Rob outright gave her all 7 pieces as a gift so she had no obligation to return anything. Bloom says after Rob's tirade, Chyna decided to return 4 items but kept the tennis bracelet set because she liked them and as she saw it returning 4 items that were legally hers was a gift to Rob.It's now the Wimbledon of jewelry disputes.   A rep for Rob declined to comment.\n",
      "\n",
      "Blac Chyna's side piece thought he really had a connection with her, but is learning the hard way -- lawyers run the show.Ferrari tells TMZ ... he doesn't believe it was Chyna's idea to fire off a \"weak\" warning letter to him, threatening to sue if he posts nude pics of her. He doesn't think it's consistent with her character, and she wouldn't do that to him ... if it was up to her.Seems hypocritical of Ferrari, since, as we first reported ... he got cold feet, and returned $135k worth of jewelry he'd bought for her. It's strange that he'd expect her to have compassion for him after that.\n",
      "\n",
      "Rob Kardashian is deeply remorseful for slut shaming Blac Chyna ... at least that's what he told his family.Sources close to the situation tell TMZ ... Rob's spoken with all of his sisters and his mom, telling them he has no excuse for posting nude pics of Chyna and her medical information on social media. He said he regrets he didn't deal with the Chyna drama privately and said it wouldn't happen again.One thing Rob did not apologize for ... he flatly denied he ever physically abused Chyna.Rob also acknowledged all of the Kardashian women warned him Chyna was \"bad news\" and he should stay away ... advice he ignored. He told them they were right.He also said he stayed with Chyna longer than he should have because he grew up in a 2-parent household and wanted the same for Dream.We're told Rob and family have stayed quiet through the ordeal in an effort to stop the back and forth in the best interest of his daughter.We're told the women accepted his apology and are hopeful he'll heed their advice.\n",
      "\n",
      "Blac Chyna is a massive hypocrite who is every bit as much of a bully as Rob Kardashian ... so claims the guy she once allegedly dated.Pilot Jones says Chyna all but ruined his life after their breakup when she posted his phone number and he began receiving a torrent of death threats. He says he had to move out of L.A. it got so bad.He also says Chyna outed him as bisexual and the situation became so intense he tried to commit suicide.\n",
      "\n",
      "Blac Chyna's firing a warning shot at her former side piece -- telling him if he rips a page out of Rob Kardashian's playbook ... it's gonna cost him dearly.Powerhouse attorney Lisa Bloom sent Ferrari a letter -- obtained by TMZ -- warning him not to sell or post any nude pics or images he might have of her. Bloom says, \"Posting online or distributing photos of Ms. White's intimate body parts is a crime punishable by fines and jail time.\"And for good measure ... she also brought up California's revenge porn law. Remember, Ferrari already came within a nipple or so of semi-nudes ... when he posted pics of himself and Chyna in bed.This comes on the heels of BC getting a restraining order against Rob ... who now says he regrets plastering BC's nudes on social media.\n",
      "\n",
      "Rob Kardashian and Blac Chyna may be at war with each other, but we've learned they're in lockstep when it comes to co-parenting 8-month-old Dream.Sources close to mom and dad tell us Rob and Chyna have been operating under an unwritten arrangement where they each are entitled to physical custody 50% of the time. We're told the arrangement has been \"loose by consent\" and recently Rob has had the kid 4 days a week and Blac Chyna picks up the remaining 3. The staff of nannys/baby nurses are always present.Our sources say they have had no problem on co-parenting, which includes child-rearing decisions. Somehow they have been able to wall off their personal beef.We're also told Rob and Blac Chyna have no plan to go to court and ask a judge to make a formal child custody order, although we are told they will probably memorialize the arrangement in writing.BTW ... during Monday's hearing, when Chyna got a restraining order against Rob, he had the kid.\n",
      "\n",
      "Blac Chyna says she's \"terrified\" of Rob Kardashian, in part because he has a gun and has threatened to use it to kill himself.Chyna's celeb lawyer, Lisa Bloom, filed new docs Monday, adding to her client's claims of violence. As we reported, she says in addition to Rob attacking her in April, that same month, Chyna now says Rob punched her, knocked her to the ground and she ran in fear to her bedroom, where Rob punched a hole through the door to get at her.Chyna says she's afraid the new series of online attacks -- where he posted naked pics of her and other personal information -- \"will lead to increased irrational behavior and that he might harm her in his anger.\"\n",
      "\n",
      "Blac Chyna got the restraining order she sought against Rob Kardashian ... and she celebrated outside court with her attorneys.Chyna was flanked by Lisa Bloom and Walter Mosley as they laid out the terms of the restraining order. Rob is now barred from any further cyberbullying of Chyna -- including posting photos or videos of her, or making any personal comments about her. He also has to stay away from her.Rob was not in court, but his attorney, Robert Shapiro, was ... and also spoke briefly to the media after the hearing. As we first reported, Shapiro did not contest the restraining order ... and said Rob is just interested in doing what's best for their daughter, Dream.\n",
      "\n",
      "Blac Chyna had a poker face as she arrived at the courthouse with her lawyer, Lisa Bloom, as they set their sights on a restraining order against Rob Kardashian.Chyna wouldn't talk about additional allegations of violence, first reported by TMZ ... she said nothing as she arrived for the 8:30 AM PT hearing.As we reported, Rob's lawyer, Robert Shapiro, told TMZ he'd stipulate to the restraining order, which prohibits Rob from slut shaming his baby mama. Shapiro says Rob \"regrets\" his social media rampage and his only concern now is baby Dream.\n",
      "\n",
      "Rob Kardashian will not fight Blac Chyna in court Monday ... we've learned he will agree to the restraining order she is seeking against him.Rob's lawyer, Robert Shapiro, tells TMZ, Rob's cyberbullying last week was \"a spontaneous reaction that he regrets.\"We're told Shapiro will appear on Rob's behalf and immediately tell the judge there is no need for a hearing because Rob has no interest contesting her request for a restraining order that prohibits him from posting personal information about her and intimate photos as well.\n",
      "\n",
      "Rob Kardashian and Blac Chyna are making new allegations of domestic violence against each other, and both claim the alleged incidents are captured on video.Chyna -- who's in court Monday morning for a domestic violence restraining order against Rob -- has already claimed Rob got physical with her.Sources connected with Chyna tell us she will add other claims, including one incident several months ago where she says Rob allegedly hit her and knocked her to the ground. She says she ran to her bedroom and he broke the door open. She supposedly has photos and videos of the incident.As for Rob, sources close to the situation say in December, the day Chyna moved out of the house she and Rob were sharing, she tried choking him with an iPhone cord and tried hitting him with a metal rod. The sources say Corey Gamble walked in and pulled Chyna off Rob. She then allegedly went through the house, smashing televisions, doors and other items, causing $35k in damage. The sources say Rob has surveillance video documenting the incident.We're also told Rob's lawyers have texts from the time Chyna moved out, in which she told a friend that Rob would never hit her. Our sources say they feel the messages help to vindicate Rob.\n",
      "\n",
      "Rob Kardashian's lawyer will appear in court Monday morning and tell the judge ... his client will voluntarily refrain from attacking/bullying Blac Chyna on social media.Sources connected with Rob tell us, he'll be represented by Robert Shapiro of OJ Simpson fame, and Shapiro will not oppose the TRO ... mostly because they are routinely granted when the alleged victim claims violence. As we reported, Chyna says Rob got physical with her back in April.We're told Shapiro's main reason for showing up on Rob's behalf is to discuss custody arrangements involving Dream.Our sources say Shapiro will attempt to assure the judge Rob will not post intimate pics of Chyna, nor will he post her medical or other personal information. And ... no more slut shaming.There is a wild card ... whether Shapiro raises a First Amendment issue about restricting Rob's use of social media.\n",
      "\n",
      "Blac Chyna says Rob Kardashian treats her like dirt and she had no option but to take him to court.Chyna appeared Monday AM on \"Good Morning America\" with celeb lawyer Lisa Bloom. She ran though the reasons why she's in court this morning trying to get a restraining order.Chyna denies liking any of the super personal photos Rob posted, and she explains why she sent Rob video of a guy who was in bed with her.\n",
      "\n",
      "Blac Chyna's alleged ex-bf might be getting ready to spill more of her secrets ... but he still thinks Rob Kardashian's revenge porn stunt was wrong.We got Pilot Jones leaving Rostrum Records in L.A. -- where he's currently filming a reality show -- and we asked what he made of Rob's social media eruption.Pilot's response seems pretty tame for someone who's supposedly about to dish even more dirt about Chyna.. As we reported ... he plans to accuse her of a breach of dating ethics.Still, he doesn't condone posting her nudes. Also ... karma.\n",
      "\n",
      "T.I. has a PSA for all the fellas out there ... but mostly Rob Kardashian.We got the rapper at LAX Saturday, and after our guy asked him about getting in the middle of Rob's social media rampage against Blac Chyna last week ... he dropped these words of advice/thinly veiled insults.As you'll recall ... Tip chimed in when Rob was going off on Chyna and airing her dirty laundry on his now deleted Instagram. So then Rob went after T.I., claiming he paid Chyna to have a threesome.\n",
      "\n",
      "Rob Kardashian's brutal rants against Blac Chyna showed her side piece the light -- and now Ferrari is kicking her to the curb too, and saving himself more than 100 grand in the process.Sources connected to the rapper, tell us Ferrari was hooked on Chyna ... so much so he dropped $135,648 on three pieces of jewelry for her:- $34,850 for a Rolex - $56,500 for a gold necklace- $32,250 for diamond earringsFerrari scooped up the booty back in June when he thought he and Chyna were the real deal -- she's even listed as \"spouse\" on the receipt. We're told they'd talked for a while about getting his and hers Rollies -- but after Rob accused BC of banging several dudes, Ferrari was done.We're told his manager, Keely the Boss, planned to deliver the gifts on July 5, but that's the day Rob unleashed his allegations. Ferrari immediately called off the delivery and returned everything on Friday.\n",
      "\n",
      "Blac Chyna was out and about Friday after her lawyer Lisa Bloom informed Rob Kardashian they were court-bound Monday to get a domestic violence restraining order against him.Chyna was leaving a nail salon with daughter Dream ... significant because last we knew Rob had the kid.Rob's baby mama wants a judge to order him to stop slut-shaming her by posting pics of her genitals. She also claims he's gotten violent with her.The hearing is set for Monday morning ... we'll be there.\n",
      "\n",
      "Blac Chyna says Rob Kardashian not only cyberbullied her ... he brutalized her ... this according to legal docs obtained by TMZ.As we reported, women's rights lawyer Lisa Bloom will appear in court Monday for a restraining order against Rob, claiming he crossed the line by posting nude pics of her, medical information and other personal information.Chyna says in her declaration, this past April Rob was mad at her and began speaking poorly of her in front of her son, King. When she asked him to stop she says Rob screamed, \"I can say whatever the f*** I want!\" and then grabbed her phone, pushed her to the ground, \"aggressively shoving me by the side of my arm and hitting me on the thigh.\"She says she fell to the ground and when she got up she was bruised and could barely walk.Chyna also says she has been fully broken up with Rob since last December, adding, \"Rob has been violent with me in the past and I am afraid to be around him.\"She says posting personal information to Rob's 9 million followers is textbook cyberbullying, and wants a judge to stop him immediately. Chyna calls it slut shaming.\n",
      "\n",
      "Blac Chyna's lawyer, Lisa Bloom, says the restraining order Chyna wants against Rob Kardashian is bigger than the 2 of them ... it's a women's rights issue.Bloom tells TMZ, Chyna and Rob have been broken up for months, and he's doing what many guys have done to their exes after they break up ... humiliate them online, and slut shame them.As we reported, Bloom will be in court Monday to get a domestic violence restraining order against Rob.Bloom says Rob is a cyberbully who has posted intimate pics of Chyna, sensitive medical information and viciously attacked her online.Bloom says she took the case not only to help Chyna but to send a message to as many people as possible ... the most common form of harassment and bullying against women these days happens online, and it has to be stopped.She says, short and sweet, \"Rob needs to back off.\"\n",
      "\n",
      "Blac Chyna's lawyer is headed to court to muzzle Rob Kardashian and keep him clear of her.Chyna's hired Lisa Bloom -- who recently took the mic with Kathy Griffin over the Trump head thing -- who tweeted she's put Rob on notice she will be in court Monday for a restraining order ... presumably to keep him at least 100 yards clear of her and, more importantly, to stop posting pics of Chyna's vagina.As you know, Rob has been on a rampage, posting intimate pics of Chyna.These restraining orders typically prohibit the wrongdoer from harassing or annoying the victim. The penalty for violating such an order is contempt of court and, possibly, jail.Stay tuned.\n",
      "\n",
      "Blac Chyna doesn't want money from Rob Kardashian ... she wants distance.Sources close to the warring couple tell us Rob is cutting Chyna off financially. He'll no longer make payments on her Tarzana rental. He also has the 2 cars he gave her and jewelry as well.We're told Chyna actually returned the cars and jewelry to Rob. She's fine paying the rent herself -- she's squirreled away money from various appearances as well as their reality show. She's also confident she has earning power post-Rob.The big ticket item -- supporting Dream. Our sources say Chyna has no intention of going to court for child support, at least for now. We know Rob wants to raise the baby himself, and it doesn't seem Chyna is putting up much of a fight on that front. Fact is ... her other kid, King Cairo, is being raised primarily by Tyga.It's unlikely in the foreseeable future either one of them will go to court for money or custody. They both have significant issues, and we're told they don't want to risk an adverse ruling by a judge.\n",
      "\n",
      "Blac Chyna's side piece -- the guy posting pics of them naked together in bed to get back at Rob -- has a surprising response to all the drama ... a compliment.Ferrari, a rapper, was outside Capitol Records in Hollywood Thursday ... and seemed unfazed by being square in the middle of the feud. Rob's called him out for banging Chyna, but Ferrari surprised us -- by NOT firing heat back at Rob.Ferrari told us how he feels about Rob, but we're still not sure we're buying it.For everything else -- including sex tape rumors -- he's deferring to Chyna. There's one thing we know for sure, though ... his chain looks familiar.\n",
      "\n",
      "Tyga's not worried about Rob Kardashian dragging his name into the all out war with Blac Chyna because he's focused on being Super Dad ... for real.Chyna, and Kylie Jenner's ex, has been on the sidelines while Rob and BC aired their dirty laundry over social media, but Thursday at LAX he opened up ... although reluctantly. His face said a lot!Tyga has custody of King -- his son with Chyna -- at least 50 percent of the time, which explains his perspective on the Rob feud.As for his baby mama -- Tyga could've easily taken a cheap shot, but took the high road. For real.\n",
      "\n",
      "Blac Chyna's side piece, Ferrari, is fighting fire with fire by posting more semi-naked photos of him in bed with Rob's baby mama.In both pics, Ferrari and Chyna both appear to be naked under the covers in the bed where Rob insists he and Chyna conceived Dream. We're told the pics are supposed to send a message to Rob -- Ferrari ain't broke and banging Blac Chyna ... he's just banging her.Sources close to Ferrari tell us the photos were actually taken a month ago when Rob had no idea Chyna was hooking up with Ferrari. They are extra insulting since Chyna is wearing both Ferrari's $250k chain and the jewelry that Rob bought her.We're told Ferrari is retaliating because Rob called him broke on social media ... and Ferrari insists that's just not the case.\n",
      "\n",
      "Rob Kardashian has crossed the line by posting pics of Blac Chyna's vagina on social media and the public back and forth between them is causing long-term damage to Dream ... this is what the Kardashians are telling friends.We're told the Kardashians are adamant ... ANY public feuding between Rob and Chyna is unacceptable. They are ashamed the war has become a public spectacle and hurting the family name.Even worse than damaging the brand, family members worry Rob and Chyna are hurting 7-month-old Dream. In particular they cringed when Rob posted, \"She had a baby out of spite\" to get back at Tyga. They say this is the kind of stuff a child will see later and it can cause long-term damage.More immediately ... the Kardashians think it's damaging for Dream to live in homes where the parents are at war.The fam still maintains loyalty to Rob and want to help him, but their main concern is Dream and the impact the war is having on her well-being.\n",
      "\n",
      "Rob Kardashian might have an ally in his attempted takedown of Blac Chyna ... Pilot Jones, one of the guys she allegedly dated after one of their many splits.Pilot's the guy Rob physically threatened over text ... after photos surfaced showing Pilot and Blac Chyna making out.Pilot's moved to Miami, documenting his life post-BC for an upcoming reality show called \"A-List: Miami.\" It's been filming for a few months and we're told he goes into great detail about their relationship ... mostly how Chyna used him to goose her TV show with Rob.Production sources tell us Pilot has been trying to get Chyna and Rob on his show to talk about the makeout photos.\n",
      "\n",
      "2:18 PM PT -- It appears Twitter has now also removed the nude photos of Chyna from Rob's account.It seems Instagram has had it with Rob Kardashian's revenge porn against Blac Chyna, 'cause they just shut down his page.Rob tweeted Wednesday ... \"Since Instagram shut me down everyone peep my twitter lol\" ... and then proceeded to post the same nudes of his ex on Twitter.As we reported ... Rob's on a social media rampage against Chyna after he allegedly caught her cheating, posting naked pictures of her as well as text messages from her and her alleged side pieces.It's unlikely Rob will be prosecuted under California's revenge porn law, because prosecutors must show the victim suffered emotional distress ... almost impossible to do since Chyna \"liked\" the pics on Instagram.Probably won't be long now 'til @Jack and co. take him down on Twitter too.\n",
      "\n",
      "Rob Kardashian's revenge against Blac Chyna -- posting pics of her vagina and breasts -- would seem to violate the revenge porn law ... but that doesn't seem to be the case.As we reported, Rob believed Chyna was cheating on him and he went on the warpath, not only posting the pics but after they were removed ... he reposted them.In California there's a 2013 law which states ... \"A person who intentionally distributes the image of the intimate body part of another ... knowing they'll cause emotional distress\" is guilty of a misdemeanor punishable by up to 6 months in jail.You would think it's a textbook case of revenge porn, but there's a rub. Chyna \"liked\" the pics on Instagram, so it's hard to argue she suffered emotional distress.What's more ... the law says in order to be convicted there must have been an understanding the images would remain private. \"Liking\" the pics does not seem consistent with keeping the pics private.And one more thing ... we're told the would-be victim -- Blac Chyna -- would never go to the cops and file a police report.\n",
      "\n",
      "Rob Kardashian got tipped off that Blac Chyna was allegedly cheating on him by the baby mama of \"the other guy.\"Sources connected with Rob and Chyna tell TMZ ... Rob got a DM 2 weeks ago from the woman who had a baby with rapper Ferrari. She claimed Ferrari and Chyna had been intimate for 2 months.Ferrari's baby mama blew the whistle just after Rob reconciled with Chyna. He wasn't sure if the woman was telling the truth, so he began confronting people, starting with Ferrari.We're told Ferrari denied he was hooking up with Chyna, but Rob persisted and then confronted her. We're told Chyna also denied it.Fast-forward to the weekend, when Ferrari posted a pic of himself in Chyna's bed ... especially galling because Rob says he paid for the bed. Ferrari was wearing Rob's Versace robe ... which enraged him.\n",
      "\n",
      "9:18 AM PT -- Rob's photos of a naked Blac Chyna have been taken down for the 2nd time today. He originally posted 3 pics of Chyna naked (2 of 'em allegedly post-op), which were taken down by IG. But he put them up again soon after ... and had them taken down once more.Rob Kardashian and Blac Chyna are at war ... she's claimed he beat her, he's claiming she's hooking up with a bunch of guys to torture him.Chyna claims Rob beat her up and then tried intimidating her to stay quiet or else she'd incur the wrath of the Kardashian family.Just 2 weeks ago it looked like they got back together, but now it's off the hinges. Rob claims his baby mama sent him a pic of her vagina Tuesday -- as if to entice him -- and then hooked up with a rapper named Ferrari.Our Ferrari sources say he's been open about his fling with Chyna, so it sounds like Rob isn't dreaming this up. What's more ... Ferrari says he's been hooking up with Chyna for several months, which overlaps with the time she reconciled with Rob.We're told the trigger for the war is all over Chyna and Ferrari.Rob is now going wild, threatening Chyna that he'll block her from even seeing their child.\n",
      "\n",
      "Start your holiday weekend off swimmingly by soaking in the Blac Chyna pool pics ... then dive in and see if you can declare the differences between these two independent images.\n",
      "\n",
      "Rob Kardashian has traded up on the home front ... no, he's not dating a new chick, he's sold his first home for a modest profit.Rob bought the 4 bedroom pad in Calabasas' Oaks neighborhood for $2.285 million in February 2016. He put it on the market 11 months later for $2.6 million, right after the birth of his daughter, Dream. It finally sold Wednesday for $2.44 mil, so Rob pocketed a little more than $100k, with the help of Tomer Fridman of Compass Real Estate.\n",
      "\n",
      "Lamar Odom says he really misses his former BFF, Rob Kardashian -- and thinks he's being punished because \"maybe I hurt his sister too much.\"The ex-NBA star appeared on \"The Wendy Williams Show\" and opened up about how Rob hasn't spoken to Lamar in a while ... with Odom saying, \"I haven't met his child yet.\"Lamar and Rob were super tight back in the day -- especially when Rob lived with Khloe and Lamar for a 2-year span. Lamar considered Rob his \"brother.\"You can see Odom is emotional about the situation -- but admits, \"If she was my [sister], I'd have a problem with me too.\"As we previously reported, Khloe tried to save her marriage to Lamar -- but he was too consumed by his drug addiction. Lamar has since apologized and said the drugs made him forget who he was.Odom has been through rehab and says he's clean, sober and back to the old Lamar.Khloe, of course, has moved on ... she's now with NBA star Tristan Thompson.And there was also this bizarre exchange about the brothel that almost killed Lamar. He does NOT remember things the way cops and doctors do.\n",
      "\n",
      "Blac Chyna got rear-ended in a traffic collision and was placed in an ambulance ... while the other driver was allegedly detained by cops for a possible DUI.Chyna was in her white Rolls-Royce in Studio City, CA around 2:30 AM Saturday morning when she got into the car accident. She was checked out by paramedics for about 45 minutes before she was released and picked up by another ride.We're told LAPD officers detained the other driver and administered some DUI tests ... no word yet if there was an arrest.Blac Chyna's no stranger to car accident drama ... she was sued last year for letting her friend drive her car that ended up involved in a hit-and-run.\n",
      "\n",
      "Rob Kardashian and Blac Chyna are back on again ... or at the very least getting it on again.Rob showed up at Chyna's doorstep last week and hasn't left.We showed you how they spent Father's Day ... at Disneyland with 7-month-old Dream. As we said, it didn't make a whole lot of sense for them to take an infant to a theme park she can't appreciate, so it seems liked it was more for them than the kid.Now we've found out Rob's been there every day and every night ... going on a week. They've been socializing with friends and family with BBQ's and a pool party, and they've taken hikes together.Chyna dropped a ton of cash on gifts for Father's Day, including a Louis Vuitton bag, a customized Dodgers hat, sneakers and white and blue roses emblazoned with an \"R.\"We're told this has nothing to do with a TV show or business ... they're back into each other, at least for now.\n",
      "\n",
      "Remember Rob Kardashian and Blac Chyna ﻿had a kid together? We almost forgot too ... until we saw they'd all resurfaced at Disneyland for Father's Day.Rob and BC worked out their differences to come together Sunday with their 7-month-old daughter, Dream, for a day at the Happiest Place on Earth.Eyewitnesses spotted them getting on and off It's a Small World -- with Chyna and Dream both rockin' Mouse ears ... and Rob opting for his go-to outfit, of course.As we reported ... Rob and Chyna have had some bumps in the road ever since Dream was born back in November. And yet, time and time again they reunite for sweet moments like this.From the looks of their stroller couple action, you'd never guess anything was amiss. Happy Dad Day, Rob!\n",
      "\n",
      "TMZ Sports has obtained new footage of the Rex & Rob Ryan bar fight in Nashville -- which shows Rex cussing out a bar patron and then spilling a margarita on the guy.It all went down Sunday at Margaritaville -- you can see Matt Havel chatting up the ex-NFL coaches and another man at the Ryans' table ... until Havel said something that set Rex off.Unclear what Matt said ... but Rex blows up at the guy. Rob shoves him. And while Rex grabs the guy's drink to move it to another table, someone bumps his elbow ... and Matt gets splashed with booze.The fight quickly escalated ... with Rob eventually grabbing Matt by the neck.Havel later filed a police report accusing both brothers of simple assault.That said ... props to the singer who continued to play a pretty solid rendition of the Kenny Rogers classic, \"The Gambler\" while the scrap broke out.\n",
      "\n"
     ]
    }
   ],
   "source": [
    "for i in range(len(km.labels_)):\n",
    "    if km.labels_[i] == 7:\n",
    "        print(article_list[i])\n",
    "        print()"
   ]
  },
  {
   "cell_type": "markdown",
   "metadata": {},
   "source": [
    "### Clustering Visualizations"
   ]
  },
  {
   "cell_type": "markdown",
   "metadata": {},
   "source": [
    "Let's also visualize the clusters. We'll visualize the clusters using a TSNE plot. (It may take a while to run because this is computationally intensive). The TSNE plot is a dimensionality reduction technique similar to PCA, but it always produces a 2 dimensional separation, in contrast to PCA which can produce many different components:"
   ]
  },
  {
   "cell_type": "code",
   "execution_count": 8,
   "metadata": {},
   "outputs": [],
   "source": [
    "tsne = manifold.TSNE(n_components=2, init='pca', random_state=0,  method='exact')\n",
    "Y = tsne.fit_transform(X)"
   ]
  },
  {
   "cell_type": "markdown",
   "metadata": {},
   "source": [
    "If we plotted this as is, then all of the points would be in blue:"
   ]
  },
  {
   "cell_type": "code",
   "execution_count": 9,
   "metadata": {},
   "outputs": [
    {
     "data": {
      "text/plain": [
       "Text(0.5, 1.0, 't-SNE')"
      ]
     },
     "execution_count": 9,
     "metadata": {},
     "output_type": "execute_result"
    },
    {
     "data": {
      "image/png": "[encoded data removed]",
      "text/plain": [
       "<Figure size 1080x576 with 1 Axes>"
      ]
     },
     "metadata": {
      "needs_background": "light"
     },
     "output_type": "display_data"
    }
   ],
   "source": [
    "fig = plt.figure(figsize=(15, 8))\n",
    "\n",
    "plt.scatter(Y[:, 0], Y[:, 1])\n",
    "\n",
    "plt.title(\"t-SNE\")"
   ]
  },
  {
   "cell_type": "markdown",
   "metadata": {},
   "source": [
    "We would like different clusters to be labeled different colors. Therefore, we will first create a color key:"
   ]
  },
  {
   "cell_type": "code",
   "execution_count": 10,
   "metadata": {},
   "outputs": [],
   "source": [
    "color = []\n",
    "for i in range(len(km.labels_)):\n",
    "    if km.labels_[i] == 0:\n",
    "        color.append('orange')\n",
    "    elif km.labels_[i] == 1:\n",
    "        color.append('tab:gray') # tab stands for tableau colors - these are other colors built in\n",
    "    elif km.labels_[i] == 2:\n",
    "        color.append('tab:olive') \n",
    "    elif km.labels_[i] == 3:\n",
    "        color.append('tab:purple')\n",
    "    elif km.labels_[i] == 4:\n",
    "        color.append('tab:red')\n",
    "    elif km.labels_[i] == 5:\n",
    "        color.append('tab:green')\n",
    "    elif km.labels_[i] == 6:\n",
    "        color.append('tab:blue')\n",
    "    elif km.labels_[i] == 7:\n",
    "        color.append('tab:cyan')\n",
    "    elif km.labels_[i] == 8:\n",
    "        color.append('k')      \n",
    "    elif km.labels_[i] == 9:\n",
    "        color.append('red')        \n",
    "        "
   ]
  },
  {
   "cell_type": "markdown",
   "metadata": {},
   "source": [
    "Then, we can apply color coding to our plot:"
   ]
  },
  {
   "cell_type": "code",
   "execution_count": 11,
   "metadata": {},
   "outputs": [
    {
     "data": {
      "text/plain": [
       "Text(0.5, 1.0, 't-SNE')"
      ]
     },
     "execution_count": 11,
     "metadata": {},
     "output_type": "execute_result"
    },
    {
     "data": {
      "image/png": "[encoded data removed]",
      "text/plain": [
       "<Figure size 1080x576 with 1 Axes>"
      ]
     },
     "metadata": {
      "needs_background": "light"
     },
     "output_type": "display_data"
    }
   ],
   "source": [
    "fig = plt.figure(figsize=(15, 8))\n",
    "\n",
    "plt.scatter(Y[:, 0], Y[:, 1], c=color, cmap=plt.cm.Spectral)\n",
    "plt.title(\"t-SNE\")"
   ]
  },
  {
   "cell_type": "markdown",
   "metadata": {},
   "source": [
    "### d3 scatterplots\n",
    "On the above plot, it is not easy to see which color corresponds to which set of articles. Let's use d3 to do this instead. [d3](https://d3js.org/) is an extremely powerful tool for doing visualizations. It uses JavaScript which is a language used for web development, but you can usually just copy and paste others' code and just make tiny tweaks in order to plot what you need even if you don't know JavaScript.\n",
    "\n",
    "First, let's create celeb categories for the articles that contain article themes that we'll be interested in:"
   ]
  },
  {
   "cell_type": "code",
   "execution_count": 12,
   "metadata": {},
   "outputs": [],
   "source": [
    "celeb_categories = ['other' for i in range(len(article_list))]\n",
    "\n",
    "for i in range(len(article_list)):\n",
    "    if any(substring in article_list[i].lower() for substring in ['chyna ', 'ferrari ']):\n",
    "        celeb_categories[i] = 'rob & chyna'\n",
    "    elif any(substring in article_list[i].lower() for substring in ['kim ', 'kanye ']):\n",
    "        celeb_categories[i] = 'kim & kanye'\n",
    "    elif any(substring in article_list[i].lower() for substring in ['bieb',]):\n",
    "        celeb_categories[i] = 'justin bieber'\n",
    "    elif any(substring in article_list[i].lower() for substring in ['trump ', 'president ', 'donald ','prez ', 'scaramucci']):\n",
    "        celeb_categories[i] = 'trump'\n",
    "    elif any(substring in article_list[i].lower() for substring in ['corinne ', 'demario ', 'bachelor ']):\n",
    "        celeb_categories[i] = 'bachelor pool scandal'\n",
    "    elif any(substring in article_list[i].lower() for substring in ['floyd ', 'conor ' ,'mcgregor ', 'mayweather ']):\n",
    "        celeb_categories[i] = 'mcgregor mayweather fight'\n",
    "    elif any(substring in article_list[i].lower() for substring in ['chester ','cornell ' ,'bennington ', 'linkin ']):\n",
    "        celeb_categories[i] = 'chester & chris cornell suicides'\n",
    "    elif any(substring in article_list[i].lower() for substring in ['usher ', 'herpes ']):\n",
    "        celeb_categories[i] = 'usher herpes scandal'\n",
    "    elif any(substring in article_list[i].lower() for substring in ['cosby ']):\n",
    "        celeb_categories[i] = 'cosby trial'\n",
    "    elif any(substring in article_list[i].lower() for substring in ['o.j. ']):\n",
    "        celeb_categories[i] = 'o.j. simpson'"
   ]
  },
  {
   "cell_type": "markdown",
   "metadata": {},
   "source": [
    "We can easily view how many of each type of article there are:"
   ]
  },
  {
   "cell_type": "code",
   "execution_count": 13,
   "metadata": {},
   "outputs": [
    {
     "data": {
      "text/plain": [
       "Counter({'other': 1090,\n",
       "         'o.j. simpson': 31,\n",
       "         'usher herpes scandal': 11,\n",
       "         'trump': 109,\n",
       "         'kim & kanye': 55,\n",
       "         'rob & chyna': 48,\n",
       "         'bachelor pool scandal': 45,\n",
       "         'justin bieber': 38,\n",
       "         'chester & chris cornell suicides': 27,\n",
       "         'mcgregor mayweather fight': 32,\n",
       "         'cosby trial': 21})"
      ]
     },
     "execution_count": 13,
     "metadata": {},
     "output_type": "execute_result"
    }
   ],
   "source": [
    "Counter(celeb_categories)"
   ]
  },
  {
   "cell_type": "markdown",
   "metadata": {},
   "source": [
    "Then, we'll need to create a csv file of the data that we want to plot. The x and y coordinates will be the same as in the TSNE plot above. We'll also store each x and y point along with its category label and original article. We'll write this DataFrame to a csv file called \"d3_scatterplot/celebdata.csv\"."
   ]
  },
  {
   "cell_type": "code",
   "execution_count": 14,
   "metadata": {},
   "outputs": [],
   "source": [
    "xpoints = [Y[i, 0] for i in range(len(article_list))]\n",
    "ypoints = [Y[i, 1] for i in range(len(article_list))]\n",
    "\n",
    "\n",
    "df = pd.DataFrame(\n",
    "    {\n",
    "    'article': article_list,\n",
    "    'celeb': celeb_categories,\n",
    "    'x': xpoints,\n",
    "    'y': ypoints\n",
    "    })\n",
    "\n",
    "df = df[df['celeb']!= 'other']\n",
    "df.shape\n",
    "df.to_csv(path_or_buf = 'd3_scatterplot/celebdata.csv', index = False, header = ['article', 'celeb', 'x', 'y'])"
   ]
  },
  {
   "cell_type": "markdown",
   "metadata": {},
   "source": [
    "Now, open up a new terminal. \n",
    "\n",
    "Change directories INTO d3_scatterplot (then type pwd to confirm you are where you should be).\n",
    "\n",
    "Now type ```python -m http.server``` and press enter. This is making your local computer act as a server (which is needed to view the d3 plot). \n",
    "\n",
    "Notice that inside this folder is a file called index.html. \n",
    "\n",
    "Your terminal should give some sort of output like ```Serving HTTP on 0.0.0.0 port 8000 (http://0.0.0.0:8000/) ...``` Open up a web browser and type in that address followed by the index.html name. For example, it will probably be ```http://0.0.0.0:8000/index.html```\n",
    "\n",
    "You should now see your d3 plot. If you hover over a point, the corresponding article text should pop up. Do some exploring and you will see that the points we color coded ourselves (corresponding to articles containing words like \"Cosby\", \"Kanye\", etc.) are clustered together nicely by the TSNE algorithms that was not provided any information from us except for the original corpus of articles. Pretty cool!!! \n",
    "\n",
    "You are also able to zoom in and out of the plot. If you'd like to see more of the JavaScript code that is making this super cool plot, open up the scatter.js file that is located within the d3_scatterplot directory."
   ]
  },
  {
   "cell_type": "markdown",
   "metadata": {},
   "source": [
    "### d3 Word Clouds\n",
    "\n",
    "Another type of plot besides a scatterplot that you can create with d3 is a word cloud in which the size of the word is related to the frequency of the word. \n",
    "\n",
    "First, we'll create a DataFrame in which each row corresponds to a word and each column corresponds to a 1 if that word appears in a given article number:"
   ]
  },
  {
   "cell_type": "code",
   "execution_count": 15,
   "metadata": {},
   "outputs": [
    {
     "data": {
      "text/html": [
       "<div>\n",
       "<style scoped>\n",
       "    .dataframe tbody tr th:only-of-type {\n",
       "        vertical-align: middle;\n",
       "    }\n",
       "\n",
       "    .dataframe tbody tr th {\n",
       "        vertical-align: top;\n",
       "    }\n",
       "\n",
       "    .dataframe thead th {\n",
       "        text-align: right;\n",
       "    }\n",
       "</style>\n",
       "<table border=\"1\" class=\"dataframe\">\n",
       "  <thead>\n",
       "    <tr style=\"text-align: right;\">\n",
       "      <th></th>\n",
       "      <th>0</th>\n",
       "      <th>1</th>\n",
       "      <th>2</th>\n",
       "      <th>3</th>\n",
       "      <th>4</th>\n",
       "      <th>5</th>\n",
       "      <th>6</th>\n",
       "      <th>7</th>\n",
       "      <th>8</th>\n",
       "      <th>9</th>\n",
       "      <th>...</th>\n",
       "      <th>1497</th>\n",
       "      <th>1498</th>\n",
       "      <th>1499</th>\n",
       "      <th>1500</th>\n",
       "      <th>1501</th>\n",
       "      <th>1502</th>\n",
       "      <th>1503</th>\n",
       "      <th>1504</th>\n",
       "      <th>1505</th>\n",
       "      <th>1506</th>\n",
       "    </tr>\n",
       "    <tr>\n",
       "      <th>word</th>\n",
       "      <th></th>\n",
       "      <th></th>\n",
       "      <th></th>\n",
       "      <th></th>\n",
       "      <th></th>\n",
       "      <th></th>\n",
       "      <th></th>\n",
       "      <th></th>\n",
       "      <th></th>\n",
       "      <th></th>\n",
       "      <th></th>\n",
       "      <th></th>\n",
       "      <th></th>\n",
       "      <th></th>\n",
       "      <th></th>\n",
       "      <th></th>\n",
       "      <th></th>\n",
       "      <th></th>\n",
       "      <th></th>\n",
       "      <th></th>\n",
       "      <th></th>\n",
       "    </tr>\n",
       "  </thead>\n",
       "  <tbody>\n",
       "    <tr>\n",
       "      <th>AM</th>\n",
       "      <td>0</td>\n",
       "      <td>0</td>\n",
       "      <td>0</td>\n",
       "      <td>0</td>\n",
       "      <td>0</td>\n",
       "      <td>0</td>\n",
       "      <td>0</td>\n",
       "      <td>0</td>\n",
       "      <td>0</td>\n",
       "      <td>0</td>\n",
       "      <td>...</td>\n",
       "      <td>0</td>\n",
       "      <td>0</td>\n",
       "      <td>0</td>\n",
       "      <td>0</td>\n",
       "      <td>0</td>\n",
       "      <td>0</td>\n",
       "      <td>1</td>\n",
       "      <td>0</td>\n",
       "      <td>0</td>\n",
       "      <td>0</td>\n",
       "    </tr>\n",
       "    <tr>\n",
       "      <th>Aaron</th>\n",
       "      <td>0</td>\n",
       "      <td>0</td>\n",
       "      <td>0</td>\n",
       "      <td>0</td>\n",
       "      <td>0</td>\n",
       "      <td>0</td>\n",
       "      <td>0</td>\n",
       "      <td>0</td>\n",
       "      <td>0</td>\n",
       "      <td>0</td>\n",
       "      <td>...</td>\n",
       "      <td>0</td>\n",
       "      <td>0</td>\n",
       "      <td>0</td>\n",
       "      <td>0</td>\n",
       "      <td>0</td>\n",
       "      <td>0</td>\n",
       "      <td>0</td>\n",
       "      <td>0</td>\n",
       "      <td>0</td>\n",
       "      <td>0</td>\n",
       "    </tr>\n",
       "    <tr>\n",
       "      <th>According</th>\n",
       "      <td>0</td>\n",
       "      <td>0</td>\n",
       "      <td>0</td>\n",
       "      <td>0</td>\n",
       "      <td>0</td>\n",
       "      <td>0</td>\n",
       "      <td>0</td>\n",
       "      <td>0</td>\n",
       "      <td>0</td>\n",
       "      <td>0</td>\n",
       "      <td>...</td>\n",
       "      <td>0</td>\n",
       "      <td>0</td>\n",
       "      <td>0</td>\n",
       "      <td>0</td>\n",
       "      <td>0</td>\n",
       "      <td>0</td>\n",
       "      <td>0</td>\n",
       "      <td>0</td>\n",
       "      <td>0</td>\n",
       "      <td>0</td>\n",
       "    </tr>\n",
       "    <tr>\n",
       "      <th>After</th>\n",
       "      <td>0</td>\n",
       "      <td>0</td>\n",
       "      <td>0</td>\n",
       "      <td>0</td>\n",
       "      <td>0</td>\n",
       "      <td>0</td>\n",
       "      <td>0</td>\n",
       "      <td>0</td>\n",
       "      <td>0</td>\n",
       "      <td>0</td>\n",
       "      <td>...</td>\n",
       "      <td>0</td>\n",
       "      <td>0</td>\n",
       "      <td>0</td>\n",
       "      <td>0</td>\n",
       "      <td>0</td>\n",
       "      <td>0</td>\n",
       "      <td>0</td>\n",
       "      <td>0</td>\n",
       "      <td>0</td>\n",
       "      <td>0</td>\n",
       "    </tr>\n",
       "    <tr>\n",
       "      <th>Air</th>\n",
       "      <td>0</td>\n",
       "      <td>0</td>\n",
       "      <td>0</td>\n",
       "      <td>0</td>\n",
       "      <td>0</td>\n",
       "      <td>0</td>\n",
       "      <td>0</td>\n",
       "      <td>0</td>\n",
       "      <td>0</td>\n",
       "      <td>0</td>\n",
       "      <td>...</td>\n",
       "      <td>0</td>\n",
       "      <td>0</td>\n",
       "      <td>0</td>\n",
       "      <td>0</td>\n",
       "      <td>0</td>\n",
       "      <td>0</td>\n",
       "      <td>0</td>\n",
       "      <td>0</td>\n",
       "      <td>0</td>\n",
       "      <td>0</td>\n",
       "    </tr>\n",
       "  </tbody>\n",
       "</table>\n",
       "<p>5 rows × 1507 columns</p>\n",
       "</div>"
      ],
      "text/plain": [
       "           0     1     2     3     4     5     6     7     8     9     ...  \\\n",
       "word                                                                   ...   \n",
       "AM            0     0     0     0     0     0     0     0     0     0  ...   \n",
       "Aaron         0     0     0     0     0     0     0     0     0     0  ...   \n",
       "According     0     0     0     0     0     0     0     0     0     0  ...   \n",
       "After         0     0     0     0     0     0     0     0     0     0  ...   \n",
       "Air           0     0     0     0     0     0     0     0     0     0  ...   \n",
       "\n",
       "           1497  1498  1499  1500  1501  1502  1503  1504  1505  1506  \n",
       "word                                                                   \n",
       "AM            0     0     0     0     0     0     1     0     0     0  \n",
       "Aaron         0     0     0     0     0     0     0     0     0     0  \n",
       "According     0     0     0     0     0     0     0     0     0     0  \n",
       "After         0     0     0     0     0     0     0     0     0     0  \n",
       "Air           0     0     0     0     0     0     0     0     0     0  \n",
       "\n",
       "[5 rows x 1507 columns]"
      ]
     },
     "execution_count": 15,
     "metadata": {},
     "output_type": "execute_result"
    }
   ],
   "source": [
    "cv = CountVectorizer(stop_words='english', \n",
    "                        token_pattern=\"\\\\b[a-zA-Z][a-zA-Z]+\\\\b\", \n",
    "                        min_df=10, lowercase = False)\n",
    "\n",
    "X = cv.fit_transform(article_list)\n",
    "\n",
    "df = pd.DataFrame(X.toarray(), columns=cv.get_feature_names())\n",
    "df = df.transpose()\n",
    "df.index.name = 'word'\n",
    "df.head()"
   ]
  },
  {
   "cell_type": "markdown",
   "metadata": {},
   "source": [
    "We will then create a series in that will contain the total frequency count of each word in all the documents:"
   ]
  },
  {
   "cell_type": "code",
   "execution_count": 16,
   "metadata": {},
   "outputs": [
    {
     "data": {
      "text/html": [
       "<div>\n",
       "<style scoped>\n",
       "    .dataframe tbody tr th:only-of-type {\n",
       "        vertical-align: middle;\n",
       "    }\n",
       "\n",
       "    .dataframe tbody tr th {\n",
       "        vertical-align: top;\n",
       "    }\n",
       "\n",
       "    .dataframe thead th {\n",
       "        text-align: right;\n",
       "    }\n",
       "</style>\n",
       "<table border=\"1\" class=\"dataframe\">\n",
       "  <thead>\n",
       "    <tr style=\"text-align: right;\">\n",
       "      <th></th>\n",
       "      <th>freq</th>\n",
       "    </tr>\n",
       "    <tr>\n",
       "      <th>word</th>\n",
       "      <th></th>\n",
       "    </tr>\n",
       "  </thead>\n",
       "  <tbody>\n",
       "    <tr>\n",
       "      <th>AM</th>\n",
       "      <td>70</td>\n",
       "    </tr>\n",
       "    <tr>\n",
       "      <th>Aaron</th>\n",
       "      <td>59</td>\n",
       "    </tr>\n",
       "    <tr>\n",
       "      <th>According</th>\n",
       "      <td>108</td>\n",
       "    </tr>\n",
       "    <tr>\n",
       "      <th>After</th>\n",
       "      <td>21</td>\n",
       "    </tr>\n",
       "    <tr>\n",
       "      <th>Air</th>\n",
       "      <td>12</td>\n",
       "    </tr>\n",
       "  </tbody>\n",
       "</table>\n",
       "</div>"
      ],
      "text/plain": [
       "           freq\n",
       "word           \n",
       "AM           70\n",
       "Aaron        59\n",
       "According   108\n",
       "After        21\n",
       "Air          12"
      ]
     },
     "execution_count": 16,
     "metadata": {},
     "output_type": "execute_result"
    }
   ],
   "source": [
    "df['freq'] = df.sum(axis = 1)\n",
    "df = df[['freq']]\n",
    "df.head()"
   ]
  },
  {
   "cell_type": "markdown",
   "metadata": {},
   "source": [
    "Upon closer inspection, there are still frequent words left that are kind of boring to put into a word cloud (for example, days of the week and location names). Let's remove these from words that we'll want to plot in our word cloud."
   ]
  },
  {
   "cell_type": "code",
   "execution_count": 17,
   "metadata": {},
   "outputs": [
    {
     "data": {
      "text/html": [
       "<div>\n",
       "<style scoped>\n",
       "    .dataframe tbody tr th:only-of-type {\n",
       "        vertical-align: middle;\n",
       "    }\n",
       "\n",
       "    .dataframe tbody tr th {\n",
       "        vertical-align: top;\n",
       "    }\n",
       "\n",
       "    .dataframe thead th {\n",
       "        text-align: right;\n",
       "    }\n",
       "</style>\n",
       "<table border=\"1\" class=\"dataframe\">\n",
       "  <thead>\n",
       "    <tr style=\"text-align: right;\">\n",
       "      <th></th>\n",
       "      <th>freq</th>\n",
       "    </tr>\n",
       "    <tr>\n",
       "      <th>word</th>\n",
       "      <th></th>\n",
       "    </tr>\n",
       "  </thead>\n",
       "  <tbody>\n",
       "    <tr>\n",
       "      <th>Aaron</th>\n",
       "      <td>59</td>\n",
       "    </tr>\n",
       "    <tr>\n",
       "      <th>Air</th>\n",
       "      <td>12</td>\n",
       "    </tr>\n",
       "    <tr>\n",
       "      <th>Alex</th>\n",
       "      <td>19</td>\n",
       "    </tr>\n",
       "    <tr>\n",
       "      <th>Allen</th>\n",
       "      <td>18</td>\n",
       "    </tr>\n",
       "    <tr>\n",
       "      <th>Also</th>\n",
       "      <td>14</td>\n",
       "    </tr>\n",
       "  </tbody>\n",
       "</table>\n",
       "</div>"
      ],
      "text/plain": [
       "       freq\n",
       "word       \n",
       "Aaron    59\n",
       "Air      12\n",
       "Alex     19\n",
       "Allen    18\n",
       "Also     14"
      ]
     },
     "execution_count": 17,
     "metadata": {},
     "output_type": "execute_result"
    }
   ],
   "source": [
    "searchfor = ['the', 'he', 'we', 'according','he', 'it', 'as', 'she', 'in', 'thursday', 'monday', \n",
    "             'friday', 'saturday', 'they', 'wednesday', 'you', 'sunday', 'tuesday', 'sources', 'white', \n",
    "             'but', 'and', 'there', 'our', 'if', 'house', 'that', 'one', 'new', 'june', 'his', 'so', \n",
    "             'july', 'when', 'law', 'this', 'park', 'no', 'county', 'not', 'warner', 'august', 'for', \n",
    "             'america', 'still', 'london', 'center', 'bros', 'live', 'big', 'san', 'mr', 'april', 'what', \n",
    "             'dr', 'ball', 'atlanta', 'now', 'miami', 'city', 'at', 'york', 'on', 'my', 'october', 'here',\n",
    "             'florida', 'all', 'washington', 'just', 'february', 'march', 'california', 'while', 'however', \n",
    "             'state', 'of', 'malibu', 'king', 'jr', 'good', 'georgia',  'after', 'thinks',\n",
    "            'says', 'told', 'time', 'ca', 'ya', 'got', 'went', 'did', 'far', 'make', 'saying', 'said',\n",
    "            'want', 'looks', 'including', 'cut', 'gets', 'called','line', 'won',\n",
    "            'let', 'pm', 'am', 'felt', 'didn', 'wasn', 'left', 'close', 'obtained', \n",
    "            'including', 'came', 'close', 'pt', 'em', 'say', 'tells', 've', 'll',\n",
    "            'don', 'right', 'took', 'tell', 'day', 'near', 'lot', 'com', 'started',\n",
    "            'clear', 'morning', 'doesn', 'try', 'bit', 'months', 'sent', 'asked',\n",
    "            'ago', 'week', 'took', 'day', 'days', 'getting', 'know', 'isn', 'wouldn',\n",
    "            'month', 'think', 'like', 'year', 'wants', 'ran', 'end', 'saw', 'making', 'tried', 'taken', 'saw']\n",
    "\n",
    "df = df[~df.index.str.lower().isin(searchfor)]\n",
    "df.head()"
   ]
  },
  {
   "cell_type": "markdown",
   "metadata": {},
   "source": [
    "We'll also only plot words that occur at least 20 times:"
   ]
  },
  {
   "cell_type": "code",
   "execution_count": 18,
   "metadata": {},
   "outputs": [
    {
     "data": {
      "text/html": [
       "<div>\n",
       "<style scoped>\n",
       "    .dataframe tbody tr th:only-of-type {\n",
       "        vertical-align: middle;\n",
       "    }\n",
       "\n",
       "    .dataframe tbody tr th {\n",
       "        vertical-align: top;\n",
       "    }\n",
       "\n",
       "    .dataframe thead th {\n",
       "        text-align: right;\n",
       "    }\n",
       "</style>\n",
       "<table border=\"1\" class=\"dataframe\">\n",
       "  <thead>\n",
       "    <tr style=\"text-align: right;\">\n",
       "      <th></th>\n",
       "      <th>freq</th>\n",
       "    </tr>\n",
       "    <tr>\n",
       "      <th>word</th>\n",
       "      <th></th>\n",
       "    </tr>\n",
       "  </thead>\n",
       "  <tbody>\n",
       "    <tr>\n",
       "      <th>Aaron</th>\n",
       "      <td>59</td>\n",
       "    </tr>\n",
       "    <tr>\n",
       "      <th>Amber</th>\n",
       "      <td>54</td>\n",
       "    </tr>\n",
       "    <tr>\n",
       "      <th>American</th>\n",
       "      <td>52</td>\n",
       "    </tr>\n",
       "    <tr>\n",
       "      <th>Attorney</th>\n",
       "      <td>20</td>\n",
       "    </tr>\n",
       "    <tr>\n",
       "      <th>Awards</th>\n",
       "      <td>22</td>\n",
       "    </tr>\n",
       "  </tbody>\n",
       "</table>\n",
       "</div>"
      ],
      "text/plain": [
       "          freq\n",
       "word          \n",
       "Aaron       59\n",
       "Amber       54\n",
       "American    52\n",
       "Attorney    20\n",
       "Awards      22"
      ]
     },
     "execution_count": 18,
     "metadata": {},
     "output_type": "execute_result"
    }
   ],
   "source": [
    "df = df[df['freq'] >= 20]\n",
    "df.head()"
   ]
  },
  {
   "cell_type": "markdown",
   "metadata": {},
   "source": [
    "We'll create a font size column that is related to the frequency of the word:"
   ]
  },
  {
   "cell_type": "code",
   "execution_count": 19,
   "metadata": {},
   "outputs": [
    {
     "data": {
      "text/html": [
       "<div>\n",
       "<style scoped>\n",
       "    .dataframe tbody tr th:only-of-type {\n",
       "        vertical-align: middle;\n",
       "    }\n",
       "\n",
       "    .dataframe tbody tr th {\n",
       "        vertical-align: top;\n",
       "    }\n",
       "\n",
       "    .dataframe thead th {\n",
       "        text-align: right;\n",
       "    }\n",
       "</style>\n",
       "<table border=\"1\" class=\"dataframe\">\n",
       "  <thead>\n",
       "    <tr style=\"text-align: right;\">\n",
       "      <th></th>\n",
       "      <th>freq</th>\n",
       "      <th>size</th>\n",
       "    </tr>\n",
       "    <tr>\n",
       "      <th>word</th>\n",
       "      <th></th>\n",
       "      <th></th>\n",
       "    </tr>\n",
       "  </thead>\n",
       "  <tbody>\n",
       "    <tr>\n",
       "      <th>Aaron</th>\n",
       "      <td>59</td>\n",
       "      <td>26</td>\n",
       "    </tr>\n",
       "    <tr>\n",
       "      <th>Amber</th>\n",
       "      <td>54</td>\n",
       "      <td>25</td>\n",
       "    </tr>\n",
       "    <tr>\n",
       "      <th>American</th>\n",
       "      <td>52</td>\n",
       "      <td>25</td>\n",
       "    </tr>\n",
       "    <tr>\n",
       "      <th>Attorney</th>\n",
       "      <td>20</td>\n",
       "      <td>20</td>\n",
       "    </tr>\n",
       "    <tr>\n",
       "      <th>Awards</th>\n",
       "      <td>22</td>\n",
       "      <td>20</td>\n",
       "    </tr>\n",
       "  </tbody>\n",
       "</table>\n",
       "</div>"
      ],
      "text/plain": [
       "          freq  size\n",
       "word                \n",
       "Aaron       59    26\n",
       "Amber       54    25\n",
       "American    52    25\n",
       "Attorney    20    20\n",
       "Awards      22    20"
      ]
     },
     "execution_count": 19,
     "metadata": {},
     "output_type": "execute_result"
    }
   ],
   "source": [
    "maxfreq = df['freq'].max()\n",
    "minfreq = df['freq'].min()\n",
    "\n",
    "bigsize = 80\n",
    "smallsize = 20\n",
    "\n",
    "def font_size(freq):\n",
    "    size = (freq - minfreq) / (maxfreq-minfreq)\n",
    "    size = int((size * bigsize) + smallsize)\n",
    "    return size\n",
    "\n",
    "df['size'] = df['freq'].apply(font_size)\n",
    "df.head()"
   ]
  },
  {
   "cell_type": "markdown",
   "metadata": {},
   "source": [
    "Now, we will write this to a file that d3 can use. This is the dataframe that will be stored in the CSV file \"d3_wordcloud/frequencies.csv\":"
   ]
  },
  {
   "cell_type": "code",
   "execution_count": 20,
   "metadata": {},
   "outputs": [
    {
     "data": {
      "text/html": [
       "<div>\n",
       "<style scoped>\n",
       "    .dataframe tbody tr th:only-of-type {\n",
       "        vertical-align: middle;\n",
       "    }\n",
       "\n",
       "    .dataframe tbody tr th {\n",
       "        vertical-align: top;\n",
       "    }\n",
       "\n",
       "    .dataframe thead th {\n",
       "        text-align: right;\n",
       "    }\n",
       "</style>\n",
       "<table border=\"1\" class=\"dataframe\">\n",
       "  <thead>\n",
       "    <tr style=\"text-align: right;\">\n",
       "      <th></th>\n",
       "      <th>word</th>\n",
       "      <th>size</th>\n",
       "    </tr>\n",
       "    <tr>\n",
       "      <th>word</th>\n",
       "      <th></th>\n",
       "      <th></th>\n",
       "    </tr>\n",
       "  </thead>\n",
       "  <tbody>\n",
       "    <tr>\n",
       "      <th>Aaron</th>\n",
       "      <td>Aaron</td>\n",
       "      <td>26</td>\n",
       "    </tr>\n",
       "    <tr>\n",
       "      <th>Amber</th>\n",
       "      <td>Amber</td>\n",
       "      <td>25</td>\n",
       "    </tr>\n",
       "    <tr>\n",
       "      <th>American</th>\n",
       "      <td>American</td>\n",
       "      <td>25</td>\n",
       "    </tr>\n",
       "    <tr>\n",
       "      <th>Attorney</th>\n",
       "      <td>Attorney</td>\n",
       "      <td>20</td>\n",
       "    </tr>\n",
       "    <tr>\n",
       "      <th>Awards</th>\n",
       "      <td>Awards</td>\n",
       "      <td>20</td>\n",
       "    </tr>\n",
       "  </tbody>\n",
       "</table>\n",
       "</div>"
      ],
      "text/plain": [
       "              word  size\n",
       "word                    \n",
       "Aaron        Aaron    26\n",
       "Amber        Amber    25\n",
       "American  American    25\n",
       "Attorney  Attorney    20\n",
       "Awards      Awards    20"
      ]
     },
     "execution_count": 20,
     "metadata": {},
     "output_type": "execute_result"
    }
   ],
   "source": [
    "df['word'] = df.index\n",
    "df = df[['word', 'size']]\n",
    "df.to_csv(path_or_buf = 'd3_wordcloud/frequencies.csv', index = False, header = ['word','size'])\n",
    "df.head()"
   ]
  },
  {
   "cell_type": "markdown",
   "metadata": {},
   "source": [
    "To view this wordcloud, if you are still in your terminal inside the d3_scatterplot directory, then type ```Control - C``` to stop serving up the scatterplot page. Navigate up one directory and then down into the d3_wordcloud directory: \n",
    "\n",
    "\n",
    "```cd ..``` \n",
    "\n",
    "```cd d3_wordcloud```\n",
    "\n",
    "Then, type ``python -m http.server``` once again and open up the webpage ```http://0.0.0.0:8000/index.html```."
   ]
  },
  {
   "cell_type": "markdown",
   "metadata": {},
   "source": [
    "### Article Recommendations"
   ]
  },
  {
   "cell_type": "markdown",
   "metadata": {},
   "source": [
    "Suppose we wanted to recommend users other articles based on articles they like. This should sound familiar to your Netflix work. Once again, we can do an SVD decomposition. Let's use the top 10 most significant latent features and find the 5 most similar articles to the Bachelor scandal below. Are recommendations are spot on!"
   ]
  },
  {
   "cell_type": "code",
   "execution_count": 21,
   "metadata": {},
   "outputs": [
    {
     "name": "stdout",
     "output_type": "stream",
     "text": [
      "Top 5 articles similar to Article #100: \"Bachelor In Paradise\" is hyping a one-on-one showdown between Corinne Olympios and DeMario Jackson, but it will actually be more like Michael Phelps' race against a great white shark.Sources close to production tell us Corinne and DeMario did NOT come face-to-face when the reunion show taped Saturday. While promoting the show, host Chris Harrison has said he'll be talking with both of them together ... insinuating he'd be mediating/refereeing.While fans would eat that up ... it ain't gonna happen. We're told DeMario came out for a solo sit-down with Harrison, but left before Corinne did her one-on-one. We're told neither were briefed on plans to be onstage at the same time.Our DeMario sources tell us he's no longer interested in seeing Corinne face-to-face to hash out the aftermath from their pool sex encounter -- mostly because he doesn't think she would be genuine. \n",
      "\n",
      "Recommendation #1 Turns out controversial \"Bachelor In Paradise\" star DeMario Jackson may not be done with reality TV -- TMZ has learned producers are seriously considering him for a \"Dancing With the Stars\" slot.Sources close to production tell us the show reached out to DeMario's publicist weeks ago, which explains why he was already fully campaigning to be in the ballroom when we asked about it last week.We're told nothing's signed ... they're still negotiating, but hard to imagine a scenario where DeMario doesn't take this opportunity.DeMario didn't return to the 'BiP' set in Mexico following the oral sex controversy with Corinne Olympios that shut down production, but he will be on the reunion episode.\n",
      "\n",
      "Recommendation #2 \"Bachelor in Paradise\" has a new way of reeling in viewers ... tapping into the sex scandal that temporarily shipwrecked the show.Production sources tell TMZ, host Chris Harrison held a powwow with the cast on the first day back to film the show after the Warner Bros. probe concluded there was no sexual assault ... and the cameras were rolling as he took people back to the Corinne Olympios/DeMario Jackson sexual escapade in the pool.We're told Harrison dramatically recounted how a producer expressed concerns and it turned into a full blown scandal. After taking everyone through the investigation, he paused, then asked the cast if they were comfortable continuing, and gave them a chance to pack up and leave.To absolutely no one's surprise, everyone stayed, drank and even banged in the boom boom room.Lemonade ... it comes from lemons.\n",
      "\n",
      "Recommendation #3 DeMario Jackson is looking for answers, and thinks a 1-on-1 with Corinne Olympios could help him finally get some peace of mind ... but she's gotta make the first move.Sources close to the \"Bachelor in Paradise\" outcast tell TMZ ... he wants to chat with Corinne about her sexual assault claim. DeMario's telling friends he doesn't hold a grudge -- after being cleared by Warner Bros. -- especially since he's bound to see Corinne again with other 'Bachelor' alums.We're told DeMario was \"blindsided and confused\" when he heard she claimed to be a victim, because when they got sent home producers told him it was because a third party had a problem with their pool sexcapade -- not Corinne.DeMario assumed he and Corinne would move on and be friends since they got along so well the first day filming -- laughing, chatting and hooking up -- so he doesn't understand what changed.There's a catch -- we're also told DeMario's not going to reach out to Corinne. He feels the ball's in her court since she played the victim card ... but he'll drop everything to meet with her if she calls.\n",
      "\n",
      "Recommendation #4 Corinne Olympios' boyfriend knew exactly what he was signing up for when she decided to go on \"Bachelor in Paradise\" ... with one HUGE caveat.Sources close to the couple tell TMZ ... Corinne and her BF, Jordan Gielchinsky, agreed she would NOT hook up with other cast members, and was only going to do the show to get pub for her new clothing line. Her plan was to be on for a couple episodes, and then bow out.Of course, that plan went to crap on the first day of taping when DeMario Jackson and Corinne ended up \"rubbing, touching and fingering\" in the pool. We broke the story ... Warner Bros. shut down production, launched an investigation and sent the cast home.We're told Jordan was initially upset when he heard what went down, but once he got the full context of the event -- meaning the heavy drinking -- he backed Corinne. He agrees she was way too drunk to give consent, and strongly believes producers and medical staffers should have intervened.The couple's been inseparable in L.A. since she returned from Mexico.\n",
      "\n",
      "Recommendation #5 Production for 'Bachelor in Paradise' has been suspended after allegations of misconduct were reported ... which puts a halt to filming for the upcoming season indefinitely.Warner Bros. execs for the show said Sunday that they had been alerted to some sort of misconduct on the set of 'BiP', which is currently shooting in Mexico.As a result of the allegations -- which at this point have not been made public -- WB has put a temporary halt to the show and is now investigating. They've said they will also take appropriate action upon completing the investigation.This season of 'BiP' is highly anticipated, especially after Nick Viall's recent stint on 'The Bachelor.' Some of his axed ladies like Raven Gates, Corinne Olympios and Taylor Nolan were cast, as was Amanda Stanton from Ben Higgins' season. Some of the guys cast were Derek Peth, Nick Benvenutti, Ben Zorn and DeMario Jackson.\n",
      "\n",
      "Article numbers similar to article 100: [253, 756, 1080, 1271, 1426]\n"
     ]
    }
   ],
   "source": [
    "pipe = [('tfidf', TfidfVectorizer(stop_words='english', \n",
    "                        token_pattern=\"\\\\b[a-zA-Z][a-zA-Z]+\\\\b\", \n",
    "                        min_df=10)),\n",
    "        ('lsa', TruncatedSVD(n_components=10, random_state=99)),\n",
    "        ('normalizer', Normalizer())]\n",
    "\n",
    "pipeline = Pipeline(pipe)\n",
    "\n",
    "dtm_svd = pipeline.fit_transform(article_list)\n",
    "\n",
    "df = pd.DataFrame(dtm_svd.round(10), index=article_list)\n",
    "\n",
    "def get_article_recs(compare_sentence, df, num_recom):\n",
    "    recs = []\n",
    "    for sentence in range(df.shape[0]):\n",
    "        if sentence != compare_sentence:\n",
    "            recs.append((np.dot(df.iloc[compare_sentence],df.iloc[sentence]), sentence))\n",
    "    recs.sort(reverse = True)\n",
    "    final_rec = [recs[i][1] for i in range(num_recom)]\n",
    "    for i, rec in enumerate(final_rec):\n",
    "        print(f\"Recommendation #{i+1} {article_list[rec]}\\n\")\n",
    "    return final_rec\n",
    "\n",
    "article_number = 100\n",
    "num_of_recs = 5\n",
    "print(f\"Top {num_of_recs} articles similar to Article #{article_number}: {article_list[article_number]} \\n\")\n",
    "print(f\"Article numbers similar to article {article_number}: {get_article_recs(article_number,df,num_of_recs)}\")"
   ]
  },
  {
   "cell_type": "markdown",
   "metadata": {},
   "source": [
    "What about the most similar articles to this Blac Chyna - Rob Kardashian breakup story?"
   ]
  },
  {
   "cell_type": "code",
   "execution_count": 22,
   "metadata": {},
   "outputs": [
    {
     "name": "stdout",
     "output_type": "stream",
     "text": [
      "Top 5 articles similar to Article #22: Blac Chyna had the cops called on her after Rob's baby mama went ham over a roofer.It happened Tuesday morning at Chyna's L.A. home. She pitched a fit when a guy next door started pitching a roof at 9 AM. We're told Chyna confronted the homeowner, saying it was too damn early to start construction. She said the noise woke up little Dream, and that pissed her off.The neighbor claims Chyna went so ballistic she got scared and called the cops.We're told cops showed up and gave Chyna a free lesson about the law. In L.A., construction can fire up at 7 AM, so the roofer was well within his rights.Chyna calmed down, and cops beat it. \n",
      "\n",
      "Recommendation #1 Rob Kardashian's revenge against Blac Chyna -- posting pics of her vagina and breasts -- would seem to violate the revenge porn law ... but that doesn't seem to be the case.As we reported, Rob believed Chyna was cheating on him and he went on the warpath, not only posting the pics but after they were removed ... he reposted them.In California there's a 2013 law which states ... \"A person who intentionally distributes the image of the intimate body part of another ... knowing they'll cause emotional distress\" is guilty of a misdemeanor punishable by up to 6 months in jail.You would think it's a textbook case of revenge porn, but there's a rub. Chyna \"liked\" the pics on Instagram, so it's hard to argue she suffered emotional distress.What's more ... the law says in order to be convicted there must have been an understanding the images would remain private. \"Liking\" the pics does not seem consistent with keeping the pics private.And one more thing ... we're told the would-be victim -- Blac Chyna -- would never go to the cops and file a police report.\n",
      "\n",
      "Recommendation #2 Rob Kardashian and Blac Chyna are making new allegations of domestic violence against each other, and both claim the alleged incidents are captured on video.Chyna -- who's in court Monday morning for a domestic violence restraining order against Rob -- has already claimed Rob got physical with her.Sources connected with Chyna tell us she will add other claims, including one incident several months ago where she says Rob allegedly hit her and knocked her to the ground. She says she ran to her bedroom and he broke the door open. She supposedly has photos and videos of the incident.As for Rob, sources close to the situation say in December, the day Chyna moved out of the house she and Rob were sharing, she tried choking him with an iPhone cord and tried hitting him with a metal rod. The sources say Corey Gamble walked in and pulled Chyna off Rob. She then allegedly went through the house, smashing televisions, doors and other items, causing $35k in damage. The sources say Rob has surveillance video documenting the incident.We're also told Rob's lawyers have texts from the time Chyna moved out, in which she told a friend that Rob would never hit her. Our sources say they feel the messages help to vindicate Rob.\n",
      "\n",
      "Recommendation #3 Rob Kardashian's brutal rants against Blac Chyna showed her side piece the light -- and now Ferrari is kicking her to the curb too, and saving himself more than 100 grand in the process.Sources connected to the rapper, tell us Ferrari was hooked on Chyna ... so much so he dropped $135,648 on three pieces of jewelry for her:- $34,850 for a Rolex - $56,500 for a gold necklace- $32,250 for diamond earringsFerrari scooped up the booty back in June when he thought he and Chyna were the real deal -- she's even listed as \"spouse\" on the receipt. We're told they'd talked for a while about getting his and hers Rollies -- but after Rob accused BC of banging several dudes, Ferrari was done.We're told his manager, Keely the Boss, planned to deliver the gifts on July 5, but that's the day Rob unleashed his allegations. Ferrari immediately called off the delivery and returned everything on Friday.\n",
      "\n",
      "Recommendation #4 Blac Chyna's beefing up her personal security and got her former side piece banned from her upcoming club appearance ... because his recent actions are scaring her.Sources close to Chyna tell TMZ ... Ferrari won't be allowed in at the Medusa Restaurant & Lounge in Atlanta Saturday night, where Blac is scheduled to host a party. We're told  Chyna's hired 4 extra bodyguards for the night in case the rapper -- who hails from ATL -- shows up.Chyna's camp claims Ferrari's been calling and texting her the past week, and demands for him to stop the harassment having been blown off. We're told Chyna believes he's released revenge porn despite a letter warning him not to, and she also fears for her safety because he's acting obsessive and delusional. His interview with TMZ particularly scared her.The owner of Medusa, Lil Henny, tells us he will honor Chyna's ban request and make sure Ferrari is not allowed on the premises while she's working the joint.\n",
      "\n",
      "Recommendation #5 Rob Kardashian is deeply remorseful for slut shaming Blac Chyna ... at least that's what he told his family.Sources close to the situation tell TMZ ... Rob's spoken with all of his sisters and his mom, telling them he has no excuse for posting nude pics of Chyna and her medical information on social media. He said he regrets he didn't deal with the Chyna drama privately and said it wouldn't happen again.One thing Rob did not apologize for ... he flatly denied he ever physically abused Chyna.Rob also acknowledged all of the Kardashian women warned him Chyna was \"bad news\" and he should stay away ... advice he ignored. He told them they were right.He also said he stayed with Chyna longer than he should have because he grew up in a 2-parent household and wanted the same for Dream.We're told Rob and family have stayed quiet through the ordeal in an effort to stop the back and forth in the best interest of his daughter.We're told the women accepted his apology and are hopeful he'll heed their advice.\n",
      "\n",
      "Article numbers similar to article 22: [859, 751, 788, 611, 689]\n"
     ]
    }
   ],
   "source": [
    "article_number = 22\n",
    "num_of_recs = 5\n",
    "print(f\"Top {num_of_recs} articles similar to Article #{article_number}: {article_list[article_number]} \\n\")\n",
    "print(f\"Article numbers similar to article {article_number}: {get_article_recs(article_number,df,num_of_recs)}\")\n"
   ]
  },
  {
   "cell_type": "markdown",
   "metadata": {},
   "source": [
    "### Twitter Sentiment Analysis\n",
    "\n",
    "For our last NLP celebrity application, let's determine who was the most positive and negative celebrity Tweeter. In the summer of 2017, I scraped all of the tweets from the 57 celebs located [here](https://friendorfollow.com/twitter/most-followers/)."
   ]
  },
  {
   "cell_type": "code",
   "execution_count": 23,
   "metadata": {},
   "outputs": [
    {
     "data": {
      "text/html": [
       "<div>\n",
       "<style scoped>\n",
       "    .dataframe tbody tr th:only-of-type {\n",
       "        vertical-align: middle;\n",
       "    }\n",
       "\n",
       "    .dataframe tbody tr th {\n",
       "        vertical-align: top;\n",
       "    }\n",
       "\n",
       "    .dataframe thead th {\n",
       "        text-align: right;\n",
       "    }\n",
       "</style>\n",
       "<table border=\"1\" class=\"dataframe\">\n",
       "  <thead>\n",
       "    <tr style=\"text-align: right;\">\n",
       "      <th></th>\n",
       "      <th>celebrity</th>\n",
       "      <th>tweet</th>\n",
       "    </tr>\n",
       "  </thead>\n",
       "  <tbody>\n",
       "    <tr>\n",
       "      <th>0</th>\n",
       "      <td>katyperry</td>\n",
       "      <td>🇦🇺AUSTRALIA🇦🇺 Tickets &amp;amp; VIP packages for n...</td>\n",
       "    </tr>\n",
       "    <tr>\n",
       "      <th>1</th>\n",
       "      <td>katyperry</td>\n",
       "      <td>Can’t wait to share the stage with all these a...</td>\n",
       "    </tr>\n",
       "    <tr>\n",
       "      <th>2</th>\n",
       "      <td>katyperry</td>\n",
       "      <td>#FBF: Who's getting excited for the #VMAs? 🙋🏼B...</td>\n",
       "    </tr>\n",
       "    <tr>\n",
       "      <th>3</th>\n",
       "      <td>katyperry</td>\n",
       "      <td>Auditions kick off on Aug 17 @DisneySprings! 🎤...</td>\n",
       "    </tr>\n",
       "    <tr>\n",
       "      <th>4</th>\n",
       "      <td>katyperry</td>\n",
       "      <td>🇦🇺 AUSTRALIA❗Your 1st chance for 🎟 to the new ...</td>\n",
       "    </tr>\n",
       "  </tbody>\n",
       "</table>\n",
       "</div>"
      ],
      "text/plain": [
       "   celebrity                                              tweet\n",
       "0  katyperry  🇦🇺AUSTRALIA🇦🇺 Tickets &amp; VIP packages for n...\n",
       "1  katyperry  Can’t wait to share the stage with all these a...\n",
       "2  katyperry  #FBF: Who's getting excited for the #VMAs? 🙋🏼B...\n",
       "3  katyperry  Auditions kick off on Aug 17 @DisneySprings! 🎤...\n",
       "4  katyperry  🇦🇺 AUSTRALIA❗Your 1st chance for 🎟 to the new ..."
      ]
     },
     "execution_count": 23,
     "metadata": {},
     "output_type": "execute_result"
    }
   ],
   "source": [
    "import pickle\n",
    "tweet_list = pd.read_pickle('data/tweet_list.pkl')          #we can read in the pickle file which is similar to reading in a csv\n",
    "tweet_list['celebrity'] = tweet_list['celebrity'].str.lower()\n",
    "tweet_list.head()"
   ]
  },
  {
   "cell_type": "markdown",
   "metadata": {},
   "source": [
    "There were 57 celebs and 66,303 total tweets in the dataset:"
   ]
  },
  {
   "cell_type": "code",
   "execution_count": 24,
   "metadata": {},
   "outputs": [
    {
     "name": "stdout",
     "output_type": "stream",
     "text": [
      "57\n",
      "(66303, 2)\n"
     ]
    }
   ],
   "source": [
    "print(len(set(tweet_list['celebrity'])))\n",
    "print(tweet_list.shape)"
   ]
  },
  {
   "cell_type": "markdown",
   "metadata": {},
   "source": [
    "Tweets contain tons of extra characters and punctuation. Let's use regular expressions to remove these. Don't worry about the code syntax below, just know that it is performing some cleaning:"
   ]
  },
  {
   "cell_type": "code",
   "execution_count": 25,
   "metadata": {},
   "outputs": [],
   "source": [
    "#group by celeb and calculate their positivity score\n",
    "\n",
    "#clean up tweets by removing hyperlinks, hashtags, etc.\n",
    "def remove_mypunct(corpus):\n",
    "\n",
    "    corpus = map(lambda x: re.sub(r\"(#|@|http)\\S+\", \"\", x), corpus) #get rid of hashtags \n",
    "    corpus = map(lambda x: re.sub(r\"(\\t|\\n|\\v|…|“|”)\", \"\", x), corpus) #get rid of whitesape\n",
    "    corpus = map(lambda x:  re.sub(r\"\"\"\\w*\\d\\w*\"\"\", ' ', x.lower()), corpus) #get rid of numbers\n",
    "    punc_re = re.compile('[%s]' % re.escape(string.punctuation))\n",
    "    corpus = map(lambda x: punc_re.sub(' ', x), corpus)\n",
    "    corpus = map(lambda x: re.sub('[\\W_]+', \" \", x), corpus) #get rid of emojis\n",
    "\n",
    "    return list(corpus)\n"
   ]
  },
  {
   "cell_type": "markdown",
   "metadata": {},
   "source": [
    "Now, we'll go through each celebrity name, clean each tweet, calculate the polarity score of each tweet, and then find the average sentiment score of all of their tweets. We find that Neil Patrick Harris (@actuallynph) is the most positive Tweeter and Snoop Dogg (@snoopdogg) is the most negative Tweeter:"
   ]
  },
  {
   "cell_type": "code",
   "execution_count": 26,
   "metadata": {},
   "outputs": [
    {
     "name": "stdout",
     "output_type": "stream",
     "text": [
      "(0.42542700000000006, 'actuallynph')\n",
      "(0.3692088407005838, 'louis_tomlinson')\n",
      "(0.3673526794742164, 'xtina')\n",
      "(0.35785616666666664, 'theellenshow')\n",
      "(0.3561306789606035, 'avrillavigne')\n",
      "(0.3534674728940784, 'khloekardashian')\n",
      "(0.3452982456140351, 'britneyspears')\n",
      "(0.3293881567973311, 'cristiano')\n",
      "(0.3213536666666667, 'billgates')\n",
      "(0.3125358585858586, 'kevinhart4real')\n",
      "(0.3025144891122278, 'harry_styles')\n",
      "(0.30182073578595314, 'jtimberlake')\n",
      "(0.3015826633165829, 'aliciakeys')\n",
      "(0.2973490392648287, 'kingjames')\n",
      "(0.29659799498746864, 'mariahcarey')\n",
      "(0.2839514595496247, 'oprah')\n",
      "(0.2808818490245972, 'ladygaga')\n",
      "(0.2799046861924686, 'taylorswift13')\n",
      "(0.265298322147651, 'adele')\n",
      "(0.26399233333333333, 'arianagrande')\n",
      "(0.2621433222036728, 'ddlovato')\n",
      "(0.26049095477386935, 'emmawatson')\n",
      "(0.26023653044203504, 'ryanseacrest')\n",
      "(0.25517808333333336, 'pitbull')\n",
      "(0.25230144680851063, 'kyliejenner')\n",
      "(0.2349787573467674, 'selenagomez')\n",
      "(0.22746379598662206, 'pink')\n",
      "(0.2251328607172644, 'aplusk')\n",
      "(0.22457633333333335, 'barackobama')\n",
      "(0.22378554572271386, 'leodicaprio')\n",
      "(0.22225549958018473, 'justinbieber')\n",
      "(0.21871933333333335, 'kdtrey5')\n",
      "(0.21660358632193494, 'jimmyfallon')\n",
      "(0.2161615843270869, 'jimcarrey')\n",
      "(0.21003299999999997, 'blakeshelton')\n",
      "(0.2058210175145955, 'davidguetta')\n",
      "(0.19613983333333335, 'mileycyrus')\n",
      "(0.18901169049621533, 'kimkardashian')\n",
      "(0.17601725, 'hillaryclinton')\n",
      "(0.17405604670558797, 'kourtneykardash')\n",
      "(0.16668198653198654, 'drake')\n",
      "(0.16496766917293232, 'jlo')\n",
      "(0.16436933333333334, 'realdonaldtrump')\n",
      "(0.1618359663865546, 'liltunechi')\n",
      "(0.15792021996615904, 'zaynmalik')\n",
      "(0.15763096828046744, 'rihanna')\n",
      "(0.15460393964794636, 'kendalljenner')\n",
      "(0.15217410192147035, 'katyperry')\n",
      "(0.147705, 'ricky_martin')\n",
      "(0.14004349286314025, 'nickiminaj')\n",
      "(0.1302740989103101, 'shakira')\n",
      "(0.12700105900151284, 'eminem')\n",
      "(0.11568708333333333, 'conanobrien')\n",
      "(0.11087016060862215, 'wizkhalifa')\n",
      "(0.10336068447412354, 'danieltosh')\n",
      "(0.08346675, 'chrisbrown')\n",
      "(0.05532652210175146, 'snoopdogg')\n"
     ]
    }
   ],
   "source": [
    "sid = SentimentIntensityAnalyzer()                     # this is the sentiment analyzer we'll use\n",
    "\n",
    "names = set(tweet_list['celebrity'].values)            # get list of celeb names\n",
    "\n",
    "sentiment = []                                         # we'll store tuples of sentiment score and celeb name\n",
    "\n",
    "for name in names:\n",
    "    celeb_tweets = tweet_list[tweet_list['celebrity'] == name]['tweet']   # get all tweets from given celeb\n",
    "    cleaned_up_tweets = remove_mypunct(celeb_tweets.values)               # clean up the tweet\n",
    "    \n",
    "    compound_scores = []                                    # calculate the sentiment score of each tweet\n",
    "    for sentence in cleaned_up_tweets:\n",
    "        ss = sid.polarity_scores(sentence)\n",
    "        compound_scores.append(float(ss['compound']))\n",
    "        \n",
    "    sentiment.append((np.mean(compound_scores), name))     # find the average sentiment score of the given celeb\n",
    "    \n",
    "sentiment.sort(reverse = True)                          # sort celeb tuples in decending order of sentiment score\n",
    "\n",
    "for celeb in sentiment:                                 # print each tuple\n",
    "    print(celeb)"
   ]
  },
  {
   "cell_type": "markdown",
   "metadata": {},
   "source": [
    "If we wanted to view Snoop Dogg's most negative tweets, we could do so. We see that \"hell naw\" and \"Met gala shit\" are two very negative Tweets. However, by saying \"Met gala shit\" Snoop was probably bragging about being at the Met Gala, so this erroneously got classified as negative. Slang is very hard to classify!!"
   ]
  },
  {
   "cell_type": "code",
   "execution_count": 27,
   "metadata": {},
   "outputs": [
    {
     "name": "stdout",
     "output_type": "stream",
     "text": [
      "-0.6808\n",
      "hell naw 😂 - @MERRYJANE https://t.co/S6Q0swki5a\n",
      "-0.5859\n",
      "Wtf?? Explains this 🤷🏾‍♂️🤷🏾‍♂️ https://t.co/uZEvpQGShS https://t.co/seqCqIFTvr\n",
      "-0.5859\n",
      "The All Eyez on Me Reviews Are Bullshit | L.A. Weekly https://t.co/jC5ZK3mDc8\n",
      "-0.5859\n",
      "Eat a snickers Bitch 🤣 https://t.co/h3SEpooAAN https://t.co/SfJ00b1eNI\n",
      "-0.5574\n",
      "Eastside Shit 👏🏾👏🏾💙 https://t.co/TpIBr0SWrD https://t.co/amb30wpUkD\n",
      "-0.5574\n",
      "Throwbac Kobe coat finals shit 🔥🔥👏🏾 https://t.co/lEtyRYjBzt https://t.co/Qt3NC45Ap2\n",
      "-0.5574\n",
      "Dubs up 90s shit https://t.co/Fz9Yb2T5VR https://t.co/dmwVQAtcbE\n",
      "-0.5574\n",
      "Bac on thy sosodef shit 🔥🔥🔥👊🏾 https://t.co/QnDmtOy0UJ https://t.co/cj4BPJK419\n",
      "-0.5574\n",
      "Met gala shit 🔥🔥. Empire. Wednesday https://t.co/RuUYimMZhp https://t.co/qkEK1KqFBY\n",
      "-0.5423\n",
      "Speed kills 🔥🔥🔥🔥 https://t.co/TA59kDUcNx https://t.co/UlGdseHA5Z\n",
      "-0.4939\n",
      "Video comin soon the moment I feared 🔥🔥🔥 https://t.co/8U6eLynspO https://t.co/AqRJjtYCI1\n",
      "-0.4939\n",
      "Hi. Haters 👏🏾👏🏾👏🏾🤣 https://t.co/kSiMTL6Cto https://t.co/QhuYXaxKNv\n",
      "-0.4767\n",
      "don’t believe the fake news n go see it for yourself ! the real fans are lovin #alleyezonme 👊🏿\n",
      "-0.4767\n",
      "This is sad 👎🏾🙏🏾🌹 https://t.co/miFWGg2GNb https://t.co/NclOlk0b8a\n",
      "-0.4588\n",
      "Savage 🔥🔥🔥🔥🔥 https://t.co/l6tGgWYC2p https://t.co/ZR2EP88sv6\n",
      "-0.4404\n",
      "next up we got the DBG (Dirty Bird Gang) reppin for the beach ! https://t.co/1y9sjZMgaY\n",
      "-0.4019\n",
      "Is there a problem 93🔥 https://t.co/rn3dUJYCAM https://t.co/ftOb3Pq175\n",
      "-0.4019\n",
      "RT @TheRealClassic: We got fights tonight 👊🏾👊🏾 @UrijahFaber @SnoopDogg #ContenderSeries #SnoopCast https://t.co/bn420hmACb\n",
      "-0.4019\n",
      "RT @UFCFightPass: Gin? Check. Juice? Check. That other stuff? Check. Fights - check em out NOW on #UFCFIGHTPASS!!! https://t.co/1YVf5Fxuq0\n",
      "-0.4019\n",
      "Damn 🤷🏾‍♂️ https://t.co/5M1OQkgJTu https://t.co/NF4IBgWowg\n"
     ]
    }
   ],
   "source": [
    "snoop_tweets = tweet_list[tweet_list['celebrity'] == 'snoopdogg' ]['tweet']\n",
    "\n",
    "clean_snoop_tweets = remove_mypunct(snoop_tweets.values)\n",
    "\n",
    "compound_scores = []\n",
    "\n",
    "for i, sentence in enumerate(clean_snoop_tweets):\n",
    "        ss = sid.polarity_scores(sentence)\n",
    "        compound_scores.append((float(ss['compound']), i,sentence))\n",
    "        \n",
    "compound_scores.sort()\n",
    "\n",
    "for i in range(20):\n",
    "    print(compound_scores[i][0])\n",
    "    print(snoop_tweets[compound_scores[i][1]])"
   ]
  },
  {
   "cell_type": "markdown",
   "metadata": {},
   "source": [
    "We can also view Neil Patrick Harris' most positive Tweets. Look at his most positive Tweet. It's so saccharine sweet that I almost threw up in mouth a little bit!"
   ]
  },
  {
   "cell_type": "code",
   "execution_count": 28,
   "metadata": {},
   "outputs": [
    {
     "name": "stdout",
     "output_type": "stream",
     "text": [
      "0.9765\n",
      "Happy Mother's Day. I am blessed with an absolutely fantastic mom - wonderful person, doting grandma, beautiful soul. I love her lots. 🌹\n",
      "0.97\n",
      "I had the great honor of presenting one of the @CNNHeroes Awards tonight. So inspiring, empowering, amazing. Please watch and support.\n",
      "0.9636\n",
      "A heartfelt HAPPY BIRTHDAY to the wonderful @DavidBurtka - the best dad in the world. I'm so glad you were born! http://t.co/KkdWZj0dkK\n",
      "0.9601\n",
      "Hope your 2014 is filled with many chapters of adventure, wisdom, and great good times! Happy New Year!!\n",
      "0.9595\n",
      "Happy Valentine's Day! Allow the love, find the love, make the love. Not necessarily in that order.\n",
      "0.9578\n",
      "It's my best friend @EdAlonzomagic 's birthday! He's awesome and magical and hilarious and deserves a shout out! Happy BD, ED!\n",
      "0.9571\n",
      "Excellent time in London seeing @Immersivegatsby. Great cast, great direction, Great Gatsby. Recommended!… https://t.co/DPWNsrnVmU\n",
      "0.9565\n",
      "So glad you had fun, mom. @BestTimeEver enjoyed watching you be wowed! Love you! #bestmomever https://t.co/tvi89ep5Um\n",
      "0.9565\n",
      "Happy NY Pride!! I'm so proud to live in such an inclusive, accepting city. Have fun, stand tall, help others and m… https://t.co/r5zHNpPrXg\n",
      "0.9559\n",
      "Super cool dad makes super rad vids of super hero son: http://t.co/9aD5cqc8hO via @Colossal, as usual.\n",
      "0.9542\n",
      "Happy 4th of July! I'm so proud of/grateful for everyone who protected/protects us and all of our freedoms. #HomeOfTheBrave\n",
      "0.9538\n",
      "Just a fantastic evening. Dinner w/ great friends @AmyAcker and @TheJimmyCarp, kids were hilarious, opened amazing gifts by @Davidburtka.#💝\n",
      "0.9524\n",
      "I’m having a blast narrating the Candlelight Processional here at #Epcot. Amazing orchestra, gorgeous voices, awesome crowds. Love Disney!\n",
      "0.9524\n",
      "Merry Christmas Eve! Hope your night is filled with love - whether it be by romance, friendship, or random circumstance. 'Tis the season!\n",
      "0.9517\n",
      "A gigantic Happy 40th Birthday to @DavidBurtka, who looks fantastic, laughs constantly, and loves life. I'm a lucky husband! #DILF #DIF\n",
      "0.9517\n",
      "I love supporting both immersive theatre and Kickstarter. Check out The Grand Paradise and help make it happen! http://t.co/iX28JkmZDz\n",
      "0.9485\n",
      "Happy 10th Anniversary to the gorgeous man I have the pleasure to love. davidburtka (Twitter), burtka… http://t.co/YsWZjgeEFA\n",
      "0.9472\n",
      "Happy Thanksgiving everyone! I'm so thankful for food, family, friends, and @Davidburtka. Loving today (and turkey)! https://t.co/GvfRy8V3Ox\n",
      "0.946\n",
      "Thanks @DrWillKirby for the awesome shoutout last night on @PriceIsRight. You have great taste in words. And game shows. Much love.\n",
      "0.9459\n",
      "So happy to have my best friend @EdAlonzomagic at @HedwigOnBway tonight. Meant a lot that he was there. Ed's super rad.\n"
     ]
    }
   ],
   "source": [
    "neil_tweets = tweet_list[tweet_list['celebrity'] == 'actuallynph' ]['tweet']\n",
    "\n",
    "clean_neil_tweets = remove_mypunct(neil_tweets.values)\n",
    "\n",
    "compound_scores = []\n",
    "\n",
    "for i, sentence in enumerate(clean_neil_tweets):\n",
    "        ss = sid.polarity_scores(sentence)\n",
    "        compound_scores.append((float(ss['compound']), i,sentence))\n",
    "        \n",
    "compound_scores.sort(reverse = True)\n",
    "\n",
    "for i in range(20):\n",
    "    print(compound_scores[i][0])\n",
    "    print(neil_tweets[compound_scores[i][1]])"
   ]
  }
 ],
 "metadata": {
  "kernelspec": {
   "display_name": "Python 3",
   "language": "python",
   "name": "python3"
  },
  "language_info": {
   "codemirror_mode": {
    "name": "ipython",
    "version": 3
   },
   "file_extension": ".py",
   "mimetype": "text/x-python",
   "name": "python",
   "nbconvert_exporter": "python",
   "pygments_lexer": "ipython3",
   "version": "3.7.3"
  }
 },
 "nbformat": 4,
 "nbformat_minor": 2
}
