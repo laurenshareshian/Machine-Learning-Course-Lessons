{
 "cells": [
  {
   "cell_type": "markdown",
   "metadata": {},
   "source": [
    "1.) Once again, read in the file '2002FemPreg.csv'. Strip any whitespace from the column names. "
   ]
  },
  {
   "cell_type": "code",
   "execution_count": 3,
   "metadata": {},
   "outputs": [
    {
     "data": {
      "text/plain": [
       "(13593, 244)"
      ]
     },
     "execution_count": 3,
     "metadata": {},
     "output_type": "execute_result"
    }
   ],
   "source": [
    "#insert 1\n",
    "import pandas as pd\n",
    "preg = pd.read_csv('data/2002FemPreg.csv', index_col = 0)\n",
    "preg.columns = preg.columns.str.strip()\n",
    "preg.shape"
   ]
  },
  {
   "cell_type": "markdown",
   "metadata": {},
   "source": [
    "2.) Reduce the dataframe to only contain data on live births (meaning the preg.outcome == 1)."
   ]
  },
  {
   "cell_type": "code",
   "execution_count": 2,
   "metadata": {},
   "outputs": [
    {
     "data": {
      "text/plain": [
       "(9148, 244)"
      ]
     },
     "execution_count": 2,
     "metadata": {},
     "output_type": "execute_result"
    }
   ],
   "source": [
    "live = preg[preg.outcome == 1]\n",
    "live.shape"
   ]
  },
  {
   "cell_type": "markdown",
   "metadata": {},
   "source": [
    "3.) Find the attribute that represents the mother's age. What is it called? What index is it in?"
   ]
  },
  {
   "cell_type": "code",
   "execution_count": 3,
   "metadata": {},
   "outputs": [
    {
     "name": "stdout",
     "output_type": "stream",
     "text": [
      "ageatend 15\n",
      "hpageend 16\n",
      "kidage 40\n",
      "hpagelb 41\n",
      "lastage 67\n",
      "ageqtnur_n 77\n",
      "ageqtnur_p 78\n",
      "ageqtnur 79\n",
      "lastage2 85\n",
      "ageqtnur_n2 95\n",
      "ageqtnur_p2 96\n",
      "ageqtnur2 97\n",
      "lastage3 103\n",
      "ageqtnur_n3 113\n",
      "ageqtnur_p3 114\n",
      "ageqtnur3 115\n",
      "agepreg 161\n",
      "agecon 163\n",
      "ager 179\n",
      "agescrn 180\n",
      "agepreg_i 203\n",
      "agecon_i 205\n",
      "ager_i 220\n"
     ]
    }
   ],
   "source": [
    "#insert 3\n",
    "for i, column in enumerate(live.columns):\n",
    "    if \"age\" in column:\n",
    "        print(column,i)\n",
    "        \n",
    "#agepreg 161        "
   ]
  },
  {
   "cell_type": "markdown",
   "metadata": {},
   "source": [
    "4.) Reduce the data frame further to consider data for only non-null birthwgt_lb and mother's age values."
   ]
  },
  {
   "cell_type": "code",
   "execution_count": 16,
   "metadata": {},
   "outputs": [
    {
     "data": {
      "text/plain": [
       "(9084, 244)"
      ]
     },
     "execution_count": 16,
     "metadata": {},
     "output_type": "execute_result"
    }
   ],
   "source": [
    "#insert 4\n",
    "live = live.dropna(subset = ['birthwgt_lb', 'agepreg'])\n",
    "live.shape"
   ]
  },
  {
   "cell_type": "markdown",
   "metadata": {},
   "source": [
    "5.) Update the mother's age column so that the ages are no longer decimals but rounded down integers. Meaning, if the woman's age is saved as 47.8, then re-save it as 47. Hint: recast the column data type as an integer."
   ]
  },
  {
   "cell_type": "code",
   "execution_count": 5,
   "metadata": {
    "collapsed": true
   },
   "outputs": [],
   "source": [
    "#insert 5\n",
    "live['agepreg'] = live['agepreg'].astype(int)"
   ]
  },
  {
   "cell_type": "markdown",
   "metadata": {},
   "source": [
    "6.) Make a histogram of the womens' ages. Label axes and give a title."
   ]
  },
  {
   "cell_type": "code",
   "execution_count": 6,
   "metadata": {},
   "outputs": [
    {
     "data": {
      "text/plain": [
       "<matplotlib.text.Text at 0x11c7c9278>"
      ]
     },
     "execution_count": 6,
     "metadata": {},
     "output_type": "execute_result"
    },
    {
     "data": {
      "image/png": "[encoded data removed]",
      "text/plain": [
       "<matplotlib.figure.Figure at 0x10fc9fb38>"
      ]
     },
     "metadata": {},
     "output_type": "display_data"
    }
   ],
   "source": [
    "#insert 6\n",
    "import numpy as np\n",
    "import matplotlib.pyplot as plt\n",
    "%matplotlib inline\n",
    "\n",
    "live['agepreg'].plot.hist(rwidth=.9, bins=np.arange(5,50,5))\n",
    "plt.xlabel('ages')\n",
    "plt.ylabel('freq')\n",
    "plt.title('histogram of ages')"
   ]
  },
  {
   "cell_type": "code",
   "execution_count": 17,
   "metadata": {},
   "outputs": [
    {
     "data": {
      "text/plain": [
       "20.5"
      ]
     },
     "execution_count": 17,
     "metadata": {},
     "output_type": "execute_result"
    }
   ],
   "source": [
    "live['agepreg'].quantile(0.25)"
   ]
  },
  {
   "cell_type": "markdown",
   "metadata": {},
   "source": [
    "7.) Create a frequency chart in descending order of age frequency."
   ]
  },
  {
   "cell_type": "code",
   "execution_count": 7,
   "metadata": {},
   "outputs": [
    {
     "data": {
      "text/plain": [
       "21    641\n",
       "20    632\n",
       "23    590\n",
       "24    560\n",
       "19    558\n",
       "22    552\n",
       "18    541\n",
       "26    514\n",
       "25    509\n",
       "27    486\n",
       "28    444\n",
       "17    397\n",
       "30    394\n",
       "29    393\n",
       "31    338\n",
       "32    277\n",
       "16    237\n",
       "33    219\n",
       "34    171\n",
       "35    136\n",
       "15    127\n",
       "36     99\n",
       "37     83\n",
       "38     54\n",
       "14     43\n",
       "39     34\n",
       "40     20\n",
       "13     14\n",
       "41     13\n",
       "10      2\n",
       "42      2\n",
       "11      1\n",
       "12      1\n",
       "44      1\n",
       "43      1\n",
       "Name: agepreg, dtype: int64"
      ]
     },
     "execution_count": 7,
     "metadata": {},
     "output_type": "execute_result"
    }
   ],
   "source": [
    "#insert 7\n",
    "live['agepreg'].value_counts()"
   ]
  },
  {
   "cell_type": "markdown",
   "metadata": {},
   "source": [
    "8.) Create a frequency chart in ascending order of age."
   ]
  },
  {
   "cell_type": "code",
   "execution_count": 8,
   "metadata": {},
   "outputs": [
    {
     "data": {
      "text/plain": [
       "10      2\n",
       "11      1\n",
       "12      1\n",
       "13     14\n",
       "14     43\n",
       "15    127\n",
       "16    237\n",
       "17    397\n",
       "18    541\n",
       "19    558\n",
       "20    632\n",
       "21    641\n",
       "22    552\n",
       "23    590\n",
       "24    560\n",
       "25    509\n",
       "26    514\n",
       "27    486\n",
       "28    444\n",
       "29    393\n",
       "30    394\n",
       "31    338\n",
       "32    277\n",
       "33    219\n",
       "34    171\n",
       "35    136\n",
       "36     99\n",
       "37     83\n",
       "38     54\n",
       "39     34\n",
       "40     20\n",
       "41     13\n",
       "42      2\n",
       "43      1\n",
       "44      1\n",
       "Name: agepreg, dtype: int64"
      ]
     },
     "execution_count": 8,
     "metadata": {},
     "output_type": "execute_result"
    }
   ],
   "source": [
    "#insert 8\n",
    "live['agepreg'].value_counts().sort_index()"
   ]
  },
  {
   "cell_type": "markdown",
   "metadata": {},
   "source": [
    "9.) How old was the youngest and oldest mother in the survey and how much did their baby weigh?"
   ]
  },
  {
   "cell_type": "code",
   "execution_count": 9,
   "metadata": {},
   "outputs": [
    {
     "name": "stdout",
     "output_type": "stream",
     "text": [
      "10\n",
      "389      6.0\n",
      "11508    8.0\n",
      "Name: birthwgt_lb, dtype: float64\n",
      "44\n",
      "7932    6.0\n",
      "Name: birthwgt_lb, dtype: float64\n"
     ]
    }
   ],
   "source": [
    "#insert 9\n",
    "print(live['agepreg'].min())\n",
    "print(live[live['agepreg'] == live['agepreg'].min()].birthwgt_lb)\n",
    "print(live['agepreg'].max())\n",
    "print(live[live['agepreg'] == live['agepreg'].max()].birthwgt_lb)"
   ]
  },
  {
   "cell_type": "markdown",
   "metadata": {},
   "source": [
    "10.) What is the average woman's age? What is the woman's age in the 25th quartile? The 75th?"
   ]
  },
  {
   "cell_type": "code",
   "execution_count": 10,
   "metadata": {
    "scrolled": true
   },
   "outputs": [
    {
     "name": "stdout",
     "output_type": "stream",
     "text": [
      "24.481285777190664\n",
      "20.0\n",
      "28.0\n"
     ]
    }
   ],
   "source": [
    "#insert 10\n",
    "print(live['agepreg'].mean())\n",
    "print(live['agepreg'].quantile(.25))\n",
    "print(live['agepreg'].quantile(.75))"
   ]
  },
  {
   "cell_type": "markdown",
   "metadata": {},
   "source": [
    "11.) Find the average birthweight for the mothers in the youngest quartile and in the oldest quartile. Might younger mothers tend to have heavier babies?"
   ]
  },
  {
   "cell_type": "code",
   "execution_count": 11,
   "metadata": {},
   "outputs": [
    {
     "name": "stdout",
     "output_type": "stream",
     "text": [
      "6.665883274578927\n",
      "6.93505039193729\n"
     ]
    }
   ],
   "source": [
    "#insert 11\n",
    "print(live[live['agepreg'] <= live['agepreg'].quantile(0.25)].birthwgt_lb.mean())\n",
    "print(live[live['agepreg'] >= live['agepreg'].quantile(0.75)].birthwgt_lb.mean())"
   ]
  },
  {
   "cell_type": "markdown",
   "metadata": {},
   "source": [
    "12.) Make a comparative histogram of baby weights for mothers in the youngest and oldest quartile."
   ]
  },
  {
   "cell_type": "code",
   "execution_count": 12,
   "metadata": {},
   "outputs": [
    {
     "name": "stdout",
     "output_type": "stream",
     "text": [
      "2553 2679\n"
     ]
    },
    {
     "data": {
      "image/png": "[encoded data removed]",
      "text/plain": [
       "<matplotlib.figure.Figure at 0x11c798eb8>"
      ]
     },
     "metadata": {},
     "output_type": "display_data"
    }
   ],
   "source": [
    "#insert 12\n",
    "young = live[live['agepreg'] <= live['agepreg'].quantile(0.25)].birthwgt_lb\n",
    "old = live[live['agepreg'] >= live['agepreg'].quantile(0.75)].birthwgt_lb\n",
    "print(len(young), len(old))\n",
    "plt.hist([young, old], np.arange(-.5, 15.5, 1), label=['young moms', 'old moms'])\n",
    "plt.xlabel('Weights', size=20)\n",
    "plt.ylabel('Frequency', size=20)\n",
    "plt.xticks(np.arange(-.5, 15.5, 1))\n",
    "plt.legend()\n",
    "plt.show()"
   ]
  },
  {
   "cell_type": "markdown",
   "metadata": {},
   "source": [
    "By the way, where did this large pregnancy dataset come from? I found it in a super amazing open resource, online Python statistics book called Think Stats. You should check out all of the modules here: http://greenteapress.com/thinkstats/\n",
    "\n",
    "The dataset itself is obtained from the CDC's 2002 Cycle 6 National Survey of Family Growth questionnaire. You can read more about it here: https://www.cdc.gov/nchs/nsfg/nsfg_cycle6.htm"
   ]
  },
  {
   "cell_type": "code",
   "execution_count": null,
   "metadata": {
    "collapsed": true
   },
   "outputs": [],
   "source": []
  }
 ],
 "metadata": {
  "kernelspec": {
   "display_name": "Python 3",
   "language": "python",
   "name": "python3"
  },
  "language_info": {
   "codemirror_mode": {
    "name": "ipython",
    "version": 3
   },
   "file_extension": ".py",
   "mimetype": "text/x-python",
   "name": "python",
   "nbconvert_exporter": "python",
   "pygments_lexer": "ipython3",
   "version": "3.7.3"
  }
 },
 "nbformat": 4,
 "nbformat_minor": 2
}
