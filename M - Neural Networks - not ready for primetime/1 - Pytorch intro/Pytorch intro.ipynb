{
 "cells": [
  {
   "cell_type": "markdown",
   "metadata": {},
   "source": [
    "### Installing PyTorch\n",
    "\n",
    "To install PyTorch in a terminal, do this:\n",
    "\n",
    "First create a Conda environment using:\n",
    "\n",
    "```conda create -n env_pytorch python=3.6```\n",
    "\n",
    "Activate the environment using:\n",
    "\n",
    "```conda activate env_pytorch```\n",
    "\n",
    "Now install PyTorch using pip:\n",
    "\n",
    "```pip install torchvision ```\n",
    "\n",
    "Note: This will install both torch and torchvision.\n",
    "\n",
    "Now launch this Jupyter notebook from that terminal shell and run:"
   ]
  },
  {
   "cell_type": "code",
   "execution_count": 1,
   "metadata": {},
   "outputs": [],
   "source": [
    "import torch\n",
    "import torchvision\n",
    "import numpy as np\n",
    "import matplotlib.pyplot as plt\n",
    "%matplotlib inline"
   ]
  },
  {
   "cell_type": "markdown",
   "metadata": {},
   "source": [
    "### A regression tutorial\n",
    "\n",
    "This following link is EXCELLENT. Read it in FULL. My code below summarizes its results. You will not understand what is going on below if you do not read the article.\n",
    "\n",
    "https://towardsdatascience.com/understanding-pytorch-with-an-example-a-step-by-step-tutorial-81fc5f8c4e8e#dc96\n",
    "\n",
    "Most tutorials start with some nice and pretty image classification problem to illustrate how to use PyTorch. It may seem cool, but I believe it distracts you from the main goal: how PyTorch works?\n",
    "For this reason, in this tutorial, I will stick with a simple and familiar problem: a linear regression with a single feature x! It doesn’t get much simpler than that. Let's generate some x and y data with the underlying formula $y=1+2x$ and split the data into train and validation sets:"
   ]
  },
  {
   "cell_type": "code",
   "execution_count": 2,
   "metadata": {},
   "outputs": [
    {
     "data": {
      "text/plain": [
       "Text(0, 0.5, 'y val')"
      ]
     },
     "execution_count": 2,
     "metadata": {},
     "output_type": "execute_result"
    },
    {
     "data": {
      "image/png": "[encoded data removed]",
      "text/plain": [
       "<Figure size 432x288 with 2 Axes>"
      ]
     },
     "metadata": {
      "needs_background": "light"
     },
     "output_type": "display_data"
    }
   ],
   "source": [
    "np.random.seed(42)\n",
    "x = np.random.rand(100, 1)\n",
    "y = 1 + 2 * x + .1 * np.random.randn(100, 1)\n",
    "\n",
    "# Shuffles the indices\n",
    "idx = np.arange(100)\n",
    "np.random.shuffle(idx)\n",
    "\n",
    "# Uses first 80 random indices for train\n",
    "train_idx = idx[:80]\n",
    "# Uses the remaining indices for validation\n",
    "val_idx = idx[80:]\n",
    "\n",
    "# Generates train and validation sets\n",
    "x_train, y_train = x[train_idx], y[train_idx]\n",
    "x_val, y_val = x[val_idx], y[val_idx]\n",
    "\n",
    "\n",
    "fig, (ax1, ax2) = plt.subplots(1, 2)\n",
    "\n",
    "ax1.plot(x_train, y_train, '.')\n",
    "ax1.set_xlabel('x train')\n",
    "ax1.set_ylabel('y train')\n",
    "\n",
    "ax2.plot(x_val, y_val, '.')\n",
    "ax2.set_xlabel('x val')\n",
    "ax2.set_ylabel('y val')"
   ]
  },
  {
   "cell_type": "markdown",
   "metadata": {},
   "source": [
    "We learned how to approximate the optimal parameters b=1 and m=2 using both gradient descent and linear regression:"
   ]
  },
  {
   "cell_type": "code",
   "execution_count": 3,
   "metadata": {},
   "outputs": [
    {
     "name": "stdout",
     "output_type": "stream",
     "text": [
      "gradient descent [1.02354094] [1.96896411]\n",
      "linear regression [1.02354075] [1.96896447]\n",
      "true value: b=1 m=2\n"
     ]
    }
   ],
   "source": [
    "# Initializes parameters \"a\" and \"b\" randomly\n",
    "np.random.seed(42)\n",
    "a = np.random.randn(1)\n",
    "b = np.random.randn(1)\n",
    "\n",
    "# Sets learning rate\n",
    "lr = 1e-1\n",
    "# Defines number of epochs\n",
    "n_epochs = 1000\n",
    "\n",
    "for epoch in range(n_epochs):\n",
    "    # Computes our model's predicted output\n",
    "    yhat = a + b * x_train\n",
    "    \n",
    "    # How wrong is our model? That's the error! \n",
    "    error = (y_train - yhat)\n",
    "    \n",
    "    # It is a regression, so it computes mean squared error (MSE)\n",
    "    loss = (error ** 2).mean()\n",
    "    \n",
    "    # Computes gradients for both \"a\" and \"b\" parameters\n",
    "    a_grad = -2 * error.mean()\n",
    "    b_grad = -2 * (x_train * error).mean()\n",
    "    \n",
    "    # Updates parameters using gradients and the learning rate\n",
    "    a = a - lr * a_grad\n",
    "    b = b - lr * b_grad\n",
    "    \n",
    "print('gradient descent', a, b)\n",
    "\n",
    "# Sanity Check: do we get the same results as our gradient descent?\n",
    "from sklearn.linear_model import LinearRegression\n",
    "linr = LinearRegression()\n",
    "linr.fit(x_train, y_train)\n",
    "print('linear regression', linr.intercept_, linr.coef_[0])\n",
    "print('true value: b=1 m=2')"
   ]
  },
  {
   "cell_type": "markdown",
   "metadata": {},
   "source": [
    "Now, let's use PyTorch to do the same thing:"
   ]
  },
  {
   "cell_type": "code",
   "execution_count": 4,
   "metadata": {},
   "outputs": [
    {
     "name": "stdout",
     "output_type": "stream",
     "text": [
      "tensor([1.0235], requires_grad=True) tensor([1.9690], requires_grad=True)\n"
     ]
    }
   ],
   "source": [
    "import numpy as np\n",
    "import torch\n",
    "import torch.nn as nn\n",
    "import torch.optim as optim\n",
    "\n",
    "# Our data was in Numpy arrays, but we need to transform them into PyTorch's Tensors\n",
    "x_train_tensor = torch.from_numpy(x_train).float()\n",
    "y_train_tensor = torch.from_numpy(y_train).float()\n",
    "\n",
    "# always initialize your random seed to ensure reproducibility of your results\n",
    "torch.manual_seed(42)\n",
    "\n",
    "# Initializes parameters \"a\" and \"b\" randomly, ALMOST as we did in Numpy\n",
    "# since we want to apply gradient descent on these parameters, we need\n",
    "# to set REQUIRES_GRAD = TRUE\n",
    "a = torch.randn(1, requires_grad=True, dtype=torch.float)\n",
    "b = torch.randn(1, requires_grad=True, dtype=torch.float)\n",
    "# print(a, b)\n",
    "\n",
    "# Sets learning rate\n",
    "lr = 1e-1\n",
    "\n",
    "# Defines number of epochs\n",
    "n_epochs = 1000\n",
    "\n",
    "# Defines a MSE loss function\n",
    "loss_fn = nn.MSELoss(reduction='mean')\n",
    "\n",
    "#An optimizer takes the parameters we want to update, the learning rate we want to use \n",
    "# (and possibly many other hyper-parameters as well!) and performs the updates through its step() method.\n",
    "optimizer = optim.SGD([a, b], lr=lr)\n",
    "\n",
    "for epoch in range(n_epochs):\n",
    "    yhat = a + b * x_train_tensor\n",
    "    \n",
    "    #calculate the loss\n",
    "    loss = loss_fn(y_train_tensor, yhat)\n",
    "\n",
    "    #Do you remember the starting point for computing the gradients? \n",
    "    # It was the loss, as we computed its partial derivatives w.r.t. our parameters. \n",
    "    # Hence, we need to invoke the backward() method from the corresponding Python variable\n",
    "    loss.backward()    \n",
    "    \n",
    "    # performs the updates\n",
    "    optimizer.step()\n",
    "    \n",
    "    #we also don’t need to zero the gradients one by one anymore. \n",
    "    # We just invoke the optimizer’s zero_grad() method and that’s it!\n",
    "    optimizer.zero_grad()\n",
    "    \n",
    "print(a, b)"
   ]
  },
  {
   "cell_type": "markdown",
   "metadata": {},
   "source": [
    "Let's create a more general linear regression model and do a test/train split:"
   ]
  },
  {
   "cell_type": "code",
   "execution_count": 5,
   "metadata": {},
   "outputs": [
    {
     "name": "stdout",
     "output_type": "stream",
     "text": [
      "initial state OrderedDict([('linear.weight', tensor([[0.7645]])), ('linear.bias', tensor([0.8300]))])\n",
      "[1] Training loss: 0.345\t Validation loss: 0.085\n",
      "[2] Training loss: 0.081\t Validation loss: 0.047\n",
      "[3] Training loss: 0.059\t Validation loss: 0.039\n",
      "[4] Training loss: 0.052\t Validation loss: 0.034\n",
      "[5] Training loss: 0.046\t Validation loss: 0.030\n",
      "[6] Training loss: 0.041\t Validation loss: 0.026\n",
      "[7] Training loss: 0.037\t Validation loss: 0.023\n",
      "[8] Training loss: 0.033\t Validation loss: 0.020\n",
      "[9] Training loss: 0.030\t Validation loss: 0.017\n",
      "[10] Training loss: 0.027\t Validation loss: 0.015\n",
      "[11] Training loss: 0.025\t Validation loss: 0.014\n",
      "[12] Training loss: 0.023\t Validation loss: 0.012\n",
      "[13] Training loss: 0.021\t Validation loss: 0.011\n",
      "[14] Training loss: 0.019\t Validation loss: 0.010\n",
      "[15] Training loss: 0.018\t Validation loss: 0.009\n",
      "[16] Training loss: 0.017\t Validation loss: 0.008\n",
      "[17] Training loss: 0.016\t Validation loss: 0.007\n",
      "[18] Training loss: 0.015\t Validation loss: 0.007\n",
      "[19] Training loss: 0.014\t Validation loss: 0.006\n",
      "[20] Training loss: 0.013\t Validation loss: 0.006\n",
      "[21] Training loss: 0.013\t Validation loss: 0.006\n",
      "[22] Training loss: 0.012\t Validation loss: 0.005\n",
      "[23] Training loss: 0.012\t Validation loss: 0.005\n",
      "[24] Training loss: 0.012\t Validation loss: 0.005\n",
      "[25] Training loss: 0.011\t Validation loss: 0.005\n",
      "[26] Training loss: 0.011\t Validation loss: 0.005\n",
      "[27] Training loss: 0.011\t Validation loss: 0.005\n",
      "[28] Training loss: 0.010\t Validation loss: 0.004\n",
      "[29] Training loss: 0.010\t Validation loss: 0.004\n",
      "[30] Training loss: 0.010\t Validation loss: 0.004\n",
      "[31] Training loss: 0.010\t Validation loss: 0.004\n",
      "[32] Training loss: 0.010\t Validation loss: 0.004\n",
      "[33] Training loss: 0.010\t Validation loss: 0.004\n",
      "[34] Training loss: 0.010\t Validation loss: 0.004\n",
      "[35] Training loss: 0.010\t Validation loss: 0.004\n",
      "[36] Training loss: 0.010\t Validation loss: 0.004\n",
      "[37] Training loss: 0.010\t Validation loss: 0.004\n",
      "[38] Training loss: 0.009\t Validation loss: 0.004\n",
      "[39] Training loss: 0.009\t Validation loss: 0.004\n",
      "[40] Training loss: 0.009\t Validation loss: 0.004\n",
      "[41] Training loss: 0.009\t Validation loss: 0.004\n",
      "[42] Training loss: 0.009\t Validation loss: 0.004\n",
      "[43] Training loss: 0.009\t Validation loss: 0.004\n",
      "[44] Training loss: 0.009\t Validation loss: 0.004\n",
      "[45] Training loss: 0.009\t Validation loss: 0.004\n",
      "[46] Training loss: 0.009\t Validation loss: 0.004\n",
      "[47] Training loss: 0.009\t Validation loss: 0.004\n",
      "[48] Training loss: 0.009\t Validation loss: 0.004\n",
      "[49] Training loss: 0.009\t Validation loss: 0.004\n",
      "[50] Training loss: 0.009\t Validation loss: 0.004\n",
      "OrderedDict([('linear.weight', tensor([[1.9432]])), ('linear.bias', tensor([1.0313]))])\n"
     ]
    }
   ],
   "source": [
    "import numpy as np\n",
    "import torch\n",
    "import torch.optim as optim\n",
    "import torch.nn as nn\n",
    "from torch.utils.data import Dataset, TensorDataset, DataLoader\n",
    "from torch.utils.data.dataset import random_split\n",
    "\n",
    "# always initialize your random seed to ensure reproducibility of your results\n",
    "np.random.seed(42)\n",
    "\n",
    "#genenerate data for experiment\n",
    "x = np.random.rand(100, 1)\n",
    "true_a, true_b = 1, 2\n",
    "y = true_a + true_b*x + 0.1*np.random.randn(100, 1)\n",
    "\n",
    "# change they numpy arrays to tensors\n",
    "x_tensor = torch.from_numpy(x).float()\n",
    "y_tensor = torch.from_numpy(y).float()\n",
    "\n",
    "#  TensorDataset takes two tensors as arguments: one for the features, one for the labels. \n",
    "# For any given index, this will return the corresponding slice of each of those tensors.\n",
    "dataset = TensorDataset(x_tensor, y_tensor) \n",
    "\n",
    "# test/train split\n",
    "train_dataset, val_dataset = random_split(dataset, [80, 20])\n",
    "\n",
    "# For large datasets, we will not be able to take the whole batch at each step\n",
    "# Thus, we need mini-batches. This will slice our dataset accordingly.\n",
    "train_loader = DataLoader(dataset=train_dataset, batch_size=16)\n",
    "val_loader = DataLoader(dataset=val_dataset, batch_size=20)\n",
    "\n",
    "# Our linear regression model\n",
    "class ManualLinearRegression(nn.Module):\n",
    "    def __init__(self):\n",
    "        super().__init__()\n",
    "        self.linear = nn.Linear(1, 1)\n",
    "\n",
    "    def forward(self, x):\n",
    "        return self.linear(x)\n",
    "\n",
    "# Make a function that takes a model, a loss function, and an optimizer\n",
    "# and returns another function that performs a training step, \n",
    "# taking a set of features and labels as arguments and returning the corresponding loss.\n",
    "def make_train_step(model, loss_fn, optimizer):\n",
    "    def train_step(x, y):\n",
    "        model.train()\n",
    "        yhat = model(x)\n",
    "        loss = loss_fn(y, yhat)\n",
    "        loss.backward()\n",
    "        optimizer.step()\n",
    "        optimizer.zero_grad()\n",
    "        return loss.item()\n",
    "    return train_step\n",
    "\n",
    "# Estimate a and b\n",
    "torch.manual_seed(42)\n",
    "\n",
    "# Send your tensor to whatever device you specify, including your GPU (referred to as cuda)\n",
    "device = 'cuda' if torch.cuda.is_available() else 'cpu'\n",
    "\n",
    "# Let's run our model!\n",
    "model = ManualLinearRegression().to(device)\n",
    "\n",
    "loss_fn = nn.MSELoss(reduction='mean')\n",
    "optimizer = optim.SGD(model.parameters(), lr=1e-1)\n",
    "train_step = make_train_step(model, loss_fn, optimizer)\n",
    "\n",
    "n_epochs = 50\n",
    "training_losses = []\n",
    "validation_losses = []\n",
    "print('initial state', model.state_dict())\n",
    "\n",
    "for epoch in range(n_epochs):\n",
    "    batch_losses = []\n",
    "    for x_batch, y_batch in train_loader:\n",
    "        x_batch = x_batch.to(device)\n",
    "        y_batch = y_batch.to(device)\n",
    "        loss = train_step(x_batch, y_batch)\n",
    "        batch_losses.append(loss)\n",
    "    training_loss = np.mean(batch_losses)\n",
    "    training_losses.append(training_loss)\n",
    "\n",
    "    with torch.no_grad():\n",
    "        val_losses = []\n",
    "        for x_val, y_val in val_loader:\n",
    "            x_val = x_val.to(device)\n",
    "            y_val = y_val.to(device)\n",
    "            model.eval()\n",
    "            yhat = model(x_val)\n",
    "            val_loss = loss_fn(y_val, yhat).item()\n",
    "            val_losses.append(val_loss)\n",
    "        validation_loss = np.mean(val_losses)\n",
    "        validation_losses.append(validation_loss)\n",
    "\n",
    "    print(f\"[{epoch+1}] Training loss: {training_loss:.3f}\\t Validation loss: {validation_loss:.3f}\")\n",
    "\n",
    "print(model.state_dict())"
   ]
  },
  {
   "cell_type": "markdown",
   "metadata": {},
   "source": [
    "### Sequential models\n",
    "Our model was simple enough… You may be thinking: “why even bother to build a class for it?!” Well, you have a point…\n",
    "\n",
    "For straightforward models, that use run-of-the-mill layers, where the output of a layer is sequentially fed as an input to the next, we can use a, er… Sequential model :-)\n",
    "\n",
    "In our case, we would build a Sequential model with a single argument, that is, the Linear layer we used to train our linear regression. The model would look like this:\n",
    "\n",
    "```\n",
    "model = nn.Sequential(nn.Linear(1, 1)).to(device)\n",
    "```"
   ]
  },
  {
   "cell_type": "code",
   "execution_count": 6,
   "metadata": {},
   "outputs": [
    {
     "name": "stdout",
     "output_type": "stream",
     "text": [
      "initial state OrderedDict([('0.weight', tensor([[0.7645]])), ('0.bias', tensor([0.8300]))])\n",
      "[1] Training loss: 0.319\t Validation loss: 0.231\n",
      "[2] Training loss: 0.081\t Validation loss: 0.123\n",
      "[3] Training loss: 0.056\t Validation loss: 0.096\n",
      "[4] Training loss: 0.048\t Validation loss: 0.083\n",
      "[5] Training loss: 0.042\t Validation loss: 0.074\n",
      "[6] Training loss: 0.038\t Validation loss: 0.067\n",
      "[7] Training loss: 0.034\t Validation loss: 0.061\n",
      "[8] Training loss: 0.030\t Validation loss: 0.056\n",
      "[9] Training loss: 0.027\t Validation loss: 0.051\n",
      "[10] Training loss: 0.025\t Validation loss: 0.047\n",
      "[11] Training loss: 0.022\t Validation loss: 0.043\n",
      "[12] Training loss: 0.021\t Validation loss: 0.040\n",
      "[13] Training loss: 0.019\t Validation loss: 0.037\n",
      "[14] Training loss: 0.017\t Validation loss: 0.034\n",
      "[15] Training loss: 0.016\t Validation loss: 0.032\n",
      "[16] Training loss: 0.015\t Validation loss: 0.030\n",
      "[17] Training loss: 0.014\t Validation loss: 0.028\n",
      "[18] Training loss: 0.013\t Validation loss: 0.027\n",
      "[19] Training loss: 0.012\t Validation loss: 0.025\n",
      "[20] Training loss: 0.012\t Validation loss: 0.024\n",
      "[21] Training loss: 0.011\t Validation loss: 0.023\n",
      "[22] Training loss: 0.011\t Validation loss: 0.022\n",
      "[23] Training loss: 0.010\t Validation loss: 0.021\n",
      "[24] Training loss: 0.010\t Validation loss: 0.020\n",
      "[25] Training loss: 0.009\t Validation loss: 0.020\n",
      "[26] Training loss: 0.009\t Validation loss: 0.019\n",
      "[27] Training loss: 0.009\t Validation loss: 0.018\n",
      "[28] Training loss: 0.009\t Validation loss: 0.018\n",
      "[29] Training loss: 0.008\t Validation loss: 0.017\n",
      "[30] Training loss: 0.008\t Validation loss: 0.017\n",
      "[31] Training loss: 0.008\t Validation loss: 0.017\n",
      "[32] Training loss: 0.008\t Validation loss: 0.016\n",
      "[33] Training loss: 0.008\t Validation loss: 0.016\n",
      "[34] Training loss: 0.008\t Validation loss: 0.016\n",
      "[35] Training loss: 0.008\t Validation loss: 0.016\n",
      "[36] Training loss: 0.008\t Validation loss: 0.015\n",
      "[37] Training loss: 0.008\t Validation loss: 0.015\n",
      "[38] Training loss: 0.007\t Validation loss: 0.015\n",
      "[39] Training loss: 0.007\t Validation loss: 0.015\n",
      "[40] Training loss: 0.007\t Validation loss: 0.015\n",
      "[41] Training loss: 0.007\t Validation loss: 0.014\n",
      "[42] Training loss: 0.007\t Validation loss: 0.014\n",
      "[43] Training loss: 0.007\t Validation loss: 0.014\n",
      "[44] Training loss: 0.007\t Validation loss: 0.014\n",
      "[45] Training loss: 0.007\t Validation loss: 0.014\n",
      "[46] Training loss: 0.007\t Validation loss: 0.014\n",
      "[47] Training loss: 0.007\t Validation loss: 0.014\n",
      "[48] Training loss: 0.007\t Validation loss: 0.014\n",
      "[49] Training loss: 0.007\t Validation loss: 0.014\n",
      "[50] Training loss: 0.007\t Validation loss: 0.014\n",
      "OrderedDict([('0.weight', tensor([[1.8985]])), ('0.bias', tensor([1.0408]))])\n"
     ]
    }
   ],
   "source": [
    "import numpy as np\n",
    "import torch\n",
    "import torch.optim as optim\n",
    "import torch.nn as nn\n",
    "from torch.utils.data import Dataset, TensorDataset, DataLoader\n",
    "from torch.utils.data.dataset import random_split\n",
    "\n",
    "# always initialize your random seed to ensure reproducibility of your results\n",
    "np.random.seed(42)\n",
    "\n",
    "#genenerate data for experiment\n",
    "x = np.random.rand(100, 1)\n",
    "true_a, true_b = 1, 2\n",
    "y = true_a + true_b*x + 0.1*np.random.randn(100, 1)\n",
    "\n",
    "# change they numpy arrays to tensors\n",
    "x_tensor = torch.from_numpy(x).float()\n",
    "y_tensor = torch.from_numpy(y).float()\n",
    "\n",
    "#  TensorDataset takes two tensors as arguments: one for the features, one for the labels. \n",
    "# For any given index, this will return the corresponding slice of each of those tensors.\n",
    "dataset = TensorDataset(x_tensor, y_tensor) \n",
    "\n",
    "# test/train split\n",
    "train_dataset, val_dataset = random_split(dataset, [80, 20])\n",
    "\n",
    "# For large datasets, we will not be able to take the whole batch at each step\n",
    "# Thus, we need mini-batches. This will slice our dataset accordingly.\n",
    "train_loader = DataLoader(dataset=train_dataset, batch_size=16)\n",
    "val_loader = DataLoader(dataset=val_dataset, batch_size=20)\n",
    "\n",
    "# Make a function that takes a model, a loss function, and an optimizer\n",
    "# and returns another function that performs a training step, \n",
    "# taking a set of features and labels as arguments and returning the corresponding loss.\n",
    "def make_train_step(model, loss_fn, optimizer):\n",
    "    def train_step(x, y):\n",
    "        model.train()\n",
    "        yhat = model(x)\n",
    "        loss = loss_fn(y, yhat)\n",
    "        loss.backward()\n",
    "        optimizer.step()\n",
    "        optimizer.zero_grad()\n",
    "        return loss.item()\n",
    "    return train_step\n",
    "\n",
    "# Estimate a and b\n",
    "torch.manual_seed(42)\n",
    "\n",
    "# Send your tensor to whatever device you specify, including your GPU (referred to as cuda)\n",
    "device = 'cuda' if torch.cuda.is_available() else 'cpu'\n",
    "\n",
    "# Let's run our model!\n",
    "model = nn.Sequential(nn.Linear(1, 1)).to(device)\n",
    "\n",
    "loss_fn = nn.MSELoss(reduction='mean')\n",
    "optimizer = optim.SGD(model.parameters(), lr=1e-1)\n",
    "train_step = make_train_step(model, loss_fn, optimizer)\n",
    "\n",
    "n_epochs = 50\n",
    "training_losses = []\n",
    "validation_losses = []\n",
    "print('initial state', model.state_dict())\n",
    "\n",
    "for epoch in range(n_epochs):\n",
    "    batch_losses = []\n",
    "    for x_batch, y_batch in train_loader:\n",
    "        x_batch = x_batch.to(device)\n",
    "        y_batch = y_batch.to(device)\n",
    "        loss = train_step(x_batch, y_batch)\n",
    "        batch_losses.append(loss)\n",
    "    training_loss = np.mean(batch_losses)\n",
    "    training_losses.append(training_loss)\n",
    "\n",
    "    with torch.no_grad():\n",
    "        val_losses = []\n",
    "        for x_val, y_val in val_loader:\n",
    "            x_val = x_val.to(device)\n",
    "            y_val = y_val.to(device)\n",
    "            model.eval()\n",
    "            yhat = model(x_val)\n",
    "            val_loss = loss_fn(y_val, yhat).item()\n",
    "            val_losses.append(val_loss)\n",
    "        validation_loss = np.mean(val_losses)\n",
    "        validation_losses.append(validation_loss)\n",
    "\n",
    "    print(f\"[{epoch+1}] Training loss: {training_loss:.3f}\\t Validation loss: {validation_loss:.3f}\")\n",
    "\n",
    "print(model.state_dict())"
   ]
  },
  {
   "cell_type": "markdown",
   "metadata": {},
   "source": [
    "### More PyTorch Details\n",
    "\n",
    "Sources: \n",
    "\n",
    "https://pytorch.org/tutorials/beginner/deep_learning_60min_blitz.html\n",
    "\n",
    "https://www.analyticsvidhya.com/blog/2018/02/pytorch-tutorial/\n",
    "\n",
    "### Tensors\n",
    "Tensors are similar to NumPy’s ndarrays, with the addition being that Tensors can also be used on a GPU to accelerate computing.\n",
    "\n",
    "To construct a matrix filled zeros and of dtype long:"
   ]
  },
  {
   "cell_type": "markdown",
   "metadata": {},
   "source": [
    "x = torch.zeros(5, 3, dtype=torch.long)\n",
    "print(x)"
   ]
  },
  {
   "cell_type": "markdown",
   "metadata": {},
   "source": [
    "To construct a randomly initialized matrix:"
   ]
  },
  {
   "cell_type": "code",
   "execution_count": 7,
   "metadata": {},
   "outputs": [
    {
     "name": "stdout",
     "output_type": "stream",
     "text": [
      "tensor([[0.9211, 0.6948, 0.4751],\n",
      "        [0.1985, 0.1941, 0.0521],\n",
      "        [0.3370, 0.6689, 0.8188],\n",
      "        [0.7308, 0.0580, 0.1993],\n",
      "        [0.4211, 0.9837, 0.5723]])\n"
     ]
    }
   ],
   "source": [
    "x = torch.rand(5, 3)\n",
    "print(x)"
   ]
  },
  {
   "cell_type": "markdown",
   "metadata": {},
   "source": [
    "To construct a tensor directly from data:"
   ]
  },
  {
   "cell_type": "code",
   "execution_count": 8,
   "metadata": {},
   "outputs": [
    {
     "name": "stdout",
     "output_type": "stream",
     "text": [
      "tensor([5.5000, 3.0000])\n"
     ]
    }
   ],
   "source": [
    "x = torch.tensor([5.5, 3])\n",
    "print(x)"
   ]
  },
  {
   "cell_type": "markdown",
   "metadata": {},
   "source": [
    "To get the size of the tensor:"
   ]
  },
  {
   "cell_type": "code",
   "execution_count": 9,
   "metadata": {},
   "outputs": [
    {
     "name": "stdout",
     "output_type": "stream",
     "text": [
      "torch.Size([2])\n"
     ]
    }
   ],
   "source": [
    "print(x.size())"
   ]
  },
  {
   "cell_type": "markdown",
   "metadata": {},
   "source": [
    "### Operations\n",
    "To add two tensors:"
   ]
  },
  {
   "cell_type": "code",
   "execution_count": 10,
   "metadata": {},
   "outputs": [
    {
     "name": "stdout",
     "output_type": "stream",
     "text": [
      "tensor([[1.1106, 1.6276, 1.0715],\n",
      "        [0.8029, 1.3600, 0.3924],\n",
      "        [0.4714, 0.0349, 1.5393],\n",
      "        [1.1333, 1.0816, 0.3636],\n",
      "        [0.4154, 0.2420, 1.0461]])\n"
     ]
    }
   ],
   "source": [
    "x = torch.rand(5, 3)\n",
    "y = torch.rand(5, 3)\n",
    "print(x + y)"
   ]
  },
  {
   "cell_type": "markdown",
   "metadata": {},
   "source": [
    "You can also add tensors this way:"
   ]
  },
  {
   "cell_type": "code",
   "execution_count": 11,
   "metadata": {},
   "outputs": [
    {
     "name": "stdout",
     "output_type": "stream",
     "text": [
      "tensor([[1.1106, 1.6276, 1.0715],\n",
      "        [0.8029, 1.3600, 0.3924],\n",
      "        [0.4714, 0.0349, 1.5393],\n",
      "        [1.1333, 1.0816, 0.3636],\n",
      "        [0.4154, 0.2420, 1.0461]])\n"
     ]
    }
   ],
   "source": [
    "print(torch.add(x, y))"
   ]
  },
  {
   "cell_type": "markdown",
   "metadata": {},
   "source": [
    "We can also provide an output tensor as argument:"
   ]
  },
  {
   "cell_type": "code",
   "execution_count": 12,
   "metadata": {},
   "outputs": [
    {
     "name": "stdout",
     "output_type": "stream",
     "text": [
      "tensor([[1.1106, 1.6276, 1.0715],\n",
      "        [0.8029, 1.3600, 0.3924],\n",
      "        [0.4714, 0.0349, 1.5393],\n",
      "        [1.1333, 1.0816, 0.3636],\n",
      "        [0.4154, 0.2420, 1.0461]])\n"
     ]
    }
   ],
   "source": [
    "result = torch.empty(5, 3)\n",
    "torch.add(x, y, out=result)\n",
    "print(result)"
   ]
  },
  {
   "cell_type": "markdown",
   "metadata": {},
   "source": [
    "Or you can add in-place:"
   ]
  },
  {
   "cell_type": "code",
   "execution_count": 13,
   "metadata": {},
   "outputs": [
    {
     "name": "stdout",
     "output_type": "stream",
     "text": [
      "tensor([[1.1106, 1.6276, 1.0715],\n",
      "        [0.8029, 1.3600, 0.3924],\n",
      "        [0.4714, 0.0349, 1.5393],\n",
      "        [1.1333, 1.0816, 0.3636],\n",
      "        [0.4154, 0.2420, 1.0461]])\n"
     ]
    }
   ],
   "source": [
    "y.add_(x)\n",
    "print(y)"
   ]
  },
  {
   "cell_type": "markdown",
   "metadata": {},
   "source": [
    "You can use standard NumPy-like indexing with all bells and whistles!"
   ]
  },
  {
   "cell_type": "code",
   "execution_count": 14,
   "metadata": {},
   "outputs": [
    {
     "name": "stdout",
     "output_type": "stream",
     "text": [
      "tensor([0.7069, 0.8649, 0.0026, 0.6822, 0.0939])\n"
     ]
    }
   ],
   "source": [
    "print(x[:, 1])"
   ]
  },
  {
   "cell_type": "markdown",
   "metadata": {},
   "source": [
    "If you want to resize/reshape tensor, you can use torch.view:"
   ]
  },
  {
   "cell_type": "code",
   "execution_count": 15,
   "metadata": {},
   "outputs": [
    {
     "name": "stdout",
     "output_type": "stream",
     "text": [
      "torch.Size([4, 4]) torch.Size([16])\n"
     ]
    }
   ],
   "source": [
    "x = torch.randn(4, 4)\n",
    "y = x.view(16)\n",
    "print(x.size(), y.size())"
   ]
  },
  {
   "cell_type": "markdown",
   "metadata": {},
   "source": [
    "If you have a one element tensor, use .item() to get the value as a Python number:"
   ]
  },
  {
   "cell_type": "code",
   "execution_count": 16,
   "metadata": {},
   "outputs": [
    {
     "name": "stdout",
     "output_type": "stream",
     "text": [
      "tensor([1.3018])\n",
      "1.3017932176589966\n"
     ]
    }
   ],
   "source": [
    "x = torch.randn(1)\n",
    "print(x)\n",
    "print(x.item())"
   ]
  },
  {
   "cell_type": "markdown",
   "metadata": {},
   "source": [
    "### NumPy bridge:\n",
    "\n",
    "Converting a Torch Tensor to a NumPy array and vice versa is a breeze.\n",
    "\n",
    "The Torch Tensor and NumPy array will share their underlying memory locations (if the Torch Tensor is on CPU), and changing one will change the other. To change from tensor to numpy:"
   ]
  },
  {
   "cell_type": "code",
   "execution_count": 17,
   "metadata": {},
   "outputs": [
    {
     "name": "stdout",
     "output_type": "stream",
     "text": [
      "tensor([1., 1., 1., 1., 1.])\n",
      "[1. 1. 1. 1. 1.]\n"
     ]
    }
   ],
   "source": [
    "a = torch.ones(5)\n",
    "print(a)\n",
    "\n",
    "b = a.numpy()\n",
    "print(b)"
   ]
  },
  {
   "cell_type": "markdown",
   "metadata": {},
   "source": [
    "See how the numpy array changed in value:"
   ]
  },
  {
   "cell_type": "code",
   "execution_count": 18,
   "metadata": {},
   "outputs": [
    {
     "name": "stdout",
     "output_type": "stream",
     "text": [
      "tensor([2., 2., 2., 2., 2.])\n",
      "[2. 2. 2. 2. 2.]\n"
     ]
    }
   ],
   "source": [
    "a.add_(1)\n",
    "print(a)\n",
    "print(b)"
   ]
  },
  {
   "cell_type": "markdown",
   "metadata": {},
   "source": [
    "To change from numpy to tensor:"
   ]
  },
  {
   "cell_type": "code",
   "execution_count": 19,
   "metadata": {},
   "outputs": [
    {
     "name": "stdout",
     "output_type": "stream",
     "text": [
      "[2. 2. 2. 2. 2.]\n",
      "tensor([2., 2., 2., 2., 2.], dtype=torch.float64)\n"
     ]
    }
   ],
   "source": [
    "a = np.ones(5)\n",
    "b = torch.from_numpy(a)\n",
    "np.add(a, 1, out=a)\n",
    "print(a)\n",
    "print(b)"
   ]
  },
  {
   "cell_type": "markdown",
   "metadata": {},
   "source": [
    "### Gradients\n",
    "\n",
    "PyTorch uses a technique called [automatic differentiation](https://en.wikipedia.org/wiki/Automatic_differentiation). That is, we have a recorder that records what operations we have performed, and then it replays it backward to compute our gradients. This technique is especially powerful when building neural networks, as we save time on one epoch by calculating differentiation of the parameters at the forward pass itself.\n",
    "\n",
    "You will see this come up in code such as the following:\n",
    "\n",
    "```\n",
    "from torch.autograd import Variable\n",
    "\n",
    "x = Variable(train_x)\n",
    "y = Variable(train_y, requires_grad=False)\n",
    "```"
   ]
  },
  {
   "cell_type": "markdown",
   "metadata": {},
   "source": [
    "Here is a more concrete example. First, create x:"
   ]
  },
  {
   "cell_type": "code",
   "execution_count": 20,
   "metadata": {},
   "outputs": [
    {
     "name": "stdout",
     "output_type": "stream",
     "text": [
      "tensor([[1., 1.],\n",
      "        [1., 1.]], requires_grad=True)\n"
     ]
    }
   ],
   "source": [
    "x = torch.ones(2, 2, requires_grad=True)\n",
    "print(x)"
   ]
  },
  {
   "cell_type": "markdown",
   "metadata": {},
   "source": [
    "Then, do more operations to it:"
   ]
  },
  {
   "cell_type": "code",
   "execution_count": 21,
   "metadata": {},
   "outputs": [
    {
     "name": "stdout",
     "output_type": "stream",
     "text": [
      "tensor([[3., 3.],\n",
      "        [3., 3.]], grad_fn=<AddBackward0>)\n",
      "tensor([[27., 27.],\n",
      "        [27., 27.]], grad_fn=<MulBackward0>)\n",
      "tensor(27., grad_fn=<MeanBackward0>)\n"
     ]
    }
   ],
   "source": [
    "y = x + 2\n",
    "print(y)\n",
    "\n",
    "z = y * y * 3\n",
    "\n",
    "print(z)\n",
    "out = z.mean()\n",
    "\n",
    "print(out)"
   ]
  },
  {
   "cell_type": "markdown",
   "metadata": {},
   "source": [
    "Meaning, the out tensor $o$ is given by: $o=\\frac{1}{4}\\Sigma_{i=1}^4 z_i = \\frac{3(x_i+2)^2}{4}$, since we started with all terms equal to $x_i=1$, multiplied by itself, then multiplied by 3, and then took the mean by adding the four terms and dividing by 4. Taking the partial derivative, $\\frac{d o} {d x_i}|_{x_i=1} = \\frac{3}{2}(x_i+2)|_{x_i=1}  = 4.5$. How can we recover this? Using back propogation:"
   ]
  },
  {
   "cell_type": "code",
   "execution_count": 22,
   "metadata": {},
   "outputs": [
    {
     "name": "stdout",
     "output_type": "stream",
     "text": [
      "tensor([[4.5000, 4.5000],\n",
      "        [4.5000, 4.5000]])\n"
     ]
    }
   ],
   "source": [
    "out.backward()\n",
    "print(x.grad)"
   ]
  },
  {
   "cell_type": "markdown",
   "metadata": {},
   "source": [
    "## Neural Networks\n",
    "\n",
    "Neural networks can be constructed using the torch.nn package.\n",
    "\n",
    "Now that you had a glimpse of autograd, nn depends on autograd to define models and differentiate them. An nn.Module contains layers, and a method forward(input)that returns the output.\n",
    "\n",
    "For example, look at this network that classifies digit images:\n",
    "\n",
    "<img src=\"images/mnist.png\" width=700>\n",
    "\n",
    "PyTorch autograd makes it easy to define computational graphs and take gradients, but raw autograd can be a bit too low-level for defining complex neural networks. This is where the nn module can help.\n",
    "\n",
    "The nn package defines a set of modules, which we can think of as a neural network layer that produces output from input and may have some trainable weights.\n",
    "\n",
    "It is a simple feed-forward network. It takes the input, feeds it through several layers one after the other, and then finally gives the output.\n",
    "\n",
    "A typical training procedure for a neural network is as follows:\n",
    "\n",
    "-Define the neural network that has some learnable parameters (or weights)\n",
    "\n",
    "-Iterate over a dataset of inputs\n",
    "\n",
    "-Process input through the network\n",
    "\n",
    "-Compute the loss (how far is the output from being correct)\n",
    "\n",
    "-Propagate gradients back into the network’s parameters\n",
    "\n",
    "-Update the weights of the network, typically using a simple update rule: weight = weight - learning_rate * gradient"
   ]
  },
  {
   "cell_type": "markdown",
   "metadata": {},
   "source": [
    "### TRAINING A CLASSIFIER\n",
    "\n",
    "Let's use neural networks to classify images.\n",
    "\n",
    "Generally, when you have to deal with image, text, audio or video data, you can use standard python packages that load data into a numpy array. Then you can convert this array into a torch.*Tensor.\n",
    "\n",
    "-For images, packages such as Pillow, OpenCV are useful\n",
    "\n",
    "-For audio, packages such as scipy and librosa\n",
    "\n",
    "-For text, either raw Python or Cython based loading, or NLTK and SpaCy are useful\n",
    "\n",
    "Specifically for vision, we have created a package called torchvision, that has data loaders for common datasets such as Imagenet, CIFAR10, MNIST, etc. and data transformers for images, viz., torchvision.datasets and torch.utils.data.DataLoader.\n",
    "\n",
    "This provides a huge convenience and avoids writing boilerplate code.\n",
    "\n",
    "For this tutorial, we will use the CIFAR10 dataset. It has the classes: ‘airplane’, ‘automobile’, ‘bird’, ‘cat’, ‘deer’, ‘dog’, ‘frog’, ‘horse’, ‘ship’, ‘truck’. The images in CIFAR-10 are of size 3x32x32, i.e. 3-channel color images of 32x32 pixels in size.\n",
    "\n",
    "<img src=\"images/cifar10.png\" width=700>\n",
    "\n",
    "\n",
    "We will do the following steps in order:\n",
    "\n",
    "-Load and normalizing the CIFAR10 training and test datasets using torchvision\n",
    "\n",
    "-Define a Convolutional Neural Network\n",
    "\n",
    "-Define a loss function\n",
    "\n",
    "-Train the network on the training data\n",
    "\n",
    "-Test the network on the test data\n",
    "\n",
    "Using torchvision, it’s extremely easy to load CIFAR10:"
   ]
  },
  {
   "cell_type": "code",
   "execution_count": 23,
   "metadata": {},
   "outputs": [],
   "source": [
    "import torch\n",
    "import torchvision\n",
    "import torchvision.transforms as transforms"
   ]
  },
  {
   "cell_type": "markdown",
   "metadata": {},
   "source": [
    "The output of torchvision datasets are PILImage images of range [0, 1]. We transform them to Tensors of normalized range [-1, 1].\n",
    "\n",
    "Note: If running on Windows and you get a BrokenPipeError, try setting the num_worker of torch.utils.data.DataLoader() to 0."
   ]
  },
  {
   "cell_type": "code",
   "execution_count": 24,
   "metadata": {},
   "outputs": [
    {
     "name": "stdout",
     "output_type": "stream",
     "text": [
      "Files already downloaded and verified\n",
      "Files already downloaded and verified\n"
     ]
    }
   ],
   "source": [
    "transform = transforms.Compose(\n",
    "    [transforms.ToTensor(),\n",
    "     transforms.Normalize((0.5, 0.5, 0.5), (0.5, 0.5, 0.5))])\n",
    "\n",
    "trainset = torchvision.datasets.CIFAR10(root='./data', train=True,\n",
    "                                        download=True, transform=transform)\n",
    "trainloader = torch.utils.data.DataLoader(trainset, batch_size=4,\n",
    "                                          shuffle=True, num_workers=2)\n",
    "\n",
    "testset = torchvision.datasets.CIFAR10(root='./data', train=False,\n",
    "                                       download=True, transform=transform)\n",
    "testloader = torch.utils.data.DataLoader(testset, batch_size=4,\n",
    "                                         shuffle=False, num_workers=2)\n",
    "\n",
    "classes = ('plane', 'car', 'bird', 'cat',\n",
    "           'deer', 'dog', 'frog', 'horse', 'ship', 'truck')"
   ]
  },
  {
   "cell_type": "markdown",
   "metadata": {},
   "source": [
    "Let us show some of the training images, for fun."
   ]
  },
  {
   "cell_type": "code",
   "execution_count": 25,
   "metadata": {},
   "outputs": [
    {
     "data": {
      "image/png": "[encoded data removed]",
      "text/plain": [
       "<Figure size 1440x720 with 1 Axes>"
      ]
     },
     "metadata": {
      "needs_background": "light"
     },
     "output_type": "display_data"
    },
    {
     "name": "stdout",
     "output_type": "stream",
     "text": [
      "truck   dog plane  deer\n"
     ]
    }
   ],
   "source": [
    "# functions to show an image\n",
    "def imshow(img):\n",
    "    \n",
    "    plt.figure(figsize=(20,10))\n",
    "    img = img / 2 + 0.5     # unnormalize\n",
    "    npimg = img.numpy()\n",
    "    plt.imshow(np.transpose(npimg, (1, 2, 0)))\n",
    "    plt.show()\n",
    "\n",
    "\n",
    "# get some random training images\n",
    "dataiter = iter(trainloader)\n",
    "images, labels = dataiter.next()\n",
    "\n",
    "# show images\n",
    "imshow(torchvision.utils.make_grid(images))\n",
    "\n",
    "# print labels\n",
    "print(' '.join('%5s' % classes[labels[j]] for j in range(4)))"
   ]
  },
  {
   "cell_type": "markdown",
   "metadata": {},
   "source": [
    "### Defining a convolutional neural network\n",
    "Copy the neural network from the Neural Networks section before and modify it to take 3-channel images (instead of 1-channel images as it was defined)."
   ]
  },
  {
   "cell_type": "code",
   "execution_count": 26,
   "metadata": {},
   "outputs": [],
   "source": [
    "import torch.nn as nn\n",
    "import torch.nn.functional as F\n",
    "\n",
    "\n",
    "class Net(nn.Module):\n",
    "    def __init__(self):\n",
    "        super(Net, self).__init__()\n",
    "        self.conv1 = nn.Conv2d(3, 6, 5)\n",
    "        self.pool = nn.MaxPool2d(2, 2)\n",
    "        self.conv2 = nn.Conv2d(6, 16, 5)\n",
    "        self.fc1 = nn.Linear(16 * 5 * 5, 120)\n",
    "        self.fc2 = nn.Linear(120, 84)\n",
    "        self.fc3 = nn.Linear(84, 10)\n",
    "\n",
    "    def forward(self, x):\n",
    "        x = self.pool(F.relu(self.conv1(x)))\n",
    "        x = self.pool(F.relu(self.conv2(x)))\n",
    "        x = x.view(-1, 16 * 5 * 5)\n",
    "        x = F.relu(self.fc1(x))\n",
    "        x = F.relu(self.fc2(x))\n",
    "        x = self.fc3(x)\n",
    "        return x\n",
    "    \n",
    "net = Net()"
   ]
  },
  {
   "cell_type": "markdown",
   "metadata": {},
   "source": [
    "### Define a Loss function and optimizer\n",
    "Let’s use a Classification Cross-Entropy loss and SGD with momentum."
   ]
  },
  {
   "cell_type": "code",
   "execution_count": 27,
   "metadata": {},
   "outputs": [],
   "source": [
    "import torch.optim as optim\n",
    "\n",
    "criterion = nn.CrossEntropyLoss()\n",
    "optimizer = optim.SGD(net.parameters(), lr=0.001, momentum=0.9)"
   ]
  },
  {
   "cell_type": "markdown",
   "metadata": {},
   "source": [
    "### Train the network\n",
    "This is when things start to get interesting. We simply have to loop over our data iterator, and feed the inputs to the network and optimize."
   ]
  },
  {
   "cell_type": "code",
   "execution_count": 28,
   "metadata": {},
   "outputs": [
    {
     "name": "stdout",
     "output_type": "stream",
     "text": [
      "[1,  2000] loss: 2.228\n",
      "[1,  4000] loss: 1.862\n",
      "[1,  6000] loss: 1.670\n",
      "[1,  8000] loss: 1.579\n",
      "[1, 10000] loss: 1.540\n",
      "[1, 12000] loss: 1.457\n",
      "[2,  2000] loss: 1.412\n",
      "[2,  4000] loss: 1.391\n",
      "[2,  6000] loss: 1.370\n",
      "[2,  8000] loss: 1.325\n",
      "[2, 10000] loss: 1.312\n",
      "[2, 12000] loss: 1.306\n",
      "Finished Training\n"
     ]
    }
   ],
   "source": [
    "for epoch in range(2):  # loop over the dataset multiple times\n",
    "\n",
    "    running_loss = 0.0\n",
    "    for i, data in enumerate(trainloader, 0):\n",
    "        # get the inputs; data is a list of [inputs, labels]\n",
    "        inputs, labels = data\n",
    "\n",
    "        # zero the parameter gradients\n",
    "        optimizer.zero_grad()\n",
    "\n",
    "        # forward + backward + optimize\n",
    "        outputs = net(inputs)\n",
    "        loss = criterion(outputs, labels)\n",
    "        loss.backward()\n",
    "        optimizer.step()\n",
    "\n",
    "        # print statistics\n",
    "        running_loss += loss.item()\n",
    "        if i % 2000 == 1999:    # print every 2000 mini-batches\n",
    "            print('[%d, %5d] loss: %.3f' %\n",
    "                  (epoch + 1, i + 1, running_loss / 2000))\n",
    "            running_loss = 0.0\n",
    "\n",
    "print('Finished Training')"
   ]
  },
  {
   "cell_type": "markdown",
   "metadata": {},
   "source": [
    "### Save the model\n",
    "You'll want to save the model so that you don't need to retrain it every time:"
   ]
  },
  {
   "cell_type": "code",
   "execution_count": 29,
   "metadata": {},
   "outputs": [],
   "source": [
    "PATH = './cifar_net.pth'\n",
    "torch.save(net.state_dict(), PATH)"
   ]
  },
  {
   "cell_type": "markdown",
   "metadata": {},
   "source": [
    "To load it back in, you can type:"
   ]
  },
  {
   "cell_type": "code",
   "execution_count": 30,
   "metadata": {},
   "outputs": [
    {
     "data": {
      "text/plain": [
       "<All keys matched successfully>"
      ]
     },
     "execution_count": 30,
     "metadata": {},
     "output_type": "execute_result"
    }
   ],
   "source": [
    "PATH = './cifar_net.pth'\n",
    "model = Net()\n",
    "model.load_state_dict(torch.load(PATH))"
   ]
  },
  {
   "cell_type": "markdown",
   "metadata": {},
   "source": [
    "### Test the network on the test data\n",
    "\n",
    "We have trained the network for 2 passes over the training dataset. But we need to check if the network has learnt anything at all.\n",
    "\n",
    "We will check this by predicting the class label that the neural network outputs, and checking it against the ground-truth. If the prediction is correct, we add the sample to the list of correct predictions.\n",
    "\n",
    "Okay, first step. Let us display an image from the test set to get familiar."
   ]
  },
  {
   "cell_type": "code",
   "execution_count": 31,
   "metadata": {},
   "outputs": [
    {
     "data": {
      "text/plain": [
       "<Figure size 1440x720 with 0 Axes>"
      ]
     },
     "metadata": {},
     "output_type": "display_data"
    },
    {
     "data": {
      "image/png": "[encoded data removed]",
      "text/plain": [
       "<Figure size 1440x720 with 1 Axes>"
      ]
     },
     "metadata": {
      "needs_background": "light"
     },
     "output_type": "display_data"
    },
    {
     "name": "stdout",
     "output_type": "stream",
     "text": [
      "GroundTruth:    cat  ship  ship plane\n"
     ]
    }
   ],
   "source": [
    "dataiter = iter(testloader)\n",
    "images, labels = dataiter.next()\n",
    "\n",
    "# print images\n",
    "\n",
    "plt.figure(figsize=(20,10))\n",
    "imshow(torchvision.utils.make_grid(images))\n",
    "print('GroundTruth: ', ' '.join('%5s' % classes[labels[j]] for j in range(4)))"
   ]
  },
  {
   "cell_type": "markdown",
   "metadata": {},
   "source": [
    "Okay, now let us see what the neural network thinks these examples above are:"
   ]
  },
  {
   "cell_type": "code",
   "execution_count": 32,
   "metadata": {},
   "outputs": [],
   "source": [
    "outputs = model(images)"
   ]
  },
  {
   "cell_type": "markdown",
   "metadata": {},
   "source": [
    "The outputs are energies for the 10 classes. The higher the energy for a class, the more the network thinks that the image is of the particular class. So, let’s get the index of the highest energy:"
   ]
  },
  {
   "cell_type": "code",
   "execution_count": 33,
   "metadata": {},
   "outputs": [
    {
     "name": "stdout",
     "output_type": "stream",
     "text": [
      "Predicted:    cat   car   car  ship\n"
     ]
    }
   ],
   "source": [
    "_, predicted = torch.max(outputs, 1)\n",
    "\n",
    "print('Predicted: ', ' '.join('%5s' % classes[predicted[j]]\n",
    "                              for j in range(4)))"
   ]
  },
  {
   "cell_type": "markdown",
   "metadata": {},
   "source": [
    "The results seem pretty good.\n",
    "\n",
    "Let us look at how the network performs on the whole dataset."
   ]
  },
  {
   "cell_type": "code",
   "execution_count": 34,
   "metadata": {},
   "outputs": [
    {
     "name": "stdout",
     "output_type": "stream",
     "text": [
      "Accuracy of the network on the 10000 test images: 51 %\n"
     ]
    }
   ],
   "source": [
    "correct = 0\n",
    "total = 0\n",
    "with torch.no_grad():\n",
    "    for data in testloader:\n",
    "        images, labels = data\n",
    "        outputs = model(images)\n",
    "        _, predicted = torch.max(outputs.data, 1)\n",
    "        total += labels.size(0)\n",
    "        correct += (predicted == labels).sum().item()\n",
    "\n",
    "print('Accuracy of the network on the 10000 test images: %d %%' % (\n",
    "    100 * correct / total))"
   ]
  },
  {
   "cell_type": "markdown",
   "metadata": {},
   "source": [
    "That looks way better than chance, which is 10% accuracy (randomly picking a class out of 10 classes). Seems like the network learnt something.\n",
    "\n",
    "Hmmm, what are the classes that performed well, and the classes that did not perform well:"
   ]
  },
  {
   "cell_type": "code",
   "execution_count": 35,
   "metadata": {},
   "outputs": [
    {
     "name": "stdout",
     "output_type": "stream",
     "text": [
      "Accuracy of plane : 40 %\n",
      "Accuracy of   car : 69 %\n",
      "Accuracy of  bird : 56 %\n",
      "Accuracy of   cat : 47 %\n",
      "Accuracy of  deer : 25 %\n",
      "Accuracy of   dog : 35 %\n",
      "Accuracy of  frog : 73 %\n",
      "Accuracy of horse : 48 %\n",
      "Accuracy of  ship : 70 %\n",
      "Accuracy of truck : 47 %\n"
     ]
    }
   ],
   "source": [
    "class_correct = list(0. for i in range(10))\n",
    "class_total = list(0. for i in range(10))\n",
    "with torch.no_grad():\n",
    "    for data in testloader:\n",
    "        images, labels = data\n",
    "        outputs = model(images)\n",
    "        _, predicted = torch.max(outputs, 1)\n",
    "        c = (predicted == labels).squeeze()\n",
    "        for i in range(4):\n",
    "            label = labels[i]\n",
    "            class_correct[label] += c[i].item()\n",
    "            class_total[label] += 1\n",
    "\n",
    "\n",
    "for i in range(10):\n",
    "    print('Accuracy of %5s : %2d %%' % (\n",
    "        classes[i], 100 * class_correct[i] / class_total[i]))"
   ]
  },
  {
   "cell_type": "markdown",
   "metadata": {},
   "source": [
    "### Where do you go from here???\n",
    "\n",
    "You are probably still **very** confused.\n",
    "\n",
    "EXCELLENT 3blue1brown video: https://www.youtube.com/watch?v=aircAruvnKk\n",
    "\n",
    "EXCELLENT FREE tutorial series that uses PyTorch written by Rachel Thomas who I went to grad school with and her husband who was president of Kaggle :)\n",
    "\n",
    "https://course.fast.ai/\n",
    "\n",
    "Andrew Ng's series: https://www.coursera.org/learn/neural-networks-deep-learning"
   ]
  }
 ],
 "metadata": {
  "kernelspec": {
   "display_name": "Python 3",
   "language": "python",
   "name": "python3"
  },
  "language_info": {
   "codemirror_mode": {
    "name": "ipython",
    "version": 3
   },
   "file_extension": ".py",
   "mimetype": "text/x-python",
   "name": "python",
   "nbconvert_exporter": "python",
   "pygments_lexer": "ipython3",
   "version": "3.7.3"
  }
 },
 "nbformat": 4,
 "nbformat_minor": 2
}
