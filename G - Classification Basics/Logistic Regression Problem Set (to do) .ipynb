{
 "cells": [
  {
   "cell_type": "markdown",
   "metadata": {},
   "source": [
    "### DO TITANIC AND HOUSE OF REPRESENTATIVES AND MOVIE DATASETS AND COLLEGE ANALYSIS"
   ]
  },
  {
   "cell_type": "code",
   "execution_count": null,
   "metadata": {},
   "outputs": [],
   "source": [
    "from itertools import product\n",
    "\n",
    "import pandas as pd\n",
    "import numpy as np\n",
    "import matplotlib.pyplot as plt\n",
    "%matplotlib inline\n",
    "from patsy import dmatrices\n",
    "from sklearn import linear_model as lm\n",
    "from sklearn.linear_model import LogisticRegression\n",
    "from sklearn.model_selection import train_test_split\n",
    "from sklearn.metrics import confusion_matrix, classification_report\n",
    "from sklearn.metrics import roc_curve, roc_auc_score, average_precision_score\n",
    "from sklearn.metrics import precision_recall_curve"
   ]
  },
  {
   "cell_type": "code",
   "execution_count": 2,
   "metadata": {},
   "outputs": [
    {
     "data": {
      "text/html": [
       "<div>\n",
       "<table border=\"1\" class=\"dataframe\">\n",
       "  <thead>\n",
       "    <tr style=\"text-align: right;\">\n",
       "      <th></th>\n",
       "      <th>survived</th>\n",
       "      <th>pclass</th>\n",
       "      <th>sex</th>\n",
       "      <th>age</th>\n",
       "      <th>sibsp</th>\n",
       "      <th>parch</th>\n",
       "      <th>fare</th>\n",
       "      <th>embarked</th>\n",
       "      <th>class</th>\n",
       "      <th>who</th>\n",
       "      <th>adult_male</th>\n",
       "      <th>deck</th>\n",
       "      <th>embark_town</th>\n",
       "      <th>alive</th>\n",
       "      <th>alone</th>\n",
       "    </tr>\n",
       "  </thead>\n",
       "  <tbody>\n",
       "    <tr>\n",
       "      <th>782</th>\n",
       "      <td>0</td>\n",
       "      <td>1</td>\n",
       "      <td>male</td>\n",
       "      <td>29.0</td>\n",
       "      <td>0</td>\n",
       "      <td>0</td>\n",
       "      <td>30.0</td>\n",
       "      <td>S</td>\n",
       "      <td>First</td>\n",
       "      <td>man</td>\n",
       "      <td>True</td>\n",
       "      <td>D</td>\n",
       "      <td>Southampton</td>\n",
       "      <td>no</td>\n",
       "      <td>True</td>\n",
       "    </tr>\n",
       "  </tbody>\n",
       "</table>\n",
       "</div>"
      ],
      "text/plain": [
       "     survived  pclass   sex   age  sibsp  parch  fare embarked  class  who  \\\n",
       "782         0       1  male  29.0      0      0  30.0        S  First  man   \n",
       "\n",
       "    adult_male deck  embark_town alive alone  \n",
       "782       True    D  Southampton    no  True  "
      ]
     },
     "execution_count": 2,
     "metadata": {},
     "output_type": "execute_result"
    }
   ],
   "source": [
    "path = '~/seaborn-data/titanic.csv'\n",
    "df = pd.read_csv(path)\n",
    "df.sample(1)"
   ]
  },
  {
   "cell_type": "code",
   "execution_count": 3,
   "metadata": {},
   "outputs": [
    {
     "name": "stdout",
     "output_type": "stream",
     "text": [
      "<class 'pandas.core.frame.DataFrame'>\n",
      "RangeIndex: 891 entries, 0 to 890\n",
      "Data columns (total 15 columns):\n",
      "survived       891 non-null int64\n",
      "pclass         891 non-null int64\n",
      "sex            891 non-null object\n",
      "age            714 non-null float64\n",
      "sibsp          891 non-null int64\n",
      "parch          891 non-null int64\n",
      "fare           891 non-null float64\n",
      "embarked       889 non-null object\n",
      "class          891 non-null object\n",
      "who            891 non-null object\n",
      "adult_male     891 non-null bool\n",
      "deck           203 non-null object\n",
      "embark_town    889 non-null object\n",
      "alive          891 non-null object\n",
      "alone          891 non-null bool\n",
      "dtypes: bool(2), float64(2), int64(4), object(7)\n",
      "memory usage: 92.3+ KB\n"
     ]
    }
   ],
   "source": [
    "df.info()"
   ]
  },
  {
   "cell_type": "code",
   "execution_count": 4,
   "metadata": {},
   "outputs": [
    {
     "data": {
      "text/html": [
       "<div>\n",
       "<table border=\"1\" class=\"dataframe\">\n",
       "  <thead>\n",
       "    <tr style=\"text-align: right;\">\n",
       "      <th></th>\n",
       "      <th>Intercept</th>\n",
       "      <th>pclass</th>\n",
       "      <th>age</th>\n",
       "      <th>sibsp</th>\n",
       "      <th>parch</th>\n",
       "      <th>fare</th>\n",
       "    </tr>\n",
       "  </thead>\n",
       "  <tbody>\n",
       "    <tr>\n",
       "      <th>198</th>\n",
       "      <td>1.0</td>\n",
       "      <td>3.0</td>\n",
       "      <td>29.699118</td>\n",
       "      <td>0.0</td>\n",
       "      <td>0.0</td>\n",
       "      <td>7.750</td>\n",
       "    </tr>\n",
       "    <tr>\n",
       "      <th>350</th>\n",
       "      <td>1.0</td>\n",
       "      <td>3.0</td>\n",
       "      <td>23.000000</td>\n",
       "      <td>0.0</td>\n",
       "      <td>0.0</td>\n",
       "      <td>9.225</td>\n",
       "    </tr>\n",
       "  </tbody>\n",
       "</table>\n",
       "</div>"
      ],
      "text/plain": [
       "     Intercept  pclass        age  sibsp  parch   fare\n",
       "198        1.0     3.0  29.699118    0.0    0.0  7.750\n",
       "350        1.0     3.0  23.000000    0.0    0.0  9.225"
      ]
     },
     "execution_count": 4,
     "metadata": {},
     "output_type": "execute_result"
    }
   ],
   "source": [
    "df.age.fillna(df.age.mean(), inplace=True)\n",
    "cols = ['pclass']\n",
    "y, X = dmatrices('survived~ pclass +age+sibsp+parch+fare',\n",
    "                 data=df,return_type='dataframe')\n",
    "y = y['survived']\n",
    "\n",
    "X.sample(2)"
   ]
  },
  {
   "cell_type": "code",
   "execution_count": 11,
   "metadata": {
    "collapsed": true
   },
   "outputs": [],
   "source": [
    "# Generate a confusion matrix plot: \n",
    "\n",
    "def plot_confusion_matrix(cm, classes=[0, 1], title='some confusion matrix',\n",
    "                          normalize=False,\n",
    "                          cmap=plt.cm.Blues):\n",
    "    \"\"\"\n",
    "    This function prints and plots the confusion matrix.\n",
    "    Normalization can be applied by setting `normalize=True`.\n",
    "    \"\"\"\n",
    "    plt.imshow(cm, interpolation='nearest', cmap=cmap)\n",
    "    plt.title(title)\n",
    "    plt.colorbar()\n",
    "    tick_marks = np.arange(len(classes))\n",
    "    plt.xticks(tick_marks, classes)\n",
    "    plt.yticks(tick_marks, classes)\n",
    "\n",
    "    if normalize:\n",
    "        cm = cm.astype('float') / cm.sum(axis=1)[:, np.newaxis]\n",
    "\n",
    "    thresh = cm.max() / 2.\n",
    "    for i, j in product(range(cm.shape[0]), range(cm.shape[1])):\n",
    "        plt.text(j, i, cm[i, j],\n",
    "                horizontalalignment=\"center\", size=20,\n",
    "                color=\"white\" if cm[i, j] > thresh else \"black\")\n",
    "\n",
    "    plt.ylabel('True label')\n",
    "    plt.xlabel('Predicted label')\n",
    "    \n",
    "\n",
    "def plot_roc(ytrue, yproba, title='some ROC curve'):\n",
    "    auc = roc_auc_score(ytrue, yproba)\n",
    "    fpr, tpr, thr = roc_curve(ytrue, yproba)\n",
    "    plt.plot([0, 1], [0, 1], color='k', linestyle='--', linewidth=.4)\n",
    "    plt.plot(fpr, tpr, label='auc={:.2f}%'.format(auc*100))\n",
    "    plt.axis('equal')\n",
    "    plt.xlim([-.02, 1.02])\n",
    "    plt.ylim([-.02, 1.02])\n",
    "    plt.ylabel('tpr')\n",
    "    plt.xlabel('fpr')\n",
    "    plt.title(title)\n",
    "    plt.legend(loc='best')\n",
    "    plt.grid(True)\n",
    "\n",
    "    \n",
    "def plot_prcurve(ytrue, yproba, title='some Precision-Recall curve'):\n",
    "    auc = average_precision_score(ytrue, yproba)\n",
    "    precision, recall, thr = precision_recall_curve(ytrue, yproba)\n",
    "    plt.plot(recall, precision, label='auc={:.2f}%'.format(auc*100))\n",
    "    plt.axis('equal')\n",
    "    plt.xlim([-.02, 1.02])\n",
    "    plt.ylim([-.02, 1.02])\n",
    "    plt.xlabel('recall')\n",
    "    plt.ylabel('precision')\n",
    "    plt.title(title)\n",
    "    plt.legend(loc='best')\n",
    "    plt.grid(True)\n",
    "\n",
    "\n",
    "def train_test(clf, x, y):\n",
    "    xtrain, xtest, ytrain, ytest = train_test_split(\n",
    "        x, y, test_size=0.25, random_state=1234)\n",
    "    clf.fit(xtrain, ytrain)\n",
    "    # accuracy for test & train:    \n",
    "    y_pred = clf.predict(xtest)\n",
    "    y_proba = clf.predict_proba(xtest)[:, 1]\n",
    "    clf_report = classification_report(ytest, y_pred)\n",
    "    print(clf_report)\n",
    "    conf = confusion_matrix(ytest, y_pred)\n",
    "    return conf, ytest, y_proba"
   ]
  },
  {
   "cell_type": "code",
   "execution_count": 12,
   "metadata": {},
   "outputs": [
    {
     "name": "stdout",
     "output_type": "stream",
     "text": [
      "             precision    recall  f1-score   support\n",
      "\n",
      "        0.0       0.66      0.87      0.75       132\n",
      "        1.0       0.66      0.36      0.47        91\n",
      "\n",
      "avg / total       0.66      0.66      0.64       223\n",
      "\n"
     ]
    },
    {
     "data": {
      "image/png": "[encoded data removed]",
      "text/plain": [
       "<matplotlib.figure.Figure at 0x11a0cc0f0>"
      ]
     },
     "metadata": {},
     "output_type": "display_data"
    },
    {
     "data": {
      "image/png": "[encoded data removed]",
      "text/plain": [
       "<matplotlib.figure.Figure at 0x11b1ee550>"
      ]
     },
     "metadata": {},
     "output_type": "display_data"
    },
    {
     "data": {
      "image/png": "[encoded data removed]",
      "text/plain": [
       "<matplotlib.figure.Figure at 0x11ae28e80>"
      ]
     },
     "metadata": {},
     "output_type": "display_data"
    }
   ],
   "source": [
    "log_clf = LogisticRegression()\n",
    "conf, y_true, y_proba = train_test(log_clf, X, y)\n",
    "\n",
    "plt.figure(figsize=(7, 7))\n",
    "plot_confusion_matrix(conf)\n",
    "\n",
    "plt.figure(figsize=(7, 7))\n",
    "plot_roc(y_true, y_proba)\n",
    "\n",
    "plt.figure(figsize=(7, 7))\n",
    "plot_prcurve(y_true, y_proba)"
   ]
  },
  {
   "cell_type": "code",
   "execution_count": 6,
   "metadata": {},
   "outputs": [],
   "source": [
    "from sklearn.metrics import accuracy_score, confusion_matrix, classification_report\n",
    "import pandas as pd\n",
    "import numpy as np\n",
    "from sklearn.model_selection import train_test_split\n",
    "from sklearn.neighbors import KNeighborsClassifier\n",
    "from sklearn.metrics import accuracy_score\n",
    "from sklearn.model_selection import GridSearchCV\n",
    "from sklearn.linear_model import LogisticRegression\n",
    "from sklearn.linear_model import LogisticRegressionCV\n",
    "from sklearn.model_selection import cross_val_score\n",
    "from datetime import datetime\n",
    "\n",
    "from sklearn.naive_bayes import GaussianNB\n",
    "from sklearn.svm import SVC\n",
    "from sklearn.tree import DecisionTreeClassifier\n",
    "from sklearn.ensemble import RandomForestClassifier\n",
    "\n",
    "from scipy import stats\n",
    "import seaborn as sns\n",
    "%matplotlib inline\n",
    "import matplotlib.pyplot as plt\n",
    "\n",
    "from sklearn.metrics import roc_curve, roc_auc_score, average_precision_score\n",
    "from sklearn.metrics import precision_recall_curve"
   ]
  },
  {
   "cell_type": "markdown",
   "metadata": {},
   "source": [
    "### HOUSE OF REP"
   ]
  },
  {
   "cell_type": "code",
   "execution_count": 9,
   "metadata": {},
   "outputs": [
    {
     "name": "stdout",
     "output_type": "stream",
     "text": [
      "test accuracy 0.6641221374045801\n",
      "              precision    recall  f1-score   support\n",
      "\n",
      "         0.0       0.67      0.75      0.71        71\n",
      "         1.0       0.65      0.57      0.61        60\n",
      "\n",
      "   micro avg       0.66      0.66      0.66       131\n",
      "   macro avg       0.66      0.66      0.66       131\n",
      "weighted avg       0.66      0.66      0.66       131\n",
      "\n"
     ]
    }
   ],
   "source": [
    "df = pd.read_csv('data/house-votes-84.data', header = None)\n",
    "df.rename(columns={0: 'party'}, inplace = True)\n",
    "df.replace(to_replace = 'y', value = 1, inplace = True)\n",
    "df.replace(to_replace = 'n', value = 0, inplace = True)\n",
    "df.replace(to_replace = '?', value = np.nan, inplace = True)\n",
    "for column in df.columns.values:\n",
    "    if column != 'party':\n",
    "        df[column].replace(to_replace = np.nan, value = stats.mode(df[column].dropna())[0][0], inplace = True)\n",
    "\n",
    "X = df.copy(deep = True)\n",
    "del X['party']\n",
    "y = X.pop(1)\n",
    "\n",
    "X_train, X_test, y_train, y_test = train_test_split(X, y, test_size=.30, random_state=4444)\n",
    "logregcv = LogisticRegressionCV(cv=3, random_state=4444) # 3 different \n",
    "logregcv.fit(X_train,y_train)\n",
    "acc_test_log = logregcv.score(X_test, y_test)\n",
    "\n",
    "print('test accuracy', acc_test_log)\n",
    "print(classification_report(y_test, logregcv.predict(X_test)))\n"
   ]
  },
  {
   "cell_type": "code",
   "execution_count": 10,
   "metadata": {},
   "outputs": [
    {
     "name": "stdout",
     "output_type": "stream",
     "text": [
      "AUC 0.7177230046948356\n"
     ]
    },
    {
     "data": {
      "image/png": "[encoded data removed]",
      "text/plain": [
       "<Figure size 432x288 with 1 Axes>"
      ]
     },
     "metadata": {
      "needs_background": "light"
     },
     "output_type": "display_data"
    }
   ],
   "source": [
    "def plot_roc(ytrue, yproba, title='some ROC curve'):\n",
    "    auc = roc_auc_score(ytrue, yproba)\n",
    "    fpr, tpr, thr = roc_curve(ytrue, yproba)\n",
    "    plt.plot([0, 1], [0, 1], color='k', linestyle='--', linewidth=.4)\n",
    "    plt.plot(fpr, tpr, label='auc={:.2f}%'.format(auc*100))\n",
    "    plt.axis('equal')\n",
    "    plt.xlim([-.02, 1.02])\n",
    "    plt.ylim([-.02, 1.02])\n",
    "    plt.ylabel('tpr')\n",
    "    plt.xlabel('fpr')\n",
    "    plt.title(title)\n",
    "    plt.legend(loc='best')\n",
    "    plt.grid(True)\n",
    "\n",
    "y_proba = logregcv.predict_proba(X_test)[:, 1]\n",
    "print('AUC', roc_auc_score(y_test, y_proba))\n",
    "plot_roc(y_test, y_proba)"
   ]
  },
  {
   "cell_type": "markdown",
   "metadata": {},
   "source": [
    "### MOVIE"
   ]
  },
  {
   "cell_type": "code",
   "execution_count": 11,
   "metadata": {},
   "outputs": [
    {
     "name": "stderr",
     "output_type": "stream",
     "text": [
      "/anaconda3/lib/python3.7/site-packages/sklearn/linear_model/logistic.py:460: FutureWarning: Default multi_class will be changed to 'auto' in 0.22. Specify the multi_class option to silence this warning.\n",
      "  \"this warning.\", FutureWarning)\n",
      "/anaconda3/lib/python3.7/site-packages/sklearn/model_selection/_split.py:2053: FutureWarning: You should specify a value for 'cv' instead of relying on the default value. The default value will change from 3 to 5 in version 0.22.\n",
      "  warnings.warn(CV_WARNING, FutureWarning)\n",
      "/anaconda3/lib/python3.7/site-packages/sklearn/linear_model/logistic.py:460: FutureWarning: Default multi_class will be changed to 'auto' in 0.22. Specify the multi_class option to silence this warning.\n",
      "  \"this warning.\", FutureWarning)\n",
      "/anaconda3/lib/python3.7/site-packages/sklearn/model_selection/_split.py:2053: FutureWarning: You should specify a value for 'cv' instead of relying on the default value. The default value will change from 3 to 5 in version 0.22.\n",
      "  warnings.warn(CV_WARNING, FutureWarning)\n",
      "/anaconda3/lib/python3.7/site-packages/sklearn/linear_model/logistic.py:460: FutureWarning: Default multi_class will be changed to 'auto' in 0.22. Specify the multi_class option to silence this warning.\n",
      "  \"this warning.\", FutureWarning)\n",
      "/anaconda3/lib/python3.7/site-packages/sklearn/model_selection/_split.py:2053: FutureWarning: You should specify a value for 'cv' instead of relying on the default value. The default value will change from 3 to 5 in version 0.22.\n",
      "  warnings.warn(CV_WARNING, FutureWarning)\n",
      "/anaconda3/lib/python3.7/site-packages/sklearn/linear_model/logistic.py:460: FutureWarning: Default multi_class will be changed to 'auto' in 0.22. Specify the multi_class option to silence this warning.\n",
      "  \"this warning.\", FutureWarning)\n",
      "/anaconda3/lib/python3.7/site-packages/sklearn/model_selection/_split.py:2053: FutureWarning: You should specify a value for 'cv' instead of relying on the default value. The default value will change from 3 to 5 in version 0.22.\n",
      "  warnings.warn(CV_WARNING, FutureWarning)\n"
     ]
    },
    {
     "name": "stdout",
     "output_type": "stream",
     "text": [
      "accuracy 0.5185714285714286\n"
     ]
    },
    {
     "name": "stderr",
     "output_type": "stream",
     "text": [
      "/anaconda3/lib/python3.7/site-packages/sklearn/linear_model/logistic.py:460: FutureWarning: Default multi_class will be changed to 'auto' in 0.22. Specify the multi_class option to silence this warning.\n",
      "  \"this warning.\", FutureWarning)\n",
      "/anaconda3/lib/python3.7/site-packages/sklearn/model_selection/_split.py:2053: FutureWarning: You should specify a value for 'cv' instead of relying on the default value. The default value will change from 3 to 5 in version 0.22.\n",
      "  warnings.warn(CV_WARNING, FutureWarning)\n"
     ]
    }
   ],
   "source": [
    "df = pd.read_csv('data/2013_movies.csv')\n",
    "df['Budget'].fillna(np.mean(df['Budget'].dropna()), inplace = True)\n",
    "df['ReleaseDate'] =  pd.to_datetime(df['ReleaseDate'], format='%Y-%m-%d %H:%M:%S')\n",
    "df['month'] = df['ReleaseDate'].dt.strftime('%m')\n",
    "df['month'] = df['month'].astype('int')\n",
    "df.replace(to_replace = 'G', value = 'PG-13', inplace = True)\n",
    "X = df[['Budget', 'DomesticTotalGross', 'Runtime', 'month']]\n",
    "y = df['Rating']\n",
    "\n",
    "scores = cross_val_score(LogisticRegressionCV(), X, y, cv=5, scoring='accuracy')\n",
    "print('accuracy', np.mean(scores))"
   ]
  },
  {
   "cell_type": "code",
   "execution_count": null,
   "metadata": {},
   "outputs": [],
   "source": []
  }
 ],
 "metadata": {
  "kernelspec": {
   "display_name": "Python 3",
   "language": "python",
   "name": "python3"
  },
  "language_info": {
   "codemirror_mode": {
    "name": "ipython",
    "version": 3
   },
   "file_extension": ".py",
   "mimetype": "text/x-python",
   "name": "python",
   "nbconvert_exporter": "python",
   "pygments_lexer": "ipython3",
   "version": "3.7.3"
  }
 },
 "nbformat": 4,
 "nbformat_minor": 1
}
