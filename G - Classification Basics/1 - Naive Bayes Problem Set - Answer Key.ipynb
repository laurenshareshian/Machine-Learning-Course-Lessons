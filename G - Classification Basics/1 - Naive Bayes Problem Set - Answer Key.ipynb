{
 "cells": [
  {
   "cell_type": "markdown",
   "metadata": {},
   "source": [
    "### Titanic Dataset"
   ]
  },
  {
   "cell_type": "code",
   "execution_count": 35,
   "metadata": {},
   "outputs": [],
   "source": [
    "import pandas as pd\n",
    "from sklearn import naive_bayes\n",
    "from sklearn.metrics import confusion_matrix\n",
    "from sklearn.model_selection import train_test_split\n",
    "import numpy as np"
   ]
  },
  {
   "cell_type": "markdown",
   "metadata": {},
   "source": [
    "Read in the actual dataset of 887 of the 2435 people aboard the Titanic."
   ]
  },
  {
   "cell_type": "code",
   "execution_count": 2,
   "metadata": {},
   "outputs": [
    {
     "name": "stdout",
     "output_type": "stream",
     "text": [
      "(887, 8)\n"
     ]
    },
    {
     "data": {
      "text/html": [
       "<div>\n",
       "<style scoped>\n",
       "    .dataframe tbody tr th:only-of-type {\n",
       "        vertical-align: middle;\n",
       "    }\n",
       "\n",
       "    .dataframe tbody tr th {\n",
       "        vertical-align: top;\n",
       "    }\n",
       "\n",
       "    .dataframe thead th {\n",
       "        text-align: right;\n",
       "    }\n",
       "</style>\n",
       "<table border=\"1\" class=\"dataframe\">\n",
       "  <thead>\n",
       "    <tr style=\"text-align: right;\">\n",
       "      <th></th>\n",
       "      <th>Survived</th>\n",
       "      <th>Pclass</th>\n",
       "      <th>Name</th>\n",
       "      <th>Sex</th>\n",
       "      <th>Age</th>\n",
       "      <th>Siblings/Spouses Aboard</th>\n",
       "      <th>Parents/Children Aboard</th>\n",
       "      <th>Fare</th>\n",
       "    </tr>\n",
       "  </thead>\n",
       "  <tbody>\n",
       "    <tr>\n",
       "      <th>0</th>\n",
       "      <td>0</td>\n",
       "      <td>3</td>\n",
       "      <td>Mr. Owen Harris Braund</td>\n",
       "      <td>male</td>\n",
       "      <td>22.0</td>\n",
       "      <td>1</td>\n",
       "      <td>0</td>\n",
       "      <td>7.2500</td>\n",
       "    </tr>\n",
       "    <tr>\n",
       "      <th>1</th>\n",
       "      <td>1</td>\n",
       "      <td>1</td>\n",
       "      <td>Mrs. John Bradley (Florence Briggs Thayer) Cum...</td>\n",
       "      <td>female</td>\n",
       "      <td>38.0</td>\n",
       "      <td>1</td>\n",
       "      <td>0</td>\n",
       "      <td>71.2833</td>\n",
       "    </tr>\n",
       "    <tr>\n",
       "      <th>2</th>\n",
       "      <td>1</td>\n",
       "      <td>3</td>\n",
       "      <td>Miss. Laina Heikkinen</td>\n",
       "      <td>female</td>\n",
       "      <td>26.0</td>\n",
       "      <td>0</td>\n",
       "      <td>0</td>\n",
       "      <td>7.9250</td>\n",
       "    </tr>\n",
       "    <tr>\n",
       "      <th>3</th>\n",
       "      <td>1</td>\n",
       "      <td>1</td>\n",
       "      <td>Mrs. Jacques Heath (Lily May Peel) Futrelle</td>\n",
       "      <td>female</td>\n",
       "      <td>35.0</td>\n",
       "      <td>1</td>\n",
       "      <td>0</td>\n",
       "      <td>53.1000</td>\n",
       "    </tr>\n",
       "    <tr>\n",
       "      <th>4</th>\n",
       "      <td>0</td>\n",
       "      <td>3</td>\n",
       "      <td>Mr. William Henry Allen</td>\n",
       "      <td>male</td>\n",
       "      <td>35.0</td>\n",
       "      <td>0</td>\n",
       "      <td>0</td>\n",
       "      <td>8.0500</td>\n",
       "    </tr>\n",
       "  </tbody>\n",
       "</table>\n",
       "</div>"
      ],
      "text/plain": [
       "   Survived  Pclass                                               Name  \\\n",
       "0         0       3                             Mr. Owen Harris Braund   \n",
       "1         1       1  Mrs. John Bradley (Florence Briggs Thayer) Cum...   \n",
       "2         1       3                              Miss. Laina Heikkinen   \n",
       "3         1       1        Mrs. Jacques Heath (Lily May Peel) Futrelle   \n",
       "4         0       3                            Mr. William Henry Allen   \n",
       "\n",
       "      Sex   Age  Siblings/Spouses Aboard  Parents/Children Aboard     Fare  \n",
       "0    male  22.0                        1                        0   7.2500  \n",
       "1  female  38.0                        1                        0  71.2833  \n",
       "2  female  26.0                        0                        0   7.9250  \n",
       "3  female  35.0                        1                        0  53.1000  \n",
       "4    male  35.0                        0                        0   8.0500  "
      ]
     },
     "execution_count": 2,
     "metadata": {},
     "output_type": "execute_result"
    }
   ],
   "source": [
    "df = pd.read_csv('data/titanic.csv')\n",
    "print(df.shape)\n",
    "df.head()"
   ]
  },
  {
   "cell_type": "markdown",
   "metadata": {},
   "source": [
    "### Question 1:\n",
    "Create an input matrix containing the explanatory variables (including a one-hot matrix of the Sex column and by deleting the Name column) and use it to predict the response variable, Survived, using the Naive-Bayes algorithm."
   ]
  },
  {
   "cell_type": "code",
   "execution_count": 3,
   "metadata": {},
   "outputs": [
    {
     "name": "stdout",
     "output_type": "stream",
     "text": [
      "train accuracy 0.7919354838709678\n",
      "test accuracy 0.8127340823970037\n"
     ]
    }
   ],
   "source": [
    "df = df.drop(columns = ['Name'])\n",
    "one_hot = pd.get_dummies(df['Sex'])\n",
    "df = df.join(one_hot)\n",
    "df = df.drop(columns = [\"Sex\"])\n",
    "df.head()\n",
    "\n",
    "X = df.drop(columns = ['Survived'])\n",
    "y = df[\"Survived\"]\n",
    "\n",
    "X_train, X_test, y_train, y_test = train_test_split(X, y, shuffle=True, test_size=.30, random_state=4444)\n",
    "\n",
    "model = naive_bayes.GaussianNB()\n",
    "model.fit(X_train,y_train)\n",
    "\n",
    "print('train accuracy', model.score(X_train, y_train))\n",
    "print('test accuracy', model.score(X_test, y_test))"
   ]
  },
  {
   "cell_type": "markdown",
   "metadata": {},
   "source": [
    "### Question 2:\n",
    "How many dead passengers were incorrectly predicted to survive? How many survivors were incorrectly predicted to be deceased?"
   ]
  },
  {
   "cell_type": "code",
   "execution_count": 4,
   "metadata": {},
   "outputs": [
    {
     "name": "stdout",
     "output_type": "stream",
     "text": [
      "[0 1]\n"
     ]
    },
    {
     "data": {
      "text/plain": [
       "array([[144,  19],\n",
       "       [ 31,  73]])"
      ]
     },
     "execution_count": 4,
     "metadata": {},
     "output_type": "execute_result"
    }
   ],
   "source": [
    "print(model.classes_)\n",
    "confusion_matrix(y_test, model.predict(X_test))"
   ]
  },
  {
   "cell_type": "markdown",
   "metadata": {},
   "source": [
    "### Question 3:\n",
    "Would you predict survival or death of a 3rd class, 18 year old, male passenger who had no family aboard and paid $1?\n",
    "\n",
    "Would you predict survival or death of a 1st class, 18 year old, female passenger who had no family aboard and paid $50?"
   ]
  },
  {
   "cell_type": "code",
   "execution_count": 5,
   "metadata": {},
   "outputs": [
    {
     "name": "stdout",
     "output_type": "stream",
     "text": [
      "[0]\n",
      "[[0.96937592 0.03062408]]\n",
      "[1]\n",
      "[[0.00290691 0.99709309]]\n"
     ]
    }
   ],
   "source": [
    "print(model.predict([[3,18,0,0,0,0,1]]))\n",
    "print(model.predict_proba([[3,18,0,0,0,0,1]]))\n",
    "\n",
    "\n",
    "print(model.predict([[1,18,0,0,50,1,0]]))\n",
    "print(model.predict_proba([[1,18,0,0,50,1,0]]))\n"
   ]
  },
  {
   "cell_type": "markdown",
   "metadata": {},
   "source": [
    "### Question 4: \n",
    "Return to the golf example from yesterday. Write a function called NaiveBayes that takes in an outlook, temp, humidity, and wind, and returns whether we predict that we will play golf or not. Within the function, print both the probabilities of yes or no. If you want to be fancy, you can make this function more general, but it's okay to make this very specific to the golf example."
   ]
  },
  {
   "cell_type": "code",
   "execution_count": 6,
   "metadata": {},
   "outputs": [
    {
     "data": {
      "text/html": [
       "<div>\n",
       "<style scoped>\n",
       "    .dataframe tbody tr th:only-of-type {\n",
       "        vertical-align: middle;\n",
       "    }\n",
       "\n",
       "    .dataframe tbody tr th {\n",
       "        vertical-align: top;\n",
       "    }\n",
       "\n",
       "    .dataframe thead th {\n",
       "        text-align: right;\n",
       "    }\n",
       "</style>\n",
       "<table border=\"1\" class=\"dataframe\">\n",
       "  <thead>\n",
       "    <tr style=\"text-align: right;\">\n",
       "      <th></th>\n",
       "      <th>Outlook</th>\n",
       "      <th>Temp</th>\n",
       "      <th>Humidity</th>\n",
       "      <th>Windy</th>\n",
       "      <th>Play Golf</th>\n",
       "    </tr>\n",
       "  </thead>\n",
       "  <tbody>\n",
       "    <tr>\n",
       "      <th>0</th>\n",
       "      <td>Rainy</td>\n",
       "      <td>Hot</td>\n",
       "      <td>High</td>\n",
       "      <td>False</td>\n",
       "      <td>No</td>\n",
       "    </tr>\n",
       "    <tr>\n",
       "      <th>1</th>\n",
       "      <td>Sunny</td>\n",
       "      <td>Hot</td>\n",
       "      <td>High</td>\n",
       "      <td>True</td>\n",
       "      <td>No</td>\n",
       "    </tr>\n",
       "    <tr>\n",
       "      <th>2</th>\n",
       "      <td>Overcast</td>\n",
       "      <td>Hot</td>\n",
       "      <td>High</td>\n",
       "      <td>False</td>\n",
       "      <td>Yes</td>\n",
       "    </tr>\n",
       "    <tr>\n",
       "      <th>3</th>\n",
       "      <td>Rainy</td>\n",
       "      <td>Mild</td>\n",
       "      <td>High</td>\n",
       "      <td>False</td>\n",
       "      <td>Yes</td>\n",
       "    </tr>\n",
       "    <tr>\n",
       "      <th>4</th>\n",
       "      <td>Sunny</td>\n",
       "      <td>Cool</td>\n",
       "      <td>Normal</td>\n",
       "      <td>False</td>\n",
       "      <td>Yes</td>\n",
       "    </tr>\n",
       "  </tbody>\n",
       "</table>\n",
       "</div>"
      ],
      "text/plain": [
       "    Outlook  Temp Humidity  Windy Play Golf\n",
       "0     Rainy   Hot     High  False        No\n",
       "1     Sunny   Hot     High   True        No\n",
       "2  Overcast   Hot     High  False       Yes\n",
       "3     Rainy  Mild     High  False       Yes\n",
       "4     Sunny  Cool   Normal  False       Yes"
      ]
     },
     "execution_count": 6,
     "metadata": {},
     "output_type": "execute_result"
    }
   ],
   "source": [
    "df = pd.read_csv(\"data/golf.csv\")\n",
    "df.head()"
   ]
  },
  {
   "cell_type": "markdown",
   "metadata": {},
   "source": [
    "First iteration:"
   ]
  },
  {
   "cell_type": "code",
   "execution_count": 19,
   "metadata": {},
   "outputs": [
    {
     "name": "stdout",
     "output_type": "stream",
     "text": [
      "Prob Yes: 0.6067961165048542\n",
      "Prob No: 0.3932038834951457\n"
     ]
    }
   ],
   "source": [
    "df = pd.read_csv(\"data/golf.csv\")\n",
    "df.head()\n",
    "\n",
    "def NaiveBayes(outlook, temp, humidity, windy):\n",
    "    yes = df[df['Play Golf'] == \"Yes\"]\n",
    "    sunnyP = len(df[(df['Outlook'] == outlook) & (df['Play Golf'] == \"Yes\")])/len(yes)\n",
    "    hotP = len(df[(df['Temp'] == temp) & (df['Play Golf'] == \"Yes\")])/len(yes)\n",
    "    humidityP = len(df[(df['Humidity'] == humidity) & (df['Play Golf'] == \"Yes\")])/len(yes)\n",
    "    windyP = len(df[(df['Windy'] == windy) & (df['Play Golf'] == \"Yes\")])/len(yes)\n",
    "    yesP = len(yes)/len(df)\n",
    "    Y = sunnyP*hotP*humidityP*windyP*yesP\n",
    "\n",
    "    no = df[df['Play Golf'] == \"No\"]\n",
    "    sunnyP = len(df[(df['Outlook'] == outlook) & (df['Play Golf'] == \"No\")])/len(no)\n",
    "    hotP = len(df[(df['Temp'] == temp) & (df['Play Golf'] == \"No\")])/len(no)\n",
    "    humidityP = len(df[(df['Humidity'] == humidity) & (df['Play Golf'] == \"No\")])/len(no)\n",
    "    windyP = len(df[(df['Windy'] == windy) & (df['Play Golf'] == \"No\")])/len(no)\n",
    "    noP = len(no)/len(df)\n",
    "    N = sunnyP*hotP*humidityP*windyP*noP\n",
    "\n",
    "    print(f\"Prob Yes: {Y/(N+Y)}\")\n",
    "    print(f\"Prob No: {N/(N+Y)}\")\n",
    "    \n",
    "NaiveBayes('Rainy', 'Hot', 'Normal', True)"
   ]
  },
  {
   "cell_type": "markdown",
   "metadata": {},
   "source": [
    "Improved:"
   ]
  },
  {
   "cell_type": "code",
   "execution_count": 20,
   "metadata": {},
   "outputs": [
    {
     "name": "stdout",
     "output_type": "stream",
     "text": [
      "Prob No: 0.3932038834951457\n",
      "Prob Yes: 0.6067961165048542\n"
     ]
    }
   ],
   "source": [
    "df = pd.read_csv(\"data/golf.csv\")\n",
    "df.head()\n",
    "\n",
    "def NaiveBayes(outlook, temp, humidity, windy):\n",
    "    probabilities = []\n",
    "    for class_ in df['Play Golf'].unique():\n",
    "        classNum = len(df[df['Play Golf'] == class_])\n",
    "        sunnyProb = len(df[(df['Outlook'] == outlook) & (df['Play Golf'] == class_)])/classNum\n",
    "        hotProb = len(df[(df['Temp'] == temp) & (df['Play Golf'] == class_)])/classNum\n",
    "        humidityProb = len(df[(df['Humidity'] == humidity) & (df['Play Golf'] == class_)])/classNum\n",
    "        windyProb = len(df[(df['Windy'] == windy) & (df['Play Golf'] == class_)])/classNum\n",
    "        yesProb = classNum/len(df)\n",
    "        prob = sunnyProb*hotProb*humidityProb*windyProb*yesProb\n",
    "        probabilities.append(prob)\n",
    "        \n",
    "    for i, class_ in enumerate(df['Play Golf'].unique()):\n",
    "        print(f\"Prob {class_}: {probabilities[i]/(sum(probabilities))}\")\n",
    "    \n",
    "NaiveBayes('Rainy', 'Hot', 'Normal', True)"
   ]
  },
  {
   "cell_type": "markdown",
   "metadata": {},
   "source": [
    "Better:"
   ]
  },
  {
   "cell_type": "code",
   "execution_count": 41,
   "metadata": {},
   "outputs": [
    {
     "name": "stdout",
     "output_type": "stream",
     "text": [
      "Prob No: 0.3932038834951457\n",
      "Prob Yes: 0.6067961165048542\n"
     ]
    }
   ],
   "source": [
    "df = pd.read_csv(\"data/golf.csv\")\n",
    "df.head()\n",
    "\n",
    "def NaiveBayes(X,y,instance):\n",
    "    probabilities = []\n",
    "    for class_ in y.unique():\n",
    "        classNum = len(df[y == class_])\n",
    "        probs = []\n",
    "        for i in range(len(X.columns)):\n",
    "            probs.append(len(df[(X.iloc[:,i] == instance[i]) & (y == class_)])/classNum)\n",
    "        yesProb = classNum/len(df)\n",
    "        prob = np.prod(probs)*yesProb\n",
    "        probabilities.append(prob)\n",
    "        \n",
    "    for i, class_ in enumerate(y.unique()):\n",
    "        print(f\"Prob {class_}: {probabilities[i]/(sum(probabilities))}\")\n",
    "\n",
    "        \n",
    "X = df[['Outlook', 'Temp', 'Humidity', 'Windy']]\n",
    "y = df['Play Golf']\n",
    "instance = ['Rainy', 'Hot', 'Normal', True]\n",
    "\n",
    "NaiveBayes(X,y,instance)"
   ]
  }
 ],
 "metadata": {
  "kernelspec": {
   "display_name": "Python 3",
   "language": "python",
   "name": "python3"
  },
  "language_info": {
   "codemirror_mode": {
    "name": "ipython",
    "version": 3
   },
   "file_extension": ".py",
   "mimetype": "text/x-python",
   "name": "python",
   "nbconvert_exporter": "python",
   "pygments_lexer": "ipython3",
   "version": "3.7.3"
  }
 },
 "nbformat": 4,
 "nbformat_minor": 2
}
