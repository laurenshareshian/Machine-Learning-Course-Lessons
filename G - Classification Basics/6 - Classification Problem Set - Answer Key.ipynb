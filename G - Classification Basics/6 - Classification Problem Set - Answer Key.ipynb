{
 "cells": [
  {
   "cell_type": "markdown",
   "metadata": {},
   "source": [
    "###  THE TITANIC AND MOVIE DATASETS"
   ]
  },
  {
   "cell_type": "code",
   "execution_count": 25,
   "metadata": {},
   "outputs": [],
   "source": [
    "from itertools import product\n",
    "\n",
    "import pandas as pd\n",
    "import numpy as np\n",
    "import matplotlib.pyplot as plt\n",
    "%matplotlib inline\n",
    "from patsy import dmatrices\n",
    "from sklearn import linear_model as lm\n",
    "from sklearn.linear_model import LogisticRegression\n",
    "from sklearn.model_selection import train_test_split\n",
    "from sklearn.metrics import confusion_matrix, classification_report\n",
    "from sklearn.metrics import roc_curve, roc_auc_score, average_precision_score\n",
    "from sklearn.metrics import precision_recall_curve\n",
    "from sklearn.neighbors import KNeighborsClassifier\n",
    "from sklearn.model_selection import GridSearchCV\n",
    "from sklearn.model_selection import cross_val_score\n",
    "from sklearn import naive_bayes\n",
    "from sklearn.ensemble import GradientBoostingClassifier"
   ]
  },
  {
   "cell_type": "markdown",
   "metadata": {},
   "source": [
    "### Titanic\n",
    "\n",
    "1.Read in the titanic data set. Use a for loop to find the best nearest neighbor parameter. "
   ]
  },
  {
   "cell_type": "code",
   "execution_count": 14,
   "metadata": {},
   "outputs": [
    {
     "name": "stdout",
     "output_type": "stream",
     "text": [
      "1 0.7378277153558053\n",
      "2 0.6891385767790262\n",
      "3 0.6928838951310862\n",
      "4 0.6741573033707865\n",
      "5 0.700374531835206\n",
      "6 0.7228464419475655\n",
      "7 0.6891385767790262\n",
      "8 0.6928838951310862\n",
      "9 0.6853932584269663\n",
      "10 0.6966292134831461\n",
      "11 0.7078651685393258\n",
      "12 0.7078651685393258\n",
      "13 0.7078651685393258\n",
      "14 0.704119850187266\n",
      "15 0.7116104868913857\n",
      "16 0.7078651685393258\n",
      "17 0.6891385767790262\n",
      "18 0.704119850187266\n",
      "19 0.704119850187266\n"
     ]
    }
   ],
   "source": [
    "df = pd.read_csv('data/titanic.csv')\n",
    "\n",
    "df = df.drop(columns = ['Name'])\n",
    "one_hot = pd.get_dummies(df['Sex'])\n",
    "df = df.join(one_hot)\n",
    "df = df.drop(columns = [\"Sex\"])\n",
    "df.head()\n",
    "\n",
    "X = df.drop(columns = ['Survived'])\n",
    "y = df[\"Survived\"]\n",
    "\n",
    "X_train, X_test, y_train, y_test = train_test_split(X, y, shuffle=True, test_size=.30, random_state=4444)\n",
    "\n",
    "for i in range(1,20):\n",
    "    model = KNeighborsClassifier(n_neighbors=i)\n",
    "    model.fit(X_train, y_train)\n",
    "\n",
    "    print(i, model.score(X_test, y_test))"
   ]
  },
  {
   "cell_type": "markdown",
   "metadata": {},
   "source": [
    "2.Now use GridSearchCV to find the optimal parameter."
   ]
  },
  {
   "cell_type": "code",
   "execution_count": 18,
   "metadata": {},
   "outputs": [
    {
     "name": "stdout",
     "output_type": "stream",
     "text": [
      "{'n_neighbors': 19} KNeighborsClassifier(algorithm='auto', leaf_size=30, metric='minkowski',\n",
      "           metric_params=None, n_jobs=None, n_neighbors=19, p=2,\n",
      "           weights='uniform')\n",
      "0.704119850187266\n"
     ]
    }
   ],
   "source": [
    "from sklearn.model_selection import GridSearchCV\n",
    "\n",
    "# create a parameter grid: map the parameter names to the values that should be searched\n",
    "# Grid search uses all the parameters\n",
    "\n",
    "param_grid = {'n_neighbors': range(1, 20)}\n",
    "\n",
    "model = GridSearchCV(KNeighborsClassifier(), \n",
    "                    param_grid, \n",
    "                    cv=5, \n",
    "                    scoring='accuracy')\n",
    "\n",
    "model = model.fit(X_train, y_train)\n",
    "\n",
    "print(model.best_params_, model.best_estimator_)\n",
    "\n",
    "model = model.best_estimator_\n",
    "\n",
    "print(model.score(X_test, y_test))"
   ]
  },
  {
   "cell_type": "markdown",
   "metadata": {},
   "source": [
    "3.Print a classification report. Describe in words what the recall and precision represent."
   ]
  },
  {
   "cell_type": "code",
   "execution_count": 22,
   "metadata": {},
   "outputs": [
    {
     "data": {
      "text/plain": [
       "'              precision    recall  f1-score   support\\n\\n           0       0.74      0.85      0.79       545\\n           1       0.68      0.51      0.59       342\\n\\n   micro avg       0.72      0.72      0.72       887\\n   macro avg       0.71      0.68      0.69       887\\nweighted avg       0.72      0.72      0.71       887\\n'"
      ]
     },
     "execution_count": 22,
     "metadata": {},
     "output_type": "execute_result"
    }
   ],
   "source": [
    "classification_report(y, model.predict(X))"
   ]
  },
  {
   "cell_type": "markdown",
   "metadata": {},
   "source": [
    "4.Print a confusion matrix. How many people got classified incorrectly? Make sure you understand which category is which."
   ]
  },
  {
   "cell_type": "code",
   "execution_count": 23,
   "metadata": {},
   "outputs": [
    {
     "data": {
      "text/plain": [
       "array([[463,  82],\n",
       "       [166, 176]])"
      ]
     },
     "execution_count": 23,
     "metadata": {},
     "output_type": "execute_result"
    }
   ],
   "source": [
    "confusion_matrix(y, model.predict(X))"
   ]
  },
  {
   "cell_type": "markdown",
   "metadata": {},
   "source": [
    "5.Plot an ROC curve comparing Naive Bayes, Logistic Regresion, Gradient Boosting, and K Nearest Neighbors."
   ]
  },
  {
   "cell_type": "code",
   "execution_count": 29,
   "metadata": {},
   "outputs": [
    {
     "name": "stdout",
     "output_type": "stream",
     "text": [
      "NB accuracy: 0.8018018018018018\n",
      "ROC-AUC: 0.8659855257556407\n",
      "LR accuracy: 0.8243243243243243\n",
      "ROC-AUC: 0.8791826309067688\n",
      "GB accuracy: 0.8648648648648649\n",
      "ROC-AUC: 0.8852277564921244\n",
      "KNN accuracy: 0.6801801801801802\n",
      "ROC-AUC: 0.7236270753512133\n"
     ]
    }
   ],
   "source": [
    "X_train, X_test, y_train, y_test = train_test_split(X, y, test_size=0.25, random_state=1234)\n",
    "\n",
    "\n",
    "model = naive_bayes.GaussianNB()\n",
    "model.fit(X_train, y_train)\n",
    "\n",
    "# accuracy for test & train:    \n",
    "y_proba_NB = model.predict_proba(X_test)[:, 1]\n",
    "\n",
    "#calculate AUC\n",
    "print('NB accuracy:', model.score(X_test,y_test))\n",
    "print('ROC-AUC:', roc_auc_score(y_test, y_proba_NB))\n",
    "\n",
    "\n",
    "model = LogisticRegression(multi_class = \"auto\", solver = 'lbfgs', max_iter=10000)\n",
    "model.fit(X_train, y_train)\n",
    "\n",
    "# accuracy for test & train:    \n",
    "y_proba_LR = model.predict_proba(X_test)[:, 1]\n",
    "\n",
    "#calculate AUC\n",
    "print('LR accuracy:', model.score(X_test,y_test))\n",
    "print('ROC-AUC:', roc_auc_score(y_test, y_proba_LR))\n",
    "\n",
    "model = GradientBoostingClassifier()\n",
    "model.fit(X_train, y_train)\n",
    "\n",
    "# accuracy for test & train:    \n",
    "y_proba_GB = model.predict_proba(X_test)[:, 1]\n",
    "\n",
    "#calculate AUC\n",
    "print('GB accuracy:', model.score(X_test,y_test))\n",
    "print('ROC-AUC:', roc_auc_score(y_test, y_proba_GB))\n",
    "\n",
    "model = KNeighborsClassifier(n_neighbors=19)\n",
    "model.fit(X_train, y_train)\n",
    "\n",
    "# accuracy for test & train:    \n",
    "y_proba_KNN = model.predict_proba(X_test)[:, 1]\n",
    "\n",
    "#calculate AUC\n",
    "print('KNN accuracy:', model.score(X_test,y_test))\n",
    "print('ROC-AUC:', roc_auc_score(y_test, y_proba_KNN))\n",
    "\n"
   ]
  },
  {
   "cell_type": "markdown",
   "metadata": {},
   "source": [
    "6.Plot ROC curves comparing the four methods."
   ]
  },
  {
   "cell_type": "code",
   "execution_count": 32,
   "metadata": {},
   "outputs": [
    {
     "data": {
      "image/png": "[encoded data removed]",
      "text/plain": [
       "<Figure size 432x288 with 1 Axes>"
      ]
     },
     "metadata": {
      "needs_background": "light"
     },
     "output_type": "display_data"
    }
   ],
   "source": [
    "def plot_roc(ytrue, yproba, model, title='some ROC curve'):\n",
    "    auc = roc_auc_score(ytrue, yproba)\n",
    "    fpr, tpr, thr = roc_curve(ytrue, yproba)\n",
    "    plt.plot([0, 1], [0, 1], color='k', linestyle='--', linewidth=.4)\n",
    "    plt.plot(fpr, tpr, label='{} auc={:.2f}%'.format(model, auc*100))\n",
    "    plt.axis('equal')\n",
    "    plt.xlim([-.02, 1.02])\n",
    "    plt.ylim([-.02, 1.02])\n",
    "    plt.ylabel('tpr')\n",
    "    plt.xlabel('fpr')\n",
    "    plt.title(title)\n",
    "    plt.legend(loc='best')\n",
    "    plt.grid(True)\n",
    "    \n",
    "plot_roc(y_test, y_proba_NB, \"Naive Bayes\")\n",
    "plot_roc(y_test, y_proba_GB, \"Gradient Boosting\")\n",
    "plot_roc(y_test, y_proba_LR, \"Log Regression\")\n",
    "plot_roc(y_test, y_proba_KNN, \"KNN\")"
   ]
  },
  {
   "cell_type": "markdown",
   "metadata": {},
   "source": [
    "### MOVIE\n",
    "\n",
    "7.Read in this movie dataset below. Drop the Title, Director, and ReleaseDate columns. Then use a logistic regression. What is the test accuracy?"
   ]
  },
  {
   "cell_type": "code",
   "execution_count": 84,
   "metadata": {},
   "outputs": [
    {
     "name": "stdout",
     "output_type": "stream",
     "text": [
      "accuracy: 0.4583333333333333\n"
     ]
    }
   ],
   "source": [
    "df = pd.read_csv('data/2013_movies.csv', index_col = 0)\n",
    "\n",
    "df = df.drop(columns = ['Title', 'Director', 'ReleaseDate'])\n",
    "y = df['Rating']\n",
    "X = df.drop(columns = ['Rating'])\n",
    "\n",
    "X_train, X_test, y_train, y_test = train_test_split(X, y, test_size=0.25, random_state=1234)\n",
    "\n",
    "model = LogisticRegression(multi_class = \"auto\", solver = 'lbfgs', max_iter=10000)\n",
    "model.fit(X_train, y_train)\n",
    "print('accuracy:', model.score(X_test,y_test))\n"
   ]
  },
  {
   "cell_type": "markdown",
   "metadata": {},
   "source": [
    "8.Print the classes and the confusion matrix for the classes. What were most movies predicted to be?"
   ]
  },
  {
   "cell_type": "code",
   "execution_count": 85,
   "metadata": {},
   "outputs": [
    {
     "name": "stdout",
     "output_type": "stream",
     "text": [
      "['G' 'PG' 'PG-13' 'R']\n"
     ]
    },
    {
     "data": {
      "text/plain": [
       "array([[ 0,  0,  0,  1],\n",
       "       [ 0,  0, 13,  1],\n",
       "       [ 1,  0, 42,  2],\n",
       "       [ 2,  0, 25,  9]])"
      ]
     },
     "execution_count": 85,
     "metadata": {},
     "output_type": "execute_result"
    }
   ],
   "source": [
    "print(model.classes_)\n",
    "confusion_matrix(y, model.predict(X))"
   ]
  },
  {
   "cell_type": "markdown",
   "metadata": {},
   "source": [
    "9.Print the classification report. Any interesting findings?"
   ]
  },
  {
   "cell_type": "code",
   "execution_count": 87,
   "metadata": {},
   "outputs": [
    {
     "name": "stderr",
     "output_type": "stream",
     "text": [
      "/anaconda3/lib/python3.7/site-packages/sklearn/metrics/classification.py:1143: UndefinedMetricWarning: Precision and F-score are ill-defined and being set to 0.0 in labels with no predicted samples.\n",
      "  'precision', 'predicted', average, warn_for)\n"
     ]
    },
    {
     "data": {
      "text/plain": [
       "['              precision    recall  f1-score   support',\n",
       " '',\n",
       " '           G       0.00      0.00      0.00         1',\n",
       " '          PG       0.00      0.00      0.00        14',\n",
       " '       PG-13       0.53      0.93      0.67        45',\n",
       " '           R       0.69      0.25      0.37        36',\n",
       " '',\n",
       " '   micro avg       0.53      0.53      0.53        96',\n",
       " '   macro avg       0.30      0.30      0.26        96',\n",
       " 'weighted avg       0.51      0.53      0.45        96',\n",
       " '']"
      ]
     },
     "execution_count": 87,
     "metadata": {},
     "output_type": "execute_result"
    }
   ],
   "source": [
    "classification_report(y, model.predict(X)).split('\\n')"
   ]
  }
 ],
 "metadata": {
  "kernelspec": {
   "display_name": "Python 3",
   "language": "python",
   "name": "python3"
  },
  "language_info": {
   "codemirror_mode": {
    "name": "ipython",
    "version": 3
   },
   "file_extension": ".py",
   "mimetype": "text/x-python",
   "name": "python",
   "nbconvert_exporter": "python",
   "pygments_lexer": "ipython3",
   "version": "3.7.3"
  }
 },
 "nbformat": 4,
 "nbformat_minor": 1
}
