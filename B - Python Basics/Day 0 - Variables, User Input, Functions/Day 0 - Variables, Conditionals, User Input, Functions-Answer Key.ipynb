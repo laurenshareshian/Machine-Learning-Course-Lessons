{
 "cells": [
  {
   "cell_type": "markdown",
   "metadata": {},
   "source": [
    "### Printing and Comments\n",
    "We can print stuff in Python! Run the cell below to print a message."
   ]
  },
  {
   "cell_type": "code",
   "execution_count": 7,
   "metadata": {},
   "outputs": [
    {
     "name": "stdout",
     "output_type": "stream",
     "text": [
      "Hello, World!\n"
     ]
    }
   ],
   "source": [
    "print('Hello, World!')"
   ]
  },
  {
   "cell_type": "code",
   "execution_count": 2,
   "metadata": {},
   "outputs": [
    {
     "name": "stdout",
     "output_type": "stream",
     "text": [
      "My favorite number: 32\n"
     ]
    }
   ],
   "source": [
    "print('My favorite number:', 32)"
   ]
  },
  {
   "cell_type": "markdown",
   "metadata": {},
   "source": [
    "We can use hashtags to make comments if we want to describe our code but not run it as code:"
   ]
  },
  {
   "cell_type": "code",
   "execution_count": 1,
   "metadata": {},
   "outputs": [
    {
     "name": "stdout",
     "output_type": "stream",
     "text": [
      "My favorite number: 32\n"
     ]
    }
   ],
   "source": [
    "# Below I'm going to tell you what my favorite number is\n",
    "print('My favorite number:', 32)"
   ]
  },
  {
   "cell_type": "markdown",
   "metadata": {},
   "source": [
    "Single and double quotations both work for printing:"
   ]
  },
  {
   "cell_type": "code",
   "execution_count": 5,
   "metadata": {},
   "outputs": [
    {
     "name": "stdout",
     "output_type": "stream",
     "text": [
      "I also like the number 7\n"
     ]
    }
   ],
   "source": [
    "print(\"I also like the number\", 7)"
   ]
  },
  {
   "cell_type": "markdown",
   "metadata": {},
   "source": [
    "### Variables\n",
    "We can store and update variables in Python.\n",
    "\n",
    "Example 1:"
   ]
  },
  {
   "cell_type": "code",
   "execution_count": 3,
   "metadata": {},
   "outputs": [
    {
     "name": "stdout",
     "output_type": "stream",
     "text": [
      "2\n",
      "5\n"
     ]
    }
   ],
   "source": [
    "a=2\n",
    "print(a)\n",
    "a=5\n",
    "print(a)"
   ]
  },
  {
   "cell_type": "markdown",
   "metadata": {},
   "source": [
    "Example 2:"
   ]
  },
  {
   "cell_type": "code",
   "execution_count": 4,
   "metadata": {},
   "outputs": [
    {
     "name": "stdout",
     "output_type": "stream",
     "text": [
      "My old favorite number:  32\n",
      "My new favorite number:  100\n"
     ]
    }
   ],
   "source": [
    "fave_num = 32\n",
    "print('My old favorite number: ', fave_num)\n",
    "fave_num = 100\n",
    "print('My new favorite number: ', fave_num)"
   ]
  },
  {
   "cell_type": "markdown",
   "metadata": {},
   "source": [
    "Example 3:\n",
    "\n",
    "You can also use f-strings to avoid needing to deal with writing commas between words and variables. Just put any variable names between curly brackets and add an f to the beginning of the quotation marks:"
   ]
  },
  {
   "cell_type": "code",
   "execution_count": 4,
   "metadata": {},
   "outputs": [
    {
     "name": "stdout",
     "output_type": "stream",
     "text": [
      "My old fave number was 32 but my new one is 100.\n"
     ]
    }
   ],
   "source": [
    "old_num = 32\n",
    "new_num = 100\n",
    "print(f\"My old fave number was {old_num} but my new one is {new_num}.\")"
   ]
  },
  {
   "cell_type": "markdown",
   "metadata": {},
   "source": [
    "Example 4:\n",
    "\n",
    "You can also update a variable using its previous value."
   ]
  },
  {
   "cell_type": "code",
   "execution_count": 1,
   "metadata": {
    "scrolled": true
   },
   "outputs": [
    {
     "name": "stdout",
     "output_type": "stream",
     "text": [
      "My old number plus one is 6.\n"
     ]
    }
   ],
   "source": [
    "number = 5\n",
    "number = number + 1\n",
    "print(f\"My old number plus one is {number}.\")"
   ]
  },
  {
   "cell_type": "markdown",
   "metadata": {},
   "source": [
    "### Logical operators\n",
    "We have tests for things like equality and inequality:"
   ]
  },
  {
   "cell_type": "code",
   "execution_count": 25,
   "metadata": {},
   "outputs": [
    {
     "data": {
      "text/plain": [
       "True"
      ]
     },
     "execution_count": 25,
     "metadata": {},
     "output_type": "execute_result"
    }
   ],
   "source": [
    "5 == 5"
   ]
  },
  {
   "cell_type": "code",
   "execution_count": 26,
   "metadata": {},
   "outputs": [
    {
     "data": {
      "text/plain": [
       "False"
      ]
     },
     "execution_count": 26,
     "metadata": {},
     "output_type": "execute_result"
    }
   ],
   "source": [
    "5 == 4"
   ]
  },
  {
   "cell_type": "code",
   "execution_count": 27,
   "metadata": {},
   "outputs": [
    {
     "data": {
      "text/plain": [
       "True"
      ]
     },
     "execution_count": 27,
     "metadata": {},
     "output_type": "execute_result"
    }
   ],
   "source": [
    "4 < 5"
   ]
  },
  {
   "cell_type": "code",
   "execution_count": 28,
   "metadata": {},
   "outputs": [
    {
     "data": {
      "text/plain": [
       "True"
      ]
     },
     "execution_count": 28,
     "metadata": {},
     "output_type": "execute_result"
    }
   ],
   "source": [
    "4 <= 5 #this is read \"less than or equal to\""
   ]
  },
  {
   "cell_type": "code",
   "execution_count": 39,
   "metadata": {},
   "outputs": [
    {
     "data": {
      "text/plain": [
       "True"
      ]
     },
     "execution_count": 39,
     "metadata": {},
     "output_type": "execute_result"
    }
   ],
   "source": [
    "4 != 5 #this is read \"not equal to\""
   ]
  },
  {
   "cell_type": "code",
   "execution_count": 30,
   "metadata": {},
   "outputs": [
    {
     "data": {
      "text/plain": [
       "True"
      ]
     },
     "execution_count": 30,
     "metadata": {},
     "output_type": "execute_result"
    }
   ],
   "source": [
    "5 in [5,6,9,11] #this is read \"in the list\""
   ]
  },
  {
   "cell_type": "code",
   "execution_count": 31,
   "metadata": {},
   "outputs": [
    {
     "data": {
      "text/plain": [
       "False"
      ]
     },
     "execution_count": 31,
     "metadata": {},
     "output_type": "execute_result"
    }
   ],
   "source": [
    "4 in [5,6,9,11]"
   ]
  },
  {
   "cell_type": "markdown",
   "metadata": {},
   "source": [
    "### Conditional statements\n",
    "We can use conditional statements to only perform operations if a condition is satisfied. In the code below, nothing will print because 5 is not greater than 6:"
   ]
  },
  {
   "cell_type": "code",
   "execution_count": 8,
   "metadata": {
    "collapsed": true
   },
   "outputs": [],
   "source": [
    "number = 5\n",
    "if number > 6:\n",
    "    print('Your number is greater than 6.')"
   ]
  },
  {
   "cell_type": "markdown",
   "metadata": {},
   "source": [
    "In the code below, you will get something to print because 7 is greater than 6:"
   ]
  },
  {
   "cell_type": "code",
   "execution_count": 33,
   "metadata": {},
   "outputs": [
    {
     "name": "stdout",
     "output_type": "stream",
     "text": [
      "Your number is greater than 6.\n"
     ]
    }
   ],
   "source": [
    "number = 7\n",
    "if number > 6:\n",
    "    print('Your number is greater than 6.')"
   ]
  },
  {
   "cell_type": "markdown",
   "metadata": {},
   "source": [
    "We can use if/else statements to perform two different operations depending on whether or not the condition is satisfied or not:"
   ]
  },
  {
   "cell_type": "code",
   "execution_count": 15,
   "metadata": {},
   "outputs": [
    {
     "name": "stdout",
     "output_type": "stream",
     "text": [
      "Your number is less than or equal to 6.\n"
     ]
    }
   ],
   "source": [
    "number = 5\n",
    "if number > 6:\n",
    "    print('Your number is greater than 6.')\n",
    "else:\n",
    "    print('Your number is less than or equal to 6.')"
   ]
  },
  {
   "cell_type": "markdown",
   "metadata": {},
   "source": [
    "If you want to check whether a number is exactly equal to another number, you'll need to use double equal signs, since \"=\" assigns a value whereas \"==\" checks for equality:"
   ]
  },
  {
   "cell_type": "code",
   "execution_count": 9,
   "metadata": {},
   "outputs": [
    {
     "name": "stdout",
     "output_type": "stream",
     "text": [
      "Your number is equal to 5.\n"
     ]
    }
   ],
   "source": [
    "number = 5\n",
    "if number == 5:\n",
    "    print('Your number is equal to 5.')\n",
    "else:\n",
    "    print('Your number is not equal to 5.')"
   ]
  },
  {
   "cell_type": "markdown",
   "metadata": {},
   "source": [
    "\"Greater or equal to\" is written in the order that it is said:"
   ]
  },
  {
   "cell_type": "code",
   "execution_count": 17,
   "metadata": {},
   "outputs": [
    {
     "name": "stdout",
     "output_type": "stream",
     "text": [
      "Your number is greater or equal to 5.\n"
     ]
    }
   ],
   "source": [
    "number = 5\n",
    "if number >= 5:\n",
    "    print('Your number is greater or equal to 5.')\n",
    "else:\n",
    "    print('Your number is less than 5.')"
   ]
  },
  {
   "cell_type": "markdown",
   "metadata": {},
   "source": [
    "You can also use if/elif/else to specify more than two conditions:"
   ]
  },
  {
   "cell_type": "code",
   "execution_count": 10,
   "metadata": {},
   "outputs": [
    {
     "name": "stdout",
     "output_type": "stream",
     "text": [
      "Your number is between 8 and 10.\n"
     ]
    }
   ],
   "source": [
    "number = 9\n",
    "if number > 10:\n",
    "    print('Your number is bigger than 10.')\n",
    "elif 10 >= number > 8:\n",
    "    print('Your number is between 8 and 10.')\n",
    "elif 8 >= number > 5:\n",
    "    print('Your number is between 5 and 8.')\n",
    "else:\n",
    "    print('Your number is less than or equal to 5.')"
   ]
  },
  {
   "cell_type": "markdown",
   "metadata": {},
   "source": [
    "Actually, once a condition in an if/elif/else statement is satisfied, none of the conditions below are checked. Therefore, we can actually simplify our code above by getting rid of the compound inequalities:"
   ]
  },
  {
   "cell_type": "code",
   "execution_count": 11,
   "metadata": {},
   "outputs": [
    {
     "name": "stdout",
     "output_type": "stream",
     "text": [
      "Your number is between 8 and 10.\n"
     ]
    }
   ],
   "source": [
    "number = 9\n",
    "if number > 10:\n",
    "    print('Your number is bigger than 10.')\n",
    "elif number > 8:\n",
    "    print('Your number is between 8 and 10.')\n",
    "elif number > 5:\n",
    "    print('Your number is between 5 and 8.')\n",
    "else:\n",
    "    print('Your number is less than or equal to 5.')"
   ]
  },
  {
   "cell_type": "markdown",
   "metadata": {},
   "source": [
    "Notice that this would not be true if we made all of our statements if statements:"
   ]
  },
  {
   "cell_type": "code",
   "execution_count": 14,
   "metadata": {},
   "outputs": [
    {
     "name": "stdout",
     "output_type": "stream",
     "text": [
      "Your number is bigger than 8.\n",
      "Your number is bigger than 5.\n"
     ]
    }
   ],
   "source": [
    "number = 9\n",
    "if number > 10:\n",
    "    print('Your number is bigger than 10.')\n",
    "if number > 8:\n",
    "    print('Your number is bigger than 8.')\n",
    "if number > 5:\n",
    "    print('Your number is bigger than 5.')\n",
    "if number <=5:\n",
    "    print('Your number is less than or equal to 5.')"
   ]
  },
  {
   "cell_type": "markdown",
   "metadata": {},
   "source": [
    "### Some math\n",
    "Integers behave the way you would expect:"
   ]
  },
  {
   "cell_type": "code",
   "execution_count": 67,
   "metadata": {},
   "outputs": [
    {
     "name": "stdout",
     "output_type": "stream",
     "text": [
      "5\n",
      "1\n",
      "6\n",
      "1.5\n",
      "9\n"
     ]
    }
   ],
   "source": [
    "print(3+2)\n",
    "print(3-2)\n",
    "print(3*2)\n",
    "print(3/2)\n",
    "print(3**2)"
   ]
  },
  {
   "cell_type": "markdown",
   "metadata": {},
   "source": [
    "Sometimes floating numbers (i.e., decimals) can have some strange rounding stuff:"
   ]
  },
  {
   "cell_type": "code",
   "execution_count": 68,
   "metadata": {},
   "outputs": [
    {
     "name": "stdout",
     "output_type": "stream",
     "text": [
      "0.2\n",
      "0.30000000000000004\n"
     ]
    }
   ],
   "source": [
    "print(0.1+0.1)\n",
    "print(0.1+0.2)"
   ]
  },
  {
   "cell_type": "markdown",
   "metadata": {},
   "source": [
    "It's because 0.2 can't be written in exact binary notation. You won't need to worry about this for this class, though."
   ]
  },
  {
   "cell_type": "markdown",
   "metadata": {},
   "source": [
    "### Modulo\n",
    "\n",
    "Modulo is a math operator that returns the remainder. For example, 7 mod 2 is equal to 1, since 2 goes evenly into 7 three times, with a remainder of one. 6 mod 2, on the other hand, is exactly 0, since 6 is a multiple of 2. Here are some other examples:\n",
    "\n",
    "8 mod 5 = 3\n",
    "\n",
    "8 mod 3 = 2\n",
    "\n",
    "8 mod 7 = 1\n",
    "\n",
    "8 mod 4 = 0\n",
    "\n",
    "8 mod 8 = 0\n",
    "\n",
    "8 mod 9 = 8\n",
    "\n",
    "8 mod 10 = 8\n",
    "\n",
    "In Python, we use the % sign to denote the mod symbol:"
   ]
  },
  {
   "cell_type": "code",
   "execution_count": 36,
   "metadata": {},
   "outputs": [
    {
     "name": "stdout",
     "output_type": "stream",
     "text": [
      "1\n"
     ]
    }
   ],
   "source": [
    "print(16 % 5) "
   ]
  },
  {
   "cell_type": "markdown",
   "metadata": {},
   "source": [
    "All even numbers when divided by 2 will have a remainder of 0:"
   ]
  },
  {
   "cell_type": "code",
   "execution_count": 15,
   "metadata": {},
   "outputs": [
    {
     "name": "stdout",
     "output_type": "stream",
     "text": [
      "0\n",
      "0\n"
     ]
    }
   ],
   "source": [
    "print(8 % 2)\n",
    "print(1000 % 2)"
   ]
  },
  {
   "cell_type": "markdown",
   "metadata": {},
   "source": [
    "All odd numbers when divided by 2 will have a remainder of 1:"
   ]
  },
  {
   "cell_type": "code",
   "execution_count": 2,
   "metadata": {},
   "outputs": [
    {
     "name": "stdout",
     "output_type": "stream",
     "text": [
      "1\n",
      "1\n"
     ]
    }
   ],
   "source": [
    "print(7 % 2)\n",
    "print(1001 % 2)"
   ]
  },
  {
   "cell_type": "markdown",
   "metadata": {},
   "source": [
    "All numbers when divided by one of their factors will have a remainder of 0:"
   ]
  },
  {
   "cell_type": "code",
   "execution_count": 4,
   "metadata": {},
   "outputs": [
    {
     "name": "stdout",
     "output_type": "stream",
     "text": [
      "0\n",
      "0\n",
      "0\n",
      "0\n"
     ]
    }
   ],
   "source": [
    "print(6%1)\n",
    "print(6%2)\n",
    "print(6%3)\n",
    "print(6%6)"
   ]
  },
  {
   "cell_type": "markdown",
   "metadata": {},
   "source": [
    "### User input\n",
    "\n",
    "To take in a user's favorite food, we can run the following code:"
   ]
  },
  {
   "cell_type": "code",
   "execution_count": 17,
   "metadata": {},
   "outputs": [
    {
     "name": "stdout",
     "output_type": "stream",
     "text": [
      "What is your favorite food? Enter it and then press enter. Pizza\n",
      "Your favorite food is Pizza.\n"
     ]
    }
   ],
   "source": [
    "food = input('What is your favorite food? Enter it and then press enter. ')\n",
    "print(f\"Your favorite food is {food}.\")"
   ]
  },
  {
   "cell_type": "markdown",
   "metadata": {},
   "source": [
    "What if you want to take in a user's number and then double it? Try running this code. The result may surprise you."
   ]
  },
  {
   "cell_type": "code",
   "execution_count": 18,
   "metadata": {},
   "outputs": [
    {
     "name": "stdout",
     "output_type": "stream",
     "text": [
      "Gimme a number: 5\n",
      "Double your number is 55.\n"
     ]
    }
   ],
   "source": [
    "number = input('Gimme a number: ')\n",
    "print(f\"Double your number is {2*number}.\")"
   ]
  },
  {
   "cell_type": "markdown",
   "metadata": {},
   "source": [
    "What happened? Well, the variable number is treated as a string (aka word) and not an integer. If you want it to be treated as an integer, put \"int\" around input:"
   ]
  },
  {
   "cell_type": "code",
   "execution_count": 20,
   "metadata": {},
   "outputs": [
    {
     "name": "stdout",
     "output_type": "stream",
     "text": [
      "Gimme a number: 5\n",
      "Double your number is 10.\n"
     ]
    }
   ],
   "source": [
    "number = int(input('Gimme a number: '))\n",
    "print(f\"Double your number is {2*number}.\")"
   ]
  },
  {
   "cell_type": "markdown",
   "metadata": {},
   "source": [
    "What if you wanted number to be treated as a decimal and not an integer? Put \"float\" around input instead of \"int\":"
   ]
  },
  {
   "cell_type": "code",
   "execution_count": 21,
   "metadata": {},
   "outputs": [
    {
     "name": "stdout",
     "output_type": "stream",
     "text": [
      "Gimme a number: 5.5\n",
      "Double your number is 11.0.\n"
     ]
    }
   ],
   "source": [
    "number = float(input('Gimme a number: '))\n",
    "print(f\"Double your number is {2*number}.\")"
   ]
  },
  {
   "cell_type": "markdown",
   "metadata": {},
   "source": [
    "### Exercise 1: Friends\n",
    "Ask the user twice for friends and store the friends in separate variables. Then print a summary statement of the friends. For example, your output should look like:\n",
    "```\n",
    "Friend 1: Betty\n",
    "Friend 2: John\n",
    "Your friends are Betty and John.\n",
    "```"
   ]
  },
  {
   "cell_type": "code",
   "execution_count": 6,
   "metadata": {},
   "outputs": [],
   "source": [
    "#insert exercise 1\n",
    "friend1 = input('Friend 1: ')\n",
    "friend2 = input('Friend 2: ')\n",
    "print(f'Your friends are {friend1} and {friend2}.')"
   ]
  },
  {
   "cell_type": "markdown",
   "metadata": {},
   "source": [
    "### Exercise 2: Even/Odd\n",
    "Ask the user for a number. Use an if/else statement and modulo to return a message about whether their number is even or odd. Don't forget to put \"int\" around input. For example, your output may look like this:\n",
    "```\n",
    "Gimme a number: 5\n",
    "5 is odd.\n",
    "```"
   ]
  },
  {
   "cell_type": "code",
   "execution_count": 3,
   "metadata": {},
   "outputs": [],
   "source": [
    "#insert exercise 2\n",
    "number = int(input('Gimme a number: '))\n",
    "if number % 2 == 0:\n",
    "    print(f'{number} is even.')\n",
    "else:\n",
    "    print(f'{number} is odd.')"
   ]
  },
  {
   "cell_type": "markdown",
   "metadata": {},
   "source": [
    "### Exercise 3: Factor?\n",
    "Ask the user for a two numbers separately. Use an if/else statement and modulo to return a message about whether their first number is a factor of the second number. Don't forget to put \"int\" around input. For example, your output may look like this:\n",
    "```\n",
    "Give me the first number: 20\n",
    "Give me the second number: 5\n",
    "5 is a factor of 20.\n",
    "```"
   ]
  },
  {
   "cell_type": "code",
   "execution_count": 2,
   "metadata": {},
   "outputs": [],
   "source": [
    "#insert exercise 3\n",
    "number1 = int(input('Give me the first number: '))\n",
    "number2 = int(input('Give me the second number: '))\n",
    "if number1 % number2 == 0:\n",
    "    print(f'{number2} is a factor of {number1}.')\n",
    "else:\n",
    "    print(f'{number2} is not a factor of {number2}.')"
   ]
  },
  {
   "cell_type": "markdown",
   "metadata": {},
   "source": [
    "### Exercise 4: Type of triangle\n",
    "Ask a user for the integer side lengths of a triangle, a, b, and c, assuming c is the largest. First, determine whether the triangle is possible or not (is a+b>c ?) If the triangle is possible, then determine whether it is acute, obtuse, or right (depending on how a^2+b^2 compares to c^2). Here are some sample outputs:\n",
    "\n",
    "```\n",
    "a: 3\n",
    "b: 4\n",
    "c: 5\n",
    "Your triangle is right.\n",
    "\n",
    "a: 3\n",
    "b: 4\n",
    "c: 8\n",
    "Your triangle is not possible.\n",
    "\n",
    "a: 5\n",
    "b: 9\n",
    "c: 12\n",
    "Your triangle is obtuse.\n",
    "```"
   ]
  },
  {
   "cell_type": "code",
   "execution_count": 1,
   "metadata": {},
   "outputs": [],
   "source": [
    "#insert exercise 4\n",
    "a = int(input('a: '))\n",
    "b = int(input('b: '))\n",
    "c = int(input('c: '))\n",
    "if a + b > c:\n",
    "    if a**2 + b**2 > c**2:\n",
    "        print('Your triangle is acute.')\n",
    "    elif a**2 + b**2 == c**2:\n",
    "        print('Your triangle is right.')\n",
    "    else:\n",
    "        print('Your triangle is obtuse.')\n",
    "else:\n",
    "    print('Your triangle is not possible.')"
   ]
  },
  {
   "cell_type": "markdown",
   "metadata": {},
   "source": [
    "### Functions"
   ]
  },
  {
   "cell_type": "markdown",
   "metadata": {},
   "source": [
    "As our codes get more complicated, it will be helpful to break up the program into smaller tasks. Each task can be its own function. For example, suppose we want to take an integer, double it, and then subtract one from it. We can break this task into two functions:"
   ]
  },
  {
   "cell_type": "code",
   "execution_count": 7,
   "metadata": {},
   "outputs": [],
   "source": [
    "def double(x):\n",
    "    return 2*x\n",
    "\n",
    "def subtract_one(x):\n",
    "    return x-1"
   ]
  },
  {
   "cell_type": "markdown",
   "metadata": {},
   "source": [
    "Of course, we know that the order of operations is important. Note that applying the functions in different orders will give you different answers:"
   ]
  },
  {
   "cell_type": "code",
   "execution_count": 8,
   "metadata": {},
   "outputs": [
    {
     "name": "stdout",
     "output_type": "stream",
     "text": [
      "9\n",
      "8\n"
     ]
    }
   ],
   "source": [
    "print(subtract_one(double(5)))\n",
    "print(double(subtract_one(5)))"
   ]
  },
  {
   "cell_type": "markdown",
   "metadata": {},
   "source": [
    "As another example, we can test whether or not a number is a factor of 20. If it is a factor, we'll return \"True\" (a Boolean value). Otherwise, we'll return False. Let's test the function on the numbers 5 and 7:"
   ]
  },
  {
   "cell_type": "code",
   "execution_count": 9,
   "metadata": {},
   "outputs": [
    {
     "name": "stdout",
     "output_type": "stream",
     "text": [
      "True\n",
      "False\n"
     ]
    }
   ],
   "source": [
    "def is_factor_of_20(x):\n",
    "    if 20 % x == 0:\n",
    "        return True\n",
    "    else:\n",
    "        return False\n",
    "\n",
    "print(is_factor_of_20(5))\n",
    "print(is_factor_of_20(7))"
   ]
  },
  {
   "cell_type": "markdown",
   "metadata": {},
   "source": [
    "The format you want the function to return the output in probably depends on the circumstance. For example, instead of returning a Boolean True/False, you could return an f-string:"
   ]
  },
  {
   "cell_type": "code",
   "execution_count": 37,
   "metadata": {},
   "outputs": [
    {
     "name": "stdout",
     "output_type": "stream",
     "text": [
      "5 is a factor of 20.\n",
      "7 is not a factor of 20.\n"
     ]
    }
   ],
   "source": [
    "def is_factor_of_20(x):\n",
    "    if 20 % x == 0:\n",
    "        return f\"{x} is a factor of 20.\"\n",
    "    else:\n",
    "        return f\"{x} is not a factor of 20.\"\n",
    "\n",
    "print(is_factor_of_20(5))\n",
    "print(is_factor_of_20(7))"
   ]
  },
  {
   "cell_type": "markdown",
   "metadata": {},
   "source": [
    "Functions can also take in more than one input. For example, we can create a difference function that subtracts the first input and second input:"
   ]
  },
  {
   "cell_type": "code",
   "execution_count": 40,
   "metadata": {},
   "outputs": [
    {
     "name": "stdout",
     "output_type": "stream",
     "text": [
      "2.1322001999999998\n"
     ]
    }
   ],
   "source": [
    "def difference(x,y):\n",
    "    return x-y\n",
    "\n",
    "print(difference(7.2345532,5.102353))"
   ]
  },
  {
   "cell_type": "markdown",
   "metadata": {},
   "source": [
    "Since those numbers are gross, perhaps instead of returning the exact difference we want to return a string that contains the value rounded to two decimal places. To do that, we can use an f-string and \".2f\" to indicate rounding to two decimal places:"
   ]
  },
  {
   "cell_type": "code",
   "execution_count": 39,
   "metadata": {},
   "outputs": [
    {
     "name": "stdout",
     "output_type": "stream",
     "text": [
      "2.13\n"
     ]
    }
   ],
   "source": [
    "def difference(x,y):\n",
    "    return f\"{x-y:.2f}\"\n",
    "\n",
    "print(difference(7.2345532,5.102353))\n"
   ]
  },
  {
   "cell_type": "markdown",
   "metadata": {},
   "source": [
    "As another example, suppose I wanted to write a function called slope_int that takes in two points in the form (x1,y1,x2,y2) and returns the equation in slope-intercept form. I could round to two decimal places in my output:\n"
   ]
  },
  {
   "cell_type": "code",
   "execution_count": 52,
   "metadata": {},
   "outputs": [
    {
     "data": {
      "text/plain": [
       "'y=0.14x+2.86'"
      ]
     },
     "execution_count": 52,
     "metadata": {},
     "output_type": "execute_result"
    }
   ],
   "source": [
    "def slope_int(x1,y1,x2,y2):\n",
    "    m = (y1-y2)/(x1-x2)\n",
    "    b=y1-m*x1\n",
    "    return f\"y={m:.2f}x+{b:.2f}\"\n",
    "\n",
    "slope_int(1,3,8,4)\n"
   ]
  },
  {
   "cell_type": "markdown",
   "metadata": {},
   "source": [
    "Alright. Let's return to our triangle example. Create two functions, is_possible, that determines if a triangle is possible, and triangle_type, that determine whether a triangle is right, acute, or obtuse. Use these functions to complete our earlier task."
   ]
  },
  {
   "cell_type": "code",
   "execution_count": 15,
   "metadata": {},
   "outputs": [
    {
     "name": "stdout",
     "output_type": "stream",
     "text": [
      "a: 3\n",
      "b: 5\n",
      "c: 8\n",
      "Your triangle is not possible.\n"
     ]
    }
   ],
   "source": [
    "def is_possible(a,b,c):\n",
    "    if a+b > c:\n",
    "        return True\n",
    "    else:\n",
    "        return False\n",
    "    \n",
    "def triangle_type(a,b,c):\n",
    "    if a**2+b**2 > c**2:\n",
    "        return \"Acute\"\n",
    "    elif a**2+b**2 == c**2:\n",
    "        return \"Right\"\n",
    "    else: \n",
    "        return \"Obtuse\"\n",
    "    \n",
    "a = int(input('a: '))\n",
    "b = int(input('b: '))\n",
    "c = int(input('c: '))\n",
    "\n",
    "if is_possible(a,b,c):\n",
    "    print(triangle_type(a,b,c))\n",
    "else:\n",
    "    print('Your triangle is not possible.')"
   ]
  },
  {
   "cell_type": "markdown",
   "metadata": {},
   "source": [
    "### Exercise 5: Temperature\n",
    "Write a function that converts celsius to Fahrenheit (F = 9/5 * C + 32)."
   ]
  },
  {
   "cell_type": "code",
   "execution_count": 10,
   "metadata": {},
   "outputs": [],
   "source": [
    "#insert exercise 5\n",
    "def cel_to_deg(c):\n",
    "    return 9/5*c+32\n",
    "print(cel_to_deg(100))"
   ]
  },
  {
   "cell_type": "markdown",
   "metadata": {},
   "source": [
    "### Exercise 6: Factors\n",
    "Write a function that takes in two numbers, m and n, and returns True if n is a factor of m and False otherwise."
   ]
  },
  {
   "cell_type": "code",
   "execution_count": 8,
   "metadata": {},
   "outputs": [],
   "source": [
    "#insert exercise 6\n",
    "def factor(m,n):\n",
    "    if m % n == 0:\n",
    "        return True\n",
    "    else:\n",
    "        return False\n",
    "print(factor(20,5))"
   ]
  },
  {
   "cell_type": "markdown",
   "metadata": {},
   "source": [
    "### Exercise 7: Midpoint\n",
    "Write a function called midpoint that takes in two coordinates in the form (x1,y1,x2,y2) and returns the midpoint of the two. For example, \n",
    "\n",
    "```midpoint(2,4,5,6) should return (3.5, 5.0).```\n"
   ]
  },
  {
   "cell_type": "code",
   "execution_count": 7,
   "metadata": {},
   "outputs": [],
   "source": [
    "#insert exercise 7\n",
    "def midpoint(x1,y1,x2,y2):\n",
    "    return (x1+x2)/2, (y1+y2)/2\n",
    "\n",
    "midpoint(2,4,5,6)"
   ]
  },
  {
   "cell_type": "markdown",
   "metadata": {},
   "source": [
    "### Exercise 8: Compound interest\n",
    "Write a program called interest that takes in the initial principal, the annual interest rate, the number of compounding periods per year, and the number of years and returns the total balance. Recall $P = P_0(1+\\frac{r}{n})^{nt}$. For example,\n",
    "\n",
    "```interest(100,0.05,2,3) should return 115.96934182128899```"
   ]
  },
  {
   "cell_type": "code",
   "execution_count": 5,
   "metadata": {},
   "outputs": [],
   "source": [
    "#insert exercise 8\n",
    "def interest(p,r,n,t):\n",
    "    return p*(1+r/n)**(n*t)\n",
    "\n",
    "interest(100,0.05,2,3)"
   ]
  },
  {
   "cell_type": "markdown",
   "metadata": {},
   "source": [
    "### Exercise 9: e\n",
    "Approximate e by creating a function to evaluate $(1+\\frac{1}{n})^n$ and inserting a large value of n."
   ]
  },
  {
   "cell_type": "code",
   "execution_count": 1,
   "metadata": {},
   "outputs": [],
   "source": [
    "#insert exercise 9\n",
    "def exponential(n):\n",
    "    return (1+1/n)**n\n",
    "\n",
    "exponential(100)"
   ]
  },
  {
   "cell_type": "markdown",
   "metadata": {},
   "source": [
    "### Exercise 10: Point-Slope Form\n",
    "Write a program called point_slope that takes in two points in the form (x1,y1,x2,y2) and returns the equation in point-slope form using the first point. For example,\n",
    "\n",
    "```point_slope(1,3,2,4) should return 'y-3=1.0(x-1)'```"
   ]
  },
  {
   "cell_type": "code",
   "execution_count": 6,
   "metadata": {},
   "outputs": [],
   "source": [
    "#insert exercise 10\n",
    "def point_slope(x1,y1,x2,y2):\n",
    "    m = (y1-y2)/(x1-x2)\n",
    "    return f\"y-{y1}={m}(x-{x1})\"\n",
    "\n",
    "point_slope(1,3,2,4)"
   ]
  }
 ],
 "metadata": {
  "kernelspec": {
   "display_name": "Python 3",
   "language": "python",
   "name": "python3"
  },
  "language_info": {
   "codemirror_mode": {
    "name": "ipython",
    "version": 3
   },
   "file_extension": ".py",
   "mimetype": "text/x-python",
   "name": "python",
   "nbconvert_exporter": "python",
   "pygments_lexer": "ipython3",
   "version": "3.7.3"
  }
 },
 "nbformat": 4,
 "nbformat_minor": 2
}
