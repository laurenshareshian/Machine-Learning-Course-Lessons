{
 "cells": [
  {
   "cell_type": "markdown",
   "metadata": {},
   "source": [
    "### Functions continued\n",
    "Let's talk a bit more about functions."
   ]
  },
  {
   "cell_type": "markdown",
   "metadata": {},
   "source": [
    "There are tons of math values and functions built in to the Python math package. Once you put \"import math\" at the top of your cell, you can refer to any of them. Here are some examples:"
   ]
  },
  {
   "cell_type": "code",
   "execution_count": 3,
   "metadata": {},
   "outputs": [
    {
     "name": "stdout",
     "output_type": "stream",
     "text": [
      "2.0\n",
      "2.718281828459045\n",
      "3.141592653589793\n",
      "-1.0\n",
      "120\n"
     ]
    }
   ],
   "source": [
    "import math\n",
    "\n",
    "print(math.sqrt(4))\n",
    "\n",
    "print(math.exp(1))\n",
    "\n",
    "print(math.pi)\n",
    "print(math.cos(math.pi))\n",
    "\n",
    "print(math.factorial(5))"
   ]
  },
  {
   "cell_type": "markdown",
   "metadata": {},
   "source": [
    "\"math\" is a short word so we'll typically just say \"import math\". However, you can actually import a package and rename it whatever you want. For example, if you wanted to abbreviate math as \"m\", then you could type: ```import math as m``` and then you could use refer the math packages's functions as follows:"
   ]
  },
  {
   "cell_type": "code",
   "execution_count": 2,
   "metadata": {},
   "outputs": [
    {
     "name": "stdout",
     "output_type": "stream",
     "text": [
      "2.0\n",
      "2.718281828459045\n"
     ]
    }
   ],
   "source": [
    "import math as mt\n",
    "\n",
    "print(mt.sqrt(4))\n",
    "\n",
    "print(mt.exp(1))"
   ]
  },
  {
   "cell_type": "markdown",
   "metadata": {},
   "source": [
    "We'll often abbreviate the numpy, pandas, and matplotlib.pyplot packages as np, pd, and plt, respectively, but we're a little ahead of ourselves."
   ]
  },
  {
   "cell_type": "markdown",
   "metadata": {},
   "source": [
    "Suppose you wanted to make a function called evaluator that takes in a function and an x value and returns the function at that value. You could do:"
   ]
  },
  {
   "cell_type": "code",
   "execution_count": 4,
   "metadata": {},
   "outputs": [
    {
     "name": "stdout",
     "output_type": "stream",
     "text": [
      "2.718281828459045\n",
      "1.0\n"
     ]
    }
   ],
   "source": [
    "def evaluator(f,x):\n",
    "    return f(x)\n",
    "\n",
    "print(evaluator(math.exp, 1))\n",
    "print(evaluator(math.cos, 0))"
   ]
  },
  {
   "cell_type": "markdown",
   "metadata": {},
   "source": [
    "You would also be able to use this evaluator function for functions that you define yourself, such as the square function:"
   ]
  },
  {
   "cell_type": "code",
   "execution_count": 5,
   "metadata": {},
   "outputs": [
    {
     "name": "stdout",
     "output_type": "stream",
     "text": [
      "9.869604401089358\n"
     ]
    }
   ],
   "source": [
    "def square(x):\n",
    "    return x**2\n",
    "\n",
    "print(evaluator(square, math.pi))"
   ]
  },
  {
   "cell_type": "markdown",
   "metadata": {},
   "source": [
    "Speaking of using math.pi to approximate pi, how about we approximate pi ourselves? Recall that we can inscribe a regular polygon inside a circle of radius 1:\n",
    "\n",
    "<img src=\"images/circle.png\" style=\"width: 200px;\"/>\n",
    "\n",
    "If we do that, then we find that the height of triangle AOB is $\\sin(\\frac{180}{n})$ and the base of triangle AOB is $2\\cos(\\frac{180}{n})$. Therefore, the area of the triangle is $\\sin(\\frac{180}{n})\\cos(\\frac{180}{n})$ and the area of the regular polygon is  $n\\sin(\\frac{180}{n})\\cos(\\frac{180}{n})$. \n",
    "\n",
    "To approximate pi, we can find the area of a regular polygon with a large number of sides, after first converting the angle into radians:"
   ]
  },
  {
   "cell_type": "code",
   "execution_count": 6,
   "metadata": {},
   "outputs": [
    {
     "name": "stdout",
     "output_type": "stream",
     "text": [
      "3.133330839107606\n"
     ]
    }
   ],
   "source": [
    "def polygon_area(n):\n",
    "    return n*math.sin(math.radians(180/n))*math.cos(math.radians(180/n))\n",
    "\n",
    "print(polygon_area(50))"
   ]
  },
  {
   "cell_type": "markdown",
   "metadata": {},
   "source": [
    "Here are some more functions exercises:"
   ]
  },
  {
   "cell_type": "markdown",
   "metadata": {},
   "source": [
    "### Exercise 1 (A Calculus Example): Finite Difference\n",
    "\n",
    "Write a program called derivative that takes in a function, an x value, and a threshold h and returns the approximate derivative of the function at that x value. For example, ```derivative(square, 3, 0.001)``` should return approximately 6.001 if you first define the square function to be \n",
    "```python\n",
    "def square(x):\n",
    "    return x**2\n",
    "```\n",
    "\n",
    "Recall that the finite difference formula is given by $\\frac{f(x+h) - f(x)}{h}$."
   ]
  },
  {
   "cell_type": "code",
   "execution_count": 7,
   "metadata": {},
   "outputs": [],
   "source": [
    "#insert exercise 1"
   ]
  },
  {
   "cell_type": "markdown",
   "metadata": {},
   "source": [
    "### Exercise 2 (A Geometry Example): The Ambiguous Case\n",
    "Write a function called SSA that takes in a side (a), side (b), angle (A) of a trianlge and determines whether none, one, or two triangles are possible. Be sure to first convert the angle from degrees to radians by multiplying the angle by $\\frac{\\pi}{180}$. Hint:\n",
    "\n",
    "<img src=\"images/ssa.png\" style=\"width: 500px;\"/>\n",
    "\n",
    "To check your work:\n",
    "```\n",
    "ssa(22,12,42) should give 1\n",
    "ssa(15,25,85) should give 0\n",
    "ssa(12,31,20.5) should give 2\n",
    "```"
   ]
  },
  {
   "cell_type": "code",
   "execution_count": 9,
   "metadata": {},
   "outputs": [],
   "source": [
    "#insert exercise 2"
   ]
  },
  {
   "cell_type": "markdown",
   "metadata": {},
   "source": [
    "### Exercise 3 (An Algebra Example): Quadratic Formula\n",
    "Write a function that takes in a, b, and c and returns the roots of the quadratic equation $ax^2+bx+c=0$ in f-string format. Use a conditional statement and the determinant $ D=b^2-4ac $ to determine what form to return the roots in. Then, return f-strings. Here are some sample outputs:\n",
    "\n",
    "```\n",
    "print(quad_formula(1,-1,-6))\n",
    "print(quad_formula(1,-6,9))\n",
    "print(quad_formula(1,-6,13))\n",
    "\n",
    "should return:\n",
    "\n",
    "Your roots are 3.0 and -2.0.\n",
    "Your repeated root is 3.0.\n",
    "Your roots are 3.0+2.0i and 3.0-2.0i.\n",
    "```"
   ]
  },
  {
   "cell_type": "code",
   "execution_count": 8,
   "metadata": {},
   "outputs": [],
   "source": [
    "#insert exercise 3"
   ]
  }
 ],
 "metadata": {
  "kernelspec": {
   "display_name": "Python 3",
   "language": "python",
   "name": "python3"
  },
  "language_info": {
   "codemirror_mode": {
    "name": "ipython",
    "version": 3
   },
   "file_extension": ".py",
   "mimetype": "text/x-python",
   "name": "python",
   "nbconvert_exporter": "python",
   "pygments_lexer": "ipython3",
   "version": "3.7.3"
  }
 },
 "nbformat": 4,
 "nbformat_minor": 2
}
