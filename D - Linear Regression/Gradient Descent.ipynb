{
 "cells": [
  {
   "cell_type": "code",
   "execution_count": 1,
   "metadata": {},
   "outputs": [],
   "source": [
    "import numpy as np\n",
    "import pandas as pd\n",
    "import matplotlib.pyplot as plt\n",
    "%matplotlib inline\n",
    "from sklearn.linear_model import LinearRegression\n",
    "from sklearn.metrics import mean_squared_error\n",
    "from scipy.stats import pearsonr"
   ]
  },
  {
   "cell_type": "code",
   "execution_count": 20,
   "metadata": {},
   "outputs": [
    {
     "data": {
      "text/html": [
       "<div>\n",
       "<style scoped>\n",
       "    .dataframe tbody tr th:only-of-type {\n",
       "        vertical-align: middle;\n",
       "    }\n",
       "\n",
       "    .dataframe tbody tr th {\n",
       "        vertical-align: top;\n",
       "    }\n",
       "\n",
       "    .dataframe thead th {\n",
       "        text-align: right;\n",
       "    }\n",
       "</style>\n",
       "<table border=\"1\" class=\"dataframe\">\n",
       "  <thead>\n",
       "    <tr style=\"text-align: right;\">\n",
       "      <th></th>\n",
       "      <th>Airline</th>\n",
       "      <th>Mishandled baggage (per 1000 passengers)</th>\n",
       "      <th>Percentage On Time Arrivals</th>\n",
       "    </tr>\n",
       "  </thead>\n",
       "  <tbody>\n",
       "    <tr>\n",
       "      <th>0</th>\n",
       "      <td>American West</td>\n",
       "      <td>4.36</td>\n",
       "      <td>81.9</td>\n",
       "    </tr>\n",
       "    <tr>\n",
       "      <th>1</th>\n",
       "      <td>United</td>\n",
       "      <td>4.00</td>\n",
       "      <td>80.9</td>\n",
       "    </tr>\n",
       "    <tr>\n",
       "      <th>2</th>\n",
       "      <td>Southwest</td>\n",
       "      <td>4.42</td>\n",
       "      <td>78.4</td>\n",
       "    </tr>\n",
       "    <tr>\n",
       "      <th>3</th>\n",
       "      <td>US Airways</td>\n",
       "      <td>7.16</td>\n",
       "      <td>78.3</td>\n",
       "    </tr>\n",
       "    <tr>\n",
       "      <th>4</th>\n",
       "      <td>Continental</td>\n",
       "      <td>4.62</td>\n",
       "      <td>75.7</td>\n",
       "    </tr>\n",
       "  </tbody>\n",
       "</table>\n",
       "</div>"
      ],
      "text/plain": [
       "         Airline  Mishandled baggage (per 1000 passengers)  \\\n",
       "0  American West                                      4.36   \n",
       "1         United                                      4.00   \n",
       "2      Southwest                                      4.42   \n",
       "3     US Airways                                      7.16   \n",
       "4    Continental                                      4.62   \n",
       "\n",
       "   Percentage On Time Arrivals  \n",
       "0                         81.9  \n",
       "1                         80.9  \n",
       "2                         78.4  \n",
       "3                         78.3  \n",
       "4                         75.7  "
      ]
     },
     "execution_count": 20,
     "metadata": {},
     "output_type": "execute_result"
    }
   ],
   "source": [
    "df = pd.read_csv('data/airlines.csv')\n",
    "df.head()"
   ]
  },
  {
   "cell_type": "code",
   "execution_count": 54,
   "metadata": {},
   "outputs": [
    {
     "data": {
      "text/plain": [
       "[<matplotlib.lines.Line2D at 0x1a17f14c50>]"
      ]
     },
     "execution_count": 54,
     "metadata": {},
     "output_type": "execute_result"
    },
    {
     "data": {
      "image/png": "[encoded data removed]",
      "text/plain": [
       "<Figure size 432x288 with 1 Axes>"
      ]
     },
     "metadata": {
      "needs_background": "light"
     },
     "output_type": "display_data"
    }
   ],
   "source": [
    "X = df['Mishandled baggage (per 1000 passengers)']\n",
    "Y = df['Percentage On Time Arrivals']\n",
    "plt.plot(X, Y, '.')\n"
   ]
  },
  {
   "cell_type": "code",
   "execution_count": 28,
   "metadata": {},
   "outputs": [
    {
     "name": "stdout",
     "output_type": "stream",
     "text": [
      "b:  87.20288782505382\n",
      "m:  [-2.15244604]\n"
     ]
    }
   ],
   "source": [
    "# Create an empty model\n",
    "model = LinearRegression()\n",
    "# Choose the response variable, which in this case is y\n",
    "y = df['Percentage On Time Arrivals']\n",
    "# Choose the predictor variable, which in this case is X:\n",
    "X=df.drop(['Airline', 'Percentage On Time Arrivals'], axis=1)\n",
    "# Fit the model to the full dataset\n",
    "model.fit(X, y)\n",
    "# print out intercept\n",
    "print('b: ', model.intercept_)\n",
    "# print out other coefficients\n",
    "print('m: ', model.coef_)"
   ]
  },
  {
   "cell_type": "code",
   "execution_count": 59,
   "metadata": {},
   "outputs": [
    {
     "name": "stdout",
     "output_type": "stream",
     "text": [
      "b:87.17431673066372, m:-2.1477131931082094\n"
     ]
    }
   ],
   "source": [
    "theta0, theta1 = 0, 0 # initial guesses\n",
    "theta0_temp, theta1_temp = 1, 1 #so we can compare previous and new values\n",
    "                            # make sure they are different than theta0, theta1 at the start\n",
    "alpha = 0.05 #learning rate\n",
    "tolerance = 0.0001 #stop when the difference between our old and new estimate is less than this\n",
    "m = len(X)\n",
    "while(np.sqrt((theta0_temp - theta0)**2+(theta0_temp - theta0)**2) > tolerance):\n",
    "    theta0_temp = theta0\n",
    "    theta1_temp = theta1\n",
    "    theta0_deriv = 0\n",
    "    theta1_deriv = 0\n",
    "    for i in range(m):\n",
    "        theta0_deriv += theta0+theta1*X[i]-Y[i]\n",
    "        theta1_deriv += (theta0+theta1*X[i]-Y[i])*X[i]\n",
    "    theta0 = theta0-alpha*theta0_deriv/m\n",
    "    theta1 = theta1-alpha*theta1_deriv/m\n",
    "print(f\"b:{theta0}, m:{theta1}\")\n"
   ]
  },
  {
   "cell_type": "code",
   "execution_count": null,
   "metadata": {},
   "outputs": [],
   "source": []
  }
 ],
 "metadata": {
  "kernelspec": {
   "display_name": "Python 3",
   "language": "python",
   "name": "python3"
  },
  "language_info": {
   "codemirror_mode": {
    "name": "ipython",
    "version": 3
   },
   "file_extension": ".py",
   "mimetype": "text/x-python",
   "name": "python",
   "nbconvert_exporter": "python",
   "pygments_lexer": "ipython3",
   "version": "3.7.3"
  }
 },
 "nbformat": 4,
 "nbformat_minor": 2
}
