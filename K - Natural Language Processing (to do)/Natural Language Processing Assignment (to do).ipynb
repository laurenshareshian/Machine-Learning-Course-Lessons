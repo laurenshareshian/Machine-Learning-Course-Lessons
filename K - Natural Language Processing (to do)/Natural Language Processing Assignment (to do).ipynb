{
 "cells": [
  {
   "cell_type": "markdown",
   "metadata": {},
   "source": [
    "insert NLP intro"
   ]
  },
  {
   "cell_type": "markdown",
   "metadata": {},
   "source": [
    "### LSA - to do\n",
    "\n",
    "### LSA\n",
    "\n",
    "Latent Semantic Analysis is just SVD applied to a word/document matrix\n",
    "\n",
    "- D1 = \"I like databases\"\n",
    "- D2 = \"I hate databases\"\n",
    "\n",
    "then the document-term matrix would be:\n",
    "\n",
    "$$ \\begin{matrix} 1 & 1 & 0 & 1 \\\\ 1 & 0 & 1 & 1  \\end{matrix} $$\n",
    "\n",
    "With each row being a different document\n",
    "and each column being a new word.\n",
    "\n",
    "In this case our decomposition has a new interpretation:\n",
    "- $\\Sigma$ are the importances of each of our topics\n",
    "- $U$ is a transform from a word vector to the topics that word is most used in\n",
    "- $V$ is transform from each document to the topics it is about"
   ]
  },
  {
   "cell_type": "markdown",
   "metadata": {},
   "source": [
    "(Insert PCA & Classification)"
   ]
  },
  {
   "cell_type": "markdown",
   "metadata": {},
   "source": [
    "### Word2vec\n",
    "Word2vec is implicitly solving a SVD on 'Pointwise Mutual Information' matrix, between the word and the other words in the its context.\n",
    "\n",
    "In this case our decomposition has the interpretation:\n",
    "- $\\Sigma$ the importance of each word embedding dimension. in practice, this is usually merged with U\n",
    "- $U$ is the transform between each word and the word embedding dimension\n",
    "\n",
    "(Insert word2vec)"
   ]
  },
  {
   "cell_type": "code",
   "execution_count": 3,
   "metadata": {},
   "outputs": [],
   "source": [
    "%matplotlib inline\n",
    "import numpy \n",
    "import matplotlib.pyplot as plt\n",
    "import sklearn\n",
    "\n",
    "from sklearn.decomposition import TruncatedSVD\n",
    "from sklearn.feature_extraction.text import TfidfVectorizer \n",
    "from sklearn.feature_extraction.text import CountVectorizer \n",
    "from sklearn.preprocessing import Normalizer\n",
    "from sklearn import metrics\n",
    "from sklearn.cluster import KMeans, MiniBatchKMeans\n",
    "import pandas as pd"
   ]
  },
  {
   "cell_type": "code",
   "execution_count": null,
   "metadata": {},
   "outputs": [],
   "source": [
    "example = ['Football baseball basketball',\n",
    "            'baseball giants cubs redsox',\n",
    "            'football broncos cowboys',\n",
    "            'baseball redsox tigers',\n",
    "            'pop stars hendrix prince',\n",
    "            'hendrix prince jagger rock',\n",
    "            'joplin pearl jam tupac rock',\n",
    "          ]\n",
    "\n",
    "vectorizer = CountVectorizer(min_df = 1, stop_words = 'english')\n",
    "dtm = vectorizer.fit_transform(example) \n",
    "pd.DataFrame(dtm.toarray(), index=example, columns=vectorizer.get_feature_names()).head(10)"
   ]
  },
  {
   "cell_type": "markdown",
   "metadata": {},
   "source": [
    "Each row represents a document. Each column represents a word. Each entry equals the number of times the word appears in the document\n",
    "￼￼\n",
    "Note: order and proximity of words in documents is NOT accounted for. Called a \"bag of words\" representation."
   ]
  },
  {
   "cell_type": "code",
   "execution_count": null,
   "metadata": {},
   "outputs": [],
   "source": [
    "# Get words that correspond to each column \n",
    "vectorizer.get_feature_names()"
   ]
  },
  {
   "cell_type": "code",
   "execution_count": 4,
   "metadata": {},
   "outputs": [
    {
     "ename": "NameError",
     "evalue": "name 'dtm' is not defined",
     "output_type": "error",
     "traceback": [
      "\u001b[0;31m---------------------------------------------------------------------------\u001b[0m",
      "\u001b[0;31mNameError\u001b[0m                                 Traceback (most recent call last)",
      "\u001b[0;32m<ipython-input-4-6a4ee0b94260>\u001b[0m in \u001b[0;36m<module>\u001b[0;34m\u001b[0m\n\u001b[1;32m      1\u001b[0m \u001b[0;31m# use algorithm = “randomized” for large datasets\u001b[0m\u001b[0;34m\u001b[0m\u001b[0;34m\u001b[0m\u001b[0;34m\u001b[0m\u001b[0m\n\u001b[1;32m      2\u001b[0m \u001b[0msvd\u001b[0m \u001b[0;34m=\u001b[0m \u001b[0mTruncatedSVD\u001b[0m\u001b[0;34m(\u001b[0m\u001b[0;36m2\u001b[0m\u001b[0;34m,\u001b[0m \u001b[0malgorithm\u001b[0m \u001b[0;34m=\u001b[0m \u001b[0;34m'arpack'\u001b[0m\u001b[0;34m)\u001b[0m\u001b[0;34m\u001b[0m\u001b[0;34m\u001b[0m\u001b[0m\n\u001b[0;32m----> 3\u001b[0;31m \u001b[0mdtm_svd\u001b[0m \u001b[0;34m=\u001b[0m \u001b[0msvd\u001b[0m\u001b[0;34m.\u001b[0m\u001b[0mfit_transform\u001b[0m\u001b[0;34m(\u001b[0m\u001b[0mdtm\u001b[0m\u001b[0;34m)\u001b[0m\u001b[0;34m\u001b[0m\u001b[0;34m\u001b[0m\u001b[0m\n\u001b[0m\u001b[1;32m      4\u001b[0m \u001b[0mdtm_svd\u001b[0m \u001b[0;34m=\u001b[0m \u001b[0mNormalizer\u001b[0m\u001b[0;34m(\u001b[0m\u001b[0mcopy\u001b[0m\u001b[0;34m=\u001b[0m\u001b[0;32mFalse\u001b[0m\u001b[0;34m)\u001b[0m\u001b[0;34m.\u001b[0m\u001b[0mfit_transform\u001b[0m\u001b[0;34m(\u001b[0m\u001b[0mdtm_svd\u001b[0m\u001b[0;34m)\u001b[0m\u001b[0;34m\u001b[0m\u001b[0;34m\u001b[0m\u001b[0m\n",
      "\u001b[0;31mNameError\u001b[0m: name 'dtm' is not defined"
     ]
    }
   ],
   "source": [
    "# use algorithm = “randomized” for large datasets \n",
    "svd = TruncatedSVD(2, algorithm = 'arpack')\n",
    "dtm_svd = svd.fit_transform(dtm)\n",
    "dtm_svd = Normalizer(copy=False).fit_transform(dtm_svd)"
   ]
  },
  {
   "cell_type": "code",
   "execution_count": 5,
   "metadata": {},
   "outputs": [
    {
     "ename": "AttributeError",
     "evalue": "'TruncatedSVD' object has no attribute 'explained_variance_ratio_'",
     "output_type": "error",
     "traceback": [
      "\u001b[0;31m---------------------------------------------------------------------------\u001b[0m",
      "\u001b[0;31mAttributeError\u001b[0m                            Traceback (most recent call last)",
      "\u001b[0;32m<ipython-input-5-d402f6f12002>\u001b[0m in \u001b[0;36m<module>\u001b[0;34m\u001b[0m\n\u001b[0;32m----> 1\u001b[0;31m \u001b[0msvd\u001b[0m\u001b[0;34m.\u001b[0m\u001b[0mexplained_variance_ratio_\u001b[0m\u001b[0;34m\u001b[0m\u001b[0;34m\u001b[0m\u001b[0m\n\u001b[0m",
      "\u001b[0;31mAttributeError\u001b[0m: 'TruncatedSVD' object has no attribute 'explained_variance_ratio_'"
     ]
    }
   ],
   "source": [
    "svd.explained_variance_ratio_"
   ]
  },
  {
   "cell_type": "code",
   "execution_count": null,
   "metadata": {},
   "outputs": [],
   "source": [
    "pd.DataFrame(svd.components_.round(5),\n",
    "             index = [\"component_1\",\"component_2\"],\n",
    "             columns = vectorizer.get_feature_names())"
   ]
  },
  {
   "cell_type": "markdown",
   "metadata": {},
   "source": [
    "Each document is a linear combination of the PCA components"
   ]
  },
  {
   "cell_type": "code",
   "execution_count": null,
   "metadata": {},
   "outputs": [],
   "source": [
    "pd.DataFrame(dtm_svd.round(5),\n",
    "             index=example, \n",
    "             columns=[\"component_1\",\"component_2\" ])"
   ]
  },
  {
   "cell_type": "markdown",
   "metadata": {},
   "source": [
    "We have reduced dimension to 2-dim (and have lost some info) Similar docs point in similar directions. Dissimilar docs have perpendicular (orthogonal) vectors."
   ]
  },
  {
   "cell_type": "code",
   "execution_count": null,
   "metadata": {},
   "outputs": [],
   "source": []
  }
 ],
 "metadata": {
  "kernelspec": {
   "display_name": "Python 3",
   "language": "python",
   "name": "python3"
  },
  "language_info": {
   "codemirror_mode": {
    "name": "ipython",
    "version": 3
   },
   "file_extension": ".py",
   "mimetype": "text/x-python",
   "name": "python",
   "nbconvert_exporter": "python",
   "pygments_lexer": "ipython3",
   "version": "3.7.3"
  }
 },
 "nbformat": 4,
 "nbformat_minor": 2
}
