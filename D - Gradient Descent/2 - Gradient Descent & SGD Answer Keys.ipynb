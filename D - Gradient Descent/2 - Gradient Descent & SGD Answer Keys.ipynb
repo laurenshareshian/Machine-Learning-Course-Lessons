{
 "cells": [
  {
   "cell_type": "code",
   "execution_count": 12,
   "metadata": {},
   "outputs": [],
   "source": [
    "import numpy as np\n",
    "import pandas as pd\n",
    "import matplotlib.pyplot as plt\n",
    "%matplotlib inline\n",
    "from sklearn.linear_model import LinearRegression\n",
    "from sklearn.metrics import mean_squared_error\n",
    "from scipy.stats import pearsonr\n",
    "import random"
   ]
  },
  {
   "cell_type": "markdown",
   "metadata": {},
   "source": [
    "Let's explore this airline datset:"
   ]
  },
  {
   "cell_type": "code",
   "execution_count": 13,
   "metadata": {},
   "outputs": [
    {
     "data": {
      "text/html": [
       "<div>\n",
       "<style scoped>\n",
       "    .dataframe tbody tr th:only-of-type {\n",
       "        vertical-align: middle;\n",
       "    }\n",
       "\n",
       "    .dataframe tbody tr th {\n",
       "        vertical-align: top;\n",
       "    }\n",
       "\n",
       "    .dataframe thead th {\n",
       "        text-align: right;\n",
       "    }\n",
       "</style>\n",
       "<table border=\"1\" class=\"dataframe\">\n",
       "  <thead>\n",
       "    <tr style=\"text-align: right;\">\n",
       "      <th></th>\n",
       "      <th>Airline</th>\n",
       "      <th>Mishandled baggage (per 1000 passengers)</th>\n",
       "      <th>Percentage On Time Arrivals</th>\n",
       "    </tr>\n",
       "  </thead>\n",
       "  <tbody>\n",
       "    <tr>\n",
       "      <th>0</th>\n",
       "      <td>American West</td>\n",
       "      <td>4.36</td>\n",
       "      <td>81.9</td>\n",
       "    </tr>\n",
       "    <tr>\n",
       "      <th>1</th>\n",
       "      <td>United</td>\n",
       "      <td>4.00</td>\n",
       "      <td>80.9</td>\n",
       "    </tr>\n",
       "    <tr>\n",
       "      <th>2</th>\n",
       "      <td>Southwest</td>\n",
       "      <td>4.42</td>\n",
       "      <td>78.4</td>\n",
       "    </tr>\n",
       "    <tr>\n",
       "      <th>3</th>\n",
       "      <td>US Airways</td>\n",
       "      <td>7.16</td>\n",
       "      <td>78.3</td>\n",
       "    </tr>\n",
       "    <tr>\n",
       "      <th>4</th>\n",
       "      <td>Continental</td>\n",
       "      <td>4.62</td>\n",
       "      <td>75.7</td>\n",
       "    </tr>\n",
       "  </tbody>\n",
       "</table>\n",
       "</div>"
      ],
      "text/plain": [
       "         Airline  Mishandled baggage (per 1000 passengers)  \\\n",
       "0  American West                                      4.36   \n",
       "1         United                                      4.00   \n",
       "2      Southwest                                      4.42   \n",
       "3     US Airways                                      7.16   \n",
       "4    Continental                                      4.62   \n",
       "\n",
       "   Percentage On Time Arrivals  \n",
       "0                         81.9  \n",
       "1                         80.9  \n",
       "2                         78.4  \n",
       "3                         78.3  \n",
       "4                         75.7  "
      ]
     },
     "execution_count": 13,
     "metadata": {},
     "output_type": "execute_result"
    }
   ],
   "source": [
    "df = pd.read_csv('data/airlines.csv')\n",
    "df.head()"
   ]
  },
  {
   "cell_type": "markdown",
   "metadata": {},
   "source": [
    "View the scatterplot:"
   ]
  },
  {
   "cell_type": "code",
   "execution_count": 14,
   "metadata": {},
   "outputs": [
    {
     "data": {
      "text/plain": [
       "Text(0, 0.5, 'Percentage On Time Arrivals')"
      ]
     },
     "execution_count": 14,
     "metadata": {},
     "output_type": "execute_result"
    },
    {
     "data": {
      "image/png": "[encoded data removed]",
      "text/plain": [
       "<Figure size 432x288 with 1 Axes>"
      ]
     },
     "metadata": {
      "needs_background": "light"
     },
     "output_type": "display_data"
    }
   ],
   "source": [
    "X = df['Mishandled baggage (per 1000 passengers)']\n",
    "Y = df['Percentage On Time Arrivals']\n",
    "plt.plot(X, Y, '.')\n",
    "plt.xlabel('Mishandled baggage (per 1000 passengers)')\n",
    "plt.ylabel('Percentage On Time Arrivals')"
   ]
  },
  {
   "cell_type": "markdown",
   "metadata": {},
   "source": [
    "Let's run a linear regression model:"
   ]
  },
  {
   "cell_type": "code",
   "execution_count": 27,
   "metadata": {},
   "outputs": [
    {
     "name": "stdout",
     "output_type": "stream",
     "text": [
      "b:  87.20288782505382\n",
      "m:  [-2.15244604]\n"
     ]
    }
   ],
   "source": [
    "# Create an empty model\n",
    "model = LinearRegression()\n",
    "# Choose the response variable, which in this case is y\n",
    "y = df['Percentage On Time Arrivals']\n",
    "# Choose the predictor variable, which in this case is X:\n",
    "X=df.drop(['Airline', 'Percentage On Time Arrivals'], axis=1)\n",
    "# Fit the model to the full dataset\n",
    "model.fit(X, y)\n",
    "# print out intercept\n",
    "print('b: ', model.intercept_)\n",
    "# print out other coefficients\n",
    "print('m: ', model.coef_)"
   ]
  },
  {
   "cell_type": "markdown",
   "metadata": {},
   "source": [
    "Watch these videos by Andrew Ng on Gradient Descent.\n",
    "\n",
    "https://www.coursera.org/learn/machine-learning/lecture/8SpIM/gradient-descent\n",
    "\n",
    "https://www.coursera.org/learn/machine-learning/lecture/GFFPB/gradient-descent-intuition\n",
    "\n",
    "\n",
    "Finally, watch the following video, paying special attention to the formulas explained between 0:00 and 4:30:\n",
    "\n",
    "https://www.coursera.org/lecture/machine-learning/gradient-descent-for-linear-regression-kCvQc\n",
    "\n",
    "<img src=\"images/gradient1.png\" width=500>\n",
    "<img src=\"images/gradient2.png\" width=500>"
   ]
  },
  {
   "cell_type": "markdown",
   "metadata": {},
   "source": [
    "### Exercise: Gradient Descent\n",
    "Write a function called gradient_descent that takes in an input array, X, and output array, Y, a learning rate, alpha, and a tolerance, tol, and prints the $\\theta_0$ and $\\theta_1$ values obtained by the algorithm above. \n",
    "\n",
    "\n",
    "For example, if\n",
    "```\n",
    "X = df['Mishandled baggage (per 1000 passengers)']\n",
    "Y = df['Percentage On Time Arrivals']\n",
    "```\n",
    "then \n",
    "```gradient_descent(X,Y,0.05,0.0001)```\n",
    "should give us out:\n",
    "\n",
    "b (theta0) = 87.16301264227455 and m (theta1) = -2.1458406529174456"
   ]
  },
  {
   "cell_type": "code",
   "execution_count": 32,
   "metadata": {},
   "outputs": [
    {
     "name": "stdout",
     "output_type": "stream",
     "text": [
      "b:87.16301264227455, m:-2.1458406529174456\n"
     ]
    },
    {
     "data": {
      "image/png": "[encoded data removed]",
      "text/plain": [
       "<Figure size 432x288 with 1 Axes>"
      ]
     },
     "metadata": {
      "needs_background": "light"
     },
     "output_type": "display_data"
    }
   ],
   "source": [
    "def gradient_descent(X, Y, alpha, tol):\n",
    "    \n",
    "    theta0, theta1 = 0, 0           # initial guesses\n",
    "    theta0_temp, theta1_temp = 1, 1 # so we can compare previous and new values\n",
    "                                    # make sure they are different than theta0, theta1 at the start\n",
    "    m = len(X)\n",
    "    j=0\n",
    "    while(np.sqrt((theta0_temp - theta0)**2+(theta1_temp - theta1)**2) > tol):\n",
    "        \n",
    "        theta0_temp = theta0\n",
    "        theta1_temp = theta1\n",
    "        theta0_deriv = 0\n",
    "        theta1_deriv = 0\n",
    "\n",
    "        for i in range(m):\n",
    "            theta0_deriv += theta0+theta1*X[i]-Y[i]\n",
    "            theta1_deriv += (theta0+theta1*X[i]-Y[i])*X[i]\n",
    "            \n",
    "        theta0 = theta0-alpha*theta0_deriv/m\n",
    "        theta1 = theta1-alpha*theta1_deriv/m\n",
    "        \n",
    "        if j % 100 == 0:\n",
    "            plt.plot(theta0,theta1,'.')\n",
    "        j = j + 1\n",
    "\n",
    "    print(f\"b:{theta0}, m:{theta1}\")\n",
    "    plt.xlabel('theta0')\n",
    "    plt.ylabel('theta1')\n",
    "    \n",
    "    \n",
    "X = df['Mishandled baggage (per 1000 passengers)']\n",
    "Y = df['Percentage On Time Arrivals']\n",
    "\n",
    "gradient_descent(X,Y,0.05,0.0001)"
   ]
  },
  {
   "cell_type": "markdown",
   "metadata": {},
   "source": [
    "Hints for students\n",
    "\n",
    "def gradient_descent(X, Y, alpha, tol):\n",
    "    \n",
    "    #make initial guess for theta0,theta1\n",
    "    #make initial guess for theta0_temp,theta1_temp # (make sure guesses are different than the line above)\n",
    "\n",
    "    #while the difference between those points is greater than tolerance:\n",
    "        \n",
    "        #theta0_temp = theta0 (update the temp variables)\n",
    "        #theta1_temp = theta1\n",
    "\n",
    "        #update theta0, theta1 using a FOR loop or some sort of summation\n",
    "        \n",
    "    print(f\"b:{theta0}, m:{theta1}\")\n",
    "\n",
    "    \n",
    "    \n",
    "X = df['Mishandled baggage (per 1000 passengers)']\n",
    "Y = df['Percentage On Time Arrivals']\n",
    "\n",
    "gradient_descent(X,Y,0.05,0.0001)"
   ]
  },
  {
   "cell_type": "markdown",
   "metadata": {},
   "source": [
    "### Stochastic Gradient Descent"
   ]
  },
  {
   "cell_type": "code",
   "execution_count": 3,
   "metadata": {},
   "outputs": [
    {
     "data": {
      "text/html": [
       "<div>\n",
       "<style scoped>\n",
       "    .dataframe tbody tr th:only-of-type {\n",
       "        vertical-align: middle;\n",
       "    }\n",
       "\n",
       "    .dataframe tbody tr th {\n",
       "        vertical-align: top;\n",
       "    }\n",
       "\n",
       "    .dataframe thead th {\n",
       "        text-align: right;\n",
       "    }\n",
       "</style>\n",
       "<table border=\"1\" class=\"dataframe\">\n",
       "  <thead>\n",
       "    <tr style=\"text-align: right;\">\n",
       "      <th></th>\n",
       "      <th>Airline</th>\n",
       "      <th>Mishandled baggage (per 1000 passengers)</th>\n",
       "      <th>Percentage On Time Arrivals</th>\n",
       "    </tr>\n",
       "  </thead>\n",
       "  <tbody>\n",
       "    <tr>\n",
       "      <th>0</th>\n",
       "      <td>American West</td>\n",
       "      <td>4.36</td>\n",
       "      <td>81.9</td>\n",
       "    </tr>\n",
       "    <tr>\n",
       "      <th>1</th>\n",
       "      <td>United</td>\n",
       "      <td>4.00</td>\n",
       "      <td>80.9</td>\n",
       "    </tr>\n",
       "    <tr>\n",
       "      <th>2</th>\n",
       "      <td>Southwest</td>\n",
       "      <td>4.42</td>\n",
       "      <td>78.4</td>\n",
       "    </tr>\n",
       "    <tr>\n",
       "      <th>3</th>\n",
       "      <td>US Airways</td>\n",
       "      <td>7.16</td>\n",
       "      <td>78.3</td>\n",
       "    </tr>\n",
       "    <tr>\n",
       "      <th>4</th>\n",
       "      <td>Continental</td>\n",
       "      <td>4.62</td>\n",
       "      <td>75.7</td>\n",
       "    </tr>\n",
       "  </tbody>\n",
       "</table>\n",
       "</div>"
      ],
      "text/plain": [
       "         Airline  Mishandled baggage (per 1000 passengers)  \\\n",
       "0  American West                                      4.36   \n",
       "1         United                                      4.00   \n",
       "2      Southwest                                      4.42   \n",
       "3     US Airways                                      7.16   \n",
       "4    Continental                                      4.62   \n",
       "\n",
       "   Percentage On Time Arrivals  \n",
       "0                         81.9  \n",
       "1                         80.9  \n",
       "2                         78.4  \n",
       "3                         78.3  \n",
       "4                         75.7  "
      ]
     },
     "execution_count": 3,
     "metadata": {},
     "output_type": "execute_result"
    }
   ],
   "source": [
    "df = pd.read_csv('data/airlines.csv')\n",
    "df.head()"
   ]
  },
  {
   "cell_type": "code",
   "execution_count": 4,
   "metadata": {},
   "outputs": [
    {
     "data": {
      "text/html": [
       "<div>\n",
       "<style scoped>\n",
       "    .dataframe tbody tr th:only-of-type {\n",
       "        vertical-align: middle;\n",
       "    }\n",
       "\n",
       "    .dataframe tbody tr th {\n",
       "        vertical-align: top;\n",
       "    }\n",
       "\n",
       "    .dataframe thead th {\n",
       "        text-align: right;\n",
       "    }\n",
       "</style>\n",
       "<table border=\"1\" class=\"dataframe\">\n",
       "  <thead>\n",
       "    <tr style=\"text-align: right;\">\n",
       "      <th></th>\n",
       "      <th>Airline</th>\n",
       "      <th>Mishandled baggage (per 1000 passengers)</th>\n",
       "      <th>Percentage On Time Arrivals</th>\n",
       "    </tr>\n",
       "  </thead>\n",
       "  <tbody>\n",
       "    <tr>\n",
       "      <th>0</th>\n",
       "      <td>Delta</td>\n",
       "      <td>8.03</td>\n",
       "      <td>70.1</td>\n",
       "    </tr>\n",
       "    <tr>\n",
       "      <th>1</th>\n",
       "      <td>United</td>\n",
       "      <td>4.00</td>\n",
       "      <td>80.9</td>\n",
       "    </tr>\n",
       "    <tr>\n",
       "      <th>2</th>\n",
       "      <td>Alaska</td>\n",
       "      <td>7.02</td>\n",
       "      <td>69.1</td>\n",
       "    </tr>\n",
       "    <tr>\n",
       "      <th>3</th>\n",
       "      <td>American</td>\n",
       "      <td>6.50</td>\n",
       "      <td>73.1</td>\n",
       "    </tr>\n",
       "    <tr>\n",
       "      <th>4</th>\n",
       "      <td>US Airways</td>\n",
       "      <td>7.16</td>\n",
       "      <td>78.3</td>\n",
       "    </tr>\n",
       "  </tbody>\n",
       "</table>\n",
       "</div>"
      ],
      "text/plain": [
       "      Airline  Mishandled baggage (per 1000 passengers)  \\\n",
       "0       Delta                                      8.03   \n",
       "1      United                                      4.00   \n",
       "2      Alaska                                      7.02   \n",
       "3    American                                      6.50   \n",
       "4  US Airways                                      7.16   \n",
       "\n",
       "   Percentage On Time Arrivals  \n",
       "0                         70.1  \n",
       "1                         80.9  \n",
       "2                         69.1  \n",
       "3                         73.1  \n",
       "4                         78.3  "
      ]
     },
     "execution_count": 4,
     "metadata": {},
     "output_type": "execute_result"
    }
   ],
   "source": [
    "df = df.sample(frac=1).reset_index(drop=True)\n",
    "df.head()"
   ]
  },
  {
   "cell_type": "code",
   "execution_count": 3,
   "metadata": {},
   "outputs": [
    {
     "name": "stdout",
     "output_type": "stream",
     "text": [
      "b:87.1433414255368, m:-2.2539330377084883\n"
     ]
    },
    {
     "data": {
      "image/png": "[encoded data removed]",
      "text/plain": [
       "<Figure size 432x288 with 1 Axes>"
      ]
     },
     "metadata": {
      "needs_background": "light"
     },
     "output_type": "display_data"
    }
   ],
   "source": [
    "def gradient_descent(X, Y, alpha, tol):\n",
    "    \n",
    "    theta0, theta1 = 0, 0           # initial guesses\n",
    "    theta0_temp, theta1_temp = 1, 1 # so we can compare previous and new values\n",
    "                                    # make sure they are different than theta0, theta1 at the start\n",
    "    m = len(X)\n",
    "    j = 0\n",
    "    while(np.sqrt((theta0_temp - theta0)**2+(theta1_temp - theta1)**2) > tol):\n",
    "        \n",
    "        theta0_temp = theta0\n",
    "        theta1_temp = theta1\n",
    "        theta0_deriv = 0\n",
    "        theta1_deriv = 0\n",
    "        \n",
    "        index = random.randint(0,len(X)-1)\n",
    "        \n",
    "        theta0_deriv += theta0+theta1*X[index]-Y[index]\n",
    "        theta1_deriv += (theta0+theta1*X[index]-Y[index])*X[index]\n",
    "            \n",
    "        theta0 = theta0-alpha*theta0_deriv\n",
    "        theta1 = theta1-alpha*theta1_deriv\n",
    "        \n",
    "        \n",
    "        if j % 100 == 0:\n",
    "            plt.plot(theta0,theta1,'.')\n",
    "        j = j + 1\n",
    "\n",
    "    print(f\"b:{theta0}, m:{theta1}\")\n",
    "    plt.xlabel('theta0')\n",
    "    plt.ylabel('theta1')\n",
    "    \n",
    "    \n",
    "X = df['Mishandled baggage (per 1000 passengers)']\n",
    "Y = df['Percentage On Time Arrivals']\n",
    "\n",
    "gradient_descent(X,Y,.01,0.00001)"
   ]
  },
  {
   "cell_type": "code",
   "execution_count": null,
   "metadata": {},
   "outputs": [],
   "source": []
  },
  {
   "cell_type": "code",
   "execution_count": null,
   "metadata": {},
   "outputs": [],
   "source": []
  },
  {
   "cell_type": "code",
   "execution_count": null,
   "metadata": {},
   "outputs": [],
   "source": []
  }
 ],
 "metadata": {
  "kernelspec": {
   "display_name": "Python 3",
   "language": "python",
   "name": "python3"
  },
  "language_info": {
   "codemirror_mode": {
    "name": "ipython",
    "version": 3
   },
   "file_extension": ".py",
   "mimetype": "text/x-python",
   "name": "python",
   "nbconvert_exporter": "python",
   "pygments_lexer": "ipython3",
   "version": "3.7.3"
  }
 },
 "nbformat": 4,
 "nbformat_minor": 2
}
