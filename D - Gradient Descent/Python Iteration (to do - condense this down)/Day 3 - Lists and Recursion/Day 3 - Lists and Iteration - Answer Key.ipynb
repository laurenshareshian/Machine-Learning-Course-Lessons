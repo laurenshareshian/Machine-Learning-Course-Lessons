{
 "cells": [
  {
   "cell_type": "markdown",
   "metadata": {},
   "source": [
    "Run the cell below to import the required packages for this notebook:"
   ]
  },
  {
   "cell_type": "code",
   "execution_count": 1,
   "metadata": {},
   "outputs": [],
   "source": [
    "# the plotting package is matplotlib:\n",
    "import matplotlib.pyplot as plt \n",
    "# the next line allows you to view the plots more easily:\n",
    "%matplotlib inline\n",
    "# the numpy package has import math stuff in it:\n",
    "import numpy as np \n",
    "# the pandas package allows us to do spreadsheet stuff:\n",
    "import pandas as pd"
   ]
  },
  {
   "cell_type": "markdown",
   "metadata": {},
   "source": [
    "Recall Euler's method to approximate the solution to $\\frac{dy}{dx} = f(x,y)$. We'll write a program called euler that takes in a function $f(x,y)$, an initial x value $x_0$, an initial y value $y_0$, a step size $h$, and an end x value $x_1$ and returns the end y-value approximation. We'll simultaneously update the x and y values:"
   ]
  },
  {
   "cell_type": "code",
   "execution_count": 2,
   "metadata": {},
   "outputs": [
    {
     "name": "stdout",
     "output_type": "stream",
     "text": [
      "0.5 1.0\n",
      "1.0 1.2397127693021015\n",
      "1.5 1.6604482617060499\n",
      "2.0 2.159195755008077\n",
      "2.159195755008077\n"
     ]
    }
   ],
   "source": [
    "def euler(f,x0,y0,h,x1):\n",
    "    steps = int((x1-x0)/h)\n",
    "    for i in range(steps):\n",
    "        x0, y0 = x0 + h, y0+h*f(x0)\n",
    "        print(x0, y0)\n",
    "    return y0\n",
    "\n",
    "print(euler(np.sin, 0, 1, 0.5, 2))"
   ]
  },
  {
   "cell_type": "markdown",
   "metadata": {},
   "source": [
    "Notice that up until now, we've been only printing values, not storing them for later use. If we want to plot the Euler's method solution, for example, we'll definitely want to store all of the Euler's method (x,y) coordinates in a list. Therefore, let's learn about lists next."
   ]
  },
  {
   "cell_type": "markdown",
   "metadata": {},
   "source": [
    "### Lists\n",
    "Lists start at index 0 (not 1). \n",
    "\n",
    "We can reference the length of the list using \"len\".\n",
    "\n",
    "Here's a list of dogs:"
   ]
  },
  {
   "cell_type": "code",
   "execution_count": 3,
   "metadata": {},
   "outputs": [
    {
     "name": "stdout",
     "output_type": "stream",
     "text": [
      "['border collie', 'australian cattle dog', 'labrador retriever']\n",
      "border collie\n",
      "australian cattle dog\n",
      "labrador retriever\n",
      "3\n"
     ]
    }
   ],
   "source": [
    "dogs = ['border collie', 'australian cattle dog', 'labrador retriever']\n",
    "print(dogs)\n",
    "print(dogs[0])\n",
    "print(dogs[1])\n",
    "print(dogs[2])\n",
    "print(len(dogs))"
   ]
  },
  {
   "cell_type": "markdown",
   "metadata": {},
   "source": [
    "We can create empty lists using square brackets.\n",
    "\n",
    "We can add things to lists by using .append:"
   ]
  },
  {
   "cell_type": "code",
   "execution_count": 4,
   "metadata": {},
   "outputs": [
    {
     "name": "stdout",
     "output_type": "stream",
     "text": [
      "['pit bull', 'boxer', 'labrador']\n"
     ]
    }
   ],
   "source": [
    "dogs = []\n",
    "dogs.append('pit bull')\n",
    "dogs.append('boxer')\n",
    "dogs.append('labrador')\n",
    "print(dogs)"
   ]
  },
  {
   "cell_type": "markdown",
   "metadata": {},
   "source": [
    "We can loop through lists using for loops:"
   ]
  },
  {
   "cell_type": "code",
   "execution_count": 5,
   "metadata": {},
   "outputs": [
    {
     "name": "stdout",
     "output_type": "stream",
     "text": [
      "border collie\n",
      "australian cattle dog\n",
      "labrador retriever\n"
     ]
    }
   ],
   "source": [
    "dogs = ['border collie', 'australian cattle dog', 'labrador retriever']\n",
    "for doggie in dogs:\n",
    "    print(doggie)"
   ]
  },
  {
   "cell_type": "markdown",
   "metadata": {},
   "source": [
    "Be careful, though, because looping through lists is one of the trickiest things to get started with. What if I had printed \"dogs\" instead of \"doggie\" inside the for loop? It would just print the entire dogs list three times:"
   ]
  },
  {
   "cell_type": "code",
   "execution_count": 6,
   "metadata": {},
   "outputs": [
    {
     "name": "stdout",
     "output_type": "stream",
     "text": [
      "['border collie', 'australian cattle dog', 'labrador retriever']\n",
      "['border collie', 'australian cattle dog', 'labrador retriever']\n",
      "['border collie', 'australian cattle dog', 'labrador retriever']\n"
     ]
    }
   ],
   "source": [
    "dogs = ['border collie', 'australian cattle dog', 'labrador retriever']\n",
    "for doggie in dogs:\n",
    "    print(dogs)"
   ]
  },
  {
   "cell_type": "markdown",
   "metadata": {},
   "source": [
    "Notice that \"for doggie in dogs\" simply creates a loop that executes three times, and you can specify whatever you want inside that loop by indenting the commands:"
   ]
  },
  {
   "cell_type": "code",
   "execution_count": 7,
   "metadata": {},
   "outputs": [
    {
     "name": "stdout",
     "output_type": "stream",
     "text": [
      "I'm about to enter the doggie loop.\n",
      "Hi! This is time 1 through the doggie loop.\n",
      "Hi! This is time 2 through the doggie loop.\n",
      "Hi! This is time 3 through the doggie loop.\n",
      "Now I'm out of the doggie loop.\n"
     ]
    }
   ],
   "source": [
    "dogs = ['border collie', 'australian cattle dog', 'labrador retriever']\n",
    "\n",
    "print(\"I'm about to enter the doggie loop.\")\n",
    "\n",
    "count = 1\n",
    "for doggie in dogs:\n",
    "    print(\"Hi! This is time\", count, \"through the doggie loop.\")\n",
    "    count = count + 1\n",
    "    \n",
    "print(\"Now I'm out of the doggie loop.\")"
   ]
  },
  {
   "cell_type": "markdown",
   "metadata": {},
   "source": [
    "Here's an example where I sum all of the expenses in my list:"
   ]
  },
  {
   "cell_type": "code",
   "execution_count": 8,
   "metadata": {},
   "outputs": [
    {
     "data": {
      "text/plain": [
       "150"
      ]
     },
     "execution_count": 8,
     "metadata": {},
     "output_type": "execute_result"
    }
   ],
   "source": [
    "def sum_expenses(expenses):\n",
    "    counter = 0\n",
    "    for expense in expenses:\n",
    "        counter = counter + expense\n",
    "    return counter\n",
    "\n",
    "expenses = [20, 100, -50, 0, 80]\n",
    "\n",
    "sum_expenses(expenses)"
   ]
  },
  {
   "cell_type": "markdown",
   "metadata": {},
   "source": [
    "We can even add conditional statements in to print a message about the user's balance:"
   ]
  },
  {
   "cell_type": "code",
   "execution_count": 9,
   "metadata": {},
   "outputs": [
    {
     "name": "stdout",
     "output_type": "stream",
     "text": [
      "Your balance is positive!\n"
     ]
    },
    {
     "data": {
      "text/plain": [
       "150"
      ]
     },
     "execution_count": 9,
     "metadata": {},
     "output_type": "execute_result"
    }
   ],
   "source": [
    "def sum_expenses(expenses):\n",
    "    counter = 0\n",
    "    for expense in expenses:\n",
    "        counter = counter + expense\n",
    "    if counter > 0:\n",
    "        print(\"Your balance is positive!\")\n",
    "    elif counter == 0:\n",
    "        print(\"You have no money left!\")\n",
    "    else:\n",
    "        print(\"You owe money!\")\n",
    "    return counter\n",
    "\n",
    "expenses = [20, 100, -50, 0, 80]\n",
    "\n",
    "sum_expenses(expenses)"
   ]
  },
  {
   "cell_type": "markdown",
   "metadata": {},
   "source": [
    "We can iterate through lists in two ways. \n",
    "\n",
    "Firstly, we can say something like \"for item in item_list\" like we did earlier:"
   ]
  },
  {
   "cell_type": "code",
   "execution_count": 10,
   "metadata": {},
   "outputs": [
    {
     "name": "stdout",
     "output_type": "stream",
     "text": [
      "border collie\n",
      "australian cattle dog\n",
      "labrador retriever\n",
      "pitbull\n"
     ]
    }
   ],
   "source": [
    "doggies = ['border collie', 'australian cattle dog', 'labrador retriever', 'pitbull']\n",
    "for dog in doggies:\n",
    "    print(dog)"
   ]
  },
  {
   "cell_type": "markdown",
   "metadata": {},
   "source": [
    "Alternatively, we can use the range function to iterate through the list by using its index value:"
   ]
  },
  {
   "cell_type": "code",
   "execution_count": 11,
   "metadata": {},
   "outputs": [
    {
     "name": "stdout",
     "output_type": "stream",
     "text": [
      "border collie\n",
      "australian cattle dog\n",
      "labrador retriever\n",
      "pit bull\n"
     ]
    }
   ],
   "source": [
    "dogs = ['border collie', 'australian cattle dog', 'labrador retriever', 'pit bull']\n",
    "for i in range(len(dogs)):\n",
    "    print(dogs[i])"
   ]
  },
  {
   "cell_type": "markdown",
   "metadata": {},
   "source": [
    "Even though the second method looks uglier, it is sometimes helpful since it gives us more control over what items in the list we choose to iterate through (only the even indexed items, for example):"
   ]
  },
  {
   "cell_type": "code",
   "execution_count": 12,
   "metadata": {},
   "outputs": [
    {
     "name": "stdout",
     "output_type": "stream",
     "text": [
      "border collie\n",
      "labrador retriever\n"
     ]
    }
   ],
   "source": [
    "dogs = ['border collie', 'australian cattle dog', 'labrador retriever', 'pit bull']\n",
    "for i in range(0,len(dogs),2):\n",
    "    print(dogs[i])"
   ]
  },
  {
   "cell_type": "markdown",
   "metadata": {},
   "source": [
    "We often want to add things to a list within a for loop. To add all of the integers between 0 and 10, we can type:"
   ]
  },
  {
   "cell_type": "code",
   "execution_count": 13,
   "metadata": {},
   "outputs": [
    {
     "name": "stdout",
     "output_type": "stream",
     "text": [
      "[0, 1, 2, 3, 4, 5, 6, 7, 8, 9, 10]\n"
     ]
    }
   ],
   "source": [
    "integers = []\n",
    "for i in range(11):\n",
    "    integers.append(i)\n",
    "print(integers)"
   ]
  },
  {
   "cell_type": "markdown",
   "metadata": {},
   "source": [
    "What if we wanted to add all of the factors of 20 to a list?"
   ]
  },
  {
   "cell_type": "code",
   "execution_count": 14,
   "metadata": {},
   "outputs": [
    {
     "name": "stdout",
     "output_type": "stream",
     "text": [
      "[1, 2, 4, 5, 10, 20]\n"
     ]
    }
   ],
   "source": [
    "factors = []\n",
    "for i in range(1,21):\n",
    "    if 20 % i == 0:\n",
    "        factors.append(i)\n",
    "print(factors)"
   ]
  },
  {
   "cell_type": "markdown",
   "metadata": {},
   "source": [
    "Going back to Euler's method, we can create two lists, one for the x and one for the y coordinates."
   ]
  },
  {
   "cell_type": "code",
   "execution_count": 15,
   "metadata": {},
   "outputs": [
    {
     "name": "stdout",
     "output_type": "stream",
     "text": [
      "0.5 1.0\n",
      "1.0 1.2397127693021015\n",
      "1.5 1.6604482617060499\n",
      "2.0 2.159195755008077\n"
     ]
    }
   ],
   "source": [
    "def euler(f,x0,y0,h,x1):\n",
    "    x = np.arange(x0,x1+h,h) #generates list of x coordinates between x0 and x1 using step size h\n",
    "    y = [y0]\n",
    "    for i in range(1,len(x)):\n",
    "        y0 = y0+h*f(x[i-1])\n",
    "        y.append(y0)\n",
    "        print(x[i], y[i])\n",
    "\n",
    "euler(np.sin, 0, 1, 0.5, 2)"
   ]
  },
  {
   "cell_type": "markdown",
   "metadata": {},
   "source": [
    "We can then plot the coordinates:"
   ]
  },
  {
   "cell_type": "code",
   "execution_count": 16,
   "metadata": {},
   "outputs": [
    {
     "data": {
      "image/png": "[encoded data removed]",
      "text/plain": [
       "<Figure size 432x288 with 1 Axes>"
      ]
     },
     "metadata": {
      "needs_background": "light"
     },
     "output_type": "display_data"
    }
   ],
   "source": [
    "def euler(f,x0,y0,h,x1):\n",
    "    x = np.arange(x0,x1+h,h) \n",
    "    y = [y0]\n",
    "    for i in range(1,len(x)):\n",
    "        y0 = y0+h*f(x[i-1])\n",
    "        y.append(y0)\n",
    "    plt.plot(x,y,'r.')\n",
    "\n",
    "euler(np.sin, 0, 1, 0.5, 2)"
   ]
  },
  {
   "cell_type": "markdown",
   "metadata": {},
   "source": [
    "How does the Euler's method approximation compare to the true solution $y=2-\\cos(x)$?"
   ]
  },
  {
   "cell_type": "code",
   "execution_count": 17,
   "metadata": {},
   "outputs": [
    {
     "data": {
      "image/png": "[encoded data removed]",
      "text/plain": [
       "<Figure size 432x288 with 1 Axes>"
      ]
     },
     "metadata": {
      "needs_background": "light"
     },
     "output_type": "display_data"
    }
   ],
   "source": [
    "def euler(f,x0,y0,h,x1):\n",
    "    x = np.arange(x0,x1+h,h) \n",
    "    y = [y0]\n",
    "    for i in range(1,len(x)):\n",
    "        y0 = y0+h*f(x[i-1])\n",
    "        y.append(y0)\n",
    "    plt.plot(x,y,'r.')\n",
    "    plt.plot(x,2-np.cos(x),'b.')\n",
    "\n",
    "euler(np.sin, 0, 1, 0.5, 2)"
   ]
  },
  {
   "cell_type": "markdown",
   "metadata": {},
   "source": [
    "As one last example, suppose I want to create the Fibonacci sequence by referencing the last two items in my list and adding them. The indices \"-1\" and \"-2\" reference the last two items in the list:"
   ]
  },
  {
   "cell_type": "code",
   "execution_count": 18,
   "metadata": {},
   "outputs": [
    {
     "data": {
      "text/plain": [
       "[1, 1, 2, 3, 5, 8, 13]"
      ]
     },
     "execution_count": 18,
     "metadata": {},
     "output_type": "execute_result"
    }
   ],
   "source": [
    "def fibonacci(n):\n",
    "    sequence = [1,1]\n",
    "    for i in range(2,n):\n",
    "        sequence.append(sequence[-1]+sequence[-2])\n",
    "    return sequence\n",
    "\n",
    "fibonacci(7)"
   ]
  },
  {
   "cell_type": "markdown",
   "metadata": {},
   "source": [
    "### Exercise 1 - Euler's plot\n",
    "Returning to your earlier Euler's method exercise for $f(x)=x^2$ given $f(1)=2$ and a step size of $0.25$, now plot the Euler's method approximation coordinates versus the true solution, $f(x)=\\frac{x^3}{3}+\\frac{5}{3}$, by storing the x and y coordinates in two lists."
   ]
  },
  {
   "cell_type": "code",
   "execution_count": 19,
   "metadata": {},
   "outputs": [
    {
     "data": {
      "image/png": "[encoded data removed]",
      "text/plain": [
       "<Figure size 432x288 with 1 Axes>"
      ]
     },
     "metadata": {
      "needs_background": "light"
     },
     "output_type": "display_data"
    }
   ],
   "source": [
    "#insert exercise 1\n",
    "def square(x):\n",
    "    return x**2\n",
    "\n",
    "def cube(x):\n",
    "    return (x**3+5)/3\n",
    "\n",
    "def euler(f,x0,y0,h,x1):\n",
    "    x = np.arange(x0,x1+h,h)\n",
    "    y = [y0]\n",
    "    for i in range(1,len(x)):\n",
    "        y0 = y0+h*f(x[i-1])\n",
    "        y.append(y0)\n",
    "    plt.plot(x,y, 'r.')\n",
    "    plt.plot(x, cube(x),'b.')\n",
    "\n",
    "euler(square, 1, 2, 0.5, 5)"
   ]
  },
  {
   "cell_type": "markdown",
   "metadata": {},
   "source": [
    "### Exercise 2 - Left hand sum\n",
    "Write a program called LHS that takes in a function, a left boundary a, a right boundary b, and the number of rectangles, n, and returns the left hand sum approximation for the area under $f(x)$ between $x=a$ and $x=b$: \n",
    "\n",
    "$\\int_a^b f(x)dx \\approx \\sum_{i=1}^nf(x_{i-1})\\Delta x$. \n",
    "\n",
    "For example, LHS(square,1,5,8) should return 35.5."
   ]
  },
  {
   "cell_type": "code",
   "execution_count": 20,
   "metadata": {},
   "outputs": [
    {
     "data": {
      "text/plain": [
       "35.5"
      ]
     },
     "execution_count": 20,
     "metadata": {},
     "output_type": "execute_result"
    }
   ],
   "source": [
    "#insert exercise 2\n",
    "def square(x):\n",
    "    return x**2\n",
    "\n",
    "def LHS(f,a,b,n):\n",
    "    h = (b-a)/n\n",
    "    left = 0\n",
    "    for i in range(n):\n",
    "        left = left + h*f(a+i*h)\n",
    "    return left\n",
    "\n",
    "LHS(square,1,5,8)"
   ]
  },
  {
   "cell_type": "markdown",
   "metadata": {},
   "source": [
    "### Exercise 3 - Factorial\n",
    "\n",
    "Iterate through the list ```items=[5,4,3,2,1]``` in two different ways: firstly, by referencing \"for item in items\" and secondly, by referencing \"for i in range(len(items))\". Then using whichever way you prefer, multiply the terms in the list to calculate 5! = 120."
   ]
  },
  {
   "cell_type": "code",
   "execution_count": 21,
   "metadata": {},
   "outputs": [
    {
     "name": "stdout",
     "output_type": "stream",
     "text": [
      "120\n",
      "120\n"
     ]
    }
   ],
   "source": [
    "#insert exercise 3\n",
    "items = [5,4,3,2,1]\n",
    "\n",
    "product = 1\n",
    "\n",
    "for item in items:\n",
    "    product = product * item\n",
    "print(product)\n",
    "\n",
    "\n",
    "product = 1\n",
    "\n",
    "for i in range(len(items)):\n",
    "    product = product * items[i]\n",
    "print(product)"
   ]
  },
  {
   "cell_type": "markdown",
   "metadata": {},
   "source": [
    "### Exercise 4 - Multiples of m\n",
    "Create a function called multiples_of_m that takes in an integer n and an integer m and returns a list of all of the multiples of m between 0 and n."
   ]
  },
  {
   "cell_type": "code",
   "execution_count": 22,
   "metadata": {},
   "outputs": [
    {
     "data": {
      "text/plain": [
       "[0, 3, 6, 9, 12, 15, 18, 21]"
      ]
     },
     "execution_count": 22,
     "metadata": {},
     "output_type": "execute_result"
    }
   ],
   "source": [
    "#insert exercise 4\n",
    "def multiples_of_m(m, n):\n",
    "    multiples = []\n",
    "    for i in range(n+1):\n",
    "        if i % m == 0:\n",
    "            multiples.append(i)\n",
    "            \n",
    "    return multiples\n",
    "\n",
    "multiples_of_m(3, 21)"
   ]
  },
  {
   "cell_type": "markdown",
   "metadata": {},
   "source": [
    "### Exercise 5 - Great Lakes Solution"
   ]
  },
  {
   "cell_type": "markdown",
   "metadata": {},
   "source": [
    "Here is one way to do the problem:"
   ]
  },
  {
   "cell_type": "code",
   "execution_count": 23,
   "metadata": {},
   "outputs": [
    {
     "name": "stdout",
     "output_type": "stream",
     "text": [
      "0 3500 1800 2400\n",
      "0 3140.0 1537.0 2760.0\n",
      "0 2819.6 1329.08 2982.12\n",
      "0 2534.444 1160.7672 3102.7344\n",
      "0 2280.65516 1021.679848 3148.282464\n",
      "0 2054.7830924 904.74717032 3138.2933135999997\n",
      "0 1853.756952236 805.0643291688 3087.4070972831996\n",
      "0 1674.8436874900399 719.154435413992 3006.7414041099837\n",
      "0 1515.6108818661355 644.4916442888593 2904.8280323658228\n",
      "0 1373.8936848608605 579.1918493501448 2788.265660425913\n"
     ]
    },
    {
     "data": {
      "text/plain": [
       "<matplotlib.legend.Legend at 0x123ba2748>"
      ]
     },
     "execution_count": 23,
     "metadata": {},
     "output_type": "execute_result"
    },
    {
     "data": {
      "image/png": "[encoded data removed]",
      "text/plain": [
       "<Figure size 432x288 with 1 Axes>"
      ]
     },
     "metadata": {
      "needs_background": "light"
     },
     "output_type": "display_data"
    }
   ],
   "source": [
    "huron = [3500]\n",
    "erie = [1800]\n",
    "ontario = [2400]\n",
    "years = [0]\n",
    "for i in range(100):\n",
    "    huron.append(25-0.11*huron[i]+huron[i])\n",
    "    erie.append(0.11*huron[i]-0.36*erie[i]+erie[i])\n",
    "    ontario.append(0.36*erie[i]-0.12*ontario[i]+ontario[i])\n",
    "    years.append(years[i]+1)\n",
    "    \n",
    "for i in range(10):\n",
    "    print(years[0],huron[i], erie[i], ontario[i])\n",
    "    \n",
    "plt.plot(years, huron, 'b.', label = 'huron')\n",
    "plt.plot(years, erie, 'r.', label = 'erie')\n",
    "plt.plot(years, ontario, 'g.', label = 'ontario')\n",
    "plt.xlabel('years')\n",
    "plt.ylabel('pollution')\n",
    "plt.legend(loc='upper right')"
   ]
  },
  {
   "cell_type": "markdown",
   "metadata": {},
   "source": [
    "Here is another way to do the problem:"
   ]
  },
  {
   "cell_type": "code",
   "execution_count": 24,
   "metadata": {},
   "outputs": [
    {
     "name": "stdout",
     "output_type": "stream",
     "text": [
      "0 3500 1800 2400\n",
      "0 3140.0 1537.0 2760.0\n",
      "0 2819.6 1329.08 2982.12\n",
      "0 2534.444 1160.7672 3102.7344\n",
      "0 2280.65516 1021.679848 3148.282464\n",
      "0 2054.7830924 904.74717032 3138.2933135999997\n",
      "0 1853.756952236 805.0643291688 3087.4070972831996\n",
      "0 1674.8436874900399 719.154435413992 3006.7414041099837\n",
      "0 1515.6108818661355 644.4916442888593 2904.8280323658228\n",
      "0 1373.8936848608605 579.1918493501448 2788.265660425913\n"
     ]
    },
    {
     "data": {
      "text/plain": [
       "<matplotlib.legend.Legend at 0x123a520f0>"
      ]
     },
     "execution_count": 24,
     "metadata": {},
     "output_type": "execute_result"
    },
    {
     "data": {
      "image/png": "[encoded data removed]",
      "text/plain": [
       "<Figure size 432x288 with 1 Axes>"
      ]
     },
     "metadata": {
      "needs_background": "light"
     },
     "output_type": "display_data"
    }
   ],
   "source": [
    "huron = [3500]\n",
    "erie = [1800]\n",
    "ontario = [2400]\n",
    "years = [0]\n",
    "for i in range(100):\n",
    "    huron.append(25-0.11*huron[-1]+huron[-1])\n",
    "    erie.append(0.11*huron[-2]-0.36*erie[-1]+erie[-1])\n",
    "    ontario.append(0.36*erie[-2]-0.12*ontario[-1]+ontario[-1])\n",
    "    years.append(years[-1]+1)\n",
    "    \n",
    "for i in range(10):\n",
    "    print(years[0],huron[i], erie[i], ontario[i])\n",
    "    \n",
    "plt.plot(years, huron, 'b.', label = 'huron')\n",
    "plt.plot(years, erie, 'r.', label = 'erie')\n",
    "plt.plot(years, ontario, 'g.', label = 'ontario')\n",
    "plt.xlabel('years')\n",
    "plt.ylabel('pollution')\n",
    "plt.legend(loc='upper right')"
   ]
  },
  {
   "cell_type": "markdown",
   "metadata": {},
   "source": [
    "### Exercise 6 - SIRS Solution:"
   ]
  },
  {
   "cell_type": "code",
   "execution_count": 25,
   "metadata": {},
   "outputs": [
    {
     "name": "stdout",
     "output_type": "stream",
     "text": [
      "0 0.9 0.1 0.0\n",
      "1 0.846 0.12000000000000001 -2.7755575615628914e-17\n",
      "2 0.788488 0.14011200000000001 0.034000000000000016\n",
      "3 0.7293420216063999 0.15875989839360002 0.07140000000000002\n",
      "4 0.671057670459751 0.17425569208642494 0.11189808000000004\n",
      "5 0.6163649629276126 0.18517012805456123 0.1546866374538241\n",
      "6 0.5677320263612047 0.19069171198420093 0.1984649090178262\n",
      "7 0.5269325772936175 0.1908136051426192 0.2415762616545944\n",
      "8 0.4948304162057017 0.18626452223842085 0.2822538175637633\n",
      "9 0.47141931172313306 0.17823619531551413 0.3189050615558775\n"
     ]
    },
    {
     "data": {
      "text/plain": [
       "<matplotlib.legend.Legend at 0x123c6aba8>"
      ]
     },
     "execution_count": 25,
     "metadata": {},
     "output_type": "execute_result"
    },
    {
     "data": {
      "image/png": "[encoded data removed]",
      "text/plain": [
       "<Figure size 432x288 with 1 Axes>"
      ]
     },
     "metadata": {
      "needs_background": "light"
     },
     "output_type": "display_data"
    }
   ],
   "source": [
    "sus = [0.9]\n",
    "inf = [0.1]\n",
    "rem = [0.0]\n",
    "days = [0]\n",
    "\n",
    "#create your ds/dt and di/dt functions\n",
    "def ds_dt(s,i):\n",
    "    return -0.6*s*i+0.1*(1-s-i)\n",
    "\n",
    "def di_dt(s,i):\n",
    "    return 0.6*s*i-.34*i\n",
    "\n",
    "#Euler's method\n",
    "for i in range(100):\n",
    "    sus.append(sus[i]+1*ds_dt(sus[i], inf[i]))\n",
    "    inf.append(inf[i]+1*di_dt(sus[i], inf[i]))\n",
    "    rem.append(1-sus[i]-inf[i])\n",
    "    days.append(days[i]+1)\n",
    "\n",
    "for i in range(10):\n",
    "    print(days[i],sus[i], inf[i], rem[i])\n",
    "    \n",
    "plt.plot(days, inf, 'b.', label = 'inf')\n",
    "plt.plot(days, sus, 'r.', label = 'sus')\n",
    "plt.plot(days, rem, 'g.', label = 'rem')\n",
    "plt.xlabel('days')\n",
    "plt.ylabel('percent')\n",
    "plt.legend(loc='upper right')"
   ]
  },
  {
   "cell_type": "markdown",
   "metadata": {},
   "source": [
    "To do a subplot of the time plot and the phase plane, you can type the following. More subplot examples are located here:\n",
    "\n",
    "https://matplotlib.org/3.1.0/gallery/subplots_axes_and_figures/subplots_demo.html"
   ]
  },
  {
   "cell_type": "code",
   "execution_count": 26,
   "metadata": {},
   "outputs": [
    {
     "data": {
      "text/plain": [
       "Text(0, 0.5, 'infected')"
      ]
     },
     "execution_count": 26,
     "metadata": {},
     "output_type": "execute_result"
    },
    {
     "data": {
      "image/png": "[encoded data removed]",
      "text/plain": [
       "<Figure size 1440x720 with 2 Axes>"
      ]
     },
     "metadata": {
      "needs_background": "light"
     },
     "output_type": "display_data"
    }
   ],
   "source": [
    "plt.rcParams['figure.figsize'] = [20, 10] #makes figure bigger\n",
    "fig, (ax1, ax2) = plt.subplots(2) #creates two vertical subplots\n",
    "\n",
    "fig.suptitle('Infectious Disease Modeling') #puts title above both of them\n",
    "\n",
    "ax1.plot(days, inf, 'b.', label = 'inf')\n",
    "ax1.plot(days, sus, 'r.', label = 'sus')\n",
    "ax1.plot(days, rem, 'g.', label = 'rem')\n",
    "\n",
    "ax1.set_xlabel('days')\n",
    "ax1.set_ylabel('percent')\n",
    "ax1.set_title('Time plot')\n",
    "ax1.legend(loc='upper right')\n",
    "\n",
    "ax2.plot(sus, inf, '.')\n",
    "ax2.set_title('Phase Plane')\n",
    "ax2.set_xlabel('susceptible')\n",
    "ax2.set_ylabel('infected')"
   ]
  }
 ],
 "metadata": {
  "kernelspec": {
   "display_name": "Python 3",
   "language": "python",
   "name": "python3"
  },
  "language_info": {
   "codemirror_mode": {
    "name": "ipython",
    "version": 3
   },
   "file_extension": ".py",
   "mimetype": "text/x-python",
   "name": "python",
   "nbconvert_exporter": "python",
   "pygments_lexer": "ipython3",
   "version": "3.7.3"
  }
 },
 "nbformat": 4,
 "nbformat_minor": 2
}
