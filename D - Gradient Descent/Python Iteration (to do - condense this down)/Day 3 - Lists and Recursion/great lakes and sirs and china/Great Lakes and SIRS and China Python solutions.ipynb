{
 "cells": [
  {
   "cell_type": "markdown",
   "metadata": {},
   "source": [
    "### Great Lakes Solution"
   ]
  },
  {
   "cell_type": "code",
   "execution_count": 13,
   "metadata": {},
   "outputs": [
    {
     "name": "stdout",
     "output_type": "stream",
     "text": [
      "0 3500 1800 2400\n",
      "0 3140.0 1537.0 2760.0\n",
      "0 2819.6 1329.08 2982.12\n",
      "0 2534.444 1160.7672 3102.7344\n",
      "0 2280.65516 1021.679848 3148.282464\n",
      "0 2054.7830924 904.74717032 3138.2933135999997\n",
      "0 1853.756952236 805.0643291688 3087.4070972831996\n",
      "0 1674.8436874900399 719.154435413992 3006.7414041099837\n",
      "0 1515.6108818661355 644.4916442888593 2904.8280323658228\n",
      "0 1373.8936848608605 579.1918493501448 2788.265660425913\n"
     ]
    }
   ],
   "source": [
    "huron = [3500]\n",
    "erie = [1800]\n",
    "ontario = [2400]\n",
    "years = [0]\n",
    "for i in range(100):\n",
    "    huron.append(25-0.11*huron[-1]+huron[-1])\n",
    "    erie.append(0.11*huron[-2]-0.36*erie[-1]+erie[-1])\n",
    "    ontario.append(0.36*erie[-2]-0.12*ontario[-1]+ontario[-1])\n",
    "    years.append(years[-1]+1)\n",
    "    \n",
    "for i in range(10):\n",
    "    print(years[0],huron[i], erie[i], ontario[i])"
   ]
  },
  {
   "cell_type": "markdown",
   "metadata": {},
   "source": [
    "To plot them versus time:"
   ]
  },
  {
   "cell_type": "code",
   "execution_count": 20,
   "metadata": {},
   "outputs": [
    {
     "data": {
      "text/plain": [
       "<matplotlib.legend.Legend at 0x10a3b0780>"
      ]
     },
     "execution_count": 20,
     "metadata": {},
     "output_type": "execute_result"
    },
    {
     "data": {
      "image/png": "[encoded data removed]",
      "text/plain": [
       "<matplotlib.figure.Figure at 0x10a373550>"
      ]
     },
     "metadata": {},
     "output_type": "display_data"
    }
   ],
   "source": [
    "import matplotlib.pyplot as plt\n",
    "%matplotlib inline\n",
    "plt.plot(years, huron, 'b.', label = 'huron')\n",
    "plt.plot(years, erie, 'r.', label = 'erie')\n",
    "plt.plot(years, ontario, 'g.', label = 'ontario')\n",
    "plt.xlabel('years')\n",
    "plt.ylabel('pollution')\n",
    "plt.legend(loc='upper right')"
   ]
  },
  {
   "cell_type": "markdown",
   "metadata": {},
   "source": [
    "### SIRS solution"
   ]
  },
  {
   "cell_type": "code",
   "execution_count": 34,
   "metadata": {},
   "outputs": [
    {
     "name": "stdout",
     "output_type": "stream",
     "text": [
      "0 0.9 0.1 0.0\n",
      "0 0.846 0.12000000000000001 0.034000000000000016\n",
      "0 0.788488 0.14011200000000001 0.07140000000000002\n",
      "0 0.7293420216063999 0.15875989839360002 0.11189808000000004\n",
      "0 0.671057670459751 0.17425569208642494 0.1546866374538241\n",
      "0 0.6163649629276126 0.18517012805456123 0.1984649090178262\n",
      "0 0.5677320263612047 0.19069171198420093 0.2415762616545944\n",
      "0 0.5269325772936175 0.1908136051426192 0.2822538175637633\n",
      "0 0.4948304162057017 0.18626452223842085 0.3189050615558775\n",
      "0 0.47141931172313306 0.17823619531551413 0.3503444929613527\n"
     ]
    }
   ],
   "source": [
    "sus = [0.9]\n",
    "inf = [0.1]\n",
    "rem = [0.0]\n",
    "days = [0]\n",
    "for i in range(100):\n",
    "    sus.append(sus[-1]+\n",
    "               1*(-0.6*sus[-1]*inf[-1]+0.1*(1-sus[-1]-inf[-1])))\n",
    "    inf.append(inf[-1]+1*(0.6*sus[-2]*inf[-1]-0.34*inf[-1]))\n",
    "    rem.append(1-sus[-1]-inf[-1])\n",
    "    days.append(days[-1]+1)\n",
    "for i in range(10):\n",
    "    print(days[0],sus[i], inf[i], rem[i])"
   ]
  },
  {
   "cell_type": "code",
   "execution_count": 35,
   "metadata": {},
   "outputs": [
    {
     "data": {
      "text/plain": [
       "<matplotlib.legend.Legend at 0x10a702eb8>"
      ]
     },
     "execution_count": 35,
     "metadata": {},
     "output_type": "execute_result"
    },
    {
     "data": {
      "image/png": "[encoded data removed]",
      "text/plain": [
       "<matplotlib.figure.Figure at 0x10a222f98>"
      ]
     },
     "metadata": {},
     "output_type": "display_data"
    }
   ],
   "source": [
    "import matplotlib.pyplot as plt\n",
    "%matplotlib inline\n",
    "\n",
    "plt.plot(days, inf, 'b.', label = 'inf')\n",
    "plt.plot(days, sus, 'r.', label = 'sus')\n",
    "plt.plot(days, rem, 'g.', label = 'rem')\n",
    "plt.xlabel('days')\n",
    "plt.ylabel('percent')\n",
    "plt.legend(loc='upper right')"
   ]
  },
  {
   "cell_type": "markdown",
   "metadata": {},
   "source": [
    "### China\n",
    "For the China example, our Leslie Matrix and our initial population vector are:"
   ]
  },
  {
   "cell_type": "code",
   "execution_count": 3,
   "metadata": {},
   "outputs": [],
   "source": [
    "from scipy import linalg\n",
    "import numpy as np\n",
    "\n",
    "L = np.matrix([[0,.28,.22,0,0,0,0,0,0], \n",
    "               [.97,0,0,0,0,0,0,0,0],\n",
    "              [0,.993,0,0,0,0,0,0,0],\n",
    "              [0,0,.987,0,0,0,0,0,0],\n",
    "              [0,0,0,.981,0,0,0,0,0],\n",
    "              [0,0,0,0,.962,0,0,0,0],\n",
    "              [0,0,0,0,0,.907,0,0,0],\n",
    "              [0,0,0,0,0,0,.761,0,0],\n",
    "              [0,0,0,0,0,0,0,.51,0]])\n",
    "P = np.matrix([[102],[129],[85],[64],[49],[37],[24],[11],[3]])"
   ]
  },
  {
   "cell_type": "markdown",
   "metadata": {},
   "source": [
    "So one iteration (10 years later) in 1992, the population distributions are:"
   ]
  },
  {
   "cell_type": "markdown",
   "metadata": {},
   "source": [
    "10 iterations (100 years) later in 2082:"
   ]
  },
  {
   "cell_type": "code",
   "execution_count": 4,
   "metadata": {},
   "outputs": [
    {
     "name": "stdout",
     "output_type": "stream",
     "text": [
      "[[ 4.81500301]\n",
      " [ 6.13852238]\n",
      " [ 8.36822686]\n",
      " [11.01573714]\n",
      " [14.00134608]\n",
      " [19.51974338]\n",
      " [21.80430628]\n",
      " [22.60524373]\n",
      " [17.64964666]]\n"
     ]
    }
   ],
   "source": [
    "print(L**10*P)"
   ]
  },
  {
   "cell_type": "markdown",
   "metadata": {},
   "source": [
    "The growth rate is the largest eigenvalue. Thus, a largest eigenvaule of 0.75 corresponds to the fact that the population is decreasing at a rate of 25% every 10 years in the long run."
   ]
  },
  {
   "cell_type": "code",
   "execution_count": 5,
   "metadata": {},
   "outputs": [
    {
     "name": "stdout",
     "output_type": "stream",
     "text": [
      "[ 0.        +0.j          0.        +0.j          0.        +0.j\n",
      "  0.        +0.j          0.        +0.j          0.        +0.j\n",
      " -0.37277052+0.38114771j -0.37277052-0.38114771j  0.74554104+0.j        ]\n"
     ]
    }
   ],
   "source": [
    "eigenvalues, eigenvectors = linalg.eig(L)\n",
    "print(eigenvalues)"
   ]
  },
  {
   "cell_type": "code",
   "execution_count": null,
   "metadata": {},
   "outputs": [],
   "source": []
  }
 ],
 "metadata": {
  "kernelspec": {
   "display_name": "Python 3",
   "language": "python",
   "name": "python3"
  },
  "language_info": {
   "codemirror_mode": {
    "name": "ipython",
    "version": 3
   },
   "file_extension": ".py",
   "mimetype": "text/x-python",
   "name": "python",
   "nbconvert_exporter": "python",
   "pygments_lexer": "ipython3",
   "version": "3.7.3"
  }
 },
 "nbformat": 4,
 "nbformat_minor": 2
}
