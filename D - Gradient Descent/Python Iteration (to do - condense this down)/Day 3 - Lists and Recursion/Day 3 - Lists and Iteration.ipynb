{
 "cells": [
  {
   "cell_type": "markdown",
   "metadata": {},
   "source": [
    "Run the cell below to import the required packages for this notebook:"
   ]
  },
  {
   "cell_type": "code",
   "execution_count": 17,
   "metadata": {},
   "outputs": [],
   "source": [
    "# the plotting package is matplotlib:\n",
    "import matplotlib.pyplot as plt \n",
    "# the next line allows you to view the plots more easily:\n",
    "%matplotlib inline\n",
    "# the numpy package has import math stuff in it:\n",
    "import numpy as np \n",
    "# the pandas package allows us to do spreadsheet stuff:\n",
    "import pandas as pd"
   ]
  },
  {
   "cell_type": "markdown",
   "metadata": {},
   "source": [
    "Recall Euler's method to approximate the solution to $\\frac{dy}{dx} = f(x,y)$. We'll write a program called euler that takes in a function $f(x,y)$, an initial x value $x_0$, an initial y value $y_0$, a step size $h$, and an end x value $x_1$ and returns the end y-value approximation. We'll simultaneously update the x and y values:"
   ]
  },
  {
   "cell_type": "code",
   "execution_count": 24,
   "metadata": {},
   "outputs": [
    {
     "name": "stdout",
     "output_type": "stream",
     "text": [
      "0.5 1.0\n",
      "1.0 1.2397127693021015\n",
      "1.5 1.6604482617060499\n",
      "2.0 2.159195755008077\n",
      "2.159195755008077\n"
     ]
    }
   ],
   "source": [
    "def euler(f,x0,y0,h,x1):\n",
    "    steps = int((x1-x0)/h)\n",
    "    for i in range(steps):\n",
    "        x0, y0 = x0 + h, y0+h*f(x0)\n",
    "        print(x0, y0)\n",
    "    return y0\n",
    "\n",
    "print(euler(np.sin, 0, 1, 0.5, 2))"
   ]
  },
  {
   "cell_type": "markdown",
   "metadata": {},
   "source": [
    "Notice that up until now, we've been only printing values, not storing them for later use. If we want to plot the Euler's method solution, for example, we'll definitely want to store all of the Euler's method (x,y) coordinates in a list. Therefore, let's learn about lists next."
   ]
  },
  {
   "cell_type": "markdown",
   "metadata": {},
   "source": [
    "### Lists\n",
    "Lists start at index 0 (not 1). \n",
    "\n",
    "We can reference the length of the list using \"len\".\n",
    "\n",
    "Here's a list of dogs:"
   ]
  },
  {
   "cell_type": "code",
   "execution_count": 25,
   "metadata": {},
   "outputs": [
    {
     "name": "stdout",
     "output_type": "stream",
     "text": [
      "['border collie', 'australian cattle dog', 'labrador retriever']\n",
      "border collie\n",
      "australian cattle dog\n",
      "labrador retriever\n",
      "3\n"
     ]
    }
   ],
   "source": [
    "dogs = ['border collie', 'australian cattle dog', 'labrador retriever']\n",
    "print(dogs)\n",
    "print(dogs[0])\n",
    "print(dogs[1])\n",
    "print(dogs[2])\n",
    "print(len(dogs))"
   ]
  },
  {
   "cell_type": "markdown",
   "metadata": {},
   "source": [
    "We can create empty lists using square brackets.\n",
    "\n",
    "We can add things to lists by using .append:"
   ]
  },
  {
   "cell_type": "code",
   "execution_count": 26,
   "metadata": {},
   "outputs": [
    {
     "name": "stdout",
     "output_type": "stream",
     "text": [
      "['pit bull', 'boxer', 'labrador']\n"
     ]
    }
   ],
   "source": [
    "dogs = []\n",
    "dogs.append('pit bull')\n",
    "dogs.append('boxer')\n",
    "dogs.append('labrador')\n",
    "print(dogs)"
   ]
  },
  {
   "cell_type": "markdown",
   "metadata": {},
   "source": [
    "We can loop through lists using for loops:"
   ]
  },
  {
   "cell_type": "code",
   "execution_count": 27,
   "metadata": {},
   "outputs": [
    {
     "name": "stdout",
     "output_type": "stream",
     "text": [
      "border collie\n",
      "australian cattle dog\n",
      "labrador retriever\n"
     ]
    }
   ],
   "source": [
    "dogs = ['border collie', 'australian cattle dog', 'labrador retriever']\n",
    "for doggie in dogs:\n",
    "    print(doggie)"
   ]
  },
  {
   "cell_type": "markdown",
   "metadata": {},
   "source": [
    "Be careful, though, because looping through lists is one of the trickiest things to get started with. What if I had printed \"dogs\" instead of \"doggie\" inside the for loop? It would just print the entire dogs list three times:"
   ]
  },
  {
   "cell_type": "code",
   "execution_count": 28,
   "metadata": {},
   "outputs": [
    {
     "name": "stdout",
     "output_type": "stream",
     "text": [
      "['border collie', 'australian cattle dog', 'labrador retriever']\n",
      "['border collie', 'australian cattle dog', 'labrador retriever']\n",
      "['border collie', 'australian cattle dog', 'labrador retriever']\n"
     ]
    }
   ],
   "source": [
    "dogs = ['border collie', 'australian cattle dog', 'labrador retriever']\n",
    "for doggie in dogs:\n",
    "    print(dogs)"
   ]
  },
  {
   "cell_type": "markdown",
   "metadata": {},
   "source": [
    "Notice that \"for doggie in dogs\" simply creates a loop that executes three times, and you can specify whatever you want inside that loop by indenting the commands:"
   ]
  },
  {
   "cell_type": "code",
   "execution_count": 29,
   "metadata": {},
   "outputs": [
    {
     "name": "stdout",
     "output_type": "stream",
     "text": [
      "I'm about to enter the doggie loop.\n",
      "Hi! This is time 1 through the doggie loop.\n",
      "Hi! This is time 2 through the doggie loop.\n",
      "Hi! This is time 3 through the doggie loop.\n",
      "Now I'm out of the doggie loop.\n"
     ]
    }
   ],
   "source": [
    "dogs = ['border collie', 'australian cattle dog', 'labrador retriever']\n",
    "\n",
    "print(\"I'm about to enter the doggie loop.\")\n",
    "\n",
    "count = 1\n",
    "for doggie in dogs:\n",
    "    print(\"Hi! This is time\", count, \"through the doggie loop.\")\n",
    "    count = count + 1\n",
    "    \n",
    "print(\"Now I'm out of the doggie loop.\")"
   ]
  },
  {
   "cell_type": "markdown",
   "metadata": {},
   "source": [
    "Here's an example where I sum all of the expenses in my list:"
   ]
  },
  {
   "cell_type": "code",
   "execution_count": 32,
   "metadata": {},
   "outputs": [
    {
     "data": {
      "text/plain": [
       "150"
      ]
     },
     "execution_count": 32,
     "metadata": {},
     "output_type": "execute_result"
    }
   ],
   "source": [
    "def sum_expenses(expenses):\n",
    "    counter = 0\n",
    "    for expense in expenses:\n",
    "        counter = counter + expense\n",
    "    return counter\n",
    "\n",
    "expenses = [20, 100, -50, 0, 80]\n",
    "\n",
    "sum_expenses(expenses)"
   ]
  },
  {
   "cell_type": "markdown",
   "metadata": {},
   "source": [
    "We can even add conditional statements in to print a message about the user's balance:"
   ]
  },
  {
   "cell_type": "code",
   "execution_count": 33,
   "metadata": {},
   "outputs": [
    {
     "name": "stdout",
     "output_type": "stream",
     "text": [
      "Your balance is positive!\n"
     ]
    },
    {
     "data": {
      "text/plain": [
       "150"
      ]
     },
     "execution_count": 33,
     "metadata": {},
     "output_type": "execute_result"
    }
   ],
   "source": [
    "def sum_expenses(expenses):\n",
    "    counter = 0\n",
    "    for expense in expenses:\n",
    "        counter = counter + expense\n",
    "    if counter > 0:\n",
    "        print(\"Your balance is positive!\")\n",
    "    elif counter == 0:\n",
    "        print(\"You have no money left!\")\n",
    "    else:\n",
    "        print(\"You owe money!\")\n",
    "    return counter\n",
    "\n",
    "expenses = [20, 100, -50, 0, 80]\n",
    "\n",
    "sum_expenses(expenses)"
   ]
  },
  {
   "cell_type": "markdown",
   "metadata": {},
   "source": [
    "We can iterate through lists in two ways. \n",
    "\n",
    "Firstly, we can say something like \"for item in item_list\" like we did earlier:"
   ]
  },
  {
   "cell_type": "code",
   "execution_count": 34,
   "metadata": {},
   "outputs": [
    {
     "name": "stdout",
     "output_type": "stream",
     "text": [
      "border collie\n",
      "australian cattle dog\n",
      "labrador retriever\n",
      "pitbull\n"
     ]
    }
   ],
   "source": [
    "doggies = ['border collie', 'australian cattle dog', 'labrador retriever', 'pitbull']\n",
    "for dog in doggies:\n",
    "    print(dog)"
   ]
  },
  {
   "cell_type": "markdown",
   "metadata": {},
   "source": [
    "Alternatively, we can use the range function to iterate through the list by using its index value:"
   ]
  },
  {
   "cell_type": "code",
   "execution_count": 35,
   "metadata": {},
   "outputs": [
    {
     "name": "stdout",
     "output_type": "stream",
     "text": [
      "border collie\n",
      "australian cattle dog\n",
      "labrador retriever\n",
      "pit bull\n"
     ]
    }
   ],
   "source": [
    "dogs = ['border collie', 'australian cattle dog', 'labrador retriever', 'pit bull']\n",
    "for i in range(len(dogs)):\n",
    "    print(dogs[i])"
   ]
  },
  {
   "cell_type": "markdown",
   "metadata": {},
   "source": [
    "Even though the second method looks uglier, it is sometimes helpful since it gives us more control over what items in the list we choose to iterate through (only the even indexed items, for example):"
   ]
  },
  {
   "cell_type": "code",
   "execution_count": 36,
   "metadata": {},
   "outputs": [
    {
     "name": "stdout",
     "output_type": "stream",
     "text": [
      "border collie\n",
      "labrador retriever\n"
     ]
    }
   ],
   "source": [
    "dogs = ['border collie', 'australian cattle dog', 'labrador retriever', 'pit bull']\n",
    "for i in range(0,len(dogs),2):\n",
    "    print(dogs[i])"
   ]
  },
  {
   "cell_type": "markdown",
   "metadata": {},
   "source": [
    "We often want to add things to a list within a for loop. To add all of the integers between 0 and 10, we can type:"
   ]
  },
  {
   "cell_type": "code",
   "execution_count": 48,
   "metadata": {},
   "outputs": [
    {
     "name": "stdout",
     "output_type": "stream",
     "text": [
      "[0, 1, 2, 3, 4, 5, 6, 7, 8, 9, 10]\n"
     ]
    }
   ],
   "source": [
    "integers = []\n",
    "for i in range(11):\n",
    "    integers.append(i)\n",
    "print(integers)"
   ]
  },
  {
   "cell_type": "markdown",
   "metadata": {},
   "source": [
    "What if we wanted to add all of the factors of 20 to a list?"
   ]
  },
  {
   "cell_type": "code",
   "execution_count": 49,
   "metadata": {},
   "outputs": [
    {
     "name": "stdout",
     "output_type": "stream",
     "text": [
      "[1, 2, 4, 5, 10, 20]\n"
     ]
    }
   ],
   "source": [
    "factors = []\n",
    "for i in range(1,21):\n",
    "    if 20 % i == 0:\n",
    "        factors.append(i)\n",
    "print(factors)"
   ]
  },
  {
   "cell_type": "markdown",
   "metadata": {},
   "source": [
    "Going back to Euler's method, we can create two lists, one for the x and one for the y coordinates."
   ]
  },
  {
   "cell_type": "code",
   "execution_count": 88,
   "metadata": {},
   "outputs": [
    {
     "name": "stdout",
     "output_type": "stream",
     "text": [
      "0.5 1.0\n",
      "1.0 1.2397127693021015\n",
      "1.5 1.6604482617060499\n",
      "2.0 2.159195755008077\n"
     ]
    }
   ],
   "source": [
    "def euler(f,x0,y0,h,x1):\n",
    "    x = np.arange(x0,x1+h,h) #generates list of x coordinates between x0 and x1 using step size h\n",
    "    y = [y0]\n",
    "    for i in range(1,len(x)):\n",
    "        y0 = y0+h*f(x[i-1])\n",
    "        y.append(y0)\n",
    "        print(x[i], y[i])\n",
    "\n",
    "euler(np.sin, 0, 1, 0.5, 2)"
   ]
  },
  {
   "cell_type": "markdown",
   "metadata": {},
   "source": [
    "We can then plot the coordinates:"
   ]
  },
  {
   "cell_type": "code",
   "execution_count": 89,
   "metadata": {},
   "outputs": [
    {
     "data": {
      "image/png": "[encoded data removed]",
      "text/plain": [
       "<Figure size 432x288 with 1 Axes>"
      ]
     },
     "metadata": {
      "needs_background": "light"
     },
     "output_type": "display_data"
    }
   ],
   "source": [
    "def euler(f,x0,y0,h,x1):\n",
    "    x = np.arange(x0,x1+h,h) \n",
    "    y = [y0]\n",
    "    for i in range(1,len(x)):\n",
    "        y0 = y0+h*f(x[i-1])\n",
    "        y.append(y0)\n",
    "    plt.plot(x,y,'r.')\n",
    "\n",
    "euler(np.sin, 0, 1, 0.5, 2)"
   ]
  },
  {
   "cell_type": "markdown",
   "metadata": {},
   "source": [
    "How does the Euler's method approximation compare to the true solution $y=2-\\cos(x)$?"
   ]
  },
  {
   "cell_type": "code",
   "execution_count": 90,
   "metadata": {},
   "outputs": [
    {
     "data": {
      "image/png": "[encoded data removed]",
      "text/plain": [
       "<Figure size 432x288 with 1 Axes>"
      ]
     },
     "metadata": {
      "needs_background": "light"
     },
     "output_type": "display_data"
    }
   ],
   "source": [
    "def euler(f,x0,y0,h,x1):\n",
    "    x = np.arange(x0,x1+h,h) \n",
    "    y = [y0]\n",
    "    for i in range(1,len(x)):\n",
    "        y0 = y0+h*f(x[i-1])\n",
    "        y.append(y0)\n",
    "    plt.plot(x,y,'r.')\n",
    "    plt.plot(x,2-np.cos(x),'b.')\n",
    "\n",
    "euler(np.sin, 0, 1, 0.5, 2)"
   ]
  },
  {
   "cell_type": "markdown",
   "metadata": {},
   "source": [
    "As one last example, suppose I want to create the Fibonacci sequence by referencing the last two items in my list and adding them. The indices \"-1\" and \"-2\" reference the last two items in the list:"
   ]
  },
  {
   "cell_type": "code",
   "execution_count": 4,
   "metadata": {},
   "outputs": [
    {
     "data": {
      "text/plain": [
       "[1, 1, 2, 3, 5, 8, 13]"
      ]
     },
     "execution_count": 4,
     "metadata": {},
     "output_type": "execute_result"
    }
   ],
   "source": [
    "def fibonacci(n):\n",
    "    sequence = [1,1]\n",
    "    for i in range(2,n):\n",
    "        sequence.append(sequence[-1]+sequence[-2])\n",
    "    return sequence\n",
    "\n",
    "fibonacci(7)"
   ]
  },
  {
   "cell_type": "markdown",
   "metadata": {},
   "source": [
    "### Exercise 1 - Euler's plot\n",
    "Returning to your earlier Euler's method exercise for $f(x)=x^2$ given $f(1)=2$ and a step size of $0.25$, now plot the Euler's method approximation coordinates versus the true solution, $f(x)=\\frac{x^3}{3}+\\frac{5}{3}$, by storing the x and y coordinates in two lists."
   ]
  },
  {
   "cell_type": "code",
   "execution_count": 3,
   "metadata": {},
   "outputs": [],
   "source": [
    "#insert exercise 1"
   ]
  },
  {
   "cell_type": "markdown",
   "metadata": {},
   "source": [
    "### Exercise 2 - Left hand sum\n",
    "Write a program called LHS that takes in a function, a left boundary a, a right boundary b, and the number of rectangles, n, and returns the left hand sum approximation for the area under $f(x)$ between $x=a$ and $x=b$: \n",
    "\n",
    "$\\int_a^b f(x)dx \\approx \\sum_{i=1}^nf(x_{i-1})\\Delta x$. \n",
    "\n",
    "For example, LHS(square,1,5,8) should return 35.5."
   ]
  },
  {
   "cell_type": "code",
   "execution_count": 4,
   "metadata": {},
   "outputs": [],
   "source": [
    "#insert exercise 2"
   ]
  },
  {
   "cell_type": "markdown",
   "metadata": {},
   "source": [
    "### Exercise 3 - Factorial\n",
    "\n",
    "Iterate through the list ```items=[5,4,3,2,1]``` in two different ways: firstly, by referencing \"for item in items\" and secondly, by referencing \"for i in range(len(items))\". Then using whichever way you prefer, multiply the terms in the list to calculate 5! = 120."
   ]
  },
  {
   "cell_type": "code",
   "execution_count": 5,
   "metadata": {},
   "outputs": [],
   "source": [
    "#insert exercise 3"
   ]
  },
  {
   "cell_type": "markdown",
   "metadata": {},
   "source": [
    "### Exercise 4 - Multiples of m\n",
    "Create a function called multiples_of_m that takes in an integer n and an integer m and returns a list of all of the multiples of m between 0 and n."
   ]
  },
  {
   "cell_type": "code",
   "execution_count": 1,
   "metadata": {},
   "outputs": [],
   "source": [
    "#insert exercise 4"
   ]
  },
  {
   "cell_type": "markdown",
   "metadata": {},
   "source": [
    "### Exercise 5 - Great Lakes Pollution\n",
    "Look at the Great Lakes attachment. Use iteration and plotting to view the solution. First, do the iteration in a spreadsheet and THEN do it in Python."
   ]
  },
  {
   "cell_type": "code",
   "execution_count": 1,
   "metadata": {},
   "outputs": [],
   "source": [
    "#insert exercise 5 here"
   ]
  },
  {
   "cell_type": "markdown",
   "metadata": {},
   "source": [
    "###  Exercise 6 - SIRS Infectious Disease \n",
    "Look at the Great Lakes attachment. Use iteration and plotting to view the solution. First, do the iteration in a spreadsheet and THEN do it in Python."
   ]
  },
  {
   "cell_type": "code",
   "execution_count": 2,
   "metadata": {},
   "outputs": [],
   "source": [
    "#insert exercise 6"
   ]
  }
 ],
 "metadata": {
  "kernelspec": {
   "display_name": "Python 3",
   "language": "python",
   "name": "python3"
  },
  "language_info": {
   "codemirror_mode": {
    "name": "ipython",
    "version": 3
   },
   "file_extension": ".py",
   "mimetype": "text/x-python",
   "name": "python",
   "nbconvert_exporter": "python",
   "pygments_lexer": "ipython3",
   "version": "3.7.3"
  }
 },
 "nbformat": 4,
 "nbformat_minor": 2
}
