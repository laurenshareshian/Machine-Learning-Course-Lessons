{
 "cells": [
  {
   "cell_type": "code",
   "execution_count": 1,
   "metadata": {},
   "outputs": [],
   "source": [
    "import numpy as np\n",
    "import pandas as pd\n",
    "import matplotlib.pyplot as plt\n",
    "%matplotlib inline\n",
    "from sklearn.linear_model import LinearRegression\n",
    "from sklearn.metrics import mean_squared_error\n",
    "from scipy.stats import pearsonr"
   ]
  },
  {
   "cell_type": "markdown",
   "metadata": {},
   "source": [
    "Let's explore this airline datset:"
   ]
  },
  {
   "cell_type": "code",
   "execution_count": 6,
   "metadata": {},
   "outputs": [
    {
     "data": {
      "text/html": [
       "<div>\n",
       "<style scoped>\n",
       "    .dataframe tbody tr th:only-of-type {\n",
       "        vertical-align: middle;\n",
       "    }\n",
       "\n",
       "    .dataframe tbody tr th {\n",
       "        vertical-align: top;\n",
       "    }\n",
       "\n",
       "    .dataframe thead th {\n",
       "        text-align: right;\n",
       "    }\n",
       "</style>\n",
       "<table border=\"1\" class=\"dataframe\">\n",
       "  <thead>\n",
       "    <tr style=\"text-align: right;\">\n",
       "      <th></th>\n",
       "      <th>Airline</th>\n",
       "      <th>Mishandled baggage (per 1000 passengers)</th>\n",
       "      <th>Percentage On Time Arrivals</th>\n",
       "    </tr>\n",
       "  </thead>\n",
       "  <tbody>\n",
       "    <tr>\n",
       "      <th>0</th>\n",
       "      <td>American West</td>\n",
       "      <td>4.36</td>\n",
       "      <td>81.9</td>\n",
       "    </tr>\n",
       "    <tr>\n",
       "      <th>1</th>\n",
       "      <td>United</td>\n",
       "      <td>4.00</td>\n",
       "      <td>80.9</td>\n",
       "    </tr>\n",
       "    <tr>\n",
       "      <th>2</th>\n",
       "      <td>Southwest</td>\n",
       "      <td>4.42</td>\n",
       "      <td>78.4</td>\n",
       "    </tr>\n",
       "    <tr>\n",
       "      <th>3</th>\n",
       "      <td>US Airways</td>\n",
       "      <td>7.16</td>\n",
       "      <td>78.3</td>\n",
       "    </tr>\n",
       "    <tr>\n",
       "      <th>4</th>\n",
       "      <td>Continental</td>\n",
       "      <td>4.62</td>\n",
       "      <td>75.7</td>\n",
       "    </tr>\n",
       "  </tbody>\n",
       "</table>\n",
       "</div>"
      ],
      "text/plain": [
       "         Airline  Mishandled baggage (per 1000 passengers)  \\\n",
       "0  American West                                      4.36   \n",
       "1         United                                      4.00   \n",
       "2      Southwest                                      4.42   \n",
       "3     US Airways                                      7.16   \n",
       "4    Continental                                      4.62   \n",
       "\n",
       "   Percentage On Time Arrivals  \n",
       "0                         81.9  \n",
       "1                         80.9  \n",
       "2                         78.4  \n",
       "3                         78.3  \n",
       "4                         75.7  "
      ]
     },
     "execution_count": 6,
     "metadata": {},
     "output_type": "execute_result"
    }
   ],
   "source": [
    "df = pd.read_csv('data/airlines.csv')\n",
    "df.head()"
   ]
  },
  {
   "cell_type": "markdown",
   "metadata": {},
   "source": [
    "View the scatterplot:"
   ]
  },
  {
   "cell_type": "code",
   "execution_count": 43,
   "metadata": {},
   "outputs": [
    {
     "data": {
      "text/plain": [
       "Text(0, 0.5, 'Percentage On Time Arrivals')"
      ]
     },
     "execution_count": 43,
     "metadata": {},
     "output_type": "execute_result"
    },
    {
     "data": {
      "image/png": "[encoded data removed]",
      "text/plain": [
       "<Figure size 432x288 with 1 Axes>"
      ]
     },
     "metadata": {
      "needs_background": "light"
     },
     "output_type": "display_data"
    }
   ],
   "source": [
    "X = df['Mishandled baggage (per 1000 passengers)']\n",
    "Y = df['Percentage On Time Arrivals']\n",
    "plt.plot(X, Y, '.')\n",
    "plt.xlabel('Mishandled baggage (per 1000 passengers)')\n",
    "plt.ylabel('Percentage On Time Arrivals')"
   ]
  },
  {
   "cell_type": "markdown",
   "metadata": {},
   "source": [
    "Let's run a linear regression model:"
   ]
  },
  {
   "cell_type": "code",
   "execution_count": 8,
   "metadata": {},
   "outputs": [
    {
     "name": "stdout",
     "output_type": "stream",
     "text": [
      "b:  87.20288782505382\n",
      "m:  [-2.15244604]\n"
     ]
    }
   ],
   "source": [
    "# Create an empty model\n",
    "model = LinearRegression()\n",
    "# Choose the response variable, which in this case is y\n",
    "y = df['Percentage On Time Arrivals']\n",
    "# Choose the predictor variable, which in this case is X:\n",
    "X=df.drop(['Airline', 'Percentage On Time Arrivals'], axis=1)\n",
    "# Fit the model to the full dataset\n",
    "model.fit(X, y)\n",
    "# print out intercept\n",
    "print('b: ', model.intercept_)\n",
    "# print out other coefficients\n",
    "print('m: ', model.coef_)"
   ]
  },
  {
   "cell_type": "markdown",
   "metadata": {},
   "source": [
    "Watch these videos by Andrew Ng on Gradient Descent.\n",
    "\n",
    "https://www.coursera.org/learn/machine-learning/lecture/8SpIM/gradient-descent\n",
    "\n",
    "https://www.coursera.org/learn/machine-learning/lecture/GFFPB/gradient-descent-intuition\n",
    "\n",
    "\n",
    "Finally, watch the following video, paying special attention to the formulas explained between 0:00 and 4:30:\n",
    "\n",
    "https://www.coursera.org/lecture/machine-learning/gradient-descent-for-linear-regression-kCvQc\n",
    "\n",
    "<img src=\"images/gradient1.png\" width=500>\n",
    "<img src=\"images/gradient2.png\" width=500>\n",
    "<img src=\"images/simultaneous.png\" width=700>"
   ]
  },
  {
   "cell_type": "markdown",
   "metadata": {},
   "source": [
    "### Exercise: Gradient Descent\n",
    "Write a function called gradient_descent that takes in an input array, X, and output array, Y, a learning rate, alpha, and a tolerance, tol, and prints the $\\theta_0$ and $\\theta_1$ values obtained by the algorithm above. \n",
    "\n",
    "\n",
    "For example, if\n",
    "```\n",
    "X = df['Mishandled baggage (per 1000 passengers)']\n",
    "Y = df['Percentage On Time Arrivals']\n",
    "```\n",
    "then \n",
    "```gradient_descent(X,Y,0.05,0.0001)```\n",
    "should give us out something close (but not exactly) to the values we found above:\n",
    "\n",
    "b (theta0) = 87.20288782505382 and m (theta1) = -2.15244604.\n",
    "\n",
    "\n",
    "Hint: you may want to use an outer while loop that deals with the tolerance and updates the $\\theta_0$ and $\\theta_1$ values and an inner for loop that updates the $\\frac{\\partial}{\\partial \\theta_0}J(\\theta_0, \\theta_1)$ and $\\frac{\\partial}{\\partial \\theta_1}J(\\theta_0, \\theta_1)$ values."
   ]
  },
  {
   "cell_type": "code",
   "execution_count": 1,
   "metadata": {},
   "outputs": [],
   "source": [
    "#insert exercise here"
   ]
  }
 ],
 "metadata": {
  "kernelspec": {
   "display_name": "Python 3",
   "language": "python",
   "name": "python3"
  },
  "language_info": {
   "codemirror_mode": {
    "name": "ipython",
    "version": 3
   },
   "file_extension": ".py",
   "mimetype": "text/x-python",
   "name": "python",
   "nbconvert_exporter": "python",
   "pygments_lexer": "ipython3",
   "version": "3.7.3"
  }
 },
 "nbformat": 4,
 "nbformat_minor": 2
}
