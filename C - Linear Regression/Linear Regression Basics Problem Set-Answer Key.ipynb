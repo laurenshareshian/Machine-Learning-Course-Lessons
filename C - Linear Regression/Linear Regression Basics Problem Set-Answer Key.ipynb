{
 "cells": [
  {
   "cell_type": "markdown",
   "metadata": {},
   "source": [
    "Import the required packages below:"
   ]
  },
  {
   "cell_type": "code",
   "execution_count": 10,
   "metadata": {},
   "outputs": [],
   "source": [
    "import numpy as np\n",
    "import pandas as pd\n",
    "import matplotlib.pyplot as plt\n",
    "%matplotlib inline\n",
    "from sklearn.linear_model import LinearRegression\n",
    "from sklearn.metrics import mean_squared_error\n",
    "from scipy.stats import pearsonr"
   ]
  },
  {
   "cell_type": "markdown",
   "metadata": {},
   "source": [
    "Read in the CSV file data/airlines.csv containing the following info:\n",
    "![title](data/airlines.png)\n",
    "Use it to answer the following questions:"
   ]
  },
  {
   "cell_type": "markdown",
   "metadata": {},
   "source": [
    "1. Make a scatterplot of baggage vs. on time arrivals."
   ]
  },
  {
   "cell_type": "code",
   "execution_count": 11,
   "metadata": {},
   "outputs": [
    {
     "data": {
      "text/html": [
       "<div>\n",
       "<style scoped>\n",
       "    .dataframe tbody tr th:only-of-type {\n",
       "        vertical-align: middle;\n",
       "    }\n",
       "\n",
       "    .dataframe tbody tr th {\n",
       "        vertical-align: top;\n",
       "    }\n",
       "\n",
       "    .dataframe thead th {\n",
       "        text-align: right;\n",
       "    }\n",
       "</style>\n",
       "<table border=\"1\" class=\"dataframe\">\n",
       "  <thead>\n",
       "    <tr style=\"text-align: right;\">\n",
       "      <th></th>\n",
       "      <th>Airline</th>\n",
       "      <th>Mishandled baggage (per 1000 passengers)</th>\n",
       "      <th>Percentage On Time Arrivals</th>\n",
       "    </tr>\n",
       "  </thead>\n",
       "  <tbody>\n",
       "    <tr>\n",
       "      <th>0</th>\n",
       "      <td>American West</td>\n",
       "      <td>4.36</td>\n",
       "      <td>81.9</td>\n",
       "    </tr>\n",
       "    <tr>\n",
       "      <th>1</th>\n",
       "      <td>United</td>\n",
       "      <td>4.00</td>\n",
       "      <td>80.9</td>\n",
       "    </tr>\n",
       "    <tr>\n",
       "      <th>2</th>\n",
       "      <td>Southwest</td>\n",
       "      <td>4.42</td>\n",
       "      <td>78.4</td>\n",
       "    </tr>\n",
       "    <tr>\n",
       "      <th>3</th>\n",
       "      <td>US Airways</td>\n",
       "      <td>7.16</td>\n",
       "      <td>78.3</td>\n",
       "    </tr>\n",
       "    <tr>\n",
       "      <th>4</th>\n",
       "      <td>Continental</td>\n",
       "      <td>4.62</td>\n",
       "      <td>75.7</td>\n",
       "    </tr>\n",
       "    <tr>\n",
       "      <th>5</th>\n",
       "      <td>Jet Blue</td>\n",
       "      <td>5.92</td>\n",
       "      <td>73.8</td>\n",
       "    </tr>\n",
       "    <tr>\n",
       "      <th>6</th>\n",
       "      <td>American</td>\n",
       "      <td>6.50</td>\n",
       "      <td>73.1</td>\n",
       "    </tr>\n",
       "    <tr>\n",
       "      <th>7</th>\n",
       "      <td>Delta</td>\n",
       "      <td>8.03</td>\n",
       "      <td>70.1</td>\n",
       "    </tr>\n",
       "    <tr>\n",
       "      <th>8</th>\n",
       "      <td>Alaska</td>\n",
       "      <td>7.02</td>\n",
       "      <td>69.1</td>\n",
       "    </tr>\n",
       "    <tr>\n",
       "      <th>9</th>\n",
       "      <td>Northwest</td>\n",
       "      <td>5.36</td>\n",
       "      <td>67.2</td>\n",
       "    </tr>\n",
       "  </tbody>\n",
       "</table>\n",
       "</div>"
      ],
      "text/plain": [
       "         Airline  Mishandled baggage (per 1000 passengers)  \\\n",
       "0  American West                                      4.36   \n",
       "1         United                                      4.00   \n",
       "2      Southwest                                      4.42   \n",
       "3     US Airways                                      7.16   \n",
       "4    Continental                                      4.62   \n",
       "5       Jet Blue                                      5.92   \n",
       "6       American                                      6.50   \n",
       "7          Delta                                      8.03   \n",
       "8         Alaska                                      7.02   \n",
       "9      Northwest                                      5.36   \n",
       "\n",
       "   Percentage On Time Arrivals  \n",
       "0                         81.9  \n",
       "1                         80.9  \n",
       "2                         78.4  \n",
       "3                         78.3  \n",
       "4                         75.7  \n",
       "5                         73.8  \n",
       "6                         73.1  \n",
       "7                         70.1  \n",
       "8                         69.1  \n",
       "9                         67.2  "
      ]
     },
     "execution_count": 11,
     "metadata": {},
     "output_type": "execute_result"
    }
   ],
   "source": [
    "df"
   ]
  },
  {
   "cell_type": "code",
   "execution_count": 12,
   "metadata": {},
   "outputs": [
    {
     "data": {
      "text/plain": [
       "Text(0, 0.5, '% on time arrival')"
      ]
     },
     "execution_count": 12,
     "metadata": {},
     "output_type": "execute_result"
    },
    {
     "data": {
      "image/png": "[encoded data removed]",
      "text/plain": [
       "<Figure size 432x288 with 1 Axes>"
      ]
     },
     "metadata": {
      "needs_background": "light"
     },
     "output_type": "display_data"
    }
   ],
   "source": [
    "#insert 1\n",
    "df = pd.read_csv('data/airlines.csv')\n",
    "X = df['Mishandled baggage (per 1000 passengers)']\n",
    "Y = df['Percentage On Time Arrivals']\n",
    "plt.plot(X,Y, '.')\n",
    "plt.xlabel('Baggage')\n",
    "plt.ylabel('% on time arrival')"
   ]
  },
  {
   "cell_type": "markdown",
   "metadata": {},
   "source": [
    "2. What is the correlation between baggage and on time arrivals?"
   ]
  },
  {
   "cell_type": "code",
   "execution_count": 13,
   "metadata": {},
   "outputs": [
    {
     "data": {
      "text/plain": [
       "-0.5953193405508687"
      ]
     },
     "execution_count": 13,
     "metadata": {},
     "output_type": "execute_result"
    }
   ],
   "source": [
    "#insert 2\n",
    "pearsonr(X, Y)[0]"
   ]
  },
  {
   "cell_type": "markdown",
   "metadata": {},
   "source": [
    "3. What are the mean and standard deviation of the X and Y variables"
   ]
  },
  {
   "cell_type": "code",
   "execution_count": 14,
   "metadata": {},
   "outputs": [
    {
     "name": "stdout",
     "output_type": "stream",
     "text": [
      "X mean: 5.739, Y mean: 74.85000000000001\n",
      "X std: 1.3977000949973335, Y std: 5.0535466093955606\n"
     ]
    }
   ],
   "source": [
    "#insert 3\n",
    "print(f\"X mean: {X.mean()}, Y mean: {Y.mean()}\")\n",
    "print(f\"X std: {X.std()}, Y std: {Y.std()}\")"
   ]
  },
  {
   "cell_type": "markdown",
   "metadata": {},
   "source": [
    "4. Calculate the line of best fit by hand (show your calculations you use below)."
   ]
  },
  {
   "cell_type": "markdown",
   "metadata": {},
   "source": [
    "$\\hat{y} = b + mx$, where\n",
    "$ m= r (\\frac{s_y}{s_x})$\n",
    "and \n",
    "$b = \\bar{y} - m \\bar{x}$. \n",
    "blah..."
   ]
  },
  {
   "cell_type": "markdown",
   "metadata": {},
   "source": [
    "5.Use scikit-learn to calculate the line of best fit. Print the slope and intercept."
   ]
  },
  {
   "cell_type": "code",
   "execution_count": 15,
   "metadata": {},
   "outputs": [
    {
     "name": "stdout",
     "output_type": "stream",
     "text": [
      "b:  87.20288782505382\n",
      "m:  [-2.15244604]\n"
     ]
    }
   ],
   "source": [
    "#insert 5\n",
    "# Create an empty model\n",
    "model = LinearRegression()\n",
    "# Choose the response variable, which in this case is y\n",
    "y = df['Percentage On Time Arrivals']\n",
    "# Choose the predictor variable, which in this case is X:\n",
    "X=df.drop(['Percentage On Time Arrivals', 'Airline'], axis=1)\n",
    "# Fit the model to the full dataset\n",
    "model.fit(X, y)\n",
    "# print out intercept\n",
    "print('b: ', model.intercept_)\n",
    "# print out other coefficients\n",
    "print('m: ', model.coef_)"
   ]
  },
  {
   "cell_type": "markdown",
   "metadata": {},
   "source": [
    "6.Superimpose the line of best fit on the data."
   ]
  },
  {
   "cell_type": "code",
   "execution_count": 16,
   "metadata": {},
   "outputs": [
    {
     "data": {
      "image/png": "[encoded data removed]",
      "text/plain": [
       "<Figure size 432x288 with 1 Axes>"
      ]
     },
     "metadata": {
      "needs_background": "light"
     },
     "output_type": "display_data"
    }
   ],
   "source": [
    "#insert 6\n",
    "plt.plot(X,y,'.', X, model.predict(X));\n",
    "plt.xlabel('mishandled bag (per 1000)');\n",
    "plt.ylabel('ontime arrival percentage');"
   ]
  },
  {
   "cell_type": "markdown",
   "metadata": {},
   "source": [
    "7. Interpret the slope of your model in context."
   ]
  },
  {
   "cell_type": "code",
   "execution_count": 17,
   "metadata": {},
   "outputs": [
    {
     "ename": "SyntaxError",
     "evalue": "invalid syntax (<ipython-input-17-2e22ee7b28bf>, line 2)",
     "output_type": "error",
     "traceback": [
      "\u001b[0;36m  File \u001b[0;32m\"<ipython-input-17-2e22ee7b28bf>\"\u001b[0;36m, line \u001b[0;32m2\u001b[0m\n\u001b[0;31m    For every one additional mishandled bag, the on time percentage arrival is expected to drop by 2.15 points according to our model.\u001b[0m\n\u001b[0m            ^\u001b[0m\n\u001b[0;31mSyntaxError\u001b[0m\u001b[0;31m:\u001b[0m invalid syntax\n"
     ]
    }
   ],
   "source": [
    "#insert 7\n",
    "For every one additional mishandled bag, the on time percentage arrival is expected to drop by 2.15 points according to our model."
   ]
  },
  {
   "cell_type": "markdown",
   "metadata": {},
   "source": [
    "8. Interpret the intercept of your model in context."
   ]
  },
  {
   "cell_type": "code",
   "execution_count": null,
   "metadata": {},
   "outputs": [],
   "source": [
    "#insert 8\n",
    "We predict that an airline that has 0 mishandled bags will have an 87% on-time arrival percentage."
   ]
  },
  {
   "cell_type": "markdown",
   "metadata": {},
   "source": [
    "9.Calculate and explain the meaning of your $R^2$ in context."
   ]
  },
  {
   "cell_type": "code",
   "execution_count": null,
   "metadata": {},
   "outputs": [],
   "source": [
    "#insert 9\n",
    "model.score(X,Y)\n",
    "#35% of variation in on-time arrival percentage can be attributed to variation in mishandled bags."
   ]
  },
  {
   "cell_type": "markdown",
   "metadata": {},
   "source": [
    "10.Create a residual plot. Based on the residual plot, does a linear model seem appropriate?"
   ]
  },
  {
   "cell_type": "code",
   "execution_count": null,
   "metadata": {},
   "outputs": [],
   "source": [
    "#insert 10\n",
    "plt.plot(X,y - model.predict(X), '.');\n",
    "plt.xlabel('Mishandled Bags');\n",
    "plt.ylabel('residual');"
   ]
  },
  {
   "cell_type": "markdown",
   "metadata": {},
   "source": [
    "11. Calculate the residual of American Airlines using Python syntax."
   ]
  },
  {
   "cell_type": "code",
   "execution_count": 18,
   "metadata": {},
   "outputs": [
    {
     "data": {
      "text/plain": [
       "array([-0.11198856])"
      ]
     },
     "execution_count": 18,
     "metadata": {},
     "output_type": "execute_result"
    }
   ],
   "source": [
    "#insert 11\n",
    "actual = df.loc[6, 'Percentage On Time Arrivals']\n",
    "predicted = model.predict([[df.loc[6, 'Mishandled baggage (per 1000 passengers)']]])\n",
    "actual-predicted"
   ]
  },
  {
   "cell_type": "code",
   "execution_count": null,
   "metadata": {},
   "outputs": [],
   "source": []
  },
  {
   "cell_type": "markdown",
   "metadata": {},
   "source": [
    "12. As a consumer, would you prefer to fly on an airline that had a positive or negative residual? Why?"
   ]
  },
  {
   "cell_type": "code",
   "execution_count": null,
   "metadata": {},
   "outputs": [],
   "source": [
    "#insert 12\n",
    "Positive since they would prefer to have a higher on-time arrival % than predicted."
   ]
  },
  {
   "cell_type": "markdown",
   "metadata": {},
   "source": [
    "13. What would you predict an airline with a mishandled baggage rate of 10 (per 1000 customers) to have as their ontime arrival percentage?"
   ]
  },
  {
   "cell_type": "code",
   "execution_count": 22,
   "metadata": {},
   "outputs": [
    {
     "data": {
      "text/plain": [
       "array([65.67842742])"
      ]
     },
     "execution_count": 22,
     "metadata": {},
     "output_type": "execute_result"
    }
   ],
   "source": [
    "#Insert 13\n",
    "model.predict([[10]])"
   ]
  },
  {
   "cell_type": "code",
   "execution_count": null,
   "metadata": {},
   "outputs": [],
   "source": []
  }
 ],
 "metadata": {
  "kernelspec": {
   "display_name": "Python 3",
   "language": "python",
   "name": "python3"
  },
  "language_info": {
   "codemirror_mode": {
    "name": "ipython",
    "version": 3
   },
   "file_extension": ".py",
   "mimetype": "text/x-python",
   "name": "python",
   "nbconvert_exporter": "python",
   "pygments_lexer": "ipython3",
   "version": "3.7.3"
  }
 },
 "nbformat": 4,
 "nbformat_minor": 2
}
